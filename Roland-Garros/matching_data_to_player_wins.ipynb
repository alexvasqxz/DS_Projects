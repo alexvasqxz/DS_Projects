{
 "cells": [
  {
   "cell_type": "code",
   "execution_count": 20,
   "metadata": {},
   "outputs": [],
   "source": [
    "import pandas as pd\n",
    "import numpy as np"
   ]
  },
  {
   "cell_type": "code",
   "execution_count": 21,
   "metadata": {},
   "outputs": [
    {
     "name": "stdout",
     "output_type": "stream",
     "text": [
      "<class 'pandas.core.frame.DataFrame'>\n",
      "RangeIndex: 888 entries, 0 to 887\n",
      "Data columns (total 26 columns):\n",
      " #   Column              Non-Null Count  Dtype  \n",
      "---  ------              --------------  -----  \n",
      " 0   ATP                 888 non-null    int64  \n",
      " 1   Date                888 non-null    object \n",
      " 2   Round               888 non-null    object \n",
      " 3   Winner              888 non-null    object \n",
      " 4   Loser               888 non-null    object \n",
      " 5   WRank               888 non-null    int64  \n",
      " 6   LRank               886 non-null    float64\n",
      " 7   WPts                888 non-null    int64  \n",
      " 8   LPts                886 non-null    float64\n",
      " 9   Wsets               887 non-null    float64\n",
      " 10  Lsets               887 non-null    float64\n",
      " 11  B365W               888 non-null    float64\n",
      " 12  B365L               888 non-null    float64\n",
      " 13  PSW                 888 non-null    float64\n",
      " 14  PSL                 888 non-null    float64\n",
      " 15  MaxW                888 non-null    float64\n",
      " 16  MaxL                888 non-null    float64\n",
      " 17  AvgW                888 non-null    float64\n",
      " 18  AvgL                888 non-null    float64\n",
      " 19  SetsTotales         888 non-null    int64  \n",
      " 20  LabelWinnerRank     886 non-null    float64\n",
      " 21  LabelWinnerPoints   886 non-null    float64\n",
      " 22  LabelWinnerOddsB65  888 non-null    int64  \n",
      " 23  LabelWinnerOddsPS   888 non-null    int64  \n",
      " 24  LabelWinnerOddsMAX  888 non-null    int64  \n",
      " 25  LabelWinnerOddsAvg  888 non-null    int64  \n",
      "dtypes: float64(14), int64(8), object(4)\n",
      "memory usage: 180.5+ KB\n"
     ]
    }
   ],
   "source": [
    "data = pd.read_csv('data/male/data_simple_labels.csv')\n",
    "data.info()"
   ]
  },
  {
   "cell_type": "code",
   "execution_count": 23,
   "metadata": {},
   "outputs": [
    {
     "name": "stdout",
     "output_type": "stream",
     "text": [
      "<class 'pandas.core.frame.DataFrame'>\n",
      "RangeIndex: 292 entries, 0 to 291\n",
      "Data columns (total 8 columns):\n",
      " #   Column   Non-Null Count  Dtype  \n",
      "---  ------   --------------  -----  \n",
      " 0   Players  292 non-null    object \n",
      " 1   1R_W     292 non-null    float64\n",
      " 2   2R_W     292 non-null    float64\n",
      " 3   3R_W     292 non-null    float64\n",
      " 4   4R_W     292 non-null    float64\n",
      " 5   QF_W     292 non-null    float64\n",
      " 6   SF_W     292 non-null    float64\n",
      " 7   F_W      292 non-null    float64\n",
      "dtypes: float64(7), object(1)\n",
      "memory usage: 18.4+ KB\n"
     ]
    }
   ],
   "source": [
    "df_playerwins = pd.read_csv('data/male/table_player_wins.csv')\n",
    "df_playerwins.drop(columns=df_playerwins.columns[0], axis=1, inplace=True)\n",
    "df_playerwins.info()"
   ]
  },
  {
   "cell_type": "code",
   "execution_count": 24,
   "metadata": {},
   "outputs": [
    {
     "data": {
      "text/plain": "         Players  1R_W  2R_W  3R_W  4R_W  QF_W  SF_W  F_W\n0     Kyrgios N.   2.0   1.0   0.0   0.0   0.0   0.0  0.0\n1       Paire B.   4.0   1.0   1.0   0.0   0.0   0.0  0.0\n2    Sijsling I.   1.0   0.0   0.0   0.0   0.0   0.0  0.0\n3  Gabashvili T.   1.0   1.0   0.0   0.0   0.0   0.0  0.0\n4  Kuznetsov An.   1.0   0.0   0.0   0.0   0.0   0.0  0.0",
      "text/html": "<div>\n<style scoped>\n    .dataframe tbody tr th:only-of-type {\n        vertical-align: middle;\n    }\n\n    .dataframe tbody tr th {\n        vertical-align: top;\n    }\n\n    .dataframe thead th {\n        text-align: right;\n    }\n</style>\n<table border=\"1\" class=\"dataframe\">\n  <thead>\n    <tr style=\"text-align: right;\">\n      <th></th>\n      <th>Players</th>\n      <th>1R_W</th>\n      <th>2R_W</th>\n      <th>3R_W</th>\n      <th>4R_W</th>\n      <th>QF_W</th>\n      <th>SF_W</th>\n      <th>F_W</th>\n    </tr>\n  </thead>\n  <tbody>\n    <tr>\n      <th>0</th>\n      <td>Kyrgios N.</td>\n      <td>2.0</td>\n      <td>1.0</td>\n      <td>0.0</td>\n      <td>0.0</td>\n      <td>0.0</td>\n      <td>0.0</td>\n      <td>0.0</td>\n    </tr>\n    <tr>\n      <th>1</th>\n      <td>Paire B.</td>\n      <td>4.0</td>\n      <td>1.0</td>\n      <td>1.0</td>\n      <td>0.0</td>\n      <td>0.0</td>\n      <td>0.0</td>\n      <td>0.0</td>\n    </tr>\n    <tr>\n      <th>2</th>\n      <td>Sijsling I.</td>\n      <td>1.0</td>\n      <td>0.0</td>\n      <td>0.0</td>\n      <td>0.0</td>\n      <td>0.0</td>\n      <td>0.0</td>\n      <td>0.0</td>\n    </tr>\n    <tr>\n      <th>3</th>\n      <td>Gabashvili T.</td>\n      <td>1.0</td>\n      <td>1.0</td>\n      <td>0.0</td>\n      <td>0.0</td>\n      <td>0.0</td>\n      <td>0.0</td>\n      <td>0.0</td>\n    </tr>\n    <tr>\n      <th>4</th>\n      <td>Kuznetsov An.</td>\n      <td>1.0</td>\n      <td>0.0</td>\n      <td>0.0</td>\n      <td>0.0</td>\n      <td>0.0</td>\n      <td>0.0</td>\n      <td>0.0</td>\n    </tr>\n  </tbody>\n</table>\n</div>"
     },
     "execution_count": 24,
     "metadata": {},
     "output_type": "execute_result"
    }
   ],
   "source": [
    "df_playerwins.head()"
   ]
  },
  {
   "cell_type": "markdown",
   "metadata": {},
   "source": [
    "Rename the columns to match with the names of the data in the rows"
   ]
  },
  {
   "cell_type": "code",
   "execution_count": 25,
   "metadata": {},
   "outputs": [
    {
     "data": {
      "text/plain": "         Players  1st Round  2nd Round  3rd Round  4th Round  Quarterfinals  \\\n0     Kyrgios N.        2.0        1.0        0.0        0.0            0.0   \n1       Paire B.        4.0        1.0        1.0        0.0            0.0   \n2    Sijsling I.        1.0        0.0        0.0        0.0            0.0   \n3  Gabashvili T.        1.0        1.0        0.0        0.0            0.0   \n4  Kuznetsov An.        1.0        0.0        0.0        0.0            0.0   \n\n   Semifinals  The Final  \n0         0.0        0.0  \n1         0.0        0.0  \n2         0.0        0.0  \n3         0.0        0.0  \n4         0.0        0.0  ",
      "text/html": "<div>\n<style scoped>\n    .dataframe tbody tr th:only-of-type {\n        vertical-align: middle;\n    }\n\n    .dataframe tbody tr th {\n        vertical-align: top;\n    }\n\n    .dataframe thead th {\n        text-align: right;\n    }\n</style>\n<table border=\"1\" class=\"dataframe\">\n  <thead>\n    <tr style=\"text-align: right;\">\n      <th></th>\n      <th>Players</th>\n      <th>1st Round</th>\n      <th>2nd Round</th>\n      <th>3rd Round</th>\n      <th>4th Round</th>\n      <th>Quarterfinals</th>\n      <th>Semifinals</th>\n      <th>The Final</th>\n    </tr>\n  </thead>\n  <tbody>\n    <tr>\n      <th>0</th>\n      <td>Kyrgios N.</td>\n      <td>2.0</td>\n      <td>1.0</td>\n      <td>0.0</td>\n      <td>0.0</td>\n      <td>0.0</td>\n      <td>0.0</td>\n      <td>0.0</td>\n    </tr>\n    <tr>\n      <th>1</th>\n      <td>Paire B.</td>\n      <td>4.0</td>\n      <td>1.0</td>\n      <td>1.0</td>\n      <td>0.0</td>\n      <td>0.0</td>\n      <td>0.0</td>\n      <td>0.0</td>\n    </tr>\n    <tr>\n      <th>2</th>\n      <td>Sijsling I.</td>\n      <td>1.0</td>\n      <td>0.0</td>\n      <td>0.0</td>\n      <td>0.0</td>\n      <td>0.0</td>\n      <td>0.0</td>\n      <td>0.0</td>\n    </tr>\n    <tr>\n      <th>3</th>\n      <td>Gabashvili T.</td>\n      <td>1.0</td>\n      <td>1.0</td>\n      <td>0.0</td>\n      <td>0.0</td>\n      <td>0.0</td>\n      <td>0.0</td>\n      <td>0.0</td>\n    </tr>\n    <tr>\n      <th>4</th>\n      <td>Kuznetsov An.</td>\n      <td>1.0</td>\n      <td>0.0</td>\n      <td>0.0</td>\n      <td>0.0</td>\n      <td>0.0</td>\n      <td>0.0</td>\n      <td>0.0</td>\n    </tr>\n  </tbody>\n</table>\n</div>"
     },
     "execution_count": 25,
     "metadata": {},
     "output_type": "execute_result"
    }
   ],
   "source": [
    "df_playerwins.rename(columns={\"1R_W\":\"1st Round\",\"2R_W\":\"2nd Round\",\"3R_W\":\"3rd Round\",\n",
    "                              \"4R_W\":\"4th Round\",\"QF_W\":\"Quarterfinals\",\"SF_W\":\"Semifinals\",\n",
    "                              \"F_W\":\"The Final\"}, inplace=True)\n",
    "df_playerwins.head()"
   ]
  },
  {
   "cell_type": "markdown",
   "metadata": {},
   "source": [
    "Lets see how we can have the data transform and aggregated like this\n",
    "if the row of the data is first round, then add data point of df_playerwins in column 1st Round for the winner"
   ]
  },
  {
   "cell_type": "code",
   "execution_count": 26,
   "metadata": {},
   "outputs": [
    {
     "name": "stderr",
     "output_type": "stream",
     "text": [
      "/var/folders/30/qpjmvdzs0ng9dh1bzzwc7brh0000gn/T/ipykernel_98833/1600344451.py:5: SettingWithCopyWarning: \n",
      "A value is trying to be set on a copy of a slice from a DataFrame\n",
      "\n",
      "See the caveats in the documentation: https://pandas.pydata.org/pandas-docs/stable/user_guide/indexing.html#returning-a-view-versus-a-copy\n",
      "  data[\"WinnerRoundsWon\"][ind] = query_row['1st Round']\n",
      "/var/folders/30/qpjmvdzs0ng9dh1bzzwc7brh0000gn/T/ipykernel_98833/1600344451.py:9: SettingWithCopyWarning: \n",
      "A value is trying to be set on a copy of a slice from a DataFrame\n",
      "\n",
      "See the caveats in the documentation: https://pandas.pydata.org/pandas-docs/stable/user_guide/indexing.html#returning-a-view-versus-a-copy\n",
      "  data[\"WinnerRoundsWon\"][ind] = query_row['2nd Round']\n",
      "/var/folders/30/qpjmvdzs0ng9dh1bzzwc7brh0000gn/T/ipykernel_98833/1600344451.py:13: SettingWithCopyWarning: \n",
      "A value is trying to be set on a copy of a slice from a DataFrame\n",
      "\n",
      "See the caveats in the documentation: https://pandas.pydata.org/pandas-docs/stable/user_guide/indexing.html#returning-a-view-versus-a-copy\n",
      "  data[\"WinnerRoundsWon\"][ind] = query_row['3rd Round']\n",
      "/var/folders/30/qpjmvdzs0ng9dh1bzzwc7brh0000gn/T/ipykernel_98833/1600344451.py:17: SettingWithCopyWarning: \n",
      "A value is trying to be set on a copy of a slice from a DataFrame\n",
      "\n",
      "See the caveats in the documentation: https://pandas.pydata.org/pandas-docs/stable/user_guide/indexing.html#returning-a-view-versus-a-copy\n",
      "  data[\"WinnerRoundsWon\"][ind] = query_row['4th Round']\n",
      "/var/folders/30/qpjmvdzs0ng9dh1bzzwc7brh0000gn/T/ipykernel_98833/1600344451.py:21: SettingWithCopyWarning: \n",
      "A value is trying to be set on a copy of a slice from a DataFrame\n",
      "\n",
      "See the caveats in the documentation: https://pandas.pydata.org/pandas-docs/stable/user_guide/indexing.html#returning-a-view-versus-a-copy\n",
      "  data[\"WinnerRoundsWon\"][ind] = query_row['Quarterfinals']\n",
      "/var/folders/30/qpjmvdzs0ng9dh1bzzwc7brh0000gn/T/ipykernel_98833/1600344451.py:25: SettingWithCopyWarning: \n",
      "A value is trying to be set on a copy of a slice from a DataFrame\n",
      "\n",
      "See the caveats in the documentation: https://pandas.pydata.org/pandas-docs/stable/user_guide/indexing.html#returning-a-view-versus-a-copy\n",
      "  data[\"WinnerRoundsWon\"][ind] = query_row['Semifinals']\n",
      "/var/folders/30/qpjmvdzs0ng9dh1bzzwc7brh0000gn/T/ipykernel_98833/1600344451.py:29: SettingWithCopyWarning: \n",
      "A value is trying to be set on a copy of a slice from a DataFrame\n",
      "\n",
      "See the caveats in the documentation: https://pandas.pydata.org/pandas-docs/stable/user_guide/indexing.html#returning-a-view-versus-a-copy\n",
      "  data[\"WinnerRoundsWon\"][ind] = query_row['The Final']\n"
     ]
    }
   ],
   "source": [
    "data['WinnerRoundsWon'] = 0\n",
    "for ind in data.index:\n",
    "    if data['Round'][ind]== '1st Round':\n",
    "        query_row=df_playerwins.loc[df_playerwins['Players'] == data['Winner'][ind]]\n",
    "        data[\"WinnerRoundsWon\"][ind] = query_row['1st Round']\n",
    "        \n",
    "    if data['Round'][ind]== '2nd Round':\n",
    "        query_row=df_playerwins.loc[df_playerwins['Players'] == data['Winner'][ind]]\n",
    "        data[\"WinnerRoundsWon\"][ind] = query_row['2nd Round']\n",
    "        \n",
    "    if data['Round'][ind]== '3rd Round':\n",
    "        query_row=df_playerwins.loc[df_playerwins['Players'] == data['Winner'][ind]]\n",
    "        data[\"WinnerRoundsWon\"][ind] = query_row['3rd Round']\n",
    "        \n",
    "    if data['Round'][ind]== '4th Round':\n",
    "        query_row=df_playerwins.loc[df_playerwins['Players'] == data['Winner'][ind]]\n",
    "        data[\"WinnerRoundsWon\"][ind] = query_row['4th Round']\n",
    "        \n",
    "    if data['Round'][ind]== 'Quarterfinals':\n",
    "        query_row=df_playerwins.loc[df_playerwins['Players'] == data['Winner'][ind]]\n",
    "        data[\"WinnerRoundsWon\"][ind] = query_row['Quarterfinals']\n",
    "        \n",
    "    if data['Round'][ind]== 'Semifinals':\n",
    "        query_row=df_playerwins.loc[df_playerwins['Players'] == data['Winner'][ind]]\n",
    "        data[\"WinnerRoundsWon\"][ind] = query_row['Semifinals']\n",
    "        \n",
    "    if data['Round'][ind]== 'The Final':\n",
    "        query_row=df_playerwins.loc[df_playerwins['Players'] == data['Winner'][ind]]\n",
    "        data[\"WinnerRoundsWon\"][ind] = query_row['The Final']"
   ]
  },
  {
   "cell_type": "code",
   "execution_count": 27,
   "metadata": {},
   "outputs": [
    {
     "data": {
      "text/plain": "   ATP        Date      Round         Winner          Loser  WRank  LRank  \\\n0   33  22/05/2016  1st Round     Kyrgios N.  Cecchinato M.     19  124.0   \n1   33  22/05/2016  1st Round       Paire B.       Albot R.     21  137.0   \n2   33  22/05/2016  1st Round    Sijsling I.       Ungur A.    123  203.0   \n3   33  22/05/2016  1st Round  Gabashvili T.       Young D.     79   76.0   \n4   33  22/05/2016  1st Round  Kuznetsov An.      Becker B.     40   96.0   \n\n   WPts   LPts  Wsets  ...  AvgW   AvgL  SetsTotales  LabelWinnerRank  \\\n0  1855  478.0    3.0  ...  1.02  13.93            3              1.0   \n1  1641  423.0    3.0  ...  1.16   5.11            5              1.0   \n2   484  264.0    3.0  ...  2.17   1.68            3              1.0   \n3   706  712.0    3.0  ...  1.76   2.05            3              0.0   \n4  1063  600.0    3.0  ...  1.09   7.47            3              1.0   \n\n   LabelWinnerPoints  LabelWinnerOddsB65  LabelWinnerOddsPS  \\\n0                1.0                   1                  1   \n1                1.0                   1                  1   \n2                1.0                   0                  0   \n3                0.0                   1                  1   \n4                1.0                   1                  1   \n\n   LabelWinnerOddsMAX  LabelWinnerOddsAvg  WinnerRoundsWon  \n0                   1                   1                2  \n1                   1                   1                4  \n2                   0                   0                1  \n3                   1                   1                1  \n4                   1                   1                1  \n\n[5 rows x 27 columns]",
      "text/html": "<div>\n<style scoped>\n    .dataframe tbody tr th:only-of-type {\n        vertical-align: middle;\n    }\n\n    .dataframe tbody tr th {\n        vertical-align: top;\n    }\n\n    .dataframe thead th {\n        text-align: right;\n    }\n</style>\n<table border=\"1\" class=\"dataframe\">\n  <thead>\n    <tr style=\"text-align: right;\">\n      <th></th>\n      <th>ATP</th>\n      <th>Date</th>\n      <th>Round</th>\n      <th>Winner</th>\n      <th>Loser</th>\n      <th>WRank</th>\n      <th>LRank</th>\n      <th>WPts</th>\n      <th>LPts</th>\n      <th>Wsets</th>\n      <th>...</th>\n      <th>AvgW</th>\n      <th>AvgL</th>\n      <th>SetsTotales</th>\n      <th>LabelWinnerRank</th>\n      <th>LabelWinnerPoints</th>\n      <th>LabelWinnerOddsB65</th>\n      <th>LabelWinnerOddsPS</th>\n      <th>LabelWinnerOddsMAX</th>\n      <th>LabelWinnerOddsAvg</th>\n      <th>WinnerRoundsWon</th>\n    </tr>\n  </thead>\n  <tbody>\n    <tr>\n      <th>0</th>\n      <td>33</td>\n      <td>22/05/2016</td>\n      <td>1st Round</td>\n      <td>Kyrgios N.</td>\n      <td>Cecchinato M.</td>\n      <td>19</td>\n      <td>124.0</td>\n      <td>1855</td>\n      <td>478.0</td>\n      <td>3.0</td>\n      <td>...</td>\n      <td>1.02</td>\n      <td>13.93</td>\n      <td>3</td>\n      <td>1.0</td>\n      <td>1.0</td>\n      <td>1</td>\n      <td>1</td>\n      <td>1</td>\n      <td>1</td>\n      <td>2</td>\n    </tr>\n    <tr>\n      <th>1</th>\n      <td>33</td>\n      <td>22/05/2016</td>\n      <td>1st Round</td>\n      <td>Paire B.</td>\n      <td>Albot R.</td>\n      <td>21</td>\n      <td>137.0</td>\n      <td>1641</td>\n      <td>423.0</td>\n      <td>3.0</td>\n      <td>...</td>\n      <td>1.16</td>\n      <td>5.11</td>\n      <td>5</td>\n      <td>1.0</td>\n      <td>1.0</td>\n      <td>1</td>\n      <td>1</td>\n      <td>1</td>\n      <td>1</td>\n      <td>4</td>\n    </tr>\n    <tr>\n      <th>2</th>\n      <td>33</td>\n      <td>22/05/2016</td>\n      <td>1st Round</td>\n      <td>Sijsling I.</td>\n      <td>Ungur A.</td>\n      <td>123</td>\n      <td>203.0</td>\n      <td>484</td>\n      <td>264.0</td>\n      <td>3.0</td>\n      <td>...</td>\n      <td>2.17</td>\n      <td>1.68</td>\n      <td>3</td>\n      <td>1.0</td>\n      <td>1.0</td>\n      <td>0</td>\n      <td>0</td>\n      <td>0</td>\n      <td>0</td>\n      <td>1</td>\n    </tr>\n    <tr>\n      <th>3</th>\n      <td>33</td>\n      <td>22/05/2016</td>\n      <td>1st Round</td>\n      <td>Gabashvili T.</td>\n      <td>Young D.</td>\n      <td>79</td>\n      <td>76.0</td>\n      <td>706</td>\n      <td>712.0</td>\n      <td>3.0</td>\n      <td>...</td>\n      <td>1.76</td>\n      <td>2.05</td>\n      <td>3</td>\n      <td>0.0</td>\n      <td>0.0</td>\n      <td>1</td>\n      <td>1</td>\n      <td>1</td>\n      <td>1</td>\n      <td>1</td>\n    </tr>\n    <tr>\n      <th>4</th>\n      <td>33</td>\n      <td>22/05/2016</td>\n      <td>1st Round</td>\n      <td>Kuznetsov An.</td>\n      <td>Becker B.</td>\n      <td>40</td>\n      <td>96.0</td>\n      <td>1063</td>\n      <td>600.0</td>\n      <td>3.0</td>\n      <td>...</td>\n      <td>1.09</td>\n      <td>7.47</td>\n      <td>3</td>\n      <td>1.0</td>\n      <td>1.0</td>\n      <td>1</td>\n      <td>1</td>\n      <td>1</td>\n      <td>1</td>\n      <td>1</td>\n    </tr>\n  </tbody>\n</table>\n<p>5 rows × 27 columns</p>\n</div>"
     },
     "execution_count": 27,
     "metadata": {},
     "output_type": "execute_result"
    }
   ],
   "source": [
    "data.head()"
   ]
  },
  {
   "cell_type": "code",
   "execution_count": 28,
   "metadata": {},
   "outputs": [
    {
     "name": "stdout",
     "output_type": "stream",
     "text": [
      "<class 'pandas.core.frame.DataFrame'>\n",
      "RangeIndex: 888 entries, 0 to 887\n",
      "Data columns (total 27 columns):\n",
      " #   Column              Non-Null Count  Dtype  \n",
      "---  ------              --------------  -----  \n",
      " 0   ATP                 888 non-null    int64  \n",
      " 1   Date                888 non-null    object \n",
      " 2   Round               888 non-null    object \n",
      " 3   Winner              888 non-null    object \n",
      " 4   Loser               888 non-null    object \n",
      " 5   WRank               888 non-null    int64  \n",
      " 6   LRank               886 non-null    float64\n",
      " 7   WPts                888 non-null    int64  \n",
      " 8   LPts                886 non-null    float64\n",
      " 9   Wsets               887 non-null    float64\n",
      " 10  Lsets               887 non-null    float64\n",
      " 11  B365W               888 non-null    float64\n",
      " 12  B365L               888 non-null    float64\n",
      " 13  PSW                 888 non-null    float64\n",
      " 14  PSL                 888 non-null    float64\n",
      " 15  MaxW                888 non-null    float64\n",
      " 16  MaxL                888 non-null    float64\n",
      " 17  AvgW                888 non-null    float64\n",
      " 18  AvgL                888 non-null    float64\n",
      " 19  SetsTotales         888 non-null    int64  \n",
      " 20  LabelWinnerRank     886 non-null    float64\n",
      " 21  LabelWinnerPoints   886 non-null    float64\n",
      " 22  LabelWinnerOddsB65  888 non-null    int64  \n",
      " 23  LabelWinnerOddsPS   888 non-null    int64  \n",
      " 24  LabelWinnerOddsMAX  888 non-null    int64  \n",
      " 25  LabelWinnerOddsAvg  888 non-null    int64  \n",
      " 26  WinnerRoundsWon     888 non-null    int64  \n",
      "dtypes: float64(14), int64(9), object(4)\n",
      "memory usage: 187.4+ KB\n"
     ]
    }
   ],
   "source": [
    "data.info()"
   ]
  },
  {
   "cell_type": "markdown",
   "metadata": {},
   "source": [
    "Now we add the Loser info about the number of rounds won for that specific round his playing"
   ]
  },
  {
   "cell_type": "code",
   "execution_count": 29,
   "metadata": {},
   "outputs": [
    {
     "name": "stderr",
     "output_type": "stream",
     "text": [
      "/var/folders/30/qpjmvdzs0ng9dh1bzzwc7brh0000gn/T/ipykernel_98833/3890412862.py:5: SettingWithCopyWarning: \n",
      "A value is trying to be set on a copy of a slice from a DataFrame\n",
      "\n",
      "See the caveats in the documentation: https://pandas.pydata.org/pandas-docs/stable/user_guide/indexing.html#returning-a-view-versus-a-copy\n",
      "  data[\"LoserRoundsWon\"][ind] = query_row['1st Round']\n",
      "/var/folders/30/qpjmvdzs0ng9dh1bzzwc7brh0000gn/T/ipykernel_98833/3890412862.py:9: SettingWithCopyWarning: \n",
      "A value is trying to be set on a copy of a slice from a DataFrame\n",
      "\n",
      "See the caveats in the documentation: https://pandas.pydata.org/pandas-docs/stable/user_guide/indexing.html#returning-a-view-versus-a-copy\n",
      "  data[\"LoserRoundsWon\"][ind] = query_row['2nd Round']\n",
      "/var/folders/30/qpjmvdzs0ng9dh1bzzwc7brh0000gn/T/ipykernel_98833/3890412862.py:13: SettingWithCopyWarning: \n",
      "A value is trying to be set on a copy of a slice from a DataFrame\n",
      "\n",
      "See the caveats in the documentation: https://pandas.pydata.org/pandas-docs/stable/user_guide/indexing.html#returning-a-view-versus-a-copy\n",
      "  data[\"LoserRoundsWon\"][ind] = query_row['3rd Round']\n",
      "/var/folders/30/qpjmvdzs0ng9dh1bzzwc7brh0000gn/T/ipykernel_98833/3890412862.py:17: SettingWithCopyWarning: \n",
      "A value is trying to be set on a copy of a slice from a DataFrame\n",
      "\n",
      "See the caveats in the documentation: https://pandas.pydata.org/pandas-docs/stable/user_guide/indexing.html#returning-a-view-versus-a-copy\n",
      "  data[\"LoserRoundsWon\"][ind] = query_row['4th Round']\n",
      "/var/folders/30/qpjmvdzs0ng9dh1bzzwc7brh0000gn/T/ipykernel_98833/3890412862.py:21: SettingWithCopyWarning: \n",
      "A value is trying to be set on a copy of a slice from a DataFrame\n",
      "\n",
      "See the caveats in the documentation: https://pandas.pydata.org/pandas-docs/stable/user_guide/indexing.html#returning-a-view-versus-a-copy\n",
      "  data[\"LoserRoundsWon\"][ind] = query_row['Quarterfinals']\n",
      "/var/folders/30/qpjmvdzs0ng9dh1bzzwc7brh0000gn/T/ipykernel_98833/3890412862.py:25: SettingWithCopyWarning: \n",
      "A value is trying to be set on a copy of a slice from a DataFrame\n",
      "\n",
      "See the caveats in the documentation: https://pandas.pydata.org/pandas-docs/stable/user_guide/indexing.html#returning-a-view-versus-a-copy\n",
      "  data[\"LoserRoundsWon\"][ind] = query_row['Semifinals']\n",
      "/var/folders/30/qpjmvdzs0ng9dh1bzzwc7brh0000gn/T/ipykernel_98833/3890412862.py:29: SettingWithCopyWarning: \n",
      "A value is trying to be set on a copy of a slice from a DataFrame\n",
      "\n",
      "See the caveats in the documentation: https://pandas.pydata.org/pandas-docs/stable/user_guide/indexing.html#returning-a-view-versus-a-copy\n",
      "  data[\"LoserRoundsWon\"][ind] = query_row['The Final']\n"
     ]
    }
   ],
   "source": [
    "data['LoserRoundsWon'] = 0\n",
    "for ind in data.index:\n",
    "    if data['Round'][ind]== '1st Round':\n",
    "        query_row=df_playerwins.loc[df_playerwins['Players'] == data['Loser'][ind]]\n",
    "        data[\"LoserRoundsWon\"][ind] = query_row['1st Round']\n",
    "        \n",
    "    if data['Round'][ind]== '2nd Round':\n",
    "        query_row=df_playerwins.loc[df_playerwins['Players'] == data['Loser'][ind]]\n",
    "        data[\"LoserRoundsWon\"][ind] = query_row['2nd Round']\n",
    "        \n",
    "    if data['Round'][ind]== '3rd Round':\n",
    "        query_row=df_playerwins.loc[df_playerwins['Players'] == data['Loser'][ind]]\n",
    "        data[\"LoserRoundsWon\"][ind] = query_row['3rd Round']\n",
    "        \n",
    "    if data['Round'][ind]== '4th Round':\n",
    "        query_row=df_playerwins.loc[df_playerwins['Players'] == data['Loser'][ind]]\n",
    "        data[\"LoserRoundsWon\"][ind] = query_row['4th Round']\n",
    "        \n",
    "    if data['Round'][ind]== 'Quarterfinals':\n",
    "        query_row=df_playerwins.loc[df_playerwins['Players'] == data['Loser'][ind]]\n",
    "        data[\"LoserRoundsWon\"][ind] = query_row['Quarterfinals']\n",
    "        \n",
    "    if data['Round'][ind]== 'Semifinals':\n",
    "        query_row=df_playerwins.loc[df_playerwins['Players'] == data['Loser'][ind]]\n",
    "        data[\"LoserRoundsWon\"][ind] = query_row['Semifinals']\n",
    "        \n",
    "    if data['Round'][ind]== 'The Final':\n",
    "        query_row=df_playerwins.loc[df_playerwins['Players'] == data['Loser'][ind]]\n",
    "        data[\"LoserRoundsWon\"][ind] = query_row['The Final']"
   ]
  },
  {
   "cell_type": "code",
   "execution_count": 30,
   "metadata": {},
   "outputs": [
    {
     "name": "stdout",
     "output_type": "stream",
     "text": [
      "<class 'pandas.core.frame.DataFrame'>\n",
      "RangeIndex: 888 entries, 0 to 887\n",
      "Data columns (total 28 columns):\n",
      " #   Column              Non-Null Count  Dtype  \n",
      "---  ------              --------------  -----  \n",
      " 0   ATP                 888 non-null    int64  \n",
      " 1   Date                888 non-null    object \n",
      " 2   Round               888 non-null    object \n",
      " 3   Winner              888 non-null    object \n",
      " 4   Loser               888 non-null    object \n",
      " 5   WRank               888 non-null    int64  \n",
      " 6   LRank               886 non-null    float64\n",
      " 7   WPts                888 non-null    int64  \n",
      " 8   LPts                886 non-null    float64\n",
      " 9   Wsets               887 non-null    float64\n",
      " 10  Lsets               887 non-null    float64\n",
      " 11  B365W               888 non-null    float64\n",
      " 12  B365L               888 non-null    float64\n",
      " 13  PSW                 888 non-null    float64\n",
      " 14  PSL                 888 non-null    float64\n",
      " 15  MaxW                888 non-null    float64\n",
      " 16  MaxL                888 non-null    float64\n",
      " 17  AvgW                888 non-null    float64\n",
      " 18  AvgL                888 non-null    float64\n",
      " 19  SetsTotales         888 non-null    int64  \n",
      " 20  LabelWinnerRank     886 non-null    float64\n",
      " 21  LabelWinnerPoints   886 non-null    float64\n",
      " 22  LabelWinnerOddsB65  888 non-null    int64  \n",
      " 23  LabelWinnerOddsPS   888 non-null    int64  \n",
      " 24  LabelWinnerOddsMAX  888 non-null    int64  \n",
      " 25  LabelWinnerOddsAvg  888 non-null    int64  \n",
      " 26  WinnerRoundsWon     888 non-null    int64  \n",
      " 27  LoserRoundsWon      888 non-null    int64  \n",
      "dtypes: float64(14), int64(10), object(4)\n",
      "memory usage: 194.4+ KB\n"
     ]
    }
   ],
   "source": [
    "data.info()"
   ]
  },
  {
   "cell_type": "code",
   "execution_count": 31,
   "metadata": {},
   "outputs": [
    {
     "data": {
      "text/plain": "   ATP        Date      Round         Winner          Loser  WRank  LRank  \\\n0   33  22/05/2016  1st Round     Kyrgios N.  Cecchinato M.     19  124.0   \n1   33  22/05/2016  1st Round       Paire B.       Albot R.     21  137.0   \n2   33  22/05/2016  1st Round    Sijsling I.       Ungur A.    123  203.0   \n3   33  22/05/2016  1st Round  Gabashvili T.       Young D.     79   76.0   \n4   33  22/05/2016  1st Round  Kuznetsov An.      Becker B.     40   96.0   \n\n   WPts   LPts  Wsets  ...   AvgL  SetsTotales  LabelWinnerRank  \\\n0  1855  478.0    3.0  ...  13.93            3              1.0   \n1  1641  423.0    3.0  ...   5.11            5              1.0   \n2   484  264.0    3.0  ...   1.68            3              1.0   \n3   706  712.0    3.0  ...   2.05            3              0.0   \n4  1063  600.0    3.0  ...   7.47            3              1.0   \n\n   LabelWinnerPoints  LabelWinnerOddsB65  LabelWinnerOddsPS  \\\n0                1.0                   1                  1   \n1                1.0                   1                  1   \n2                1.0                   0                  0   \n3                0.0                   1                  1   \n4                1.0                   1                  1   \n\n   LabelWinnerOddsMAX  LabelWinnerOddsAvg  WinnerRoundsWon  LoserRoundsWon  \n0                   1                   1                2               4  \n1                   1                   1                4               3  \n2                   0                   0                1               0  \n3                   1                   1                1               0  \n4                   1                   1                1               0  \n\n[5 rows x 28 columns]",
      "text/html": "<div>\n<style scoped>\n    .dataframe tbody tr th:only-of-type {\n        vertical-align: middle;\n    }\n\n    .dataframe tbody tr th {\n        vertical-align: top;\n    }\n\n    .dataframe thead th {\n        text-align: right;\n    }\n</style>\n<table border=\"1\" class=\"dataframe\">\n  <thead>\n    <tr style=\"text-align: right;\">\n      <th></th>\n      <th>ATP</th>\n      <th>Date</th>\n      <th>Round</th>\n      <th>Winner</th>\n      <th>Loser</th>\n      <th>WRank</th>\n      <th>LRank</th>\n      <th>WPts</th>\n      <th>LPts</th>\n      <th>Wsets</th>\n      <th>...</th>\n      <th>AvgL</th>\n      <th>SetsTotales</th>\n      <th>LabelWinnerRank</th>\n      <th>LabelWinnerPoints</th>\n      <th>LabelWinnerOddsB65</th>\n      <th>LabelWinnerOddsPS</th>\n      <th>LabelWinnerOddsMAX</th>\n      <th>LabelWinnerOddsAvg</th>\n      <th>WinnerRoundsWon</th>\n      <th>LoserRoundsWon</th>\n    </tr>\n  </thead>\n  <tbody>\n    <tr>\n      <th>0</th>\n      <td>33</td>\n      <td>22/05/2016</td>\n      <td>1st Round</td>\n      <td>Kyrgios N.</td>\n      <td>Cecchinato M.</td>\n      <td>19</td>\n      <td>124.0</td>\n      <td>1855</td>\n      <td>478.0</td>\n      <td>3.0</td>\n      <td>...</td>\n      <td>13.93</td>\n      <td>3</td>\n      <td>1.0</td>\n      <td>1.0</td>\n      <td>1</td>\n      <td>1</td>\n      <td>1</td>\n      <td>1</td>\n      <td>2</td>\n      <td>4</td>\n    </tr>\n    <tr>\n      <th>1</th>\n      <td>33</td>\n      <td>22/05/2016</td>\n      <td>1st Round</td>\n      <td>Paire B.</td>\n      <td>Albot R.</td>\n      <td>21</td>\n      <td>137.0</td>\n      <td>1641</td>\n      <td>423.0</td>\n      <td>3.0</td>\n      <td>...</td>\n      <td>5.11</td>\n      <td>5</td>\n      <td>1.0</td>\n      <td>1.0</td>\n      <td>1</td>\n      <td>1</td>\n      <td>1</td>\n      <td>1</td>\n      <td>4</td>\n      <td>3</td>\n    </tr>\n    <tr>\n      <th>2</th>\n      <td>33</td>\n      <td>22/05/2016</td>\n      <td>1st Round</td>\n      <td>Sijsling I.</td>\n      <td>Ungur A.</td>\n      <td>123</td>\n      <td>203.0</td>\n      <td>484</td>\n      <td>264.0</td>\n      <td>3.0</td>\n      <td>...</td>\n      <td>1.68</td>\n      <td>3</td>\n      <td>1.0</td>\n      <td>1.0</td>\n      <td>0</td>\n      <td>0</td>\n      <td>0</td>\n      <td>0</td>\n      <td>1</td>\n      <td>0</td>\n    </tr>\n    <tr>\n      <th>3</th>\n      <td>33</td>\n      <td>22/05/2016</td>\n      <td>1st Round</td>\n      <td>Gabashvili T.</td>\n      <td>Young D.</td>\n      <td>79</td>\n      <td>76.0</td>\n      <td>706</td>\n      <td>712.0</td>\n      <td>3.0</td>\n      <td>...</td>\n      <td>2.05</td>\n      <td>3</td>\n      <td>0.0</td>\n      <td>0.0</td>\n      <td>1</td>\n      <td>1</td>\n      <td>1</td>\n      <td>1</td>\n      <td>1</td>\n      <td>0</td>\n    </tr>\n    <tr>\n      <th>4</th>\n      <td>33</td>\n      <td>22/05/2016</td>\n      <td>1st Round</td>\n      <td>Kuznetsov An.</td>\n      <td>Becker B.</td>\n      <td>40</td>\n      <td>96.0</td>\n      <td>1063</td>\n      <td>600.0</td>\n      <td>3.0</td>\n      <td>...</td>\n      <td>7.47</td>\n      <td>3</td>\n      <td>1.0</td>\n      <td>1.0</td>\n      <td>1</td>\n      <td>1</td>\n      <td>1</td>\n      <td>1</td>\n      <td>1</td>\n      <td>0</td>\n    </tr>\n  </tbody>\n</table>\n<p>5 rows × 28 columns</p>\n</div>"
     },
     "execution_count": 31,
     "metadata": {},
     "output_type": "execute_result"
    }
   ],
   "source": [
    "data.head()"
   ]
  },
  {
   "cell_type": "code",
   "execution_count": 32,
   "metadata": {},
   "outputs": [],
   "source": [
    "#data.to_csv(\"data_count_roundswon_for_each_player.csv\")"
   ]
  },
  {
   "cell_type": "markdown",
   "metadata": {},
   "source": [
    "Create label, if Winner has won the most rounds then 1, else 0"
   ]
  },
  {
   "cell_type": "code",
   "execution_count": 33,
   "metadata": {},
   "outputs": [
    {
     "data": {
      "text/plain": "   ATP        Date      Round         Winner          Loser  WRank  LRank  \\\n0   33  22/05/2016  1st Round     Kyrgios N.  Cecchinato M.     19  124.0   \n1   33  22/05/2016  1st Round       Paire B.       Albot R.     21  137.0   \n2   33  22/05/2016  1st Round    Sijsling I.       Ungur A.    123  203.0   \n3   33  22/05/2016  1st Round  Gabashvili T.       Young D.     79   76.0   \n4   33  22/05/2016  1st Round  Kuznetsov An.      Becker B.     40   96.0   \n\n   WPts   LPts  Wsets  ...  SetsTotales  LabelWinnerRank  LabelWinnerPoints  \\\n0  1855  478.0    3.0  ...            3              1.0                1.0   \n1  1641  423.0    3.0  ...            5              1.0                1.0   \n2   484  264.0    3.0  ...            3              1.0                1.0   \n3   706  712.0    3.0  ...            3              0.0                0.0   \n4  1063  600.0    3.0  ...            3              1.0                1.0   \n\n   LabelWinnerOddsB65  LabelWinnerOddsPS  LabelWinnerOddsMAX  \\\n0                   1                  1                   1   \n1                   1                  1                   1   \n2                   0                  0                   0   \n3                   1                  1                   1   \n4                   1                  1                   1   \n\n   LabelWinnerOddsAvg  WinnerRoundsWon  LoserRoundsWon  LabelWinnerRounds  \n0                   1                2               4                  0  \n1                   1                4               3                  1  \n2                   0                1               0                  1  \n3                   1                1               0                  1  \n4                   1                1               0                  1  \n\n[5 rows x 29 columns]",
      "text/html": "<div>\n<style scoped>\n    .dataframe tbody tr th:only-of-type {\n        vertical-align: middle;\n    }\n\n    .dataframe tbody tr th {\n        vertical-align: top;\n    }\n\n    .dataframe thead th {\n        text-align: right;\n    }\n</style>\n<table border=\"1\" class=\"dataframe\">\n  <thead>\n    <tr style=\"text-align: right;\">\n      <th></th>\n      <th>ATP</th>\n      <th>Date</th>\n      <th>Round</th>\n      <th>Winner</th>\n      <th>Loser</th>\n      <th>WRank</th>\n      <th>LRank</th>\n      <th>WPts</th>\n      <th>LPts</th>\n      <th>Wsets</th>\n      <th>...</th>\n      <th>SetsTotales</th>\n      <th>LabelWinnerRank</th>\n      <th>LabelWinnerPoints</th>\n      <th>LabelWinnerOddsB65</th>\n      <th>LabelWinnerOddsPS</th>\n      <th>LabelWinnerOddsMAX</th>\n      <th>LabelWinnerOddsAvg</th>\n      <th>WinnerRoundsWon</th>\n      <th>LoserRoundsWon</th>\n      <th>LabelWinnerRounds</th>\n    </tr>\n  </thead>\n  <tbody>\n    <tr>\n      <th>0</th>\n      <td>33</td>\n      <td>22/05/2016</td>\n      <td>1st Round</td>\n      <td>Kyrgios N.</td>\n      <td>Cecchinato M.</td>\n      <td>19</td>\n      <td>124.0</td>\n      <td>1855</td>\n      <td>478.0</td>\n      <td>3.0</td>\n      <td>...</td>\n      <td>3</td>\n      <td>1.0</td>\n      <td>1.0</td>\n      <td>1</td>\n      <td>1</td>\n      <td>1</td>\n      <td>1</td>\n      <td>2</td>\n      <td>4</td>\n      <td>0</td>\n    </tr>\n    <tr>\n      <th>1</th>\n      <td>33</td>\n      <td>22/05/2016</td>\n      <td>1st Round</td>\n      <td>Paire B.</td>\n      <td>Albot R.</td>\n      <td>21</td>\n      <td>137.0</td>\n      <td>1641</td>\n      <td>423.0</td>\n      <td>3.0</td>\n      <td>...</td>\n      <td>5</td>\n      <td>1.0</td>\n      <td>1.0</td>\n      <td>1</td>\n      <td>1</td>\n      <td>1</td>\n      <td>1</td>\n      <td>4</td>\n      <td>3</td>\n      <td>1</td>\n    </tr>\n    <tr>\n      <th>2</th>\n      <td>33</td>\n      <td>22/05/2016</td>\n      <td>1st Round</td>\n      <td>Sijsling I.</td>\n      <td>Ungur A.</td>\n      <td>123</td>\n      <td>203.0</td>\n      <td>484</td>\n      <td>264.0</td>\n      <td>3.0</td>\n      <td>...</td>\n      <td>3</td>\n      <td>1.0</td>\n      <td>1.0</td>\n      <td>0</td>\n      <td>0</td>\n      <td>0</td>\n      <td>0</td>\n      <td>1</td>\n      <td>0</td>\n      <td>1</td>\n    </tr>\n    <tr>\n      <th>3</th>\n      <td>33</td>\n      <td>22/05/2016</td>\n      <td>1st Round</td>\n      <td>Gabashvili T.</td>\n      <td>Young D.</td>\n      <td>79</td>\n      <td>76.0</td>\n      <td>706</td>\n      <td>712.0</td>\n      <td>3.0</td>\n      <td>...</td>\n      <td>3</td>\n      <td>0.0</td>\n      <td>0.0</td>\n      <td>1</td>\n      <td>1</td>\n      <td>1</td>\n      <td>1</td>\n      <td>1</td>\n      <td>0</td>\n      <td>1</td>\n    </tr>\n    <tr>\n      <th>4</th>\n      <td>33</td>\n      <td>22/05/2016</td>\n      <td>1st Round</td>\n      <td>Kuznetsov An.</td>\n      <td>Becker B.</td>\n      <td>40</td>\n      <td>96.0</td>\n      <td>1063</td>\n      <td>600.0</td>\n      <td>3.0</td>\n      <td>...</td>\n      <td>3</td>\n      <td>1.0</td>\n      <td>1.0</td>\n      <td>1</td>\n      <td>1</td>\n      <td>1</td>\n      <td>1</td>\n      <td>1</td>\n      <td>0</td>\n      <td>1</td>\n    </tr>\n  </tbody>\n</table>\n<p>5 rows × 29 columns</p>\n</div>"
     },
     "execution_count": 33,
     "metadata": {},
     "output_type": "execute_result"
    }
   ],
   "source": [
    "data['LabelWinnerRounds'] = np.where(data['WinnerRoundsWon']\n",
    "                       >data['LoserRoundsWon'], 1,0 )\n",
    "data.head()"
   ]
  },
  {
   "cell_type": "code",
   "execution_count": 44,
   "metadata": {},
   "outputs": [],
   "source": [
    "#data.to_csv(\"data_with_label_rounds.csv\")"
   ]
  },
  {
   "cell_type": "markdown",
   "metadata": {},
   "source": [
    "Now lets experiment, if both players have the same amount of rounds won, then go with the label for odds"
   ]
  },
  {
   "cell_type": "code",
   "execution_count": 39,
   "metadata": {},
   "outputs": [
    {
     "data": {
      "text/plain": "    ATP        Date      Round            Winner                Loser  WRank  \\\n0    33  22/05/2016  1st Round        Kyrgios N.        Cecchinato M.     19   \n1    33  22/05/2016  1st Round          Paire B.             Albot R.     21   \n2    33  22/05/2016  1st Round       Sijsling I.             Ungur A.    123   \n3    33  22/05/2016  1st Round     Gabashvili T.             Young D.     79   \n4    33  22/05/2016  1st Round     Kuznetsov An.            Becker B.     40   \n5    33  23/05/2016  1st Round       Wawrinka S.             Rosol L.      4   \n6    33  23/05/2016  1st Round       Pavlasek A.   Carballes Baena R.    132   \n7    33  23/05/2016  1st Round         Chardy J.             Mayer L.     32   \n8    33  23/05/2016  1st Round        Troicki V.          Dimitrov G.     24   \n9    33  23/05/2016  1st Round         Daniel T.            Klizan M.     93   \n10   33  23/05/2016  1st Round      Mannarino A.         Kukushkin M.     58   \n11   33  23/05/2016  1st Round        Lajovic D.             Kudla D.     81   \n12   33  23/05/2016  1st Round         Raonic M.        Tipsarevic J.      9   \n13   33  23/05/2016  1st Round          Dodig I.           Youzhny M.     77   \n14   33  23/05/2016  1st Round          Brown D.              Sela D.    116   \n15   33  23/05/2016  1st Round       Karlovic I.          Montanes A.     28   \n16   33  23/05/2016  1st Round       Thompson J.             Djere L.     94   \n17   33  23/05/2016  1st Round          Pella G.       Schwartzman D.     48   \n18   33  23/05/2016  1st Round           Sock J.             Haase R.     25   \n19   33  23/05/2016  1st Round          Simon G.       Dutra Silva R.     18   \n20   33  23/05/2016  1st Round       Verdasco F.           Johnson S.     52   \n21   33  23/05/2016  1st Round      Nishikori K.           Bolelli S.      6   \n22   33  23/05/2016  1st Round        Bourgue M.    Samper-Montana J.    164   \n23   33  23/05/2016  1st Round    Trungelliti M.             Cilic M.    166   \n24   33  23/05/2016  1st Round  Ramos-Vinolas A.          Zeballos H.     55   \n25   33  23/05/2016  1st Round         Edmund K.      Basilashvili N.     82   \n26   33  23/05/2016  1st Round         Martin A.  Munoz De La Nava D.    133   \n27   33  23/05/2016  1st Round     Fratangelo B.           Querrey S.    103   \n28   33  23/05/2016  1st Round        Gasquet R.          Bellucci T.     12   \n29   33  24/05/2016  1st Round          Coric B.             Fritz T.     47   \n\n    LRank  WPts    LPts  Wsets  ...  LabelWinnerRank  LabelWinnerPoints  \\\n0   124.0  1855   478.0    3.0  ...              1.0                1.0   \n1   137.0  1641   423.0    3.0  ...              1.0                1.0   \n2   203.0   484   264.0    3.0  ...              1.0                1.0   \n3    76.0   706   712.0    3.0  ...              0.0                0.0   \n4    96.0  1063   600.0    3.0  ...              1.0                1.0   \n5    59.0  6315   815.0    3.0  ...              1.0                1.0   \n6   114.0   442   523.0    3.0  ...              0.0                0.0   \n7    68.0  1265   755.0    3.0  ...              1.0                1.0   \n8    36.0  1535  1150.0    3.0  ...              1.0                1.0   \n9    45.0   614   960.0    2.0  ...              0.0                0.0   \n10   83.0   825   699.0    3.0  ...              1.0                1.0   \n11   53.0   701   855.0    3.0  ...              0.0                0.0   \n12  680.0  2785    38.0    3.0  ...              1.0                1.0   \n13   78.0   708   707.0    3.0  ...              1.0                1.0   \n14   62.0   520   781.0    3.0  ...              0.0                0.0   \n15   98.0  1280   592.0    3.0  ...              1.0                1.0   \n16  215.0   608   249.0    3.0  ...              1.0                1.0   \n17   63.0   899   781.0    3.0  ...              1.0                1.0   \n18   86.0  1505   685.0    3.0  ...              1.0                1.0   \n19  463.0  1945    82.0    3.0  ...              1.0                1.0   \n20   34.0   855  1190.0    3.0  ...              0.0                0.0   \n21  115.0  4470   522.0    3.0  ...              1.0                1.0   \n22  216.0   326   249.0    3.0  ...              1.0                1.0   \n23   10.0   323  2775.0    3.0  ...              0.0                0.0   \n24   89.0   853   641.0    3.0  ...              1.0                1.0   \n25  104.0   701   563.0    3.0  ...              1.0                1.0   \n26  105.0   438   561.0    3.0  ...              0.0                0.0   \n27   37.0   567  1135.0    3.0  ...              0.0                0.0   \n28   57.0  2725   825.0    3.0  ...              1.0                1.0   \n29   67.0   935   758.0    3.0  ...              1.0                1.0   \n\n    LabelWinnerOddsB65  LabelWinnerOddsPS  LabelWinnerOddsMAX  \\\n0                    1                  1                   1   \n1                    1                  1                   1   \n2                    0                  0                   0   \n3                    1                  1                   1   \n4                    1                  1                   1   \n5                    1                  1                   1   \n6                    0                  0                   0   \n7                    1                  1                   1   \n8                    0                  0                   0   \n9                    1                  1                   1   \n10                   0                  0                   0   \n11                   1                  1                   1   \n12                   1                  1                   1   \n13                   1                  1                   1   \n14                   1                  1                   1   \n15                   0                  0                   0   \n16                   0                  0                   0   \n17                   1                  1                   1   \n18                   1                  1                   1   \n19                   1                  1                   1   \n20                   1                  1                   1   \n21                   1                  1                   1   \n22                   1                  1                   1   \n23                   0                  0                   0   \n24                   1                  1                   1   \n25                   1                  1                   1   \n26                   0                  0                   0   \n27                   0                  0                   0   \n28                   1                  1                   1   \n29                   1                  1                   1   \n\n    LabelWinnerOddsAvg  WinnerRoundsWon  LoserRoundsWon  LabelWinnerRounds  \\\n0                    1                2               4                  0   \n1                    1                4               3                  1   \n2                    0                1               0                  1   \n3                    1                1               0                  1   \n4                    1                1               0                  1   \n5                    1                4               0                  1   \n6                    0                2               3                  0   \n7                    1                3               1                  1   \n8                    0                2               5                  0   \n9                    1                2               3                  0   \n10                   0                2               2                  0   \n11                   1                4               0                  1   \n12                   1                2               0                  1   \n13                   1                1               0                  1   \n14                   1                1               0                  1   \n15                   0                3               0                  1   \n16                   0                2               3                  0   \n17                   1                5               6                  0   \n18                   1                2               1                  1   \n19                   1                4               1                  1   \n20                   1                4               4                  0   \n21                   1                6               1                  1   \n22                   1                1               0                  1   \n23                   0                3               5                  0   \n24                   1                5               2                  1   \n25                   1                4               3                  1   \n26                   0                2               0                  1   \n27                   0                1               1                  0   \n28                   1                6               1                  1   \n29                   1                5               4                  1   \n\n    LabelWinnerRoundsAndOddsAvg  \n0                             0  \n1                             1  \n2                             1  \n3                             1  \n4                             1  \n5                             1  \n6                             0  \n7                             1  \n8                             0  \n9                             0  \n10                           -1  \n11                            1  \n12                            1  \n13                            1  \n14                            1  \n15                            1  \n16                            0  \n17                            0  \n18                            1  \n19                            1  \n20                           -1  \n21                            1  \n22                            1  \n23                            0  \n24                            1  \n25                            1  \n26                            1  \n27                           -1  \n28                            1  \n29                            1  \n\n[30 rows x 30 columns]",
      "text/html": "<div>\n<style scoped>\n    .dataframe tbody tr th:only-of-type {\n        vertical-align: middle;\n    }\n\n    .dataframe tbody tr th {\n        vertical-align: top;\n    }\n\n    .dataframe thead th {\n        text-align: right;\n    }\n</style>\n<table border=\"1\" class=\"dataframe\">\n  <thead>\n    <tr style=\"text-align: right;\">\n      <th></th>\n      <th>ATP</th>\n      <th>Date</th>\n      <th>Round</th>\n      <th>Winner</th>\n      <th>Loser</th>\n      <th>WRank</th>\n      <th>LRank</th>\n      <th>WPts</th>\n      <th>LPts</th>\n      <th>Wsets</th>\n      <th>...</th>\n      <th>LabelWinnerRank</th>\n      <th>LabelWinnerPoints</th>\n      <th>LabelWinnerOddsB65</th>\n      <th>LabelWinnerOddsPS</th>\n      <th>LabelWinnerOddsMAX</th>\n      <th>LabelWinnerOddsAvg</th>\n      <th>WinnerRoundsWon</th>\n      <th>LoserRoundsWon</th>\n      <th>LabelWinnerRounds</th>\n      <th>LabelWinnerRoundsAndOddsAvg</th>\n    </tr>\n  </thead>\n  <tbody>\n    <tr>\n      <th>0</th>\n      <td>33</td>\n      <td>22/05/2016</td>\n      <td>1st Round</td>\n      <td>Kyrgios N.</td>\n      <td>Cecchinato M.</td>\n      <td>19</td>\n      <td>124.0</td>\n      <td>1855</td>\n      <td>478.0</td>\n      <td>3.0</td>\n      <td>...</td>\n      <td>1.0</td>\n      <td>1.0</td>\n      <td>1</td>\n      <td>1</td>\n      <td>1</td>\n      <td>1</td>\n      <td>2</td>\n      <td>4</td>\n      <td>0</td>\n      <td>0</td>\n    </tr>\n    <tr>\n      <th>1</th>\n      <td>33</td>\n      <td>22/05/2016</td>\n      <td>1st Round</td>\n      <td>Paire B.</td>\n      <td>Albot R.</td>\n      <td>21</td>\n      <td>137.0</td>\n      <td>1641</td>\n      <td>423.0</td>\n      <td>3.0</td>\n      <td>...</td>\n      <td>1.0</td>\n      <td>1.0</td>\n      <td>1</td>\n      <td>1</td>\n      <td>1</td>\n      <td>1</td>\n      <td>4</td>\n      <td>3</td>\n      <td>1</td>\n      <td>1</td>\n    </tr>\n    <tr>\n      <th>2</th>\n      <td>33</td>\n      <td>22/05/2016</td>\n      <td>1st Round</td>\n      <td>Sijsling I.</td>\n      <td>Ungur A.</td>\n      <td>123</td>\n      <td>203.0</td>\n      <td>484</td>\n      <td>264.0</td>\n      <td>3.0</td>\n      <td>...</td>\n      <td>1.0</td>\n      <td>1.0</td>\n      <td>0</td>\n      <td>0</td>\n      <td>0</td>\n      <td>0</td>\n      <td>1</td>\n      <td>0</td>\n      <td>1</td>\n      <td>1</td>\n    </tr>\n    <tr>\n      <th>3</th>\n      <td>33</td>\n      <td>22/05/2016</td>\n      <td>1st Round</td>\n      <td>Gabashvili T.</td>\n      <td>Young D.</td>\n      <td>79</td>\n      <td>76.0</td>\n      <td>706</td>\n      <td>712.0</td>\n      <td>3.0</td>\n      <td>...</td>\n      <td>0.0</td>\n      <td>0.0</td>\n      <td>1</td>\n      <td>1</td>\n      <td>1</td>\n      <td>1</td>\n      <td>1</td>\n      <td>0</td>\n      <td>1</td>\n      <td>1</td>\n    </tr>\n    <tr>\n      <th>4</th>\n      <td>33</td>\n      <td>22/05/2016</td>\n      <td>1st Round</td>\n      <td>Kuznetsov An.</td>\n      <td>Becker B.</td>\n      <td>40</td>\n      <td>96.0</td>\n      <td>1063</td>\n      <td>600.0</td>\n      <td>3.0</td>\n      <td>...</td>\n      <td>1.0</td>\n      <td>1.0</td>\n      <td>1</td>\n      <td>1</td>\n      <td>1</td>\n      <td>1</td>\n      <td>1</td>\n      <td>0</td>\n      <td>1</td>\n      <td>1</td>\n    </tr>\n    <tr>\n      <th>5</th>\n      <td>33</td>\n      <td>23/05/2016</td>\n      <td>1st Round</td>\n      <td>Wawrinka S.</td>\n      <td>Rosol L.</td>\n      <td>4</td>\n      <td>59.0</td>\n      <td>6315</td>\n      <td>815.0</td>\n      <td>3.0</td>\n      <td>...</td>\n      <td>1.0</td>\n      <td>1.0</td>\n      <td>1</td>\n      <td>1</td>\n      <td>1</td>\n      <td>1</td>\n      <td>4</td>\n      <td>0</td>\n      <td>1</td>\n      <td>1</td>\n    </tr>\n    <tr>\n      <th>6</th>\n      <td>33</td>\n      <td>23/05/2016</td>\n      <td>1st Round</td>\n      <td>Pavlasek A.</td>\n      <td>Carballes Baena R.</td>\n      <td>132</td>\n      <td>114.0</td>\n      <td>442</td>\n      <td>523.0</td>\n      <td>3.0</td>\n      <td>...</td>\n      <td>0.0</td>\n      <td>0.0</td>\n      <td>0</td>\n      <td>0</td>\n      <td>0</td>\n      <td>0</td>\n      <td>2</td>\n      <td>3</td>\n      <td>0</td>\n      <td>0</td>\n    </tr>\n    <tr>\n      <th>7</th>\n      <td>33</td>\n      <td>23/05/2016</td>\n      <td>1st Round</td>\n      <td>Chardy J.</td>\n      <td>Mayer L.</td>\n      <td>32</td>\n      <td>68.0</td>\n      <td>1265</td>\n      <td>755.0</td>\n      <td>3.0</td>\n      <td>...</td>\n      <td>1.0</td>\n      <td>1.0</td>\n      <td>1</td>\n      <td>1</td>\n      <td>1</td>\n      <td>1</td>\n      <td>3</td>\n      <td>1</td>\n      <td>1</td>\n      <td>1</td>\n    </tr>\n    <tr>\n      <th>8</th>\n      <td>33</td>\n      <td>23/05/2016</td>\n      <td>1st Round</td>\n      <td>Troicki V.</td>\n      <td>Dimitrov G.</td>\n      <td>24</td>\n      <td>36.0</td>\n      <td>1535</td>\n      <td>1150.0</td>\n      <td>3.0</td>\n      <td>...</td>\n      <td>1.0</td>\n      <td>1.0</td>\n      <td>0</td>\n      <td>0</td>\n      <td>0</td>\n      <td>0</td>\n      <td>2</td>\n      <td>5</td>\n      <td>0</td>\n      <td>0</td>\n    </tr>\n    <tr>\n      <th>9</th>\n      <td>33</td>\n      <td>23/05/2016</td>\n      <td>1st Round</td>\n      <td>Daniel T.</td>\n      <td>Klizan M.</td>\n      <td>93</td>\n      <td>45.0</td>\n      <td>614</td>\n      <td>960.0</td>\n      <td>2.0</td>\n      <td>...</td>\n      <td>0.0</td>\n      <td>0.0</td>\n      <td>1</td>\n      <td>1</td>\n      <td>1</td>\n      <td>1</td>\n      <td>2</td>\n      <td>3</td>\n      <td>0</td>\n      <td>0</td>\n    </tr>\n    <tr>\n      <th>10</th>\n      <td>33</td>\n      <td>23/05/2016</td>\n      <td>1st Round</td>\n      <td>Mannarino A.</td>\n      <td>Kukushkin M.</td>\n      <td>58</td>\n      <td>83.0</td>\n      <td>825</td>\n      <td>699.0</td>\n      <td>3.0</td>\n      <td>...</td>\n      <td>1.0</td>\n      <td>1.0</td>\n      <td>0</td>\n      <td>0</td>\n      <td>0</td>\n      <td>0</td>\n      <td>2</td>\n      <td>2</td>\n      <td>0</td>\n      <td>-1</td>\n    </tr>\n    <tr>\n      <th>11</th>\n      <td>33</td>\n      <td>23/05/2016</td>\n      <td>1st Round</td>\n      <td>Lajovic D.</td>\n      <td>Kudla D.</td>\n      <td>81</td>\n      <td>53.0</td>\n      <td>701</td>\n      <td>855.0</td>\n      <td>3.0</td>\n      <td>...</td>\n      <td>0.0</td>\n      <td>0.0</td>\n      <td>1</td>\n      <td>1</td>\n      <td>1</td>\n      <td>1</td>\n      <td>4</td>\n      <td>0</td>\n      <td>1</td>\n      <td>1</td>\n    </tr>\n    <tr>\n      <th>12</th>\n      <td>33</td>\n      <td>23/05/2016</td>\n      <td>1st Round</td>\n      <td>Raonic M.</td>\n      <td>Tipsarevic J.</td>\n      <td>9</td>\n      <td>680.0</td>\n      <td>2785</td>\n      <td>38.0</td>\n      <td>3.0</td>\n      <td>...</td>\n      <td>1.0</td>\n      <td>1.0</td>\n      <td>1</td>\n      <td>1</td>\n      <td>1</td>\n      <td>1</td>\n      <td>2</td>\n      <td>0</td>\n      <td>1</td>\n      <td>1</td>\n    </tr>\n    <tr>\n      <th>13</th>\n      <td>33</td>\n      <td>23/05/2016</td>\n      <td>1st Round</td>\n      <td>Dodig I.</td>\n      <td>Youzhny M.</td>\n      <td>77</td>\n      <td>78.0</td>\n      <td>708</td>\n      <td>707.0</td>\n      <td>3.0</td>\n      <td>...</td>\n      <td>1.0</td>\n      <td>1.0</td>\n      <td>1</td>\n      <td>1</td>\n      <td>1</td>\n      <td>1</td>\n      <td>1</td>\n      <td>0</td>\n      <td>1</td>\n      <td>1</td>\n    </tr>\n    <tr>\n      <th>14</th>\n      <td>33</td>\n      <td>23/05/2016</td>\n      <td>1st Round</td>\n      <td>Brown D.</td>\n      <td>Sela D.</td>\n      <td>116</td>\n      <td>62.0</td>\n      <td>520</td>\n      <td>781.0</td>\n      <td>3.0</td>\n      <td>...</td>\n      <td>0.0</td>\n      <td>0.0</td>\n      <td>1</td>\n      <td>1</td>\n      <td>1</td>\n      <td>1</td>\n      <td>1</td>\n      <td>0</td>\n      <td>1</td>\n      <td>1</td>\n    </tr>\n    <tr>\n      <th>15</th>\n      <td>33</td>\n      <td>23/05/2016</td>\n      <td>1st Round</td>\n      <td>Karlovic I.</td>\n      <td>Montanes A.</td>\n      <td>28</td>\n      <td>98.0</td>\n      <td>1280</td>\n      <td>592.0</td>\n      <td>3.0</td>\n      <td>...</td>\n      <td>1.0</td>\n      <td>1.0</td>\n      <td>0</td>\n      <td>0</td>\n      <td>0</td>\n      <td>0</td>\n      <td>3</td>\n      <td>0</td>\n      <td>1</td>\n      <td>1</td>\n    </tr>\n    <tr>\n      <th>16</th>\n      <td>33</td>\n      <td>23/05/2016</td>\n      <td>1st Round</td>\n      <td>Thompson J.</td>\n      <td>Djere L.</td>\n      <td>94</td>\n      <td>215.0</td>\n      <td>608</td>\n      <td>249.0</td>\n      <td>3.0</td>\n      <td>...</td>\n      <td>1.0</td>\n      <td>1.0</td>\n      <td>0</td>\n      <td>0</td>\n      <td>0</td>\n      <td>0</td>\n      <td>2</td>\n      <td>3</td>\n      <td>0</td>\n      <td>0</td>\n    </tr>\n    <tr>\n      <th>17</th>\n      <td>33</td>\n      <td>23/05/2016</td>\n      <td>1st Round</td>\n      <td>Pella G.</td>\n      <td>Schwartzman D.</td>\n      <td>48</td>\n      <td>63.0</td>\n      <td>899</td>\n      <td>781.0</td>\n      <td>3.0</td>\n      <td>...</td>\n      <td>1.0</td>\n      <td>1.0</td>\n      <td>1</td>\n      <td>1</td>\n      <td>1</td>\n      <td>1</td>\n      <td>5</td>\n      <td>6</td>\n      <td>0</td>\n      <td>0</td>\n    </tr>\n    <tr>\n      <th>18</th>\n      <td>33</td>\n      <td>23/05/2016</td>\n      <td>1st Round</td>\n      <td>Sock J.</td>\n      <td>Haase R.</td>\n      <td>25</td>\n      <td>86.0</td>\n      <td>1505</td>\n      <td>685.0</td>\n      <td>3.0</td>\n      <td>...</td>\n      <td>1.0</td>\n      <td>1.0</td>\n      <td>1</td>\n      <td>1</td>\n      <td>1</td>\n      <td>1</td>\n      <td>2</td>\n      <td>1</td>\n      <td>1</td>\n      <td>1</td>\n    </tr>\n    <tr>\n      <th>19</th>\n      <td>33</td>\n      <td>23/05/2016</td>\n      <td>1st Round</td>\n      <td>Simon G.</td>\n      <td>Dutra Silva R.</td>\n      <td>18</td>\n      <td>463.0</td>\n      <td>1945</td>\n      <td>82.0</td>\n      <td>3.0</td>\n      <td>...</td>\n      <td>1.0</td>\n      <td>1.0</td>\n      <td>1</td>\n      <td>1</td>\n      <td>1</td>\n      <td>1</td>\n      <td>4</td>\n      <td>1</td>\n      <td>1</td>\n      <td>1</td>\n    </tr>\n    <tr>\n      <th>20</th>\n      <td>33</td>\n      <td>23/05/2016</td>\n      <td>1st Round</td>\n      <td>Verdasco F.</td>\n      <td>Johnson S.</td>\n      <td>52</td>\n      <td>34.0</td>\n      <td>855</td>\n      <td>1190.0</td>\n      <td>3.0</td>\n      <td>...</td>\n      <td>0.0</td>\n      <td>0.0</td>\n      <td>1</td>\n      <td>1</td>\n      <td>1</td>\n      <td>1</td>\n      <td>4</td>\n      <td>4</td>\n      <td>0</td>\n      <td>-1</td>\n    </tr>\n    <tr>\n      <th>21</th>\n      <td>33</td>\n      <td>23/05/2016</td>\n      <td>1st Round</td>\n      <td>Nishikori K.</td>\n      <td>Bolelli S.</td>\n      <td>6</td>\n      <td>115.0</td>\n      <td>4470</td>\n      <td>522.0</td>\n      <td>3.0</td>\n      <td>...</td>\n      <td>1.0</td>\n      <td>1.0</td>\n      <td>1</td>\n      <td>1</td>\n      <td>1</td>\n      <td>1</td>\n      <td>6</td>\n      <td>1</td>\n      <td>1</td>\n      <td>1</td>\n    </tr>\n    <tr>\n      <th>22</th>\n      <td>33</td>\n      <td>23/05/2016</td>\n      <td>1st Round</td>\n      <td>Bourgue M.</td>\n      <td>Samper-Montana J.</td>\n      <td>164</td>\n      <td>216.0</td>\n      <td>326</td>\n      <td>249.0</td>\n      <td>3.0</td>\n      <td>...</td>\n      <td>1.0</td>\n      <td>1.0</td>\n      <td>1</td>\n      <td>1</td>\n      <td>1</td>\n      <td>1</td>\n      <td>1</td>\n      <td>0</td>\n      <td>1</td>\n      <td>1</td>\n    </tr>\n    <tr>\n      <th>23</th>\n      <td>33</td>\n      <td>23/05/2016</td>\n      <td>1st Round</td>\n      <td>Trungelliti M.</td>\n      <td>Cilic M.</td>\n      <td>166</td>\n      <td>10.0</td>\n      <td>323</td>\n      <td>2775.0</td>\n      <td>3.0</td>\n      <td>...</td>\n      <td>0.0</td>\n      <td>0.0</td>\n      <td>0</td>\n      <td>0</td>\n      <td>0</td>\n      <td>0</td>\n      <td>3</td>\n      <td>5</td>\n      <td>0</td>\n      <td>0</td>\n    </tr>\n    <tr>\n      <th>24</th>\n      <td>33</td>\n      <td>23/05/2016</td>\n      <td>1st Round</td>\n      <td>Ramos-Vinolas A.</td>\n      <td>Zeballos H.</td>\n      <td>55</td>\n      <td>89.0</td>\n      <td>853</td>\n      <td>641.0</td>\n      <td>3.0</td>\n      <td>...</td>\n      <td>1.0</td>\n      <td>1.0</td>\n      <td>1</td>\n      <td>1</td>\n      <td>1</td>\n      <td>1</td>\n      <td>5</td>\n      <td>2</td>\n      <td>1</td>\n      <td>1</td>\n    </tr>\n    <tr>\n      <th>25</th>\n      <td>33</td>\n      <td>23/05/2016</td>\n      <td>1st Round</td>\n      <td>Edmund K.</td>\n      <td>Basilashvili N.</td>\n      <td>82</td>\n      <td>104.0</td>\n      <td>701</td>\n      <td>563.0</td>\n      <td>3.0</td>\n      <td>...</td>\n      <td>1.0</td>\n      <td>1.0</td>\n      <td>1</td>\n      <td>1</td>\n      <td>1</td>\n      <td>1</td>\n      <td>4</td>\n      <td>3</td>\n      <td>1</td>\n      <td>1</td>\n    </tr>\n    <tr>\n      <th>26</th>\n      <td>33</td>\n      <td>23/05/2016</td>\n      <td>1st Round</td>\n      <td>Martin A.</td>\n      <td>Munoz De La Nava D.</td>\n      <td>133</td>\n      <td>105.0</td>\n      <td>438</td>\n      <td>561.0</td>\n      <td>3.0</td>\n      <td>...</td>\n      <td>0.0</td>\n      <td>0.0</td>\n      <td>0</td>\n      <td>0</td>\n      <td>0</td>\n      <td>0</td>\n      <td>2</td>\n      <td>0</td>\n      <td>1</td>\n      <td>1</td>\n    </tr>\n    <tr>\n      <th>27</th>\n      <td>33</td>\n      <td>23/05/2016</td>\n      <td>1st Round</td>\n      <td>Fratangelo B.</td>\n      <td>Querrey S.</td>\n      <td>103</td>\n      <td>37.0</td>\n      <td>567</td>\n      <td>1135.0</td>\n      <td>3.0</td>\n      <td>...</td>\n      <td>0.0</td>\n      <td>0.0</td>\n      <td>0</td>\n      <td>0</td>\n      <td>0</td>\n      <td>0</td>\n      <td>1</td>\n      <td>1</td>\n      <td>0</td>\n      <td>-1</td>\n    </tr>\n    <tr>\n      <th>28</th>\n      <td>33</td>\n      <td>23/05/2016</td>\n      <td>1st Round</td>\n      <td>Gasquet R.</td>\n      <td>Bellucci T.</td>\n      <td>12</td>\n      <td>57.0</td>\n      <td>2725</td>\n      <td>825.0</td>\n      <td>3.0</td>\n      <td>...</td>\n      <td>1.0</td>\n      <td>1.0</td>\n      <td>1</td>\n      <td>1</td>\n      <td>1</td>\n      <td>1</td>\n      <td>6</td>\n      <td>1</td>\n      <td>1</td>\n      <td>1</td>\n    </tr>\n    <tr>\n      <th>29</th>\n      <td>33</td>\n      <td>24/05/2016</td>\n      <td>1st Round</td>\n      <td>Coric B.</td>\n      <td>Fritz T.</td>\n      <td>47</td>\n      <td>67.0</td>\n      <td>935</td>\n      <td>758.0</td>\n      <td>3.0</td>\n      <td>...</td>\n      <td>1.0</td>\n      <td>1.0</td>\n      <td>1</td>\n      <td>1</td>\n      <td>1</td>\n      <td>1</td>\n      <td>5</td>\n      <td>4</td>\n      <td>1</td>\n      <td>1</td>\n    </tr>\n  </tbody>\n</table>\n<p>30 rows × 30 columns</p>\n</div>"
     },
     "execution_count": 39,
     "metadata": {},
     "output_type": "execute_result"
    }
   ],
   "source": [
    "data['LabelWinnerRoundsAndOddsAvg'] = np.where(data['WinnerRoundsWon']\n",
    "                       >data['LoserRoundsWon'], 1,0 )\n",
    "# create a list of our conditions\n",
    "conditions = [\n",
    "    (data['WinnerRoundsWon'] > data['LoserRoundsWon']),\n",
    "        (data['WinnerRoundsWon'] < data['LoserRoundsWon']),\n",
    "    (data['WinnerRoundsWon'] == data['LoserRoundsWon'])\n",
    "    ]\n",
    "\n",
    "# create a list of the values we want to assign for each condition\n",
    "values = [1, 0, -1]\n",
    "\n",
    "# create a new column and use np.select to assign values to it using our lists as arguments\n",
    "data['LabelWinnerRoundsAndOddsAvg'] = np.select(conditions, values)\n",
    "\n",
    "# display updated DataFrame\n",
    "data.head(30)"
   ]
  },
  {
   "cell_type": "markdown",
   "metadata": {},
   "source": [
    "Now, iterate dataframe, if it encounters a row with a -1 in the 'LabelWinnerRoundsAndOddsAvg' column then assign the value of the LabelWinnerOddsAvg of the same row"
   ]
  },
  {
   "cell_type": "code",
   "execution_count": 40,
   "metadata": {},
   "outputs": [],
   "source": [
    "for i in range(len(data)):\n",
    "    if data.loc[i, \"LabelWinnerRoundsAndOddsAvg\"] == -1:\n",
    "        data.loc[i, \"LabelWinnerRoundsAndOddsAvg\"]= data.loc[i, \"LabelWinnerOddsAvg\"]"
   ]
  },
  {
   "cell_type": "code",
   "execution_count": 42,
   "metadata": {},
   "outputs": [
    {
     "data": {
      "text/plain": "    ATP        Date      Round            Winner                Loser  WRank  \\\n0    33  22/05/2016  1st Round        Kyrgios N.        Cecchinato M.     19   \n1    33  22/05/2016  1st Round          Paire B.             Albot R.     21   \n2    33  22/05/2016  1st Round       Sijsling I.             Ungur A.    123   \n3    33  22/05/2016  1st Round     Gabashvili T.             Young D.     79   \n4    33  22/05/2016  1st Round     Kuznetsov An.            Becker B.     40   \n5    33  23/05/2016  1st Round       Wawrinka S.             Rosol L.      4   \n6    33  23/05/2016  1st Round       Pavlasek A.   Carballes Baena R.    132   \n7    33  23/05/2016  1st Round         Chardy J.             Mayer L.     32   \n8    33  23/05/2016  1st Round        Troicki V.          Dimitrov G.     24   \n9    33  23/05/2016  1st Round         Daniel T.            Klizan M.     93   \n10   33  23/05/2016  1st Round      Mannarino A.         Kukushkin M.     58   \n11   33  23/05/2016  1st Round        Lajovic D.             Kudla D.     81   \n12   33  23/05/2016  1st Round         Raonic M.        Tipsarevic J.      9   \n13   33  23/05/2016  1st Round          Dodig I.           Youzhny M.     77   \n14   33  23/05/2016  1st Round          Brown D.              Sela D.    116   \n15   33  23/05/2016  1st Round       Karlovic I.          Montanes A.     28   \n16   33  23/05/2016  1st Round       Thompson J.             Djere L.     94   \n17   33  23/05/2016  1st Round          Pella G.       Schwartzman D.     48   \n18   33  23/05/2016  1st Round           Sock J.             Haase R.     25   \n19   33  23/05/2016  1st Round          Simon G.       Dutra Silva R.     18   \n20   33  23/05/2016  1st Round       Verdasco F.           Johnson S.     52   \n21   33  23/05/2016  1st Round      Nishikori K.           Bolelli S.      6   \n22   33  23/05/2016  1st Round        Bourgue M.    Samper-Montana J.    164   \n23   33  23/05/2016  1st Round    Trungelliti M.             Cilic M.    166   \n24   33  23/05/2016  1st Round  Ramos-Vinolas A.          Zeballos H.     55   \n25   33  23/05/2016  1st Round         Edmund K.      Basilashvili N.     82   \n26   33  23/05/2016  1st Round         Martin A.  Munoz De La Nava D.    133   \n27   33  23/05/2016  1st Round     Fratangelo B.           Querrey S.    103   \n28   33  23/05/2016  1st Round        Gasquet R.          Bellucci T.     12   \n29   33  24/05/2016  1st Round          Coric B.             Fritz T.     47   \n\n    LRank  WPts    LPts  Wsets  ...  LabelWinnerRank  LabelWinnerPoints  \\\n0   124.0  1855   478.0    3.0  ...              1.0                1.0   \n1   137.0  1641   423.0    3.0  ...              1.0                1.0   \n2   203.0   484   264.0    3.0  ...              1.0                1.0   \n3    76.0   706   712.0    3.0  ...              0.0                0.0   \n4    96.0  1063   600.0    3.0  ...              1.0                1.0   \n5    59.0  6315   815.0    3.0  ...              1.0                1.0   \n6   114.0   442   523.0    3.0  ...              0.0                0.0   \n7    68.0  1265   755.0    3.0  ...              1.0                1.0   \n8    36.0  1535  1150.0    3.0  ...              1.0                1.0   \n9    45.0   614   960.0    2.0  ...              0.0                0.0   \n10   83.0   825   699.0    3.0  ...              1.0                1.0   \n11   53.0   701   855.0    3.0  ...              0.0                0.0   \n12  680.0  2785    38.0    3.0  ...              1.0                1.0   \n13   78.0   708   707.0    3.0  ...              1.0                1.0   \n14   62.0   520   781.0    3.0  ...              0.0                0.0   \n15   98.0  1280   592.0    3.0  ...              1.0                1.0   \n16  215.0   608   249.0    3.0  ...              1.0                1.0   \n17   63.0   899   781.0    3.0  ...              1.0                1.0   \n18   86.0  1505   685.0    3.0  ...              1.0                1.0   \n19  463.0  1945    82.0    3.0  ...              1.0                1.0   \n20   34.0   855  1190.0    3.0  ...              0.0                0.0   \n21  115.0  4470   522.0    3.0  ...              1.0                1.0   \n22  216.0   326   249.0    3.0  ...              1.0                1.0   \n23   10.0   323  2775.0    3.0  ...              0.0                0.0   \n24   89.0   853   641.0    3.0  ...              1.0                1.0   \n25  104.0   701   563.0    3.0  ...              1.0                1.0   \n26  105.0   438   561.0    3.0  ...              0.0                0.0   \n27   37.0   567  1135.0    3.0  ...              0.0                0.0   \n28   57.0  2725   825.0    3.0  ...              1.0                1.0   \n29   67.0   935   758.0    3.0  ...              1.0                1.0   \n\n    LabelWinnerOddsB65  LabelWinnerOddsPS  LabelWinnerOddsMAX  \\\n0                    1                  1                   1   \n1                    1                  1                   1   \n2                    0                  0                   0   \n3                    1                  1                   1   \n4                    1                  1                   1   \n5                    1                  1                   1   \n6                    0                  0                   0   \n7                    1                  1                   1   \n8                    0                  0                   0   \n9                    1                  1                   1   \n10                   0                  0                   0   \n11                   1                  1                   1   \n12                   1                  1                   1   \n13                   1                  1                   1   \n14                   1                  1                   1   \n15                   0                  0                   0   \n16                   0                  0                   0   \n17                   1                  1                   1   \n18                   1                  1                   1   \n19                   1                  1                   1   \n20                   1                  1                   1   \n21                   1                  1                   1   \n22                   1                  1                   1   \n23                   0                  0                   0   \n24                   1                  1                   1   \n25                   1                  1                   1   \n26                   0                  0                   0   \n27                   0                  0                   0   \n28                   1                  1                   1   \n29                   1                  1                   1   \n\n    LabelWinnerOddsAvg  WinnerRoundsWon  LoserRoundsWon  LabelWinnerRounds  \\\n0                    1                2               4                  0   \n1                    1                4               3                  1   \n2                    0                1               0                  1   \n3                    1                1               0                  1   \n4                    1                1               0                  1   \n5                    1                4               0                  1   \n6                    0                2               3                  0   \n7                    1                3               1                  1   \n8                    0                2               5                  0   \n9                    1                2               3                  0   \n10                   0                2               2                  0   \n11                   1                4               0                  1   \n12                   1                2               0                  1   \n13                   1                1               0                  1   \n14                   1                1               0                  1   \n15                   0                3               0                  1   \n16                   0                2               3                  0   \n17                   1                5               6                  0   \n18                   1                2               1                  1   \n19                   1                4               1                  1   \n20                   1                4               4                  0   \n21                   1                6               1                  1   \n22                   1                1               0                  1   \n23                   0                3               5                  0   \n24                   1                5               2                  1   \n25                   1                4               3                  1   \n26                   0                2               0                  1   \n27                   0                1               1                  0   \n28                   1                6               1                  1   \n29                   1                5               4                  1   \n\n    LabelWinnerRoundsAndOddsAvg  \n0                             0  \n1                             1  \n2                             1  \n3                             1  \n4                             1  \n5                             1  \n6                             0  \n7                             1  \n8                             0  \n9                             0  \n10                            0  \n11                            1  \n12                            1  \n13                            1  \n14                            1  \n15                            1  \n16                            0  \n17                            0  \n18                            1  \n19                            1  \n20                            1  \n21                            1  \n22                            1  \n23                            0  \n24                            1  \n25                            1  \n26                            1  \n27                            0  \n28                            1  \n29                            1  \n\n[30 rows x 30 columns]",
      "text/html": "<div>\n<style scoped>\n    .dataframe tbody tr th:only-of-type {\n        vertical-align: middle;\n    }\n\n    .dataframe tbody tr th {\n        vertical-align: top;\n    }\n\n    .dataframe thead th {\n        text-align: right;\n    }\n</style>\n<table border=\"1\" class=\"dataframe\">\n  <thead>\n    <tr style=\"text-align: right;\">\n      <th></th>\n      <th>ATP</th>\n      <th>Date</th>\n      <th>Round</th>\n      <th>Winner</th>\n      <th>Loser</th>\n      <th>WRank</th>\n      <th>LRank</th>\n      <th>WPts</th>\n      <th>LPts</th>\n      <th>Wsets</th>\n      <th>...</th>\n      <th>LabelWinnerRank</th>\n      <th>LabelWinnerPoints</th>\n      <th>LabelWinnerOddsB65</th>\n      <th>LabelWinnerOddsPS</th>\n      <th>LabelWinnerOddsMAX</th>\n      <th>LabelWinnerOddsAvg</th>\n      <th>WinnerRoundsWon</th>\n      <th>LoserRoundsWon</th>\n      <th>LabelWinnerRounds</th>\n      <th>LabelWinnerRoundsAndOddsAvg</th>\n    </tr>\n  </thead>\n  <tbody>\n    <tr>\n      <th>0</th>\n      <td>33</td>\n      <td>22/05/2016</td>\n      <td>1st Round</td>\n      <td>Kyrgios N.</td>\n      <td>Cecchinato M.</td>\n      <td>19</td>\n      <td>124.0</td>\n      <td>1855</td>\n      <td>478.0</td>\n      <td>3.0</td>\n      <td>...</td>\n      <td>1.0</td>\n      <td>1.0</td>\n      <td>1</td>\n      <td>1</td>\n      <td>1</td>\n      <td>1</td>\n      <td>2</td>\n      <td>4</td>\n      <td>0</td>\n      <td>0</td>\n    </tr>\n    <tr>\n      <th>1</th>\n      <td>33</td>\n      <td>22/05/2016</td>\n      <td>1st Round</td>\n      <td>Paire B.</td>\n      <td>Albot R.</td>\n      <td>21</td>\n      <td>137.0</td>\n      <td>1641</td>\n      <td>423.0</td>\n      <td>3.0</td>\n      <td>...</td>\n      <td>1.0</td>\n      <td>1.0</td>\n      <td>1</td>\n      <td>1</td>\n      <td>1</td>\n      <td>1</td>\n      <td>4</td>\n      <td>3</td>\n      <td>1</td>\n      <td>1</td>\n    </tr>\n    <tr>\n      <th>2</th>\n      <td>33</td>\n      <td>22/05/2016</td>\n      <td>1st Round</td>\n      <td>Sijsling I.</td>\n      <td>Ungur A.</td>\n      <td>123</td>\n      <td>203.0</td>\n      <td>484</td>\n      <td>264.0</td>\n      <td>3.0</td>\n      <td>...</td>\n      <td>1.0</td>\n      <td>1.0</td>\n      <td>0</td>\n      <td>0</td>\n      <td>0</td>\n      <td>0</td>\n      <td>1</td>\n      <td>0</td>\n      <td>1</td>\n      <td>1</td>\n    </tr>\n    <tr>\n      <th>3</th>\n      <td>33</td>\n      <td>22/05/2016</td>\n      <td>1st Round</td>\n      <td>Gabashvili T.</td>\n      <td>Young D.</td>\n      <td>79</td>\n      <td>76.0</td>\n      <td>706</td>\n      <td>712.0</td>\n      <td>3.0</td>\n      <td>...</td>\n      <td>0.0</td>\n      <td>0.0</td>\n      <td>1</td>\n      <td>1</td>\n      <td>1</td>\n      <td>1</td>\n      <td>1</td>\n      <td>0</td>\n      <td>1</td>\n      <td>1</td>\n    </tr>\n    <tr>\n      <th>4</th>\n      <td>33</td>\n      <td>22/05/2016</td>\n      <td>1st Round</td>\n      <td>Kuznetsov An.</td>\n      <td>Becker B.</td>\n      <td>40</td>\n      <td>96.0</td>\n      <td>1063</td>\n      <td>600.0</td>\n      <td>3.0</td>\n      <td>...</td>\n      <td>1.0</td>\n      <td>1.0</td>\n      <td>1</td>\n      <td>1</td>\n      <td>1</td>\n      <td>1</td>\n      <td>1</td>\n      <td>0</td>\n      <td>1</td>\n      <td>1</td>\n    </tr>\n    <tr>\n      <th>5</th>\n      <td>33</td>\n      <td>23/05/2016</td>\n      <td>1st Round</td>\n      <td>Wawrinka S.</td>\n      <td>Rosol L.</td>\n      <td>4</td>\n      <td>59.0</td>\n      <td>6315</td>\n      <td>815.0</td>\n      <td>3.0</td>\n      <td>...</td>\n      <td>1.0</td>\n      <td>1.0</td>\n      <td>1</td>\n      <td>1</td>\n      <td>1</td>\n      <td>1</td>\n      <td>4</td>\n      <td>0</td>\n      <td>1</td>\n      <td>1</td>\n    </tr>\n    <tr>\n      <th>6</th>\n      <td>33</td>\n      <td>23/05/2016</td>\n      <td>1st Round</td>\n      <td>Pavlasek A.</td>\n      <td>Carballes Baena R.</td>\n      <td>132</td>\n      <td>114.0</td>\n      <td>442</td>\n      <td>523.0</td>\n      <td>3.0</td>\n      <td>...</td>\n      <td>0.0</td>\n      <td>0.0</td>\n      <td>0</td>\n      <td>0</td>\n      <td>0</td>\n      <td>0</td>\n      <td>2</td>\n      <td>3</td>\n      <td>0</td>\n      <td>0</td>\n    </tr>\n    <tr>\n      <th>7</th>\n      <td>33</td>\n      <td>23/05/2016</td>\n      <td>1st Round</td>\n      <td>Chardy J.</td>\n      <td>Mayer L.</td>\n      <td>32</td>\n      <td>68.0</td>\n      <td>1265</td>\n      <td>755.0</td>\n      <td>3.0</td>\n      <td>...</td>\n      <td>1.0</td>\n      <td>1.0</td>\n      <td>1</td>\n      <td>1</td>\n      <td>1</td>\n      <td>1</td>\n      <td>3</td>\n      <td>1</td>\n      <td>1</td>\n      <td>1</td>\n    </tr>\n    <tr>\n      <th>8</th>\n      <td>33</td>\n      <td>23/05/2016</td>\n      <td>1st Round</td>\n      <td>Troicki V.</td>\n      <td>Dimitrov G.</td>\n      <td>24</td>\n      <td>36.0</td>\n      <td>1535</td>\n      <td>1150.0</td>\n      <td>3.0</td>\n      <td>...</td>\n      <td>1.0</td>\n      <td>1.0</td>\n      <td>0</td>\n      <td>0</td>\n      <td>0</td>\n      <td>0</td>\n      <td>2</td>\n      <td>5</td>\n      <td>0</td>\n      <td>0</td>\n    </tr>\n    <tr>\n      <th>9</th>\n      <td>33</td>\n      <td>23/05/2016</td>\n      <td>1st Round</td>\n      <td>Daniel T.</td>\n      <td>Klizan M.</td>\n      <td>93</td>\n      <td>45.0</td>\n      <td>614</td>\n      <td>960.0</td>\n      <td>2.0</td>\n      <td>...</td>\n      <td>0.0</td>\n      <td>0.0</td>\n      <td>1</td>\n      <td>1</td>\n      <td>1</td>\n      <td>1</td>\n      <td>2</td>\n      <td>3</td>\n      <td>0</td>\n      <td>0</td>\n    </tr>\n    <tr>\n      <th>10</th>\n      <td>33</td>\n      <td>23/05/2016</td>\n      <td>1st Round</td>\n      <td>Mannarino A.</td>\n      <td>Kukushkin M.</td>\n      <td>58</td>\n      <td>83.0</td>\n      <td>825</td>\n      <td>699.0</td>\n      <td>3.0</td>\n      <td>...</td>\n      <td>1.0</td>\n      <td>1.0</td>\n      <td>0</td>\n      <td>0</td>\n      <td>0</td>\n      <td>0</td>\n      <td>2</td>\n      <td>2</td>\n      <td>0</td>\n      <td>0</td>\n    </tr>\n    <tr>\n      <th>11</th>\n      <td>33</td>\n      <td>23/05/2016</td>\n      <td>1st Round</td>\n      <td>Lajovic D.</td>\n      <td>Kudla D.</td>\n      <td>81</td>\n      <td>53.0</td>\n      <td>701</td>\n      <td>855.0</td>\n      <td>3.0</td>\n      <td>...</td>\n      <td>0.0</td>\n      <td>0.0</td>\n      <td>1</td>\n      <td>1</td>\n      <td>1</td>\n      <td>1</td>\n      <td>4</td>\n      <td>0</td>\n      <td>1</td>\n      <td>1</td>\n    </tr>\n    <tr>\n      <th>12</th>\n      <td>33</td>\n      <td>23/05/2016</td>\n      <td>1st Round</td>\n      <td>Raonic M.</td>\n      <td>Tipsarevic J.</td>\n      <td>9</td>\n      <td>680.0</td>\n      <td>2785</td>\n      <td>38.0</td>\n      <td>3.0</td>\n      <td>...</td>\n      <td>1.0</td>\n      <td>1.0</td>\n      <td>1</td>\n      <td>1</td>\n      <td>1</td>\n      <td>1</td>\n      <td>2</td>\n      <td>0</td>\n      <td>1</td>\n      <td>1</td>\n    </tr>\n    <tr>\n      <th>13</th>\n      <td>33</td>\n      <td>23/05/2016</td>\n      <td>1st Round</td>\n      <td>Dodig I.</td>\n      <td>Youzhny M.</td>\n      <td>77</td>\n      <td>78.0</td>\n      <td>708</td>\n      <td>707.0</td>\n      <td>3.0</td>\n      <td>...</td>\n      <td>1.0</td>\n      <td>1.0</td>\n      <td>1</td>\n      <td>1</td>\n      <td>1</td>\n      <td>1</td>\n      <td>1</td>\n      <td>0</td>\n      <td>1</td>\n      <td>1</td>\n    </tr>\n    <tr>\n      <th>14</th>\n      <td>33</td>\n      <td>23/05/2016</td>\n      <td>1st Round</td>\n      <td>Brown D.</td>\n      <td>Sela D.</td>\n      <td>116</td>\n      <td>62.0</td>\n      <td>520</td>\n      <td>781.0</td>\n      <td>3.0</td>\n      <td>...</td>\n      <td>0.0</td>\n      <td>0.0</td>\n      <td>1</td>\n      <td>1</td>\n      <td>1</td>\n      <td>1</td>\n      <td>1</td>\n      <td>0</td>\n      <td>1</td>\n      <td>1</td>\n    </tr>\n    <tr>\n      <th>15</th>\n      <td>33</td>\n      <td>23/05/2016</td>\n      <td>1st Round</td>\n      <td>Karlovic I.</td>\n      <td>Montanes A.</td>\n      <td>28</td>\n      <td>98.0</td>\n      <td>1280</td>\n      <td>592.0</td>\n      <td>3.0</td>\n      <td>...</td>\n      <td>1.0</td>\n      <td>1.0</td>\n      <td>0</td>\n      <td>0</td>\n      <td>0</td>\n      <td>0</td>\n      <td>3</td>\n      <td>0</td>\n      <td>1</td>\n      <td>1</td>\n    </tr>\n    <tr>\n      <th>16</th>\n      <td>33</td>\n      <td>23/05/2016</td>\n      <td>1st Round</td>\n      <td>Thompson J.</td>\n      <td>Djere L.</td>\n      <td>94</td>\n      <td>215.0</td>\n      <td>608</td>\n      <td>249.0</td>\n      <td>3.0</td>\n      <td>...</td>\n      <td>1.0</td>\n      <td>1.0</td>\n      <td>0</td>\n      <td>0</td>\n      <td>0</td>\n      <td>0</td>\n      <td>2</td>\n      <td>3</td>\n      <td>0</td>\n      <td>0</td>\n    </tr>\n    <tr>\n      <th>17</th>\n      <td>33</td>\n      <td>23/05/2016</td>\n      <td>1st Round</td>\n      <td>Pella G.</td>\n      <td>Schwartzman D.</td>\n      <td>48</td>\n      <td>63.0</td>\n      <td>899</td>\n      <td>781.0</td>\n      <td>3.0</td>\n      <td>...</td>\n      <td>1.0</td>\n      <td>1.0</td>\n      <td>1</td>\n      <td>1</td>\n      <td>1</td>\n      <td>1</td>\n      <td>5</td>\n      <td>6</td>\n      <td>0</td>\n      <td>0</td>\n    </tr>\n    <tr>\n      <th>18</th>\n      <td>33</td>\n      <td>23/05/2016</td>\n      <td>1st Round</td>\n      <td>Sock J.</td>\n      <td>Haase R.</td>\n      <td>25</td>\n      <td>86.0</td>\n      <td>1505</td>\n      <td>685.0</td>\n      <td>3.0</td>\n      <td>...</td>\n      <td>1.0</td>\n      <td>1.0</td>\n      <td>1</td>\n      <td>1</td>\n      <td>1</td>\n      <td>1</td>\n      <td>2</td>\n      <td>1</td>\n      <td>1</td>\n      <td>1</td>\n    </tr>\n    <tr>\n      <th>19</th>\n      <td>33</td>\n      <td>23/05/2016</td>\n      <td>1st Round</td>\n      <td>Simon G.</td>\n      <td>Dutra Silva R.</td>\n      <td>18</td>\n      <td>463.0</td>\n      <td>1945</td>\n      <td>82.0</td>\n      <td>3.0</td>\n      <td>...</td>\n      <td>1.0</td>\n      <td>1.0</td>\n      <td>1</td>\n      <td>1</td>\n      <td>1</td>\n      <td>1</td>\n      <td>4</td>\n      <td>1</td>\n      <td>1</td>\n      <td>1</td>\n    </tr>\n    <tr>\n      <th>20</th>\n      <td>33</td>\n      <td>23/05/2016</td>\n      <td>1st Round</td>\n      <td>Verdasco F.</td>\n      <td>Johnson S.</td>\n      <td>52</td>\n      <td>34.0</td>\n      <td>855</td>\n      <td>1190.0</td>\n      <td>3.0</td>\n      <td>...</td>\n      <td>0.0</td>\n      <td>0.0</td>\n      <td>1</td>\n      <td>1</td>\n      <td>1</td>\n      <td>1</td>\n      <td>4</td>\n      <td>4</td>\n      <td>0</td>\n      <td>1</td>\n    </tr>\n    <tr>\n      <th>21</th>\n      <td>33</td>\n      <td>23/05/2016</td>\n      <td>1st Round</td>\n      <td>Nishikori K.</td>\n      <td>Bolelli S.</td>\n      <td>6</td>\n      <td>115.0</td>\n      <td>4470</td>\n      <td>522.0</td>\n      <td>3.0</td>\n      <td>...</td>\n      <td>1.0</td>\n      <td>1.0</td>\n      <td>1</td>\n      <td>1</td>\n      <td>1</td>\n      <td>1</td>\n      <td>6</td>\n      <td>1</td>\n      <td>1</td>\n      <td>1</td>\n    </tr>\n    <tr>\n      <th>22</th>\n      <td>33</td>\n      <td>23/05/2016</td>\n      <td>1st Round</td>\n      <td>Bourgue M.</td>\n      <td>Samper-Montana J.</td>\n      <td>164</td>\n      <td>216.0</td>\n      <td>326</td>\n      <td>249.0</td>\n      <td>3.0</td>\n      <td>...</td>\n      <td>1.0</td>\n      <td>1.0</td>\n      <td>1</td>\n      <td>1</td>\n      <td>1</td>\n      <td>1</td>\n      <td>1</td>\n      <td>0</td>\n      <td>1</td>\n      <td>1</td>\n    </tr>\n    <tr>\n      <th>23</th>\n      <td>33</td>\n      <td>23/05/2016</td>\n      <td>1st Round</td>\n      <td>Trungelliti M.</td>\n      <td>Cilic M.</td>\n      <td>166</td>\n      <td>10.0</td>\n      <td>323</td>\n      <td>2775.0</td>\n      <td>3.0</td>\n      <td>...</td>\n      <td>0.0</td>\n      <td>0.0</td>\n      <td>0</td>\n      <td>0</td>\n      <td>0</td>\n      <td>0</td>\n      <td>3</td>\n      <td>5</td>\n      <td>0</td>\n      <td>0</td>\n    </tr>\n    <tr>\n      <th>24</th>\n      <td>33</td>\n      <td>23/05/2016</td>\n      <td>1st Round</td>\n      <td>Ramos-Vinolas A.</td>\n      <td>Zeballos H.</td>\n      <td>55</td>\n      <td>89.0</td>\n      <td>853</td>\n      <td>641.0</td>\n      <td>3.0</td>\n      <td>...</td>\n      <td>1.0</td>\n      <td>1.0</td>\n      <td>1</td>\n      <td>1</td>\n      <td>1</td>\n      <td>1</td>\n      <td>5</td>\n      <td>2</td>\n      <td>1</td>\n      <td>1</td>\n    </tr>\n    <tr>\n      <th>25</th>\n      <td>33</td>\n      <td>23/05/2016</td>\n      <td>1st Round</td>\n      <td>Edmund K.</td>\n      <td>Basilashvili N.</td>\n      <td>82</td>\n      <td>104.0</td>\n      <td>701</td>\n      <td>563.0</td>\n      <td>3.0</td>\n      <td>...</td>\n      <td>1.0</td>\n      <td>1.0</td>\n      <td>1</td>\n      <td>1</td>\n      <td>1</td>\n      <td>1</td>\n      <td>4</td>\n      <td>3</td>\n      <td>1</td>\n      <td>1</td>\n    </tr>\n    <tr>\n      <th>26</th>\n      <td>33</td>\n      <td>23/05/2016</td>\n      <td>1st Round</td>\n      <td>Martin A.</td>\n      <td>Munoz De La Nava D.</td>\n      <td>133</td>\n      <td>105.0</td>\n      <td>438</td>\n      <td>561.0</td>\n      <td>3.0</td>\n      <td>...</td>\n      <td>0.0</td>\n      <td>0.0</td>\n      <td>0</td>\n      <td>0</td>\n      <td>0</td>\n      <td>0</td>\n      <td>2</td>\n      <td>0</td>\n      <td>1</td>\n      <td>1</td>\n    </tr>\n    <tr>\n      <th>27</th>\n      <td>33</td>\n      <td>23/05/2016</td>\n      <td>1st Round</td>\n      <td>Fratangelo B.</td>\n      <td>Querrey S.</td>\n      <td>103</td>\n      <td>37.0</td>\n      <td>567</td>\n      <td>1135.0</td>\n      <td>3.0</td>\n      <td>...</td>\n      <td>0.0</td>\n      <td>0.0</td>\n      <td>0</td>\n      <td>0</td>\n      <td>0</td>\n      <td>0</td>\n      <td>1</td>\n      <td>1</td>\n      <td>0</td>\n      <td>0</td>\n    </tr>\n    <tr>\n      <th>28</th>\n      <td>33</td>\n      <td>23/05/2016</td>\n      <td>1st Round</td>\n      <td>Gasquet R.</td>\n      <td>Bellucci T.</td>\n      <td>12</td>\n      <td>57.0</td>\n      <td>2725</td>\n      <td>825.0</td>\n      <td>3.0</td>\n      <td>...</td>\n      <td>1.0</td>\n      <td>1.0</td>\n      <td>1</td>\n      <td>1</td>\n      <td>1</td>\n      <td>1</td>\n      <td>6</td>\n      <td>1</td>\n      <td>1</td>\n      <td>1</td>\n    </tr>\n    <tr>\n      <th>29</th>\n      <td>33</td>\n      <td>24/05/2016</td>\n      <td>1st Round</td>\n      <td>Coric B.</td>\n      <td>Fritz T.</td>\n      <td>47</td>\n      <td>67.0</td>\n      <td>935</td>\n      <td>758.0</td>\n      <td>3.0</td>\n      <td>...</td>\n      <td>1.0</td>\n      <td>1.0</td>\n      <td>1</td>\n      <td>1</td>\n      <td>1</td>\n      <td>1</td>\n      <td>5</td>\n      <td>4</td>\n      <td>1</td>\n      <td>1</td>\n    </tr>\n  </tbody>\n</table>\n<p>30 rows × 30 columns</p>\n</div>"
     },
     "execution_count": 42,
     "metadata": {},
     "output_type": "execute_result"
    }
   ],
   "source": [
    "data.head(30)"
   ]
  },
  {
   "cell_type": "code",
   "execution_count": 43,
   "metadata": {},
   "outputs": [
    {
     "data": {
      "text/plain": "Empty DataFrame\nColumns: [ATP, Date, Round, Winner, Loser, WRank, LRank, WPts, LPts, Wsets, Lsets, B365W, B365L, PSW, PSL, MaxW, MaxL, AvgW, AvgL, SetsTotales, LabelWinnerRank, LabelWinnerPoints, LabelWinnerOddsB65, LabelWinnerOddsPS, LabelWinnerOddsMAX, LabelWinnerOddsAvg, WinnerRoundsWon, LoserRoundsWon, LabelWinnerRounds, LabelWinnerRoundsAndOddsAvg]\nIndex: []\n\n[0 rows x 30 columns]",
      "text/html": "<div>\n<style scoped>\n    .dataframe tbody tr th:only-of-type {\n        vertical-align: middle;\n    }\n\n    .dataframe tbody tr th {\n        vertical-align: top;\n    }\n\n    .dataframe thead th {\n        text-align: right;\n    }\n</style>\n<table border=\"1\" class=\"dataframe\">\n  <thead>\n    <tr style=\"text-align: right;\">\n      <th></th>\n      <th>ATP</th>\n      <th>Date</th>\n      <th>Round</th>\n      <th>Winner</th>\n      <th>Loser</th>\n      <th>WRank</th>\n      <th>LRank</th>\n      <th>WPts</th>\n      <th>LPts</th>\n      <th>Wsets</th>\n      <th>...</th>\n      <th>LabelWinnerRank</th>\n      <th>LabelWinnerPoints</th>\n      <th>LabelWinnerOddsB65</th>\n      <th>LabelWinnerOddsPS</th>\n      <th>LabelWinnerOddsMAX</th>\n      <th>LabelWinnerOddsAvg</th>\n      <th>WinnerRoundsWon</th>\n      <th>LoserRoundsWon</th>\n      <th>LabelWinnerRounds</th>\n      <th>LabelWinnerRoundsAndOddsAvg</th>\n    </tr>\n  </thead>\n  <tbody>\n  </tbody>\n</table>\n<p>0 rows × 30 columns</p>\n</div>"
     },
     "execution_count": 43,
     "metadata": {},
     "output_type": "execute_result"
    }
   ],
   "source": [
    "data.loc[data['LabelWinnerRoundsAndOddsAvg'] == -1]"
   ]
  },
  {
   "cell_type": "markdown",
   "metadata": {},
   "source": [
    "With the query above, we check that there is no -1 values at all, we are left with 1s and 0s"
   ]
  },
  {
   "cell_type": "code",
   "execution_count": 44,
   "metadata": {},
   "outputs": [],
   "source": [
    "data.to_csv(\"data_with_label_rounds_and_odds.csv\")"
   ]
  },
  {
   "cell_type": "code",
   "execution_count": null,
   "metadata": {},
   "outputs": [],
   "source": []
  }
 ],
 "metadata": {
  "kernelspec": {
   "display_name": "Python 3 (ipykernel)",
   "language": "python",
   "name": "python3"
  },
  "language_info": {
   "codemirror_mode": {
    "name": "ipython",
    "version": 3
   },
   "file_extension": ".py",
   "mimetype": "text/x-python",
   "name": "python",
   "nbconvert_exporter": "python",
   "pygments_lexer": "ipython3",
   "version": "3.9.7"
  }
 },
 "nbformat": 4,
 "nbformat_minor": 1
}
