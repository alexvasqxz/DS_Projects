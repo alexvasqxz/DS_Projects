{
 "cells": [
  {
   "cell_type": "code",
   "execution_count": 1,
   "metadata": {},
   "outputs": [],
   "source": [
    "import pandas as pd\n",
    "import numpy as np"
   ]
  },
  {
   "cell_type": "code",
   "execution_count": 2,
   "metadata": {},
   "outputs": [
    {
     "name": "stdout",
     "output_type": "stream",
     "text": [
      "<class 'pandas.core.frame.DataFrame'>\n",
      "RangeIndex: 888 entries, 0 to 887\n",
      "Data columns (total 26 columns):\n",
      " #   Column              Non-Null Count  Dtype  \n",
      "---  ------              --------------  -----  \n",
      " 0   ATP                 888 non-null    int64  \n",
      " 1   Date                888 non-null    object \n",
      " 2   Round               888 non-null    object \n",
      " 3   Winner              888 non-null    object \n",
      " 4   Loser               888 non-null    object \n",
      " 5   WRank               888 non-null    int64  \n",
      " 6   LRank               886 non-null    float64\n",
      " 7   WPts                888 non-null    int64  \n",
      " 8   LPts                886 non-null    float64\n",
      " 9   Wsets               887 non-null    float64\n",
      " 10  Lsets               887 non-null    float64\n",
      " 11  B365W               888 non-null    float64\n",
      " 12  B365L               888 non-null    float64\n",
      " 13  PSW                 888 non-null    float64\n",
      " 14  PSL                 888 non-null    float64\n",
      " 15  MaxW                888 non-null    float64\n",
      " 16  MaxL                888 non-null    float64\n",
      " 17  AvgW                888 non-null    float64\n",
      " 18  AvgL                888 non-null    float64\n",
      " 19  SetsTotales         888 non-null    int64  \n",
      " 20  LabelWinnerRank     886 non-null    float64\n",
      " 21  LabelWinnerPoints   886 non-null    float64\n",
      " 22  LabelWinnerOddsB65  888 non-null    int64  \n",
      " 23  LabelWinnerOddsPS   888 non-null    int64  \n",
      " 24  LabelWinnerOddsMAX  888 non-null    int64  \n",
      " 25  LabelWinnerOddsAvg  888 non-null    int64  \n",
      "dtypes: float64(14), int64(8), object(4)\n",
      "memory usage: 180.5+ KB\n"
     ]
    }
   ],
   "source": [
    "df = pd.read_csv('data/data_simple_labels.csv')\n",
    "df.info()"
   ]
  },
  {
   "cell_type": "markdown",
   "metadata": {},
   "source": [
    "Agregacion de Info de Jugadores"
   ]
  },
  {
   "cell_type": "code",
   "execution_count": 3,
   "metadata": {},
   "outputs": [],
   "source": [
    "df_matches = df[[\"Round\",\"Winner\",\"Loser\"]]"
   ]
  },
  {
   "cell_type": "code",
   "execution_count": 4,
   "metadata": {},
   "outputs": [],
   "source": [
    "winner_series=df_matches[\"Winner\"].unique()"
   ]
  },
  {
   "cell_type": "code",
   "execution_count": 5,
   "metadata": {},
   "outputs": [],
   "source": [
    "loser_series=df_matches[\"Loser\"].unique()"
   ]
  },
  {
   "cell_type": "code",
   "execution_count": 6,
   "metadata": {},
   "outputs": [],
   "source": [
    "array_players=np.concatenate((winner_series, loser_series), axis= None)"
   ]
  },
  {
   "cell_type": "code",
   "execution_count": 7,
   "metadata": {},
   "outputs": [],
   "source": [
    "df_players = pd.DataFrame(array_players, columns = ['Players'])\n",
    "# avoid having the players repeated\n",
    "df_players.drop_duplicates(inplace=True)"
   ]
  },
  {
   "cell_type": "code",
   "execution_count": 8,
   "metadata": {},
   "outputs": [
    {
     "name": "stdout",
     "output_type": "stream",
     "text": [
      "<class 'pandas.core.frame.DataFrame'>\n",
      "Int64Index: 292 entries, 0 to 478\n",
      "Data columns (total 1 columns):\n",
      " #   Column   Non-Null Count  Dtype \n",
      "---  ------   --------------  ----- \n",
      " 0   Players  292 non-null    object\n",
      "dtypes: object(1)\n",
      "memory usage: 4.6+ KB\n"
     ]
    }
   ],
   "source": [
    "df_players.info()"
   ]
  },
  {
   "cell_type": "markdown",
   "metadata": {},
   "source": [
    "Now for the Column with the number of times a player has won in round 1"
   ]
  },
  {
   "cell_type": "code",
   "execution_count": 9,
   "metadata": {},
   "outputs": [],
   "source": [
    "df_round_losers = df_matches[[\"Round\",\"Loser\"]]\n",
    "df_1round_losers= df_round_losers.loc[df_round_losers['Round'] == '1st Round']\n",
    "df_1round_losers=df_1round_losers.groupby(df_1round_losers.columns.tolist()).size().reset_index().\\\n",
    "    rename(columns={0:'1R_L'})\n",
    "df_1round_losers.rename(columns={\"Loser\":\"Players\"}, inplace=True)\n",
    "players_first_round= pd.merge(df_players, df_1round_losers, on='Players', how = 'outer')\n",
    "players_first_round.drop(columns=['Round'], inplace=True)\n"
   ]
  },
  {
   "cell_type": "code",
   "execution_count": 10,
   "metadata": {},
   "outputs": [
    {
     "name": "stdout",
     "output_type": "stream",
     "text": [
      "<class 'pandas.core.frame.DataFrame'>\n",
      "Int64Index: 292 entries, 0 to 291\n",
      "Data columns (total 2 columns):\n",
      " #   Column   Non-Null Count  Dtype  \n",
      "---  ------   --------------  -----  \n",
      " 0   Players  292 non-null    object \n",
      " 1   1R_L     237 non-null    float64\n",
      "dtypes: float64(1), object(1)\n",
      "memory usage: 6.8+ KB\n"
     ]
    }
   ],
   "source": [
    "players_first_round.info(10)"
   ]
  },
  {
   "cell_type": "markdown",
   "metadata": {},
   "source": [
    "Now for the Column with the number of times a player has won in round 2"
   ]
  },
  {
   "cell_type": "code",
   "execution_count": 11,
   "metadata": {},
   "outputs": [],
   "source": [
    "df_2round_losers= df_round_losers.loc[df_round_losers['Round'] == '2nd Round']\n",
    "df_2round_losers=df_2round_losers.groupby(df_2round_losers.columns.tolist()).size().reset_index().\\\n",
    "    rename(columns={0:'2R_L'})\n",
    "df_2round_losers.rename(columns={\"Loser\":\"Players\"}, inplace=True)\n",
    "players_second_round= pd.merge(df_players, df_2round_losers, on='Players', how = 'outer')\n",
    "players_second_round.drop(columns=['Round'], inplace=True)"
   ]
  },
  {
   "cell_type": "code",
   "execution_count": 12,
   "metadata": {},
   "outputs": [
    {
     "name": "stdout",
     "output_type": "stream",
     "text": [
      "<class 'pandas.core.frame.DataFrame'>\n",
      "Int64Index: 292 entries, 0 to 291\n",
      "Data columns (total 2 columns):\n",
      " #   Column   Non-Null Count  Dtype  \n",
      "---  ------   --------------  -----  \n",
      " 0   Players  292 non-null    object \n",
      " 1   2R_L     155 non-null    float64\n",
      "dtypes: float64(1), object(1)\n",
      "memory usage: 6.8+ KB\n"
     ]
    }
   ],
   "source": [
    "players_second_round.info(10)"
   ]
  },
  {
   "cell_type": "markdown",
   "metadata": {},
   "source": [
    "Now for the Column with the number of times a player has won in round 3"
   ]
  },
  {
   "cell_type": "code",
   "execution_count": 13,
   "metadata": {},
   "outputs": [],
   "source": [
    "df_3round_losers= df_round_losers.loc[df_round_losers['Round'] == '3rd Round']\n",
    "df_3round_losers=df_3round_losers.groupby(df_3round_losers.columns.tolist()).size().reset_index().\\\n",
    "    rename(columns={0:'3R_L'})\n",
    "df_3round_losers.rename(columns={\"Loser\":\"Players\"}, inplace=True)\n",
    "players_third_round= pd.merge(df_players, df_3round_losers, on='Players', how = 'outer')\n",
    "players_third_round.drop(columns=['Round'], inplace=True)"
   ]
  },
  {
   "cell_type": "code",
   "execution_count": 14,
   "metadata": {},
   "outputs": [
    {
     "name": "stdout",
     "output_type": "stream",
     "text": [
      "<class 'pandas.core.frame.DataFrame'>\n",
      "Int64Index: 292 entries, 0 to 291\n",
      "Data columns (total 2 columns):\n",
      " #   Column   Non-Null Count  Dtype  \n",
      "---  ------   --------------  -----  \n",
      " 0   Players  292 non-null    object \n",
      " 1   3R_L     78 non-null     float64\n",
      "dtypes: float64(1), object(1)\n",
      "memory usage: 6.8+ KB\n"
     ]
    }
   ],
   "source": [
    "players_third_round.info()"
   ]
  },
  {
   "cell_type": "markdown",
   "metadata": {},
   "source": [
    "Now for the Column with the number of times a player has won in round 4"
   ]
  },
  {
   "cell_type": "code",
   "execution_count": 15,
   "metadata": {},
   "outputs": [],
   "source": [
    "df_4round_losers= df_round_losers.loc[df_round_losers['Round'] == '4th Round']\n",
    "df_4round_losers=df_4round_losers.groupby(df_4round_losers.columns.tolist()).size().reset_index().\\\n",
    "    rename(columns={0:'4R_L'})\n",
    "df_4round_losers.rename(columns={\"Loser\":\"Players\"}, inplace=True)\n",
    "players_fourth_round= pd.merge(df_players, df_4round_losers, on='Players', how = 'outer')\n",
    "players_fourth_round.drop(columns=['Round'], inplace=True)"
   ]
  },
  {
   "cell_type": "code",
   "execution_count": 16,
   "metadata": {},
   "outputs": [
    {
     "name": "stdout",
     "output_type": "stream",
     "text": [
      "<class 'pandas.core.frame.DataFrame'>\n",
      "Int64Index: 292 entries, 0 to 291\n",
      "Data columns (total 2 columns):\n",
      " #   Column   Non-Null Count  Dtype  \n",
      "---  ------   --------------  -----  \n",
      " 0   Players  292 non-null    object \n",
      " 1   4R_L     40 non-null     float64\n",
      "dtypes: float64(1), object(1)\n",
      "memory usage: 6.8+ KB\n"
     ]
    }
   ],
   "source": [
    "players_fourth_round.info()"
   ]
  },
  {
   "cell_type": "markdown",
   "metadata": {},
   "source": [
    "Now for the Column with the number of times a player has won in Quarter Finals"
   ]
  },
  {
   "cell_type": "code",
   "execution_count": 17,
   "metadata": {},
   "outputs": [],
   "source": [
    "df_qfinals_losers= df_round_losers.loc[df_round_losers['Round'] == 'Quarterfinals']\n",
    "df_qfinals_losers=df_qfinals_losers.groupby(df_qfinals_losers.columns.tolist()).size().reset_index().\\\n",
    "    rename(columns={0:'QF_L'})\n",
    "df_qfinals_losers.rename(columns={\"Loser\":\"Players\"}, inplace=True)\n",
    "players_qfinals= pd.merge(df_players, df_qfinals_losers, on='Players', how = 'outer')\n",
    "players_qfinals.drop(columns=['Round'], inplace=True)"
   ]
  },
  {
   "cell_type": "code",
   "execution_count": 18,
   "metadata": {},
   "outputs": [
    {
     "name": "stdout",
     "output_type": "stream",
     "text": [
      "<class 'pandas.core.frame.DataFrame'>\n",
      "Int64Index: 292 entries, 0 to 291\n",
      "Data columns (total 2 columns):\n",
      " #   Column   Non-Null Count  Dtype  \n",
      "---  ------   --------------  -----  \n",
      " 0   Players  292 non-null    object \n",
      " 1   QF_L     20 non-null     float64\n",
      "dtypes: float64(1), object(1)\n",
      "memory usage: 6.8+ KB\n"
     ]
    }
   ],
   "source": [
    "players_qfinals.info()"
   ]
  },
  {
   "cell_type": "markdown",
   "metadata": {},
   "source": [
    "Now for the Column with the number of times a player has won in Semi Finals"
   ]
  },
  {
   "cell_type": "code",
   "execution_count": 19,
   "metadata": {},
   "outputs": [],
   "source": [
    "df_semifinals_losers= df_round_losers.loc[df_round_losers['Round'] == 'Semifinals']\n",
    "df_semifinals_losers=df_semifinals_losers.groupby(df_semifinals_losers.columns.tolist()).size().reset_index().\\\n",
    "    rename(columns={0:'SF_L'})\n",
    "df_semifinals_losers.rename(columns={\"Loser\":\"Players\"}, inplace=True)\n",
    "players_semifinals= pd.merge(df_players, df_semifinals_losers, on='Players', how = 'outer')\n",
    "players_semifinals.drop(columns=['Round'], inplace=True)"
   ]
  },
  {
   "cell_type": "code",
   "execution_count": 20,
   "metadata": {},
   "outputs": [
    {
     "name": "stdout",
     "output_type": "stream",
     "text": [
      "<class 'pandas.core.frame.DataFrame'>\n",
      "Int64Index: 292 entries, 0 to 291\n",
      "Data columns (total 2 columns):\n",
      " #   Column   Non-Null Count  Dtype  \n",
      "---  ------   --------------  -----  \n",
      " 0   Players  292 non-null    object \n",
      " 1   SF_L     12 non-null     float64\n",
      "dtypes: float64(1), object(1)\n",
      "memory usage: 6.8+ KB\n"
     ]
    }
   ],
   "source": [
    "players_semifinals.info()"
   ]
  },
  {
   "cell_type": "markdown",
   "metadata": {},
   "source": [
    "Now for the Column with the number of times a player has won in the Final"
   ]
  },
  {
   "cell_type": "code",
   "execution_count": 21,
   "metadata": {},
   "outputs": [],
   "source": [
    "df_final_losers= df_round_losers.loc[df_round_losers['Round'] == 'The Final']\n",
    "df_final_losers=df_final_losers.groupby(df_final_losers.columns.tolist()).size().reset_index().\\\n",
    "    rename(columns={0:'F_L'})\n",
    "df_final_losers.rename(columns={\"Loser\":\"Players\"}, inplace=True)\n",
    "players_finals= pd.merge(df_players, df_final_losers, on='Players', how = 'outer')\n",
    "players_finals.drop(columns=['Round'], inplace=True)"
   ]
  },
  {
   "cell_type": "code",
   "execution_count": 22,
   "metadata": {},
   "outputs": [
    {
     "name": "stdout",
     "output_type": "stream",
     "text": [
      "<class 'pandas.core.frame.DataFrame'>\n",
      "Int64Index: 292 entries, 0 to 291\n",
      "Data columns (total 2 columns):\n",
      " #   Column   Non-Null Count  Dtype  \n",
      "---  ------   --------------  -----  \n",
      " 0   Players  292 non-null    object \n",
      " 1   F_L      6 non-null      float64\n",
      "dtypes: float64(1), object(1)\n",
      "memory usage: 6.8+ KB\n"
     ]
    }
   ],
   "source": [
    "players_finals.info()"
   ]
  },
  {
   "cell_type": "markdown",
   "metadata": {},
   "source": [
    "Now to merge all our columns and create a single dataframe for our players"
   ]
  },
  {
   "cell_type": "code",
   "execution_count": 23,
   "metadata": {},
   "outputs": [],
   "source": [
    "df_players_allrounds = players_first_round.merge(players_second_round,on='Players', how = 'outer').\\\n",
    "        merge(players_third_round,on='Players', how = 'outer').\\\n",
    "        merge(players_fourth_round,on='Players', how = 'outer').\\\n",
    "        merge(players_qfinals,on='Players', how = 'outer').\\\n",
    "        merge(players_semifinals,on='Players', how = 'outer').merge(players_finals,on='Players', how = 'outer')"
   ]
  },
  {
   "cell_type": "code",
   "execution_count": 24,
   "metadata": {},
   "outputs": [
    {
     "name": "stdout",
     "output_type": "stream",
     "text": [
      "<class 'pandas.core.frame.DataFrame'>\n",
      "Int64Index: 292 entries, 0 to 291\n",
      "Data columns (total 8 columns):\n",
      " #   Column   Non-Null Count  Dtype  \n",
      "---  ------   --------------  -----  \n",
      " 0   Players  292 non-null    object \n",
      " 1   1R_L     237 non-null    float64\n",
      " 2   2R_L     155 non-null    float64\n",
      " 3   3R_L     78 non-null     float64\n",
      " 4   4R_L     40 non-null     float64\n",
      " 5   QF_L     20 non-null     float64\n",
      " 6   SF_L     12 non-null     float64\n",
      " 7   F_L      6 non-null      float64\n",
      "dtypes: float64(7), object(1)\n",
      "memory usage: 20.5+ KB\n"
     ]
    }
   ],
   "source": [
    "df_players_allrounds.info()"
   ]
  },
  {
   "cell_type": "code",
   "execution_count": 25,
   "metadata": {},
   "outputs": [
    {
     "data": {
      "text/html": [
       "<div>\n",
       "<style scoped>\n",
       "    .dataframe tbody tr th:only-of-type {\n",
       "        vertical-align: middle;\n",
       "    }\n",
       "\n",
       "    .dataframe tbody tr th {\n",
       "        vertical-align: top;\n",
       "    }\n",
       "\n",
       "    .dataframe thead th {\n",
       "        text-align: right;\n",
       "    }\n",
       "</style>\n",
       "<table border=\"1\" class=\"dataframe\">\n",
       "  <thead>\n",
       "    <tr style=\"text-align: right;\">\n",
       "      <th></th>\n",
       "      <th>Players</th>\n",
       "      <th>1R_L</th>\n",
       "      <th>2R_L</th>\n",
       "      <th>3R_L</th>\n",
       "      <th>4R_L</th>\n",
       "      <th>QF_L</th>\n",
       "      <th>SF_L</th>\n",
       "      <th>F_L</th>\n",
       "    </tr>\n",
       "  </thead>\n",
       "  <tbody>\n",
       "    <tr>\n",
       "      <th>0</th>\n",
       "      <td>Kyrgios N.</td>\n",
       "      <td>0.0</td>\n",
       "      <td>1.0</td>\n",
       "      <td>1.0</td>\n",
       "      <td>0.0</td>\n",
       "      <td>0.0</td>\n",
       "      <td>0.0</td>\n",
       "      <td>0.0</td>\n",
       "    </tr>\n",
       "    <tr>\n",
       "      <th>1</th>\n",
       "      <td>Paire B.</td>\n",
       "      <td>3.0</td>\n",
       "      <td>3.0</td>\n",
       "      <td>0.0</td>\n",
       "      <td>1.0</td>\n",
       "      <td>0.0</td>\n",
       "      <td>0.0</td>\n",
       "      <td>0.0</td>\n",
       "    </tr>\n",
       "    <tr>\n",
       "      <th>2</th>\n",
       "      <td>Sijsling I.</td>\n",
       "      <td>0.0</td>\n",
       "      <td>1.0</td>\n",
       "      <td>0.0</td>\n",
       "      <td>0.0</td>\n",
       "      <td>0.0</td>\n",
       "      <td>0.0</td>\n",
       "      <td>0.0</td>\n",
       "    </tr>\n",
       "    <tr>\n",
       "      <th>3</th>\n",
       "      <td>Gabashvili T.</td>\n",
       "      <td>1.0</td>\n",
       "      <td>0.0</td>\n",
       "      <td>1.0</td>\n",
       "      <td>0.0</td>\n",
       "      <td>0.0</td>\n",
       "      <td>0.0</td>\n",
       "      <td>0.0</td>\n",
       "    </tr>\n",
       "    <tr>\n",
       "      <th>4</th>\n",
       "      <td>Kuznetsov An.</td>\n",
       "      <td>2.0</td>\n",
       "      <td>1.0</td>\n",
       "      <td>0.0</td>\n",
       "      <td>0.0</td>\n",
       "      <td>0.0</td>\n",
       "      <td>0.0</td>\n",
       "      <td>0.0</td>\n",
       "    </tr>\n",
       "  </tbody>\n",
       "</table>\n",
       "</div>"
      ],
      "text/plain": [
       "         Players  1R_L  2R_L  3R_L  4R_L  QF_L  SF_L  F_L\n",
       "0     Kyrgios N.   0.0   1.0   1.0   0.0   0.0   0.0  0.0\n",
       "1       Paire B.   3.0   3.0   0.0   1.0   0.0   0.0  0.0\n",
       "2    Sijsling I.   0.0   1.0   0.0   0.0   0.0   0.0  0.0\n",
       "3  Gabashvili T.   1.0   0.0   1.0   0.0   0.0   0.0  0.0\n",
       "4  Kuznetsov An.   2.0   1.0   0.0   0.0   0.0   0.0  0.0"
      ]
     },
     "execution_count": 25,
     "metadata": {},
     "output_type": "execute_result"
    }
   ],
   "source": [
    "df_players_allrounds.fillna(0, inplace=True)\n",
    "df_players_allrounds.head()\n"
   ]
  },
  {
   "cell_type": "code",
   "execution_count": 26,
   "metadata": {},
   "outputs": [
    {
     "name": "stdout",
     "output_type": "stream",
     "text": [
      "<class 'pandas.core.frame.DataFrame'>\n",
      "Int64Index: 292 entries, 0 to 291\n",
      "Data columns (total 8 columns):\n",
      " #   Column   Non-Null Count  Dtype  \n",
      "---  ------   --------------  -----  \n",
      " 0   Players  292 non-null    object \n",
      " 1   1R_L     292 non-null    float64\n",
      " 2   2R_L     292 non-null    float64\n",
      " 3   3R_L     292 non-null    float64\n",
      " 4   4R_L     292 non-null    float64\n",
      " 5   QF_L     292 non-null    float64\n",
      " 6   SF_L     292 non-null    float64\n",
      " 7   F_L      292 non-null    float64\n",
      "dtypes: float64(7), object(1)\n",
      "memory usage: 20.5+ KB\n"
     ]
    }
   ],
   "source": [
    "df_players_allrounds.info()"
   ]
  },
  {
   "cell_type": "code",
   "execution_count": 27,
   "metadata": {},
   "outputs": [
    {
     "data": {
      "text/html": [
       "<div>\n",
       "<style scoped>\n",
       "    .dataframe tbody tr th:only-of-type {\n",
       "        vertical-align: middle;\n",
       "    }\n",
       "\n",
       "    .dataframe tbody tr th {\n",
       "        vertical-align: top;\n",
       "    }\n",
       "\n",
       "    .dataframe thead th {\n",
       "        text-align: right;\n",
       "    }\n",
       "</style>\n",
       "<table border=\"1\" class=\"dataframe\">\n",
       "  <thead>\n",
       "    <tr style=\"text-align: right;\">\n",
       "      <th></th>\n",
       "      <th>Players</th>\n",
       "      <th>1R_L</th>\n",
       "      <th>2R_L</th>\n",
       "      <th>3R_L</th>\n",
       "      <th>4R_L</th>\n",
       "      <th>QF_L</th>\n",
       "      <th>SF_L</th>\n",
       "      <th>F_L</th>\n",
       "    </tr>\n",
       "  </thead>\n",
       "  <tbody>\n",
       "    <tr>\n",
       "      <th>48</th>\n",
       "      <td>Djokovic N.</td>\n",
       "      <td>0.0</td>\n",
       "      <td>0.0</td>\n",
       "      <td>0.0</td>\n",
       "      <td>0.0</td>\n",
       "      <td>3.0</td>\n",
       "      <td>1.0</td>\n",
       "      <td>1.0</td>\n",
       "    </tr>\n",
       "  </tbody>\n",
       "</table>\n",
       "</div>"
      ],
      "text/plain": [
       "        Players  1R_L  2R_L  3R_L  4R_L  QF_L  SF_L  F_L\n",
       "48  Djokovic N.   0.0   0.0   0.0   0.0   3.0   1.0  1.0"
      ]
     },
     "execution_count": 27,
     "metadata": {},
     "output_type": "execute_result"
    }
   ],
   "source": [
    "df_players_allrounds.loc[df_players_allrounds['Players'] == 'Djokovic N.']"
   ]
  },
  {
   "cell_type": "code",
   "execution_count": 28,
   "metadata": {},
   "outputs": [],
   "source": [
    "df_players_allrounds.to_csv(\"table_player_loses.csv\")"
   ]
  },
  {
   "cell_type": "code",
   "execution_count": null,
   "metadata": {},
   "outputs": [],
   "source": []
  }
 ],
 "metadata": {
  "kernelspec": {
   "display_name": "Python 3 (ipykernel)",
   "language": "python",
   "name": "python3"
  },
  "language_info": {
   "codemirror_mode": {
    "name": "ipython",
    "version": 3
   },
   "file_extension": ".py",
   "mimetype": "text/x-python",
   "name": "python",
   "nbconvert_exporter": "python",
   "pygments_lexer": "ipython3",
   "version": "3.9.7"
  }
 },
 "nbformat": 4,
 "nbformat_minor": 1
}
