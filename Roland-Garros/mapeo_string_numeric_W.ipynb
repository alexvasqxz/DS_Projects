{
 "cells": [
  {
   "cell_type": "code",
   "execution_count": 2,
   "metadata": {
    "collapsed": true
   },
   "outputs": [
    {
     "data": {
      "text/plain": "       Round             Winner              Loser  WRank  LRank  WPts  \\\n0  1st Round         Hsieh S.W.    Arruabarrena L.     80   92.0   817   \n1  1st Round         Kvitova P.         Kovinic D.     12   59.0  2878   \n2  1st Round         Golubic V.           Riske A.    130   93.0   471   \n3  1st Round  Pavlyuchenkova A.  Sorribes Tormo S.     27  190.0  1840   \n4  1st Round        Safarova L.      Diatchenko V.     13  225.0  2843   \n\n     LPts  Wsets  Lsets  B365W  ...  WinnerRoundsWon  LoserRoundsWon  \\\n0   738.0    2.0    0.0   2.75  ...                4               1   \n1  1035.0    2.0    1.0   1.22  ...                6               2   \n2   737.0    2.0    1.0   2.20  ...                1               1   \n3   278.0    2.0    0.0   1.53  ...                5               1   \n4   228.0    2.0    0.0   1.10  ...                2               0   \n\n   LabelWinnerRounds  LabelWinnerRoundsAndOddsAvg  WinnerRoundsLost  \\\n0                  1                            1                 2   \n1                  1                            1                 0   \n2                  0                            0                 5   \n3                  1                            1                 1   \n4                  1                            1                 1   \n\n   LoserRoundsLost  WinnerRoundsPlayed  LoserRoundsPlayed  \\\n0                3                   6                  4   \n1                3                   6                  5   \n2                5                   6                  6   \n3                4                   6                  5   \n4                3                   3                  3   \n\n   LabelWinnerRoundsWonOverAll  LabelLoserRoundsWonOverAll  \n0                       0.6667                      0.2500  \n1                       1.0000                      0.4000  \n2                       0.1667                      0.1667  \n3                       0.8333                      0.2000  \n4                       0.6667                      0.0000  \n\n[5 rows x 40 columns]",
      "text/html": "<div>\n<style scoped>\n    .dataframe tbody tr th:only-of-type {\n        vertical-align: middle;\n    }\n\n    .dataframe tbody tr th {\n        vertical-align: top;\n    }\n\n    .dataframe thead th {\n        text-align: right;\n    }\n</style>\n<table border=\"1\" class=\"dataframe\">\n  <thead>\n    <tr style=\"text-align: right;\">\n      <th></th>\n      <th>Round</th>\n      <th>Winner</th>\n      <th>Loser</th>\n      <th>WRank</th>\n      <th>LRank</th>\n      <th>WPts</th>\n      <th>LPts</th>\n      <th>Wsets</th>\n      <th>Lsets</th>\n      <th>B365W</th>\n      <th>...</th>\n      <th>WinnerRoundsWon</th>\n      <th>LoserRoundsWon</th>\n      <th>LabelWinnerRounds</th>\n      <th>LabelWinnerRoundsAndOddsAvg</th>\n      <th>WinnerRoundsLost</th>\n      <th>LoserRoundsLost</th>\n      <th>WinnerRoundsPlayed</th>\n      <th>LoserRoundsPlayed</th>\n      <th>LabelWinnerRoundsWonOverAll</th>\n      <th>LabelLoserRoundsWonOverAll</th>\n    </tr>\n  </thead>\n  <tbody>\n    <tr>\n      <th>0</th>\n      <td>1st Round</td>\n      <td>Hsieh S.W.</td>\n      <td>Arruabarrena L.</td>\n      <td>80</td>\n      <td>92.0</td>\n      <td>817</td>\n      <td>738.0</td>\n      <td>2.0</td>\n      <td>0.0</td>\n      <td>2.75</td>\n      <td>...</td>\n      <td>4</td>\n      <td>1</td>\n      <td>1</td>\n      <td>1</td>\n      <td>2</td>\n      <td>3</td>\n      <td>6</td>\n      <td>4</td>\n      <td>0.6667</td>\n      <td>0.2500</td>\n    </tr>\n    <tr>\n      <th>1</th>\n      <td>1st Round</td>\n      <td>Kvitova P.</td>\n      <td>Kovinic D.</td>\n      <td>12</td>\n      <td>59.0</td>\n      <td>2878</td>\n      <td>1035.0</td>\n      <td>2.0</td>\n      <td>1.0</td>\n      <td>1.22</td>\n      <td>...</td>\n      <td>6</td>\n      <td>2</td>\n      <td>1</td>\n      <td>1</td>\n      <td>0</td>\n      <td>3</td>\n      <td>6</td>\n      <td>5</td>\n      <td>1.0000</td>\n      <td>0.4000</td>\n    </tr>\n    <tr>\n      <th>2</th>\n      <td>1st Round</td>\n      <td>Golubic V.</td>\n      <td>Riske A.</td>\n      <td>130</td>\n      <td>93.0</td>\n      <td>471</td>\n      <td>737.0</td>\n      <td>2.0</td>\n      <td>1.0</td>\n      <td>2.20</td>\n      <td>...</td>\n      <td>1</td>\n      <td>1</td>\n      <td>0</td>\n      <td>0</td>\n      <td>5</td>\n      <td>5</td>\n      <td>6</td>\n      <td>6</td>\n      <td>0.1667</td>\n      <td>0.1667</td>\n    </tr>\n    <tr>\n      <th>3</th>\n      <td>1st Round</td>\n      <td>Pavlyuchenkova A.</td>\n      <td>Sorribes Tormo S.</td>\n      <td>27</td>\n      <td>190.0</td>\n      <td>1840</td>\n      <td>278.0</td>\n      <td>2.0</td>\n      <td>0.0</td>\n      <td>1.53</td>\n      <td>...</td>\n      <td>5</td>\n      <td>1</td>\n      <td>1</td>\n      <td>1</td>\n      <td>1</td>\n      <td>4</td>\n      <td>6</td>\n      <td>5</td>\n      <td>0.8333</td>\n      <td>0.2000</td>\n    </tr>\n    <tr>\n      <th>4</th>\n      <td>1st Round</td>\n      <td>Safarova L.</td>\n      <td>Diatchenko V.</td>\n      <td>13</td>\n      <td>225.0</td>\n      <td>2843</td>\n      <td>228.0</td>\n      <td>2.0</td>\n      <td>0.0</td>\n      <td>1.10</td>\n      <td>...</td>\n      <td>2</td>\n      <td>0</td>\n      <td>1</td>\n      <td>1</td>\n      <td>1</td>\n      <td>3</td>\n      <td>3</td>\n      <td>3</td>\n      <td>0.6667</td>\n      <td>0.0000</td>\n    </tr>\n  </tbody>\n</table>\n<p>5 rows × 40 columns</p>\n</div>"
     },
     "execution_count": 2,
     "metadata": {},
     "output_type": "execute_result"
    }
   ],
   "source": [
    "import pandas as pd\n",
    "data = pd.read_csv(\"data/female/data_label_winner_rounds_won_overall_regression_W.csv\")\n",
    "columns_to_drop = ['Date']\n",
    "data = data.drop(columns_to_drop, axis=1)\n",
    "data.head()"
   ]
  },
  {
   "cell_type": "code",
   "execution_count": 3,
   "outputs": [
    {
     "name": "stdout",
     "output_type": "stream",
     "text": [
      "['1st Round' '2nd Round' '3rd Round' '4th Round' 'Quarterfinals'\n",
      " 'Semifinals' 'The Final']\n"
     ]
    }
   ],
   "source": [
    "unique_rounds = data['Round'].unique()\n",
    "print(unique_rounds)"
   ],
   "metadata": {
    "collapsed": false
   }
  },
  {
   "cell_type": "code",
   "execution_count": 4,
   "outputs": [],
   "source": [
    "mapping_dict = {\n",
    "            '1st Round' : 1,\n",
    "            '2nd Round' : 2,\n",
    "            '3rd Round' : 3,\n",
    "            '4th Round' : 4,\n",
    "            'Quarterfinals' : 5,\n",
    "            'Semifinals' : 6,\n",
    "            'The Final' : 7\n",
    "        }\n",
    "\n",
    "def round_to_num(value):\n",
    "    if value in mapping_dict:\n",
    "        return mapping_dict[value]\n",
    "    return -1"
   ],
   "metadata": {
    "collapsed": false
   }
  },
  {
   "cell_type": "code",
   "execution_count": 5,
   "outputs": [
    {
     "data": {
      "text/plain": "   Round_num             Winner              Loser  WRank  LRank  WPts  \\\n0          1         Hsieh S.W.    Arruabarrena L.     80   92.0   817   \n1          1         Kvitova P.         Kovinic D.     12   59.0  2878   \n2          1         Golubic V.           Riske A.    130   93.0   471   \n3          1  Pavlyuchenkova A.  Sorribes Tormo S.     27  190.0  1840   \n4          1        Safarova L.      Diatchenko V.     13  225.0  2843   \n\n     LPts  Wsets  Lsets  B365W  ...  WinnerRoundsWon  LoserRoundsWon  \\\n0   738.0    2.0    0.0   2.75  ...                4               1   \n1  1035.0    2.0    1.0   1.22  ...                6               2   \n2   737.0    2.0    1.0   2.20  ...                1               1   \n3   278.0    2.0    0.0   1.53  ...                5               1   \n4   228.0    2.0    0.0   1.10  ...                2               0   \n\n   LabelWinnerRounds  LabelWinnerRoundsAndOddsAvg  WinnerRoundsLost  \\\n0                  1                            1                 2   \n1                  1                            1                 0   \n2                  0                            0                 5   \n3                  1                            1                 1   \n4                  1                            1                 1   \n\n   LoserRoundsLost  WinnerRoundsPlayed  LoserRoundsPlayed  \\\n0                3                   6                  4   \n1                3                   6                  5   \n2                5                   6                  6   \n3                4                   6                  5   \n4                3                   3                  3   \n\n   LabelWinnerRoundsWonOverAll  LabelLoserRoundsWonOverAll  \n0                       0.6667                      0.2500  \n1                       1.0000                      0.4000  \n2                       0.1667                      0.1667  \n3                       0.8333                      0.2000  \n4                       0.6667                      0.0000  \n\n[5 rows x 40 columns]",
      "text/html": "<div>\n<style scoped>\n    .dataframe tbody tr th:only-of-type {\n        vertical-align: middle;\n    }\n\n    .dataframe tbody tr th {\n        vertical-align: top;\n    }\n\n    .dataframe thead th {\n        text-align: right;\n    }\n</style>\n<table border=\"1\" class=\"dataframe\">\n  <thead>\n    <tr style=\"text-align: right;\">\n      <th></th>\n      <th>Round_num</th>\n      <th>Winner</th>\n      <th>Loser</th>\n      <th>WRank</th>\n      <th>LRank</th>\n      <th>WPts</th>\n      <th>LPts</th>\n      <th>Wsets</th>\n      <th>Lsets</th>\n      <th>B365W</th>\n      <th>...</th>\n      <th>WinnerRoundsWon</th>\n      <th>LoserRoundsWon</th>\n      <th>LabelWinnerRounds</th>\n      <th>LabelWinnerRoundsAndOddsAvg</th>\n      <th>WinnerRoundsLost</th>\n      <th>LoserRoundsLost</th>\n      <th>WinnerRoundsPlayed</th>\n      <th>LoserRoundsPlayed</th>\n      <th>LabelWinnerRoundsWonOverAll</th>\n      <th>LabelLoserRoundsWonOverAll</th>\n    </tr>\n  </thead>\n  <tbody>\n    <tr>\n      <th>0</th>\n      <td>1</td>\n      <td>Hsieh S.W.</td>\n      <td>Arruabarrena L.</td>\n      <td>80</td>\n      <td>92.0</td>\n      <td>817</td>\n      <td>738.0</td>\n      <td>2.0</td>\n      <td>0.0</td>\n      <td>2.75</td>\n      <td>...</td>\n      <td>4</td>\n      <td>1</td>\n      <td>1</td>\n      <td>1</td>\n      <td>2</td>\n      <td>3</td>\n      <td>6</td>\n      <td>4</td>\n      <td>0.6667</td>\n      <td>0.2500</td>\n    </tr>\n    <tr>\n      <th>1</th>\n      <td>1</td>\n      <td>Kvitova P.</td>\n      <td>Kovinic D.</td>\n      <td>12</td>\n      <td>59.0</td>\n      <td>2878</td>\n      <td>1035.0</td>\n      <td>2.0</td>\n      <td>1.0</td>\n      <td>1.22</td>\n      <td>...</td>\n      <td>6</td>\n      <td>2</td>\n      <td>1</td>\n      <td>1</td>\n      <td>0</td>\n      <td>3</td>\n      <td>6</td>\n      <td>5</td>\n      <td>1.0000</td>\n      <td>0.4000</td>\n    </tr>\n    <tr>\n      <th>2</th>\n      <td>1</td>\n      <td>Golubic V.</td>\n      <td>Riske A.</td>\n      <td>130</td>\n      <td>93.0</td>\n      <td>471</td>\n      <td>737.0</td>\n      <td>2.0</td>\n      <td>1.0</td>\n      <td>2.20</td>\n      <td>...</td>\n      <td>1</td>\n      <td>1</td>\n      <td>0</td>\n      <td>0</td>\n      <td>5</td>\n      <td>5</td>\n      <td>6</td>\n      <td>6</td>\n      <td>0.1667</td>\n      <td>0.1667</td>\n    </tr>\n    <tr>\n      <th>3</th>\n      <td>1</td>\n      <td>Pavlyuchenkova A.</td>\n      <td>Sorribes Tormo S.</td>\n      <td>27</td>\n      <td>190.0</td>\n      <td>1840</td>\n      <td>278.0</td>\n      <td>2.0</td>\n      <td>0.0</td>\n      <td>1.53</td>\n      <td>...</td>\n      <td>5</td>\n      <td>1</td>\n      <td>1</td>\n      <td>1</td>\n      <td>1</td>\n      <td>4</td>\n      <td>6</td>\n      <td>5</td>\n      <td>0.8333</td>\n      <td>0.2000</td>\n    </tr>\n    <tr>\n      <th>4</th>\n      <td>1</td>\n      <td>Safarova L.</td>\n      <td>Diatchenko V.</td>\n      <td>13</td>\n      <td>225.0</td>\n      <td>2843</td>\n      <td>228.0</td>\n      <td>2.0</td>\n      <td>0.0</td>\n      <td>1.10</td>\n      <td>...</td>\n      <td>2</td>\n      <td>0</td>\n      <td>1</td>\n      <td>1</td>\n      <td>1</td>\n      <td>3</td>\n      <td>3</td>\n      <td>3</td>\n      <td>0.6667</td>\n      <td>0.0000</td>\n    </tr>\n  </tbody>\n</table>\n<p>5 rows × 40 columns</p>\n</div>"
     },
     "execution_count": 5,
     "metadata": {},
     "output_type": "execute_result"
    }
   ],
   "source": [
    "data.insert(loc=0, column='Round_num', value=data['Round'].apply(round_to_num))\n",
    "data = data.drop('Round', axis=1)\n",
    "data.head()"
   ],
   "metadata": {
    "collapsed": false
   }
  },
  {
   "cell_type": "code",
   "execution_count": 6,
   "outputs": [
    {
     "name": "stdout",
     "output_type": "stream",
     "text": [
      "{'Giorgi C.', 'Voegele S.', 'Selekhmeteva O.', 'Gauff C.', 'Schiavone F.', 'Wang Xin.', 'Van Uytvanck A.', 'Niculescu M.', 'Zheng Q.', 'Niemeier J.', 'Raducanu E.', 'Bjorklund M.', 'Lisicki S.', 'Andrianjafitrimo T.', 'Hsieh S.W.', 'Rybarikova M.', 'Potapova A.', 'Witthoeft C.', 'Gatto-Monticone G.', 'King V.', 'Larsson J.', 'Konta J.', 'Tomljanovic A.', 'Samsonova L.', 'Pliskova Kr.', 'Wozniak A.', 'Wang Xiy.', 'Min G.', 'Jovanovski B.', 'Strycova B.', 'Vesnina E.', 'Diyas Z.', 'Govortsova O.', 'Liu C.', 'Hogenkamp R.', 'Safarova L.', 'Kontaveit A.', 'Bogdan A.', 'Bouzkova M.', 'Vikhlyantseva N.', 'Kasatkina D.', 'Sharma A.', 'Bolsova A.', 'Lim A.', 'Barty A.', 'Bertens K.', 'Garcia Perez G.', 'Stosur S.', 'Danilovic O.', 'Bonaventure Y.', 'Sakkari M.', 'Dulgheru A.', 'Lemoine Q.', 'Bellis C.', 'Zvonareva V.', 'Fernandez L.A.', 'Baptiste H.', 'Soler-Espinosa S.', 'Putintseva Y.', 'Hesse A.', 'Soylu I.', 'Watson H.', 'Duque-Marino M.', 'Knapp K.', 'Vandeweghe C.', 'Sharapova M.', 'Muguruza G.', 'Davis L.', 'Ruse E.G.', 'Garcia C.', 'Haddad Maia B.', 'Stephens S.', 'Jankovic J.', 'Kuznetsova S.', 'Osaka N.', 'Wang Q.', 'Bacsinszky T.', 'Zhang S.', 'Wozniacki C.', 'Kudermetova V.', 'Janicijevic S.', 'Jani R.L.', 'Wallace I.', 'Osorio M.', 'Ivanovic A.', 'Albie A.', 'Razzano V.', 'Kozlova K.', 'Tig P.M.', 'Badosa P.', 'Zhuk S.', 'Parrizas Diaz N.', 'Golubic V.', 'Volynets K.', 'Diatchenko V.', 'Gavrilova D.', 'Galfi D.', 'Bondar A.', 'Cibulkova D.', 'Trevisan M.', 'Cornet A.', 'Tomova V.', 'Kenin S.', 'Kovinic D.', 'Zavatska K.', 'Lapko V.', 'Jabeur O.', 'Babos T.', 'Crawford S.', 'Gracheva V.', 'Liang E.S.', 'Kerber A.', 'Siegemund L.', 'Ozaki R.', 'Williams V.', 'Martic P.', 'Buzarnescu M.', 'Kucova K.', 'Williams S.', 'Andreescu B.', 'Beck A.', 'Sanders S.', 'Inglis M.', 'Pereira T.', 'Kanepi K.', 'Gasparyan M.', 'Keys M.', 'Hradecka L.', 'Bronzetti L.', 'Tauson C.', 'Noskova L.', 'Doi M.', 'Jacquemot E.', 'Sramkova R.', 'Kostyuk M.', 'Sabalenka A.', 'Gasanova A.', 'Khromacheva I.', 'Errani S.', 'Pliskova Ka.', 'Dodin O.', 'Halep S.', 'Brengle M.', 'Duan Y.Y.', 'Cocciaretto E.', 'Minnen G.', 'Zheng S.', 'Rodionova Ar.', 'Rodina E.', 'Peterson R.', 'Alexandrova E.', 'Cepede Royg V.', 'Petkovic A.', 'Hercog P.', 'Li A.', 'Saville D.', 'Cirstea S.', 'Bencic B.', 'Bondarenko K.', 'Vinci R.', 'Korpatsch T.', 'Sasnovich A.', 'Svitolina E.', 'Barthel M.', 'Wickmayer Y.', 'Lottner A.', 'Zarazua R.', 'Paquet C.', 'Kato M.', 'Tsurenko L.', 'Broady N.', 'Allertova D.', 'Gibbs N.', 'Robson L.', 'Fourlis J.', 'Radwanska A.', 'Kumkhum L.', 'Bouchard E.', 'Stojanovic N.', 'Dominguez Lino L.', 'Mladenovic K.', 'Gorgodze E.', 'Contreras Gomez F.', 'Ostapenko J.', 'Mertens E.', 'Mchale C.', 'Paolini J.', 'Babel O.', 'Podoroska N.', 'Yastremska D.', 'Zidansek T.', 'Kalinskaya A.', 'Makarova E.', 'Dolehide C.', 'Falconi I.', 'Peng S.', 'Blinkova A.', 'Rakhimova K.', 'Krejcikova B.', 'Sherif M.', 'Tatishvili A.', 'Udvardy P.', 'Lucic-Baroni M.', 'Rus A.', 'Boserup J.', 'Siniakova K.', 'Kvitova P.', 'Wang Yaf.', 'Sorribes Tormo S.', 'Ponchet J.', 'Wang Y.', 'Hantuchova D.', 'Lepchenko V.', 'Bucsa C.', 'Monnet C.', 'Swiatek I.', 'Zhu L.', 'Parry D.', 'Puig M.', 'Konjuh A.', 'Brady J.', 'Anisimova A.', 'Haas B.', 'Vickery S.', 'Parmentier P.', 'Goerges J.', 'Chiesa D.', 'Burel C.', 'Hon P.', 'Jakupovic D.', 'Ahn K.', 'Jeanjean L.', 'Riske A.', 'Azarenka V.', 'Bara I.', 'Grammatikopoulou V.', 'Frech M.', 'Dart H.', 'Nara K.', 'Voskoboeva G.', 'Friedsam A.L.', 'Townsend T.', 'Vondrousova M.', 'Vekic D.', 'Hibino N.', 'Georges M.', 'Collins D.', 'Pavlyuchenkova A.', 'Muchova K.', 'Rogers S.', 'Kalinina A.', 'Abanda F.', 'Minella M.', 'Zanevska M.', 'Marino R.', 'Chirico L.', 'Jorovic I.', 'Ferro F.', 'Juvan K.', 'Flipkens K.', 'Martincova T.', 'Cepelova J.', 'Arruabarrena L.', 'Erakovic M.', 'Rybakina E.', 'Pironkova T.', 'Linette M.', 'Maria T.', 'Pegula J.', 'Suarez Navarro C.', 'Krunic A.', 'Pera B.', 'Schmiedlova A.', 'Shvedova Y.', 'Tan H.', 'Schunk N.', 'Sevastova A.', 'Teichmann J.', 'Mattek-Sands B.', 'Buyukakcay C.', 'Kuzmova V.', 'Begu I.'}\n"
     ]
    }
   ],
   "source": [
    "# Obtener valores de todos los nombres Unicos\n",
    "player_values = set(data['Winner'].tolist() + data['Loser'].tolist())\n",
    "print(player_values)"
   ],
   "metadata": {
    "collapsed": false
   }
  },
  {
   "cell_type": "code",
   "execution_count": 7,
   "outputs": [
    {
     "name": "stdout",
     "output_type": "stream",
     "text": [
      "{\n",
      "    \"Giorgi C.\": 0,\n",
      "    \"Voegele S.\": 1,\n",
      "    \"Selekhmeteva O.\": 2,\n",
      "    \"Gauff C.\": 3,\n",
      "    \"Schiavone F.\": 4,\n",
      "    \"Wang Xin.\": 5,\n",
      "    \"Van Uytvanck A.\": 6,\n",
      "    \"Niculescu M.\": 7,\n",
      "    \"Zheng Q.\": 8,\n",
      "    \"Niemeier J.\": 9,\n",
      "    \"Raducanu E.\": 10,\n",
      "    \"Bjorklund M.\": 11,\n",
      "    \"Lisicki S.\": 12,\n",
      "    \"Andrianjafitrimo T.\": 13,\n",
      "    \"Hsieh S.W.\": 14,\n",
      "    \"Rybarikova M.\": 15,\n",
      "    \"Potapova A.\": 16,\n",
      "    \"Witthoeft C.\": 17,\n",
      "    \"Gatto-Monticone G.\": 18,\n",
      "    \"King V.\": 19,\n",
      "    \"Larsson J.\": 20,\n",
      "    \"Konta J.\": 21,\n",
      "    \"Tomljanovic A.\": 22,\n",
      "    \"Samsonova L.\": 23,\n",
      "    \"Pliskova Kr.\": 24,\n",
      "    \"Wozniak A.\": 25,\n",
      "    \"Wang Xiy.\": 26,\n",
      "    \"Min G.\": 27,\n",
      "    \"Jovanovski B.\": 28,\n",
      "    \"Strycova B.\": 29,\n",
      "    \"Vesnina E.\": 30,\n",
      "    \"Diyas Z.\": 31,\n",
      "    \"Govortsova O.\": 32,\n",
      "    \"Liu C.\": 33,\n",
      "    \"Hogenkamp R.\": 34,\n",
      "    \"Safarova L.\": 35,\n",
      "    \"Kontaveit A.\": 36,\n",
      "    \"Bogdan A.\": 37,\n",
      "    \"Bouzkova M.\": 38,\n",
      "    \"Vikhlyantseva N.\": 39,\n",
      "    \"Kasatkina D.\": 40,\n",
      "    \"Sharma A.\": 41,\n",
      "    \"Bolsova A.\": 42,\n",
      "    \"Lim A.\": 43,\n",
      "    \"Barty A.\": 44,\n",
      "    \"Bertens K.\": 45,\n",
      "    \"Garcia Perez G.\": 46,\n",
      "    \"Stosur S.\": 47,\n",
      "    \"Danilovic O.\": 48,\n",
      "    \"Bonaventure Y.\": 49,\n",
      "    \"Sakkari M.\": 50,\n",
      "    \"Dulgheru A.\": 51,\n",
      "    \"Lemoine Q.\": 52,\n",
      "    \"Bellis C.\": 53,\n",
      "    \"Zvonareva V.\": 54,\n",
      "    \"Fernandez L.A.\": 55,\n",
      "    \"Baptiste H.\": 56,\n",
      "    \"Soler-Espinosa S.\": 57,\n",
      "    \"Putintseva Y.\": 58,\n",
      "    \"Hesse A.\": 59,\n",
      "    \"Soylu I.\": 60,\n",
      "    \"Watson H.\": 61,\n",
      "    \"Duque-Marino M.\": 62,\n",
      "    \"Knapp K.\": 63,\n",
      "    \"Vandeweghe C.\": 64,\n",
      "    \"Sharapova M.\": 65,\n",
      "    \"Muguruza G.\": 66,\n",
      "    \"Davis L.\": 67,\n",
      "    \"Ruse E.G.\": 68,\n",
      "    \"Garcia C.\": 69,\n",
      "    \"Haddad Maia B.\": 70,\n",
      "    \"Stephens S.\": 71,\n",
      "    \"Jankovic J.\": 72,\n",
      "    \"Kuznetsova S.\": 73,\n",
      "    \"Osaka N.\": 74,\n",
      "    \"Wang Q.\": 75,\n",
      "    \"Bacsinszky T.\": 76,\n",
      "    \"Zhang S.\": 77,\n",
      "    \"Wozniacki C.\": 78,\n",
      "    \"Kudermetova V.\": 79,\n",
      "    \"Janicijevic S.\": 80,\n",
      "    \"Jani R.L.\": 81,\n",
      "    \"Wallace I.\": 82,\n",
      "    \"Osorio M.\": 83,\n",
      "    \"Ivanovic A.\": 84,\n",
      "    \"Albie A.\": 85,\n",
      "    \"Razzano V.\": 86,\n",
      "    \"Kozlova K.\": 87,\n",
      "    \"Tig P.M.\": 88,\n",
      "    \"Badosa P.\": 89,\n",
      "    \"Zhuk S.\": 90,\n",
      "    \"Parrizas Diaz N.\": 91,\n",
      "    \"Golubic V.\": 92,\n",
      "    \"Volynets K.\": 93,\n",
      "    \"Diatchenko V.\": 94,\n",
      "    \"Gavrilova D.\": 95,\n",
      "    \"Galfi D.\": 96,\n",
      "    \"Bondar A.\": 97,\n",
      "    \"Cibulkova D.\": 98,\n",
      "    \"Trevisan M.\": 99,\n",
      "    \"Cornet A.\": 100,\n",
      "    \"Tomova V.\": 101,\n",
      "    \"Kenin S.\": 102,\n",
      "    \"Kovinic D.\": 103,\n",
      "    \"Zavatska K.\": 104,\n",
      "    \"Lapko V.\": 105,\n",
      "    \"Jabeur O.\": 106,\n",
      "    \"Babos T.\": 107,\n",
      "    \"Crawford S.\": 108,\n",
      "    \"Gracheva V.\": 109,\n",
      "    \"Liang E.S.\": 110,\n",
      "    \"Kerber A.\": 111,\n",
      "    \"Siegemund L.\": 112,\n",
      "    \"Ozaki R.\": 113,\n",
      "    \"Williams V.\": 114,\n",
      "    \"Martic P.\": 115,\n",
      "    \"Buzarnescu M.\": 116,\n",
      "    \"Kucova K.\": 117,\n",
      "    \"Williams S.\": 118,\n",
      "    \"Andreescu B.\": 119,\n",
      "    \"Beck A.\": 120,\n",
      "    \"Sanders S.\": 121,\n",
      "    \"Inglis M.\": 122,\n",
      "    \"Pereira T.\": 123,\n",
      "    \"Kanepi K.\": 124,\n",
      "    \"Gasparyan M.\": 125,\n",
      "    \"Keys M.\": 126,\n",
      "    \"Hradecka L.\": 127,\n",
      "    \"Bronzetti L.\": 128,\n",
      "    \"Tauson C.\": 129,\n",
      "    \"Noskova L.\": 130,\n",
      "    \"Doi M.\": 131,\n",
      "    \"Jacquemot E.\": 132,\n",
      "    \"Sramkova R.\": 133,\n",
      "    \"Kostyuk M.\": 134,\n",
      "    \"Sabalenka A.\": 135,\n",
      "    \"Gasanova A.\": 136,\n",
      "    \"Khromacheva I.\": 137,\n",
      "    \"Errani S.\": 138,\n",
      "    \"Pliskova Ka.\": 139,\n",
      "    \"Dodin O.\": 140,\n",
      "    \"Halep S.\": 141,\n",
      "    \"Brengle M.\": 142,\n",
      "    \"Duan Y.Y.\": 143,\n",
      "    \"Cocciaretto E.\": 144,\n",
      "    \"Minnen G.\": 145,\n",
      "    \"Zheng S.\": 146,\n",
      "    \"Rodionova Ar.\": 147,\n",
      "    \"Rodina E.\": 148,\n",
      "    \"Peterson R.\": 149,\n",
      "    \"Alexandrova E.\": 150,\n",
      "    \"Cepede Royg V.\": 151,\n",
      "    \"Petkovic A.\": 152,\n",
      "    \"Hercog P.\": 153,\n",
      "    \"Li A.\": 154,\n",
      "    \"Saville D.\": 155,\n",
      "    \"Cirstea S.\": 156,\n",
      "    \"Bencic B.\": 157,\n",
      "    \"Bondarenko K.\": 158,\n",
      "    \"Vinci R.\": 159,\n",
      "    \"Korpatsch T.\": 160,\n",
      "    \"Sasnovich A.\": 161,\n",
      "    \"Svitolina E.\": 162,\n",
      "    \"Barthel M.\": 163,\n",
      "    \"Wickmayer Y.\": 164,\n",
      "    \"Lottner A.\": 165,\n",
      "    \"Zarazua R.\": 166,\n",
      "    \"Paquet C.\": 167,\n",
      "    \"Kato M.\": 168,\n",
      "    \"Tsurenko L.\": 169,\n",
      "    \"Broady N.\": 170,\n",
      "    \"Allertova D.\": 171,\n",
      "    \"Gibbs N.\": 172,\n",
      "    \"Robson L.\": 173,\n",
      "    \"Fourlis J.\": 174,\n",
      "    \"Radwanska A.\": 175,\n",
      "    \"Kumkhum L.\": 176,\n",
      "    \"Bouchard E.\": 177,\n",
      "    \"Stojanovic N.\": 178,\n",
      "    \"Dominguez Lino L.\": 179,\n",
      "    \"Mladenovic K.\": 180,\n",
      "    \"Gorgodze E.\": 181,\n",
      "    \"Contreras Gomez F.\": 182,\n",
      "    \"Ostapenko J.\": 183,\n",
      "    \"Mertens E.\": 184,\n",
      "    \"Mchale C.\": 185,\n",
      "    \"Paolini J.\": 186,\n",
      "    \"Babel O.\": 187,\n",
      "    \"Podoroska N.\": 188,\n",
      "    \"Yastremska D.\": 189,\n",
      "    \"Zidansek T.\": 190,\n",
      "    \"Kalinskaya A.\": 191,\n",
      "    \"Makarova E.\": 192,\n",
      "    \"Dolehide C.\": 193,\n",
      "    \"Falconi I.\": 194,\n",
      "    \"Peng S.\": 195,\n",
      "    \"Blinkova A.\": 196,\n",
      "    \"Rakhimova K.\": 197,\n",
      "    \"Krejcikova B.\": 198,\n",
      "    \"Sherif M.\": 199,\n",
      "    \"Tatishvili A.\": 200,\n",
      "    \"Udvardy P.\": 201,\n",
      "    \"Lucic-Baroni M.\": 202,\n",
      "    \"Rus A.\": 203,\n",
      "    \"Boserup J.\": 204,\n",
      "    \"Siniakova K.\": 205,\n",
      "    \"Kvitova P.\": 206,\n",
      "    \"Wang Yaf.\": 207,\n",
      "    \"Sorribes Tormo S.\": 208,\n",
      "    \"Ponchet J.\": 209,\n",
      "    \"Wang Y.\": 210,\n",
      "    \"Hantuchova D.\": 211,\n",
      "    \"Lepchenko V.\": 212,\n",
      "    \"Bucsa C.\": 213,\n",
      "    \"Monnet C.\": 214,\n",
      "    \"Swiatek I.\": 215,\n",
      "    \"Zhu L.\": 216,\n",
      "    \"Parry D.\": 217,\n",
      "    \"Puig M.\": 218,\n",
      "    \"Konjuh A.\": 219,\n",
      "    \"Brady J.\": 220,\n",
      "    \"Anisimova A.\": 221,\n",
      "    \"Haas B.\": 222,\n",
      "    \"Vickery S.\": 223,\n",
      "    \"Parmentier P.\": 224,\n",
      "    \"Goerges J.\": 225,\n",
      "    \"Chiesa D.\": 226,\n",
      "    \"Burel C.\": 227,\n",
      "    \"Hon P.\": 228,\n",
      "    \"Jakupovic D.\": 229,\n",
      "    \"Ahn K.\": 230,\n",
      "    \"Jeanjean L.\": 231,\n",
      "    \"Riske A.\": 232,\n",
      "    \"Azarenka V.\": 233,\n",
      "    \"Bara I.\": 234,\n",
      "    \"Grammatikopoulou V.\": 235,\n",
      "    \"Frech M.\": 236,\n",
      "    \"Dart H.\": 237,\n",
      "    \"Nara K.\": 238,\n",
      "    \"Voskoboeva G.\": 239,\n",
      "    \"Friedsam A.L.\": 240,\n",
      "    \"Townsend T.\": 241,\n",
      "    \"Vondrousova M.\": 242,\n",
      "    \"Vekic D.\": 243,\n",
      "    \"Hibino N.\": 244,\n",
      "    \"Georges M.\": 245,\n",
      "    \"Collins D.\": 246,\n",
      "    \"Pavlyuchenkova A.\": 247,\n",
      "    \"Muchova K.\": 248,\n",
      "    \"Rogers S.\": 249,\n",
      "    \"Kalinina A.\": 250,\n",
      "    \"Abanda F.\": 251,\n",
      "    \"Minella M.\": 252,\n",
      "    \"Zanevska M.\": 253,\n",
      "    \"Marino R.\": 254,\n",
      "    \"Chirico L.\": 255,\n",
      "    \"Jorovic I.\": 256,\n",
      "    \"Ferro F.\": 257,\n",
      "    \"Juvan K.\": 258,\n",
      "    \"Flipkens K.\": 259,\n",
      "    \"Martincova T.\": 260,\n",
      "    \"Cepelova J.\": 261,\n",
      "    \"Arruabarrena L.\": 262,\n",
      "    \"Erakovic M.\": 263,\n",
      "    \"Rybakina E.\": 264,\n",
      "    \"Pironkova T.\": 265,\n",
      "    \"Linette M.\": 266,\n",
      "    \"Maria T.\": 267,\n",
      "    \"Pegula J.\": 268,\n",
      "    \"Suarez Navarro C.\": 269,\n",
      "    \"Krunic A.\": 270,\n",
      "    \"Pera B.\": 271,\n",
      "    \"Schmiedlova A.\": 272,\n",
      "    \"Shvedova Y.\": 273,\n",
      "    \"Tan H.\": 274,\n",
      "    \"Schunk N.\": 275,\n",
      "    \"Sevastova A.\": 276,\n",
      "    \"Teichmann J.\": 277,\n",
      "    \"Mattek-Sands B.\": 278,\n",
      "    \"Buyukakcay C.\": 279,\n",
      "    \"Kuzmova V.\": 280,\n",
      "    \"Begu I.\": 281\n",
      "}\n"
     ]
    }
   ],
   "source": [
    "# Mapeas nombres unicos a llave que se incrementa en 1\n",
    "import json\n",
    "dict_jugadores = {value: key for key, value in enumerate(player_values)}\n",
    "print(json.dumps(dict_jugadores, indent=4))"
   ],
   "metadata": {
    "collapsed": false
   }
  },
  {
   "cell_type": "code",
   "execution_count": 8,
   "outputs": [],
   "source": [
    "# Funcion para en base a un nombre obtener su id\n",
    "def player_to_id(value):\n",
    "    if value in dict_jugadores:\n",
    "        return dict_jugadores[value]\n",
    "    return -1"
   ],
   "metadata": {
    "collapsed": false
   }
  },
  {
   "cell_type": "code",
   "execution_count": 9,
   "outputs": [
    {
     "data": {
      "text/plain": "   Round_num  Winner_Id  Loser_Id  WRank  LRank  WPts    LPts  Wsets  Lsets  \\\n0          1         14       262     80   92.0   817   738.0    2.0    0.0   \n1          1        206       103     12   59.0  2878  1035.0    2.0    1.0   \n2          1         92       232    130   93.0   471   737.0    2.0    1.0   \n3          1        247       208     27  190.0  1840   278.0    2.0    0.0   \n4          1         35        94     13  225.0  2843   228.0    2.0    0.0   \n\n   B365W  ...  WinnerRoundsWon  LoserRoundsWon  LabelWinnerRounds  \\\n0   2.75  ...                4               1                  1   \n1   1.22  ...                6               2                  1   \n2   2.20  ...                1               1                  0   \n3   1.53  ...                5               1                  1   \n4   1.10  ...                2               0                  1   \n\n   LabelWinnerRoundsAndOddsAvg  WinnerRoundsLost  LoserRoundsLost  \\\n0                            1                 2                3   \n1                            1                 0                3   \n2                            0                 5                5   \n3                            1                 1                4   \n4                            1                 1                3   \n\n   WinnerRoundsPlayed  LoserRoundsPlayed  LabelWinnerRoundsWonOverAll  \\\n0                   6                  4                       0.6667   \n1                   6                  5                       1.0000   \n2                   6                  6                       0.1667   \n3                   6                  5                       0.8333   \n4                   3                  3                       0.6667   \n\n   LabelLoserRoundsWonOverAll  \n0                      0.2500  \n1                      0.4000  \n2                      0.1667  \n3                      0.2000  \n4                      0.0000  \n\n[5 rows x 40 columns]",
      "text/html": "<div>\n<style scoped>\n    .dataframe tbody tr th:only-of-type {\n        vertical-align: middle;\n    }\n\n    .dataframe tbody tr th {\n        vertical-align: top;\n    }\n\n    .dataframe thead th {\n        text-align: right;\n    }\n</style>\n<table border=\"1\" class=\"dataframe\">\n  <thead>\n    <tr style=\"text-align: right;\">\n      <th></th>\n      <th>Round_num</th>\n      <th>Winner_Id</th>\n      <th>Loser_Id</th>\n      <th>WRank</th>\n      <th>LRank</th>\n      <th>WPts</th>\n      <th>LPts</th>\n      <th>Wsets</th>\n      <th>Lsets</th>\n      <th>B365W</th>\n      <th>...</th>\n      <th>WinnerRoundsWon</th>\n      <th>LoserRoundsWon</th>\n      <th>LabelWinnerRounds</th>\n      <th>LabelWinnerRoundsAndOddsAvg</th>\n      <th>WinnerRoundsLost</th>\n      <th>LoserRoundsLost</th>\n      <th>WinnerRoundsPlayed</th>\n      <th>LoserRoundsPlayed</th>\n      <th>LabelWinnerRoundsWonOverAll</th>\n      <th>LabelLoserRoundsWonOverAll</th>\n    </tr>\n  </thead>\n  <tbody>\n    <tr>\n      <th>0</th>\n      <td>1</td>\n      <td>14</td>\n      <td>262</td>\n      <td>80</td>\n      <td>92.0</td>\n      <td>817</td>\n      <td>738.0</td>\n      <td>2.0</td>\n      <td>0.0</td>\n      <td>2.75</td>\n      <td>...</td>\n      <td>4</td>\n      <td>1</td>\n      <td>1</td>\n      <td>1</td>\n      <td>2</td>\n      <td>3</td>\n      <td>6</td>\n      <td>4</td>\n      <td>0.6667</td>\n      <td>0.2500</td>\n    </tr>\n    <tr>\n      <th>1</th>\n      <td>1</td>\n      <td>206</td>\n      <td>103</td>\n      <td>12</td>\n      <td>59.0</td>\n      <td>2878</td>\n      <td>1035.0</td>\n      <td>2.0</td>\n      <td>1.0</td>\n      <td>1.22</td>\n      <td>...</td>\n      <td>6</td>\n      <td>2</td>\n      <td>1</td>\n      <td>1</td>\n      <td>0</td>\n      <td>3</td>\n      <td>6</td>\n      <td>5</td>\n      <td>1.0000</td>\n      <td>0.4000</td>\n    </tr>\n    <tr>\n      <th>2</th>\n      <td>1</td>\n      <td>92</td>\n      <td>232</td>\n      <td>130</td>\n      <td>93.0</td>\n      <td>471</td>\n      <td>737.0</td>\n      <td>2.0</td>\n      <td>1.0</td>\n      <td>2.20</td>\n      <td>...</td>\n      <td>1</td>\n      <td>1</td>\n      <td>0</td>\n      <td>0</td>\n      <td>5</td>\n      <td>5</td>\n      <td>6</td>\n      <td>6</td>\n      <td>0.1667</td>\n      <td>0.1667</td>\n    </tr>\n    <tr>\n      <th>3</th>\n      <td>1</td>\n      <td>247</td>\n      <td>208</td>\n      <td>27</td>\n      <td>190.0</td>\n      <td>1840</td>\n      <td>278.0</td>\n      <td>2.0</td>\n      <td>0.0</td>\n      <td>1.53</td>\n      <td>...</td>\n      <td>5</td>\n      <td>1</td>\n      <td>1</td>\n      <td>1</td>\n      <td>1</td>\n      <td>4</td>\n      <td>6</td>\n      <td>5</td>\n      <td>0.8333</td>\n      <td>0.2000</td>\n    </tr>\n    <tr>\n      <th>4</th>\n      <td>1</td>\n      <td>35</td>\n      <td>94</td>\n      <td>13</td>\n      <td>225.0</td>\n      <td>2843</td>\n      <td>228.0</td>\n      <td>2.0</td>\n      <td>0.0</td>\n      <td>1.10</td>\n      <td>...</td>\n      <td>2</td>\n      <td>0</td>\n      <td>1</td>\n      <td>1</td>\n      <td>1</td>\n      <td>3</td>\n      <td>3</td>\n      <td>3</td>\n      <td>0.6667</td>\n      <td>0.0000</td>\n    </tr>\n  </tbody>\n</table>\n<p>5 rows × 40 columns</p>\n</div>"
     },
     "execution_count": 9,
     "metadata": {},
     "output_type": "execute_result"
    }
   ],
   "source": [
    "data.insert(loc=1, column='Winner_Id', value=data['Winner'].apply(player_to_id))\n",
    "data = data.drop('Winner', axis=1)\n",
    "data.insert(loc=2, column='Loser_Id', value=data['Loser'].apply(player_to_id))\n",
    "data = data.drop('Loser', axis=1)\n",
    "data.head()"
   ],
   "metadata": {
    "collapsed": false
   }
  },
  {
   "cell_type": "code",
   "execution_count": 10,
   "outputs": [],
   "source": [
    "# Guardar resultado final\n",
    "data.to_csv('data/female/data_numeric_regression_W.csv', index=False)"
   ],
   "metadata": {
    "collapsed": false
   }
  },
  {
   "cell_type": "code",
   "execution_count": 11,
   "outputs": [],
   "source": [
    "import csv\n",
    "# Guardar mapeo Jugador - Id\n",
    "with open('data/female/mapeo_jugador_id_W.csv', 'w', newline='') as file:\n",
    "    writer = csv.writer(file)\n",
    "\n",
    "    # Write each key-value pair as a row in the CSV file\n",
    "    for key, value in dict_jugadores.items():\n",
    "        writer.writerow([key, value])"
   ],
   "metadata": {
    "collapsed": false
   }
  },
  {
   "cell_type": "code",
   "execution_count": null,
   "outputs": [],
   "source": [],
   "metadata": {
    "collapsed": false
   }
  }
 ],
 "metadata": {
  "kernelspec": {
   "display_name": "Python 3",
   "language": "python",
   "name": "python3"
  },
  "language_info": {
   "codemirror_mode": {
    "name": "ipython",
    "version": 2
   },
   "file_extension": ".py",
   "mimetype": "text/x-python",
   "name": "python",
   "nbconvert_exporter": "python",
   "pygments_lexer": "ipython2",
   "version": "2.7.6"
  }
 },
 "nbformat": 4,
 "nbformat_minor": 0
}
