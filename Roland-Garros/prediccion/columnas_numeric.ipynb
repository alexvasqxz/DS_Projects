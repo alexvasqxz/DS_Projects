{
 "cells": [
  {
   "cell_type": "code",
   "execution_count": 1,
   "metadata": {
    "collapsed": true
   },
   "outputs": [
    {
     "data": {
      "text/plain": "   ATP Location   Tournament       Date      Series    Court Surface  \\\n0  NaN    Paris  French Open  28/5/2023  Grand Slam  Outdoor    Clay   \n1  NaN    Paris  French Open  28/5/2023  Grand Slam  Outdoor    Clay   \n2  NaN    Paris  French Open  28/5/2023  Grand Slam  Outdoor    Clay   \n3  NaN    Paris  French Open  28/5/2023  Grand Slam  Outdoor    Clay   \n4  NaN    Paris  French Open  28/5/2023  Grand Slam  Outdoor    Clay   \n\n       Round  Best of       PlayerA        PlayerB  Arank  Brank  Apts  Bpts  \\\n0  1st Round        5     Goffin D.     Hurkacz H.    113     13   570  2525   \n1  1st Round        5  Khachanov K.   Lestienne C.     11     69  2945   769   \n2  1st Round        5   Martinez P.  Griekspoor T.    135     39   448  1034   \n3  1st Round        5      Ofner S.      Cressy M.    118     42   534   975   \n4  1st Round        5     Kypson P.       Albot R.    323    111   154   564   \n\n   B365A  B365B  \n0  3.000   1.40  \n1  1.025  17.00  \n2  1.720   2.10  \n3  1.360   3.20  \n4  3.200   1.36  ",
      "text/html": "<div>\n<style scoped>\n    .dataframe tbody tr th:only-of-type {\n        vertical-align: middle;\n    }\n\n    .dataframe tbody tr th {\n        vertical-align: top;\n    }\n\n    .dataframe thead th {\n        text-align: right;\n    }\n</style>\n<table border=\"1\" class=\"dataframe\">\n  <thead>\n    <tr style=\"text-align: right;\">\n      <th></th>\n      <th>ATP</th>\n      <th>Location</th>\n      <th>Tournament</th>\n      <th>Date</th>\n      <th>Series</th>\n      <th>Court</th>\n      <th>Surface</th>\n      <th>Round</th>\n      <th>Best of</th>\n      <th>PlayerA</th>\n      <th>PlayerB</th>\n      <th>Arank</th>\n      <th>Brank</th>\n      <th>Apts</th>\n      <th>Bpts</th>\n      <th>B365A</th>\n      <th>B365B</th>\n    </tr>\n  </thead>\n  <tbody>\n    <tr>\n      <th>0</th>\n      <td>NaN</td>\n      <td>Paris</td>\n      <td>French Open</td>\n      <td>28/5/2023</td>\n      <td>Grand Slam</td>\n      <td>Outdoor</td>\n      <td>Clay</td>\n      <td>1st Round</td>\n      <td>5</td>\n      <td>Goffin D.</td>\n      <td>Hurkacz H.</td>\n      <td>113</td>\n      <td>13</td>\n      <td>570</td>\n      <td>2525</td>\n      <td>3.000</td>\n      <td>1.40</td>\n    </tr>\n    <tr>\n      <th>1</th>\n      <td>NaN</td>\n      <td>Paris</td>\n      <td>French Open</td>\n      <td>28/5/2023</td>\n      <td>Grand Slam</td>\n      <td>Outdoor</td>\n      <td>Clay</td>\n      <td>1st Round</td>\n      <td>5</td>\n      <td>Khachanov K.</td>\n      <td>Lestienne C.</td>\n      <td>11</td>\n      <td>69</td>\n      <td>2945</td>\n      <td>769</td>\n      <td>1.025</td>\n      <td>17.00</td>\n    </tr>\n    <tr>\n      <th>2</th>\n      <td>NaN</td>\n      <td>Paris</td>\n      <td>French Open</td>\n      <td>28/5/2023</td>\n      <td>Grand Slam</td>\n      <td>Outdoor</td>\n      <td>Clay</td>\n      <td>1st Round</td>\n      <td>5</td>\n      <td>Martinez P.</td>\n      <td>Griekspoor T.</td>\n      <td>135</td>\n      <td>39</td>\n      <td>448</td>\n      <td>1034</td>\n      <td>1.720</td>\n      <td>2.10</td>\n    </tr>\n    <tr>\n      <th>3</th>\n      <td>NaN</td>\n      <td>Paris</td>\n      <td>French Open</td>\n      <td>28/5/2023</td>\n      <td>Grand Slam</td>\n      <td>Outdoor</td>\n      <td>Clay</td>\n      <td>1st Round</td>\n      <td>5</td>\n      <td>Ofner S.</td>\n      <td>Cressy M.</td>\n      <td>118</td>\n      <td>42</td>\n      <td>534</td>\n      <td>975</td>\n      <td>1.360</td>\n      <td>3.20</td>\n    </tr>\n    <tr>\n      <th>4</th>\n      <td>NaN</td>\n      <td>Paris</td>\n      <td>French Open</td>\n      <td>28/5/2023</td>\n      <td>Grand Slam</td>\n      <td>Outdoor</td>\n      <td>Clay</td>\n      <td>1st Round</td>\n      <td>5</td>\n      <td>Kypson P.</td>\n      <td>Albot R.</td>\n      <td>323</td>\n      <td>111</td>\n      <td>154</td>\n      <td>564</td>\n      <td>3.200</td>\n      <td>1.36</td>\n    </tr>\n  </tbody>\n</table>\n</div>"
     },
     "execution_count": 1,
     "metadata": {},
     "output_type": "execute_result"
    }
   ],
   "source": [
    "import pandas as pd\n",
    "import json\n",
    "\n",
    "datos_hombres = pd.read_csv(\"M_PrediccionTennis.xlsx - MEN.csv\")\n",
    "datos_hombres.head()"
   ]
  },
  {
   "cell_type": "code",
   "execution_count": 2,
   "outputs": [
    {
     "data": {
      "text/plain": "   WTP Location   Tournament       Date      Series    Court Surface  \\\n0  NaN    Paris  French Open  28/5/2023  Grand Slam  Outdoor    Clay   \n1  NaN    Paris  French Open  28/5/2023  Grand Slam  Outdoor    Clay   \n2  NaN    Paris  French Open  28/5/2023  Grand Slam  Outdoor    Clay   \n3  NaN    Paris  French Open  28/5/2023  Grand Slam  Outdoor    Clay   \n4  NaN    Paris  French Open  28/5/2023  Grand Slam  Outdoor    Clay   \n\n       Round  Best of           PlayerA         PlayerB  Arank  Brank  Apts  \\\n0  1st Round        5          Zhang S.        Frech M.     30     87  1355   \n1  1st Round        5      Podoroska N.      Ponchet J.    101    123   639   \n2  1st Round        5        Kostyuk M.    Sabalenka A.     39      2  1225   \n3  1st Round        5        Udvardy P.  Shymanovich I.     95    211   675   \n4  1st Round        5  Parrizas Diaz N.       Hunter S.     93    202   679   \n\n   Bpts  B365A  B365B  \n0   720   3.75   1.28  \n1   566   1.66   2.20  \n2  7541   6.50   1.11  \n3   335   2.75   1.44  \n4   346   1.80   2.00  ",
      "text/html": "<div>\n<style scoped>\n    .dataframe tbody tr th:only-of-type {\n        vertical-align: middle;\n    }\n\n    .dataframe tbody tr th {\n        vertical-align: top;\n    }\n\n    .dataframe thead th {\n        text-align: right;\n    }\n</style>\n<table border=\"1\" class=\"dataframe\">\n  <thead>\n    <tr style=\"text-align: right;\">\n      <th></th>\n      <th>WTP</th>\n      <th>Location</th>\n      <th>Tournament</th>\n      <th>Date</th>\n      <th>Series</th>\n      <th>Court</th>\n      <th>Surface</th>\n      <th>Round</th>\n      <th>Best of</th>\n      <th>PlayerA</th>\n      <th>PlayerB</th>\n      <th>Arank</th>\n      <th>Brank</th>\n      <th>Apts</th>\n      <th>Bpts</th>\n      <th>B365A</th>\n      <th>B365B</th>\n    </tr>\n  </thead>\n  <tbody>\n    <tr>\n      <th>0</th>\n      <td>NaN</td>\n      <td>Paris</td>\n      <td>French Open</td>\n      <td>28/5/2023</td>\n      <td>Grand Slam</td>\n      <td>Outdoor</td>\n      <td>Clay</td>\n      <td>1st Round</td>\n      <td>5</td>\n      <td>Zhang S.</td>\n      <td>Frech M.</td>\n      <td>30</td>\n      <td>87</td>\n      <td>1355</td>\n      <td>720</td>\n      <td>3.75</td>\n      <td>1.28</td>\n    </tr>\n    <tr>\n      <th>1</th>\n      <td>NaN</td>\n      <td>Paris</td>\n      <td>French Open</td>\n      <td>28/5/2023</td>\n      <td>Grand Slam</td>\n      <td>Outdoor</td>\n      <td>Clay</td>\n      <td>1st Round</td>\n      <td>5</td>\n      <td>Podoroska N.</td>\n      <td>Ponchet J.</td>\n      <td>101</td>\n      <td>123</td>\n      <td>639</td>\n      <td>566</td>\n      <td>1.66</td>\n      <td>2.20</td>\n    </tr>\n    <tr>\n      <th>2</th>\n      <td>NaN</td>\n      <td>Paris</td>\n      <td>French Open</td>\n      <td>28/5/2023</td>\n      <td>Grand Slam</td>\n      <td>Outdoor</td>\n      <td>Clay</td>\n      <td>1st Round</td>\n      <td>5</td>\n      <td>Kostyuk M.</td>\n      <td>Sabalenka A.</td>\n      <td>39</td>\n      <td>2</td>\n      <td>1225</td>\n      <td>7541</td>\n      <td>6.50</td>\n      <td>1.11</td>\n    </tr>\n    <tr>\n      <th>3</th>\n      <td>NaN</td>\n      <td>Paris</td>\n      <td>French Open</td>\n      <td>28/5/2023</td>\n      <td>Grand Slam</td>\n      <td>Outdoor</td>\n      <td>Clay</td>\n      <td>1st Round</td>\n      <td>5</td>\n      <td>Udvardy P.</td>\n      <td>Shymanovich I.</td>\n      <td>95</td>\n      <td>211</td>\n      <td>675</td>\n      <td>335</td>\n      <td>2.75</td>\n      <td>1.44</td>\n    </tr>\n    <tr>\n      <th>4</th>\n      <td>NaN</td>\n      <td>Paris</td>\n      <td>French Open</td>\n      <td>28/5/2023</td>\n      <td>Grand Slam</td>\n      <td>Outdoor</td>\n      <td>Clay</td>\n      <td>1st Round</td>\n      <td>5</td>\n      <td>Parrizas Diaz N.</td>\n      <td>Hunter S.</td>\n      <td>93</td>\n      <td>202</td>\n      <td>679</td>\n      <td>346</td>\n      <td>1.80</td>\n      <td>2.00</td>\n    </tr>\n  </tbody>\n</table>\n</div>"
     },
     "execution_count": 2,
     "metadata": {},
     "output_type": "execute_result"
    }
   ],
   "source": [
    "datos_mujeres = pd.read_csv(\"W_PrediccionTennis.xlsx - WOMAN.csv\")\n",
    "datos_mujeres.head()"
   ],
   "metadata": {
    "collapsed": false
   }
  },
  {
   "cell_type": "code",
   "execution_count": 3,
   "outputs": [],
   "source": [
    "dict_hombres = {}\n",
    "dict_mujeres = {}\n",
    "\n",
    "with open(\"mapeo_hombres.json\", \"r\") as file:\n",
    "    dict_hombres = json.load(file)\n",
    "\n",
    "with open(\"mapeo_mujeres.json\", \"r\") as file:\n",
    "    dict_mujeres = json.load(file)"
   ],
   "metadata": {
    "collapsed": false
   }
  },
  {
   "cell_type": "code",
   "execution_count": 4,
   "outputs": [],
   "source": [
    "def mapear_M(name):\n",
    "    if name in dict_hombres:\n",
    "        return dict_hombres[name]\n",
    "    return 0\n",
    "\n",
    "def mapear_W(name):\n",
    "    if name in dict_mujeres:\n",
    "        return dict_mujeres[name]\n",
    "    return 0"
   ],
   "metadata": {
    "collapsed": false
   }
  },
  {
   "cell_type": "code",
   "execution_count": 5,
   "outputs": [
    {
     "data": {
      "text/plain": "   ATP Location   Tournament       Date      Series    Court Surface  \\\n0  NaN    Paris  French Open  28/5/2023  Grand Slam  Outdoor    Clay   \n1  NaN    Paris  French Open  28/5/2023  Grand Slam  Outdoor    Clay   \n2  NaN    Paris  French Open  28/5/2023  Grand Slam  Outdoor    Clay   \n3  NaN    Paris  French Open  28/5/2023  Grand Slam  Outdoor    Clay   \n4  NaN    Paris  French Open  28/5/2023  Grand Slam  Outdoor    Clay   \n\n       Round  Best of       PlayerA  PlayerA_id        PlayerB  PlayerB_id  \\\n0  1st Round        5     Goffin D.          30     Hurkacz H.         280   \n1  1st Round        5  Khachanov K.         210   Lestienne C.           0   \n2  1st Round        5   Martinez P.         195  Griekspoor T.          91   \n3  1st Round        5      Ofner S.         138      Cressy M.         287   \n4  1st Round        5     Kypson P.           0       Albot R.         150   \n\n   Arank  Brank  Apts  Bpts  B365A  B365B  \n0    113     13   570  2525  3.000   1.40  \n1     11     69  2945   769  1.025  17.00  \n2    135     39   448  1034  1.720   2.10  \n3    118     42   534   975  1.360   3.20  \n4    323    111   154   564  3.200   1.36  ",
      "text/html": "<div>\n<style scoped>\n    .dataframe tbody tr th:only-of-type {\n        vertical-align: middle;\n    }\n\n    .dataframe tbody tr th {\n        vertical-align: top;\n    }\n\n    .dataframe thead th {\n        text-align: right;\n    }\n</style>\n<table border=\"1\" class=\"dataframe\">\n  <thead>\n    <tr style=\"text-align: right;\">\n      <th></th>\n      <th>ATP</th>\n      <th>Location</th>\n      <th>Tournament</th>\n      <th>Date</th>\n      <th>Series</th>\n      <th>Court</th>\n      <th>Surface</th>\n      <th>Round</th>\n      <th>Best of</th>\n      <th>PlayerA</th>\n      <th>PlayerA_id</th>\n      <th>PlayerB</th>\n      <th>PlayerB_id</th>\n      <th>Arank</th>\n      <th>Brank</th>\n      <th>Apts</th>\n      <th>Bpts</th>\n      <th>B365A</th>\n      <th>B365B</th>\n    </tr>\n  </thead>\n  <tbody>\n    <tr>\n      <th>0</th>\n      <td>NaN</td>\n      <td>Paris</td>\n      <td>French Open</td>\n      <td>28/5/2023</td>\n      <td>Grand Slam</td>\n      <td>Outdoor</td>\n      <td>Clay</td>\n      <td>1st Round</td>\n      <td>5</td>\n      <td>Goffin D.</td>\n      <td>30</td>\n      <td>Hurkacz H.</td>\n      <td>280</td>\n      <td>113</td>\n      <td>13</td>\n      <td>570</td>\n      <td>2525</td>\n      <td>3.000</td>\n      <td>1.40</td>\n    </tr>\n    <tr>\n      <th>1</th>\n      <td>NaN</td>\n      <td>Paris</td>\n      <td>French Open</td>\n      <td>28/5/2023</td>\n      <td>Grand Slam</td>\n      <td>Outdoor</td>\n      <td>Clay</td>\n      <td>1st Round</td>\n      <td>5</td>\n      <td>Khachanov K.</td>\n      <td>210</td>\n      <td>Lestienne C.</td>\n      <td>0</td>\n      <td>11</td>\n      <td>69</td>\n      <td>2945</td>\n      <td>769</td>\n      <td>1.025</td>\n      <td>17.00</td>\n    </tr>\n    <tr>\n      <th>2</th>\n      <td>NaN</td>\n      <td>Paris</td>\n      <td>French Open</td>\n      <td>28/5/2023</td>\n      <td>Grand Slam</td>\n      <td>Outdoor</td>\n      <td>Clay</td>\n      <td>1st Round</td>\n      <td>5</td>\n      <td>Martinez P.</td>\n      <td>195</td>\n      <td>Griekspoor T.</td>\n      <td>91</td>\n      <td>135</td>\n      <td>39</td>\n      <td>448</td>\n      <td>1034</td>\n      <td>1.720</td>\n      <td>2.10</td>\n    </tr>\n    <tr>\n      <th>3</th>\n      <td>NaN</td>\n      <td>Paris</td>\n      <td>French Open</td>\n      <td>28/5/2023</td>\n      <td>Grand Slam</td>\n      <td>Outdoor</td>\n      <td>Clay</td>\n      <td>1st Round</td>\n      <td>5</td>\n      <td>Ofner S.</td>\n      <td>138</td>\n      <td>Cressy M.</td>\n      <td>287</td>\n      <td>118</td>\n      <td>42</td>\n      <td>534</td>\n      <td>975</td>\n      <td>1.360</td>\n      <td>3.20</td>\n    </tr>\n    <tr>\n      <th>4</th>\n      <td>NaN</td>\n      <td>Paris</td>\n      <td>French Open</td>\n      <td>28/5/2023</td>\n      <td>Grand Slam</td>\n      <td>Outdoor</td>\n      <td>Clay</td>\n      <td>1st Round</td>\n      <td>5</td>\n      <td>Kypson P.</td>\n      <td>0</td>\n      <td>Albot R.</td>\n      <td>150</td>\n      <td>323</td>\n      <td>111</td>\n      <td>154</td>\n      <td>564</td>\n      <td>3.200</td>\n      <td>1.36</td>\n    </tr>\n  </tbody>\n</table>\n</div>"
     },
     "execution_count": 5,
     "metadata": {},
     "output_type": "execute_result"
    }
   ],
   "source": [
    "datos_hombres.insert(loc=10, column='PlayerA_id', value=datos_hombres['PlayerA'].apply(mapear_M))\n",
    "datos_hombres.insert(loc=12, column='PlayerB_id', value=datos_hombres['PlayerB'].apply(mapear_M))\n",
    "datos_hombres.head()"
   ],
   "metadata": {
    "collapsed": false
   }
  },
  {
   "cell_type": "code",
   "execution_count": 6,
   "outputs": [
    {
     "data": {
      "text/plain": "   ATP Location   Tournament       Date      Series    Court Surface  \\\n0  NaN    Paris  French Open  28/5/2023  Grand Slam  Outdoor    Clay   \n1  NaN    Paris  French Open  28/5/2023  Grand Slam  Outdoor    Clay   \n2  NaN    Paris  French Open  28/5/2023  Grand Slam  Outdoor    Clay   \n3  NaN    Paris  French Open  28/5/2023  Grand Slam  Outdoor    Clay   \n4  NaN    Paris  French Open  28/5/2023  Grand Slam  Outdoor    Clay   \n\n       Round  Best of       PlayerA  PlayerA_id        PlayerB  PlayerB_id  \\\n0  1st Round        5     Goffin D.          30     Hurkacz H.         280   \n1  1st Round        5  Khachanov K.         210   Lestienne C.           0   \n2  1st Round        5   Martinez P.         195  Griekspoor T.          91   \n3  1st Round        5      Ofner S.         138      Cressy M.         287   \n4  1st Round        5     Kypson P.           0       Albot R.         150   \n\n   Arank  Brank  Apts  Bpts  B365A  B365B  \n0    113     13   570  2525  3.000   1.40  \n1     11     69  2945   769  1.025  17.00  \n2    135     39   448  1034  1.720   2.10  \n3    118     42   534   975  1.360   3.20  \n4    323    111   154   564  3.200   1.36  ",
      "text/html": "<div>\n<style scoped>\n    .dataframe tbody tr th:only-of-type {\n        vertical-align: middle;\n    }\n\n    .dataframe tbody tr th {\n        vertical-align: top;\n    }\n\n    .dataframe thead th {\n        text-align: right;\n    }\n</style>\n<table border=\"1\" class=\"dataframe\">\n  <thead>\n    <tr style=\"text-align: right;\">\n      <th></th>\n      <th>ATP</th>\n      <th>Location</th>\n      <th>Tournament</th>\n      <th>Date</th>\n      <th>Series</th>\n      <th>Court</th>\n      <th>Surface</th>\n      <th>Round</th>\n      <th>Best of</th>\n      <th>PlayerA</th>\n      <th>PlayerA_id</th>\n      <th>PlayerB</th>\n      <th>PlayerB_id</th>\n      <th>Arank</th>\n      <th>Brank</th>\n      <th>Apts</th>\n      <th>Bpts</th>\n      <th>B365A</th>\n      <th>B365B</th>\n    </tr>\n  </thead>\n  <tbody>\n    <tr>\n      <th>0</th>\n      <td>NaN</td>\n      <td>Paris</td>\n      <td>French Open</td>\n      <td>28/5/2023</td>\n      <td>Grand Slam</td>\n      <td>Outdoor</td>\n      <td>Clay</td>\n      <td>1st Round</td>\n      <td>5</td>\n      <td>Goffin D.</td>\n      <td>30</td>\n      <td>Hurkacz H.</td>\n      <td>280</td>\n      <td>113</td>\n      <td>13</td>\n      <td>570</td>\n      <td>2525</td>\n      <td>3.000</td>\n      <td>1.40</td>\n    </tr>\n    <tr>\n      <th>1</th>\n      <td>NaN</td>\n      <td>Paris</td>\n      <td>French Open</td>\n      <td>28/5/2023</td>\n      <td>Grand Slam</td>\n      <td>Outdoor</td>\n      <td>Clay</td>\n      <td>1st Round</td>\n      <td>5</td>\n      <td>Khachanov K.</td>\n      <td>210</td>\n      <td>Lestienne C.</td>\n      <td>0</td>\n      <td>11</td>\n      <td>69</td>\n      <td>2945</td>\n      <td>769</td>\n      <td>1.025</td>\n      <td>17.00</td>\n    </tr>\n    <tr>\n      <th>2</th>\n      <td>NaN</td>\n      <td>Paris</td>\n      <td>French Open</td>\n      <td>28/5/2023</td>\n      <td>Grand Slam</td>\n      <td>Outdoor</td>\n      <td>Clay</td>\n      <td>1st Round</td>\n      <td>5</td>\n      <td>Martinez P.</td>\n      <td>195</td>\n      <td>Griekspoor T.</td>\n      <td>91</td>\n      <td>135</td>\n      <td>39</td>\n      <td>448</td>\n      <td>1034</td>\n      <td>1.720</td>\n      <td>2.10</td>\n    </tr>\n    <tr>\n      <th>3</th>\n      <td>NaN</td>\n      <td>Paris</td>\n      <td>French Open</td>\n      <td>28/5/2023</td>\n      <td>Grand Slam</td>\n      <td>Outdoor</td>\n      <td>Clay</td>\n      <td>1st Round</td>\n      <td>5</td>\n      <td>Ofner S.</td>\n      <td>138</td>\n      <td>Cressy M.</td>\n      <td>287</td>\n      <td>118</td>\n      <td>42</td>\n      <td>534</td>\n      <td>975</td>\n      <td>1.360</td>\n      <td>3.20</td>\n    </tr>\n    <tr>\n      <th>4</th>\n      <td>NaN</td>\n      <td>Paris</td>\n      <td>French Open</td>\n      <td>28/5/2023</td>\n      <td>Grand Slam</td>\n      <td>Outdoor</td>\n      <td>Clay</td>\n      <td>1st Round</td>\n      <td>5</td>\n      <td>Kypson P.</td>\n      <td>0</td>\n      <td>Albot R.</td>\n      <td>150</td>\n      <td>323</td>\n      <td>111</td>\n      <td>154</td>\n      <td>564</td>\n      <td>3.200</td>\n      <td>1.36</td>\n    </tr>\n  </tbody>\n</table>\n</div>"
     },
     "execution_count": 6,
     "metadata": {},
     "output_type": "execute_result"
    }
   ],
   "source": [
    "datos_mujeres.insert(loc=10, column='PlayerA_id', value=datos_mujeres['PlayerA'].apply(mapear_W))\n",
    "datos_mujeres.insert(loc=12, column='PlayerB_id', value=datos_mujeres['PlayerB'].apply(mapear_W))\n",
    "datos_mujeres.head()"
   ],
   "metadata": {
    "collapsed": false
   }
  },
  {
   "cell_type": "code",
   "execution_count": 8,
   "outputs": [],
   "source": [
    "datos_hombres.to_csv('final_hombres.csv', index=False)\n",
    "datos_mujeres.to_csv('final_mujeres.csv', index=False)"
   ],
   "metadata": {
    "collapsed": false
   }
  },
  {
   "cell_type": "code",
   "execution_count": null,
   "outputs": [],
   "source": [],
   "metadata": {
    "collapsed": false
   }
  }
 ],
 "metadata": {
  "kernelspec": {
   "display_name": "Python 3",
   "language": "python",
   "name": "python3"
  },
  "language_info": {
   "codemirror_mode": {
    "name": "ipython",
    "version": 2
   },
   "file_extension": ".py",
   "mimetype": "text/x-python",
   "name": "python",
   "nbconvert_exporter": "python",
   "pygments_lexer": "ipython2",
   "version": "2.7.6"
  }
 },
 "nbformat": 4,
 "nbformat_minor": 0
}
