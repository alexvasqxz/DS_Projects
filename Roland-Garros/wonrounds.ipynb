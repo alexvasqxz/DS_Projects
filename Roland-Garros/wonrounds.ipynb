{
 "cells": [
  {
   "cell_type": "code",
   "execution_count": 48,
   "metadata": {},
   "outputs": [],
   "source": [
    "import pandas as pd\n",
    "import numpy as np"
   ]
  },
  {
   "cell_type": "code",
   "execution_count": 49,
   "metadata": {},
   "outputs": [
    {
     "name": "stdout",
     "output_type": "stream",
     "text": [
      "<class 'pandas.core.frame.DataFrame'>\n",
      "RangeIndex: 888 entries, 0 to 887\n",
      "Data columns (total 26 columns):\n",
      " #   Column              Non-Null Count  Dtype  \n",
      "---  ------              --------------  -----  \n",
      " 0   ATP                 888 non-null    int64  \n",
      " 1   Date                888 non-null    object \n",
      " 2   Round               888 non-null    object \n",
      " 3   Winner              888 non-null    object \n",
      " 4   Loser               888 non-null    object \n",
      " 5   WRank               888 non-null    int64  \n",
      " 6   LRank               886 non-null    float64\n",
      " 7   WPts                888 non-null    int64  \n",
      " 8   LPts                886 non-null    float64\n",
      " 9   Wsets               887 non-null    float64\n",
      " 10  Lsets               887 non-null    float64\n",
      " 11  B365W               888 non-null    float64\n",
      " 12  B365L               888 non-null    float64\n",
      " 13  PSW                 888 non-null    float64\n",
      " 14  PSL                 888 non-null    float64\n",
      " 15  MaxW                888 non-null    float64\n",
      " 16  MaxL                888 non-null    float64\n",
      " 17  AvgW                888 non-null    float64\n",
      " 18  AvgL                888 non-null    float64\n",
      " 19  SetsTotales         888 non-null    int64  \n",
      " 20  LabelWinnerRank     886 non-null    float64\n",
      " 21  LabelWinnerPoints   886 non-null    float64\n",
      " 22  LabelWinnerOddsB65  888 non-null    int64  \n",
      " 23  LabelWinnerOddsPS   888 non-null    int64  \n",
      " 24  LabelWinnerOddsMAX  888 non-null    int64  \n",
      " 25  LabelWinnerOddsAvg  888 non-null    int64  \n",
      "dtypes: float64(14), int64(8), object(4)\n",
      "memory usage: 180.5+ KB\n"
     ]
    }
   ],
   "source": [
    "df = pd.read_csv('data/data_simple_labels.csv')\n",
    "df.info()"
   ]
  },
  {
   "cell_type": "markdown",
   "metadata": {},
   "source": [
    "Agregacion de Info de Jugadores"
   ]
  },
  {
   "cell_type": "code",
   "execution_count": 50,
   "metadata": {},
   "outputs": [],
   "source": [
    "df_matches = df[[\"Round\",\"Winner\",\"Loser\"]]"
   ]
  },
  {
   "cell_type": "code",
   "execution_count": 51,
   "metadata": {},
   "outputs": [],
   "source": [
    "winner_series=df_matches[\"Winner\"].unique()"
   ]
  },
  {
   "cell_type": "code",
   "execution_count": 52,
   "metadata": {},
   "outputs": [],
   "source": [
    "loser_series=df_matches[\"Loser\"].unique()"
   ]
  },
  {
   "cell_type": "code",
   "execution_count": 53,
   "metadata": {},
   "outputs": [],
   "source": [
    "array_players=np.concatenate((winner_series, loser_series), axis= None)"
   ]
  },
  {
   "cell_type": "code",
   "execution_count": 54,
   "metadata": {},
   "outputs": [],
   "source": [
    "df_players = pd.DataFrame(array_players, columns = ['Players'])\n",
    "# avoid having the players repeated\n",
    "df_players.drop_duplicates(inplace=True)"
   ]
  },
  {
   "cell_type": "code",
   "execution_count": 55,
   "metadata": {},
   "outputs": [
    {
     "name": "stdout",
     "output_type": "stream",
     "text": [
      "<class 'pandas.core.frame.DataFrame'>\n",
      "Int64Index: 292 entries, 0 to 478\n",
      "Data columns (total 1 columns):\n",
      " #   Column   Non-Null Count  Dtype \n",
      "---  ------   --------------  ----- \n",
      " 0   Players  292 non-null    object\n",
      "dtypes: object(1)\n",
      "memory usage: 4.6+ KB\n"
     ]
    }
   ],
   "source": [
    "df_players.info()"
   ]
  },
  {
   "cell_type": "markdown",
   "metadata": {},
   "source": [
    "Now for the Column with the number of times a player has won in round 1"
   ]
  },
  {
   "cell_type": "code",
   "execution_count": 56,
   "metadata": {},
   "outputs": [],
   "source": [
    "df_round_winners = df_matches[[\"Round\",\"Winner\"]]\n",
    "df_1round_winners= df_round_winners.loc[df_round_winners['Round'] == '1st Round']\n",
    "df_1round_winners=df_1round_winners.groupby(df_1round_winners.columns.tolist()).size().reset_index().\\\n",
    "    rename(columns={0:'1R_W'})\n",
    "df_1round_winners.rename(columns={\"Winner\":\"Players\"}, inplace=True)\n",
    "players_first_round= pd.merge(df_players, df_1round_winners, on='Players', how = 'outer')\n",
    "players_first_round.drop(columns=['Round'], inplace=True)\n"
   ]
  },
  {
   "cell_type": "code",
   "execution_count": 57,
   "metadata": {},
   "outputs": [
    {
     "name": "stdout",
     "output_type": "stream",
     "text": [
      "<class 'pandas.core.frame.DataFrame'>\n",
      "Int64Index: 292 entries, 0 to 291\n",
      "Data columns (total 2 columns):\n",
      " #   Column   Non-Null Count  Dtype  \n",
      "---  ------   --------------  -----  \n",
      " 0   Players  292 non-null    object \n",
      " 1   1R_W     197 non-null    float64\n",
      "dtypes: float64(1), object(1)\n",
      "memory usage: 6.8+ KB\n"
     ]
    }
   ],
   "source": [
    "players_first_round.info(10)"
   ]
  },
  {
   "cell_type": "markdown",
   "metadata": {},
   "source": [
    "Now for the Column with the number of times a player has won in round 2"
   ]
  },
  {
   "cell_type": "code",
   "execution_count": 58,
   "metadata": {},
   "outputs": [],
   "source": [
    "df_2round_winners= df_round_winners.loc[df_round_winners['Round'] == '2nd Round']\n",
    "df_2round_winners=df_2round_winners.groupby(df_2round_winners.columns.tolist()).size().reset_index().\\\n",
    "    rename(columns={0:'2R_W'})\n",
    "df_2round_winners.rename(columns={\"Winner\":\"Players\"}, inplace=True)\n",
    "players_second_round= pd.merge(df_players, df_2round_winners, on='Players', how = 'outer')\n",
    "players_second_round.drop(columns=['Round'], inplace=True)"
   ]
  },
  {
   "cell_type": "code",
   "execution_count": 59,
   "metadata": {},
   "outputs": [
    {
     "name": "stdout",
     "output_type": "stream",
     "text": [
      "<class 'pandas.core.frame.DataFrame'>\n",
      "Int64Index: 292 entries, 0 to 291\n",
      "Data columns (total 2 columns):\n",
      " #   Column   Non-Null Count  Dtype  \n",
      "---  ------   --------------  -----  \n",
      " 0   Players  292 non-null    object \n",
      " 1   2R_W     111 non-null    float64\n",
      "dtypes: float64(1), object(1)\n",
      "memory usage: 6.8+ KB\n"
     ]
    }
   ],
   "source": [
    "players_second_round.info(10)"
   ]
  },
  {
   "cell_type": "markdown",
   "metadata": {},
   "source": [
    "Now for the Column with the number of times a player has won in round 3"
   ]
  },
  {
   "cell_type": "code",
   "execution_count": 60,
   "metadata": {},
   "outputs": [],
   "source": [
    "df_3round_winners= df_round_winners.loc[df_round_winners['Round'] == '3rd Round']\n",
    "df_3round_winners=df_3round_winners.groupby(df_3round_winners.columns.tolist()).size().reset_index().\\\n",
    "    rename(columns={0:'3R_W'})\n",
    "df_3round_winners.rename(columns={\"Winner\":\"Players\"}, inplace=True)\n",
    "players_third_round= pd.merge(df_players, df_3round_winners, on='Players', how = 'outer')\n",
    "players_third_round.drop(columns=['Round'], inplace=True)"
   ]
  },
  {
   "cell_type": "code",
   "execution_count": 61,
   "metadata": {},
   "outputs": [
    {
     "name": "stdout",
     "output_type": "stream",
     "text": [
      "<class 'pandas.core.frame.DataFrame'>\n",
      "Int64Index: 292 entries, 0 to 291\n",
      "Data columns (total 2 columns):\n",
      " #   Column   Non-Null Count  Dtype  \n",
      "---  ------   --------------  -----  \n",
      " 0   Players  292 non-null    object \n",
      " 1   3R_W     56 non-null     float64\n",
      "dtypes: float64(1), object(1)\n",
      "memory usage: 6.8+ KB\n"
     ]
    }
   ],
   "source": [
    "players_third_round.info()"
   ]
  },
  {
   "cell_type": "markdown",
   "metadata": {},
   "source": [
    "Now for the Column with the number of times a player has won in round 4"
   ]
  },
  {
   "cell_type": "code",
   "execution_count": 62,
   "metadata": {},
   "outputs": [],
   "source": [
    "df_4round_winners= df_round_winners.loc[df_round_winners['Round'] == '4th Round']\n",
    "df_4round_winners=df_4round_winners.groupby(df_4round_winners.columns.tolist()).size().reset_index().\\\n",
    "    rename(columns={0:'4R_W'})\n",
    "df_4round_winners.rename(columns={\"Winner\":\"Players\"}, inplace=True)\n",
    "players_fourth_round= pd.merge(df_players, df_4round_winners, on='Players', how = 'outer')\n",
    "players_fourth_round.drop(columns=['Round'], inplace=True)"
   ]
  },
  {
   "cell_type": "code",
   "execution_count": 63,
   "metadata": {},
   "outputs": [
    {
     "name": "stdout",
     "output_type": "stream",
     "text": [
      "<class 'pandas.core.frame.DataFrame'>\n",
      "Int64Index: 292 entries, 0 to 291\n",
      "Data columns (total 2 columns):\n",
      " #   Column   Non-Null Count  Dtype  \n",
      "---  ------   --------------  -----  \n",
      " 0   Players  292 non-null    object \n",
      " 1   4R_W     26 non-null     float64\n",
      "dtypes: float64(1), object(1)\n",
      "memory usage: 6.8+ KB\n"
     ]
    }
   ],
   "source": [
    "players_fourth_round.info()"
   ]
  },
  {
   "cell_type": "markdown",
   "metadata": {},
   "source": [
    "Now for the Column with the number of times a player has won in Quarter Finals"
   ]
  },
  {
   "cell_type": "code",
   "execution_count": 64,
   "metadata": {},
   "outputs": [],
   "source": [
    "df_qfinals_winners= df_round_winners.loc[df_round_winners['Round'] == 'Quarterfinals']\n",
    "df_qfinals_winners=df_qfinals_winners.groupby(df_qfinals_winners.columns.tolist()).size().reset_index().\\\n",
    "    rename(columns={0:'QF_W'})\n",
    "df_qfinals_winners.rename(columns={\"Winner\":\"Players\"}, inplace=True)\n",
    "players_qfinals= pd.merge(df_players, df_qfinals_winners, on='Players', how = 'outer')\n",
    "players_qfinals.drop(columns=['Round'], inplace=True)"
   ]
  },
  {
   "cell_type": "code",
   "execution_count": 65,
   "metadata": {},
   "outputs": [
    {
     "name": "stdout",
     "output_type": "stream",
     "text": [
      "<class 'pandas.core.frame.DataFrame'>\n",
      "Int64Index: 292 entries, 0 to 291\n",
      "Data columns (total 2 columns):\n",
      " #   Column   Non-Null Count  Dtype  \n",
      "---  ------   --------------  -----  \n",
      " 0   Players  292 non-null    object \n",
      " 1   QF_W     13 non-null     float64\n",
      "dtypes: float64(1), object(1)\n",
      "memory usage: 6.8+ KB\n"
     ]
    }
   ],
   "source": [
    "players_qfinals.info()"
   ]
  },
  {
   "cell_type": "markdown",
   "metadata": {},
   "source": [
    "Now for the Column with the number of times a player has won in Semi Finals"
   ]
  },
  {
   "cell_type": "code",
   "execution_count": 66,
   "metadata": {},
   "outputs": [],
   "source": [
    "df_semifinals_winners= df_round_winners.loc[df_round_winners['Round'] == 'Semifinals']\n",
    "df_semifinals_winners=df_semifinals_winners.groupby(df_semifinals_winners.columns.tolist()).size().reset_index().\\\n",
    "    rename(columns={0:'SF_W'})\n",
    "df_semifinals_winners.rename(columns={\"Winner\":\"Players\"}, inplace=True)\n",
    "players_semifinals= pd.merge(df_players, df_semifinals_winners, on='Players', how = 'outer')\n",
    "players_semifinals.drop(columns=['Round'], inplace=True)"
   ]
  },
  {
   "cell_type": "code",
   "execution_count": 67,
   "metadata": {},
   "outputs": [
    {
     "name": "stdout",
     "output_type": "stream",
     "text": [
      "<class 'pandas.core.frame.DataFrame'>\n",
      "Int64Index: 292 entries, 0 to 291\n",
      "Data columns (total 2 columns):\n",
      " #   Column   Non-Null Count  Dtype  \n",
      "---  ------   --------------  -----  \n",
      " 0   Players  292 non-null    object \n",
      " 1   SF_W     7 non-null      float64\n",
      "dtypes: float64(1), object(1)\n",
      "memory usage: 6.8+ KB\n"
     ]
    }
   ],
   "source": [
    "players_semifinals.info()"
   ]
  },
  {
   "cell_type": "markdown",
   "metadata": {},
   "source": [
    "Now for the Column with the number of times a player has won in the Final"
   ]
  },
  {
   "cell_type": "code",
   "execution_count": 68,
   "metadata": {},
   "outputs": [],
   "source": [
    "df_final_winners= df_round_winners.loc[df_round_winners['Round'] == 'The Final']\n",
    "df_final_winners=df_final_winners.groupby(df_final_winners.columns.tolist()).size().reset_index().\\\n",
    "    rename(columns={0:'F_W'})\n",
    "df_final_winners.rename(columns={\"Winner\":\"Players\"}, inplace=True)\n",
    "players_finals= pd.merge(df_players, df_final_winners, on='Players', how = 'outer')\n",
    "players_finals.drop(columns=['Round'], inplace=True)"
   ]
  },
  {
   "cell_type": "code",
   "execution_count": 69,
   "metadata": {},
   "outputs": [
    {
     "name": "stdout",
     "output_type": "stream",
     "text": [
      "<class 'pandas.core.frame.DataFrame'>\n",
      "Int64Index: 292 entries, 0 to 291\n",
      "Data columns (total 2 columns):\n",
      " #   Column   Non-Null Count  Dtype  \n",
      "---  ------   --------------  -----  \n",
      " 0   Players  292 non-null    object \n",
      " 1   F_W      2 non-null      float64\n",
      "dtypes: float64(1), object(1)\n",
      "memory usage: 6.8+ KB\n"
     ]
    }
   ],
   "source": [
    "players_finals.info()"
   ]
  },
  {
   "cell_type": "markdown",
   "metadata": {},
   "source": [
    "Now to merge all our columns and create a single dataframe for our players"
   ]
  },
  {
   "cell_type": "code",
   "execution_count": 70,
   "metadata": {},
   "outputs": [],
   "source": [
    "df_players_allrounds = players_first_round.merge(players_second_round,on='Players', how = 'outer').\\\n",
    "        merge(players_third_round,on='Players', how = 'outer').\\\n",
    "        merge(players_fourth_round,on='Players', how = 'outer').\\\n",
    "        merge(players_qfinals,on='Players', how = 'outer').\\\n",
    "        merge(players_semifinals,on='Players', how = 'outer').merge(players_finals,on='Players', how = 'outer')"
   ]
  },
  {
   "cell_type": "code",
   "execution_count": 71,
   "metadata": {},
   "outputs": [
    {
     "name": "stdout",
     "output_type": "stream",
     "text": [
      "<class 'pandas.core.frame.DataFrame'>\n",
      "Int64Index: 292 entries, 0 to 291\n",
      "Data columns (total 8 columns):\n",
      " #   Column   Non-Null Count  Dtype  \n",
      "---  ------   --------------  -----  \n",
      " 0   Players  292 non-null    object \n",
      " 1   1R_W     197 non-null    float64\n",
      " 2   2R_W     111 non-null    float64\n",
      " 3   3R_W     56 non-null     float64\n",
      " 4   4R_W     26 non-null     float64\n",
      " 5   QF_W     13 non-null     float64\n",
      " 6   SF_W     7 non-null      float64\n",
      " 7   F_W      2 non-null      float64\n",
      "dtypes: float64(7), object(1)\n",
      "memory usage: 20.5+ KB\n"
     ]
    }
   ],
   "source": [
    "df_players_allrounds.info()"
   ]
  },
  {
   "cell_type": "code",
   "execution_count": 72,
   "metadata": {},
   "outputs": [
    {
     "data": {
      "text/html": [
       "<div>\n",
       "<style scoped>\n",
       "    .dataframe tbody tr th:only-of-type {\n",
       "        vertical-align: middle;\n",
       "    }\n",
       "\n",
       "    .dataframe tbody tr th {\n",
       "        vertical-align: top;\n",
       "    }\n",
       "\n",
       "    .dataframe thead th {\n",
       "        text-align: right;\n",
       "    }\n",
       "</style>\n",
       "<table border=\"1\" class=\"dataframe\">\n",
       "  <thead>\n",
       "    <tr style=\"text-align: right;\">\n",
       "      <th></th>\n",
       "      <th>Players</th>\n",
       "      <th>1R_W</th>\n",
       "      <th>2R_W</th>\n",
       "      <th>3R_W</th>\n",
       "      <th>4R_W</th>\n",
       "      <th>QF_W</th>\n",
       "      <th>SF_W</th>\n",
       "      <th>F_W</th>\n",
       "    </tr>\n",
       "  </thead>\n",
       "  <tbody>\n",
       "    <tr>\n",
       "      <th>0</th>\n",
       "      <td>Kyrgios N.</td>\n",
       "      <td>2.0</td>\n",
       "      <td>1.0</td>\n",
       "      <td>0.0</td>\n",
       "      <td>0.0</td>\n",
       "      <td>0.0</td>\n",
       "      <td>0.0</td>\n",
       "      <td>0.0</td>\n",
       "    </tr>\n",
       "    <tr>\n",
       "      <th>1</th>\n",
       "      <td>Paire B.</td>\n",
       "      <td>4.0</td>\n",
       "      <td>1.0</td>\n",
       "      <td>1.0</td>\n",
       "      <td>0.0</td>\n",
       "      <td>0.0</td>\n",
       "      <td>0.0</td>\n",
       "      <td>0.0</td>\n",
       "    </tr>\n",
       "    <tr>\n",
       "      <th>2</th>\n",
       "      <td>Sijsling I.</td>\n",
       "      <td>1.0</td>\n",
       "      <td>0.0</td>\n",
       "      <td>0.0</td>\n",
       "      <td>0.0</td>\n",
       "      <td>0.0</td>\n",
       "      <td>0.0</td>\n",
       "      <td>0.0</td>\n",
       "    </tr>\n",
       "    <tr>\n",
       "      <th>3</th>\n",
       "      <td>Gabashvili T.</td>\n",
       "      <td>1.0</td>\n",
       "      <td>1.0</td>\n",
       "      <td>0.0</td>\n",
       "      <td>0.0</td>\n",
       "      <td>0.0</td>\n",
       "      <td>0.0</td>\n",
       "      <td>0.0</td>\n",
       "    </tr>\n",
       "    <tr>\n",
       "      <th>4</th>\n",
       "      <td>Kuznetsov An.</td>\n",
       "      <td>1.0</td>\n",
       "      <td>0.0</td>\n",
       "      <td>0.0</td>\n",
       "      <td>0.0</td>\n",
       "      <td>0.0</td>\n",
       "      <td>0.0</td>\n",
       "      <td>0.0</td>\n",
       "    </tr>\n",
       "  </tbody>\n",
       "</table>\n",
       "</div>"
      ],
      "text/plain": [
       "         Players  1R_W  2R_W  3R_W  4R_W  QF_W  SF_W  F_W\n",
       "0     Kyrgios N.   2.0   1.0   0.0   0.0   0.0   0.0  0.0\n",
       "1       Paire B.   4.0   1.0   1.0   0.0   0.0   0.0  0.0\n",
       "2    Sijsling I.   1.0   0.0   0.0   0.0   0.0   0.0  0.0\n",
       "3  Gabashvili T.   1.0   1.0   0.0   0.0   0.0   0.0  0.0\n",
       "4  Kuznetsov An.   1.0   0.0   0.0   0.0   0.0   0.0  0.0"
      ]
     },
     "execution_count": 72,
     "metadata": {},
     "output_type": "execute_result"
    }
   ],
   "source": [
    "df_players_allrounds.fillna(0, inplace=True)\n",
    "df_players_allrounds.head()\n"
   ]
  },
  {
   "cell_type": "code",
   "execution_count": 73,
   "metadata": {},
   "outputs": [
    {
     "name": "stdout",
     "output_type": "stream",
     "text": [
      "<class 'pandas.core.frame.DataFrame'>\n",
      "Int64Index: 292 entries, 0 to 291\n",
      "Data columns (total 8 columns):\n",
      " #   Column   Non-Null Count  Dtype  \n",
      "---  ------   --------------  -----  \n",
      " 0   Players  292 non-null    object \n",
      " 1   1R_W     292 non-null    float64\n",
      " 2   2R_W     292 non-null    float64\n",
      " 3   3R_W     292 non-null    float64\n",
      " 4   4R_W     292 non-null    float64\n",
      " 5   QF_W     292 non-null    float64\n",
      " 6   SF_W     292 non-null    float64\n",
      " 7   F_W      292 non-null    float64\n",
      "dtypes: float64(7), object(1)\n",
      "memory usage: 20.5+ KB\n"
     ]
    }
   ],
   "source": [
    "df_players_allrounds.info()"
   ]
  },
  {
   "cell_type": "code",
   "execution_count": 74,
   "metadata": {},
   "outputs": [
    {
     "data": {
      "text/html": [
       "<div>\n",
       "<style scoped>\n",
       "    .dataframe tbody tr th:only-of-type {\n",
       "        vertical-align: middle;\n",
       "    }\n",
       "\n",
       "    .dataframe tbody tr th {\n",
       "        vertical-align: top;\n",
       "    }\n",
       "\n",
       "    .dataframe thead th {\n",
       "        text-align: right;\n",
       "    }\n",
       "</style>\n",
       "<table border=\"1\" class=\"dataframe\">\n",
       "  <thead>\n",
       "    <tr style=\"text-align: right;\">\n",
       "      <th></th>\n",
       "      <th>Players</th>\n",
       "      <th>1R_W</th>\n",
       "      <th>2R_W</th>\n",
       "      <th>3R_W</th>\n",
       "      <th>4R_W</th>\n",
       "      <th>QF_W</th>\n",
       "      <th>SF_W</th>\n",
       "      <th>F_W</th>\n",
       "    </tr>\n",
       "  </thead>\n",
       "  <tbody>\n",
       "    <tr>\n",
       "      <th>48</th>\n",
       "      <td>Djokovic N.</td>\n",
       "      <td>7.0</td>\n",
       "      <td>7.0</td>\n",
       "      <td>7.0</td>\n",
       "      <td>7.0</td>\n",
       "      <td>4.0</td>\n",
       "      <td>3.0</td>\n",
       "      <td>2.0</td>\n",
       "    </tr>\n",
       "  </tbody>\n",
       "</table>\n",
       "</div>"
      ],
      "text/plain": [
       "        Players  1R_W  2R_W  3R_W  4R_W  QF_W  SF_W  F_W\n",
       "48  Djokovic N.   7.0   7.0   7.0   7.0   4.0   3.0  2.0"
      ]
     },
     "execution_count": 74,
     "metadata": {},
     "output_type": "execute_result"
    }
   ],
   "source": [
    "df_players_allrounds.loc[df_players_allrounds['Players'] == 'Djokovic N.']"
   ]
  },
  {
   "cell_type": "code",
   "execution_count": 76,
   "metadata": {},
   "outputs": [],
   "source": [
    "df_players_allrounds.to_csv(\"table_player_wins.csv\")"
   ]
  },
  {
   "cell_type": "code",
   "execution_count": null,
   "metadata": {},
   "outputs": [],
   "source": []
  }
 ],
 "metadata": {
  "kernelspec": {
   "display_name": "Python 3 (ipykernel)",
   "language": "python",
   "name": "python3"
  },
  "language_info": {
   "codemirror_mode": {
    "name": "ipython",
    "version": 3
   },
   "file_extension": ".py",
   "mimetype": "text/x-python",
   "name": "python",
   "nbconvert_exporter": "python",
   "pygments_lexer": "ipython3",
   "version": "3.9.7"
  }
 },
 "nbformat": 4,
 "nbformat_minor": 1
}
