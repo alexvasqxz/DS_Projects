{
 "cells": [
  {
   "cell_type": "code",
   "execution_count": 1,
   "metadata": {},
   "outputs": [],
   "source": [
    "import pandas as pd\n",
    "import numpy as np"
   ]
  },
  {
   "cell_type": "code",
   "execution_count": 3,
   "metadata": {},
   "outputs": [
    {
     "name": "stdout",
     "output_type": "stream",
     "text": [
      "<class 'pandas.core.frame.DataFrame'>\n",
      "RangeIndex: 888 entries, 0 to 887\n",
      "Data columns (total 31 columns):\n",
      " #   Column                       Non-Null Count  Dtype  \n",
      "---  ------                       --------------  -----  \n",
      " 0   Unnamed: 0                   888 non-null    int64  \n",
      " 1   ATP                          888 non-null    int64  \n",
      " 2   Date                         888 non-null    object \n",
      " 3   Round                        888 non-null    object \n",
      " 4   Winner                       888 non-null    object \n",
      " 5   Loser                        888 non-null    object \n",
      " 6   WRank                        888 non-null    int64  \n",
      " 7   LRank                        886 non-null    float64\n",
      " 8   WPts                         888 non-null    int64  \n",
      " 9   LPts                         886 non-null    float64\n",
      " 10  Wsets                        887 non-null    float64\n",
      " 11  Lsets                        887 non-null    float64\n",
      " 12  B365W                        888 non-null    float64\n",
      " 13  B365L                        888 non-null    float64\n",
      " 14  PSW                          888 non-null    float64\n",
      " 15  PSL                          888 non-null    float64\n",
      " 16  MaxW                         888 non-null    float64\n",
      " 17  MaxL                         888 non-null    float64\n",
      " 18  AvgW                         888 non-null    float64\n",
      " 19  AvgL                         888 non-null    float64\n",
      " 20  SetsTotales                  888 non-null    int64  \n",
      " 21  LabelWinnerRank              886 non-null    float64\n",
      " 22  LabelWinnerPoints            886 non-null    float64\n",
      " 23  LabelWinnerOddsB65           888 non-null    int64  \n",
      " 24  LabelWinnerOddsPS            888 non-null    int64  \n",
      " 25  LabelWinnerOddsMAX           888 non-null    int64  \n",
      " 26  LabelWinnerOddsAvg           888 non-null    int64  \n",
      " 27  WinnerRoundsWon              888 non-null    int64  \n",
      " 28  LoserRoundsWon               888 non-null    int64  \n",
      " 29  LabelWinnerRounds            888 non-null    int64  \n",
      " 30  LabelWinnerRoundsAndOddsAvg  888 non-null    int64  \n",
      "dtypes: float64(14), int64(13), object(4)\n",
      "memory usage: 215.2+ KB\n"
     ]
    }
   ],
   "source": [
    "data = pd.read_csv('data/male/data_with_label_rounds_and_odds.csv')\n",
    "data.info()"
   ]
  },
  {
   "cell_type": "code",
   "execution_count": 5,
   "metadata": {},
   "outputs": [
    {
     "name": "stdout",
     "output_type": "stream",
     "text": [
      "<class 'pandas.core.frame.DataFrame'>\n",
      "RangeIndex: 292 entries, 0 to 291\n",
      "Data columns (total 8 columns):\n",
      " #   Column   Non-Null Count  Dtype  \n",
      "---  ------   --------------  -----  \n",
      " 0   Players  292 non-null    object \n",
      " 1   1R_L     292 non-null    float64\n",
      " 2   2R_L     292 non-null    float64\n",
      " 3   3R_L     292 non-null    float64\n",
      " 4   4R_L     292 non-null    float64\n",
      " 5   QF_L     292 non-null    float64\n",
      " 6   SF_L     292 non-null    float64\n",
      " 7   F_L      292 non-null    float64\n",
      "dtypes: float64(7), object(1)\n",
      "memory usage: 18.4+ KB\n"
     ]
    }
   ],
   "source": [
    "df_playerloses = pd.read_csv('data/male/table_player_loses.csv')\n",
    "df_playerloses.drop(columns=df_playerloses.columns[0], axis=1, inplace=True)\n",
    "df_playerloses.info()"
   ]
  },
  {
   "cell_type": "code",
   "execution_count": 6,
   "metadata": {},
   "outputs": [
    {
     "data": {
      "text/plain": "         Players  1R_L  2R_L  3R_L  4R_L  QF_L  SF_L  F_L\n0     Kyrgios N.   0.0   1.0   1.0   0.0   0.0   0.0  0.0\n1       Paire B.   3.0   3.0   0.0   1.0   0.0   0.0  0.0\n2    Sijsling I.   0.0   1.0   0.0   0.0   0.0   0.0  0.0\n3  Gabashvili T.   1.0   0.0   1.0   0.0   0.0   0.0  0.0\n4  Kuznetsov An.   2.0   1.0   0.0   0.0   0.0   0.0  0.0",
      "text/html": "<div>\n<style scoped>\n    .dataframe tbody tr th:only-of-type {\n        vertical-align: middle;\n    }\n\n    .dataframe tbody tr th {\n        vertical-align: top;\n    }\n\n    .dataframe thead th {\n        text-align: right;\n    }\n</style>\n<table border=\"1\" class=\"dataframe\">\n  <thead>\n    <tr style=\"text-align: right;\">\n      <th></th>\n      <th>Players</th>\n      <th>1R_L</th>\n      <th>2R_L</th>\n      <th>3R_L</th>\n      <th>4R_L</th>\n      <th>QF_L</th>\n      <th>SF_L</th>\n      <th>F_L</th>\n    </tr>\n  </thead>\n  <tbody>\n    <tr>\n      <th>0</th>\n      <td>Kyrgios N.</td>\n      <td>0.0</td>\n      <td>1.0</td>\n      <td>1.0</td>\n      <td>0.0</td>\n      <td>0.0</td>\n      <td>0.0</td>\n      <td>0.0</td>\n    </tr>\n    <tr>\n      <th>1</th>\n      <td>Paire B.</td>\n      <td>3.0</td>\n      <td>3.0</td>\n      <td>0.0</td>\n      <td>1.0</td>\n      <td>0.0</td>\n      <td>0.0</td>\n      <td>0.0</td>\n    </tr>\n    <tr>\n      <th>2</th>\n      <td>Sijsling I.</td>\n      <td>0.0</td>\n      <td>1.0</td>\n      <td>0.0</td>\n      <td>0.0</td>\n      <td>0.0</td>\n      <td>0.0</td>\n      <td>0.0</td>\n    </tr>\n    <tr>\n      <th>3</th>\n      <td>Gabashvili T.</td>\n      <td>1.0</td>\n      <td>0.0</td>\n      <td>1.0</td>\n      <td>0.0</td>\n      <td>0.0</td>\n      <td>0.0</td>\n      <td>0.0</td>\n    </tr>\n    <tr>\n      <th>4</th>\n      <td>Kuznetsov An.</td>\n      <td>2.0</td>\n      <td>1.0</td>\n      <td>0.0</td>\n      <td>0.0</td>\n      <td>0.0</td>\n      <td>0.0</td>\n      <td>0.0</td>\n    </tr>\n  </tbody>\n</table>\n</div>"
     },
     "execution_count": 6,
     "metadata": {},
     "output_type": "execute_result"
    }
   ],
   "source": [
    "df_playerloses.head()"
   ]
  },
  {
   "cell_type": "markdown",
   "metadata": {},
   "source": [
    "Rename the columns to match with the names of the data in the rows"
   ]
  },
  {
   "cell_type": "code",
   "execution_count": 7,
   "metadata": {},
   "outputs": [
    {
     "data": {
      "text/plain": "         Players  1st Round  2nd Round  3rd Round  4th Round  Quarterfinals  \\\n0     Kyrgios N.        0.0        1.0        1.0        0.0            0.0   \n1       Paire B.        3.0        3.0        0.0        1.0            0.0   \n2    Sijsling I.        0.0        1.0        0.0        0.0            0.0   \n3  Gabashvili T.        1.0        0.0        1.0        0.0            0.0   \n4  Kuznetsov An.        2.0        1.0        0.0        0.0            0.0   \n\n   Semifinals  The Final  \n0         0.0        0.0  \n1         0.0        0.0  \n2         0.0        0.0  \n3         0.0        0.0  \n4         0.0        0.0  ",
      "text/html": "<div>\n<style scoped>\n    .dataframe tbody tr th:only-of-type {\n        vertical-align: middle;\n    }\n\n    .dataframe tbody tr th {\n        vertical-align: top;\n    }\n\n    .dataframe thead th {\n        text-align: right;\n    }\n</style>\n<table border=\"1\" class=\"dataframe\">\n  <thead>\n    <tr style=\"text-align: right;\">\n      <th></th>\n      <th>Players</th>\n      <th>1st Round</th>\n      <th>2nd Round</th>\n      <th>3rd Round</th>\n      <th>4th Round</th>\n      <th>Quarterfinals</th>\n      <th>Semifinals</th>\n      <th>The Final</th>\n    </tr>\n  </thead>\n  <tbody>\n    <tr>\n      <th>0</th>\n      <td>Kyrgios N.</td>\n      <td>0.0</td>\n      <td>1.0</td>\n      <td>1.0</td>\n      <td>0.0</td>\n      <td>0.0</td>\n      <td>0.0</td>\n      <td>0.0</td>\n    </tr>\n    <tr>\n      <th>1</th>\n      <td>Paire B.</td>\n      <td>3.0</td>\n      <td>3.0</td>\n      <td>0.0</td>\n      <td>1.0</td>\n      <td>0.0</td>\n      <td>0.0</td>\n      <td>0.0</td>\n    </tr>\n    <tr>\n      <th>2</th>\n      <td>Sijsling I.</td>\n      <td>0.0</td>\n      <td>1.0</td>\n      <td>0.0</td>\n      <td>0.0</td>\n      <td>0.0</td>\n      <td>0.0</td>\n      <td>0.0</td>\n    </tr>\n    <tr>\n      <th>3</th>\n      <td>Gabashvili T.</td>\n      <td>1.0</td>\n      <td>0.0</td>\n      <td>1.0</td>\n      <td>0.0</td>\n      <td>0.0</td>\n      <td>0.0</td>\n      <td>0.0</td>\n    </tr>\n    <tr>\n      <th>4</th>\n      <td>Kuznetsov An.</td>\n      <td>2.0</td>\n      <td>1.0</td>\n      <td>0.0</td>\n      <td>0.0</td>\n      <td>0.0</td>\n      <td>0.0</td>\n      <td>0.0</td>\n    </tr>\n  </tbody>\n</table>\n</div>"
     },
     "execution_count": 7,
     "metadata": {},
     "output_type": "execute_result"
    }
   ],
   "source": [
    "df_playerloses.rename(columns={\"1R_L\":\"1st Round\",\"2R_L\":\"2nd Round\",\"3R_L\":\"3rd Round\",\n",
    "                              \"4R_L\":\"4th Round\",\"QF_L\":\"Quarterfinals\",\"SF_L\":\"Semifinals\",\n",
    "                              \"F_L\":\"The Final\"}, inplace=True)\n",
    "df_playerloses.head()"
   ]
  },
  {
   "cell_type": "markdown",
   "metadata": {},
   "source": [
    "Lets see how we can have the data transform and aggregated like this\n",
    "if the row of the data is first round, then add data point of df_playerloses in column 1st Round for the winner"
   ]
  },
  {
   "cell_type": "code",
   "execution_count": 8,
   "metadata": {},
   "outputs": [
    {
     "name": "stderr",
     "output_type": "stream",
     "text": [
      "/var/folders/30/qpjmvdzs0ng9dh1bzzwc7brh0000gn/T/ipykernel_15053/4203579553.py:5: SettingWithCopyWarning: \n",
      "A value is trying to be set on a copy of a slice from a DataFrame\n",
      "\n",
      "See the caveats in the documentation: https://pandas.pydata.org/pandas-docs/stable/user_guide/indexing.html#returning-a-view-versus-a-copy\n",
      "  data[\"WinnerRoundsLost\"][ind] = query_row['1st Round']\n",
      "/var/folders/30/qpjmvdzs0ng9dh1bzzwc7brh0000gn/T/ipykernel_15053/4203579553.py:9: SettingWithCopyWarning: \n",
      "A value is trying to be set on a copy of a slice from a DataFrame\n",
      "\n",
      "See the caveats in the documentation: https://pandas.pydata.org/pandas-docs/stable/user_guide/indexing.html#returning-a-view-versus-a-copy\n",
      "  data[\"WinnerRoundsLost\"][ind] = query_row['2nd Round']\n",
      "/var/folders/30/qpjmvdzs0ng9dh1bzzwc7brh0000gn/T/ipykernel_15053/4203579553.py:13: SettingWithCopyWarning: \n",
      "A value is trying to be set on a copy of a slice from a DataFrame\n",
      "\n",
      "See the caveats in the documentation: https://pandas.pydata.org/pandas-docs/stable/user_guide/indexing.html#returning-a-view-versus-a-copy\n",
      "  data[\"WinnerRoundsLost\"][ind] = query_row['3rd Round']\n",
      "/var/folders/30/qpjmvdzs0ng9dh1bzzwc7brh0000gn/T/ipykernel_15053/4203579553.py:17: SettingWithCopyWarning: \n",
      "A value is trying to be set on a copy of a slice from a DataFrame\n",
      "\n",
      "See the caveats in the documentation: https://pandas.pydata.org/pandas-docs/stable/user_guide/indexing.html#returning-a-view-versus-a-copy\n",
      "  data[\"WinnerRoundsLost\"][ind] = query_row['4th Round']\n",
      "/var/folders/30/qpjmvdzs0ng9dh1bzzwc7brh0000gn/T/ipykernel_15053/4203579553.py:21: SettingWithCopyWarning: \n",
      "A value is trying to be set on a copy of a slice from a DataFrame\n",
      "\n",
      "See the caveats in the documentation: https://pandas.pydata.org/pandas-docs/stable/user_guide/indexing.html#returning-a-view-versus-a-copy\n",
      "  data[\"WinnerRoundsLost\"][ind] = query_row['Quarterfinals']\n",
      "/var/folders/30/qpjmvdzs0ng9dh1bzzwc7brh0000gn/T/ipykernel_15053/4203579553.py:25: SettingWithCopyWarning: \n",
      "A value is trying to be set on a copy of a slice from a DataFrame\n",
      "\n",
      "See the caveats in the documentation: https://pandas.pydata.org/pandas-docs/stable/user_guide/indexing.html#returning-a-view-versus-a-copy\n",
      "  data[\"WinnerRoundsLost\"][ind] = query_row['Semifinals']\n",
      "/var/folders/30/qpjmvdzs0ng9dh1bzzwc7brh0000gn/T/ipykernel_15053/4203579553.py:29: SettingWithCopyWarning: \n",
      "A value is trying to be set on a copy of a slice from a DataFrame\n",
      "\n",
      "See the caveats in the documentation: https://pandas.pydata.org/pandas-docs/stable/user_guide/indexing.html#returning-a-view-versus-a-copy\n",
      "  data[\"WinnerRoundsLost\"][ind] = query_row['The Final']\n"
     ]
    }
   ],
   "source": [
    "data['WinnerRoundsLost'] = 0\n",
    "for ind in data.index:\n",
    "    if data['Round'][ind]== '1st Round':\n",
    "        query_row=df_playerloses.loc[df_playerloses['Players'] == data['Winner'][ind]]\n",
    "        data[\"WinnerRoundsLost\"][ind] = query_row['1st Round']\n",
    "        \n",
    "    if data['Round'][ind]== '2nd Round':\n",
    "        query_row=df_playerloses.loc[df_playerloses['Players'] == data['Winner'][ind]]\n",
    "        data[\"WinnerRoundsLost\"][ind] = query_row['2nd Round']\n",
    "        \n",
    "    if data['Round'][ind]== '3rd Round':\n",
    "        query_row=df_playerloses.loc[df_playerloses['Players'] == data['Winner'][ind]]\n",
    "        data[\"WinnerRoundsLost\"][ind] = query_row['3rd Round']\n",
    "        \n",
    "    if data['Round'][ind]== '4th Round':\n",
    "        query_row=df_playerloses.loc[df_playerloses['Players'] == data['Winner'][ind]]\n",
    "        data[\"WinnerRoundsLost\"][ind] = query_row['4th Round']\n",
    "        \n",
    "    if data['Round'][ind]== 'Quarterfinals':\n",
    "        query_row=df_playerloses.loc[df_playerloses['Players'] == data['Winner'][ind]]\n",
    "        data[\"WinnerRoundsLost\"][ind] = query_row['Quarterfinals']\n",
    "        \n",
    "    if data['Round'][ind]== 'Semifinals':\n",
    "        query_row=df_playerloses.loc[df_playerloses['Players'] == data['Winner'][ind]]\n",
    "        data[\"WinnerRoundsLost\"][ind] = query_row['Semifinals']\n",
    "        \n",
    "    if data['Round'][ind]== 'The Final':\n",
    "        query_row=df_playerloses.loc[df_playerloses['Players'] == data['Winner'][ind]]\n",
    "        data[\"WinnerRoundsLost\"][ind] = query_row['The Final']"
   ]
  },
  {
   "cell_type": "code",
   "execution_count": 9,
   "metadata": {},
   "outputs": [
    {
     "data": {
      "text/plain": "   Unnamed: 0  ATP        Date      Round         Winner          Loser  \\\n0           0   33  22/05/2016  1st Round     Kyrgios N.  Cecchinato M.   \n1           1   33  22/05/2016  1st Round       Paire B.       Albot R.   \n2           2   33  22/05/2016  1st Round    Sijsling I.       Ungur A.   \n3           3   33  22/05/2016  1st Round  Gabashvili T.       Young D.   \n4           4   33  22/05/2016  1st Round  Kuznetsov An.      Becker B.   \n\n   WRank  LRank  WPts   LPts  ...  LabelWinnerPoints  LabelWinnerOddsB65  \\\n0     19  124.0  1855  478.0  ...                1.0                   1   \n1     21  137.0  1641  423.0  ...                1.0                   1   \n2    123  203.0   484  264.0  ...                1.0                   0   \n3     79   76.0   706  712.0  ...                0.0                   1   \n4     40   96.0  1063  600.0  ...                1.0                   1   \n\n   LabelWinnerOddsPS  LabelWinnerOddsMAX  LabelWinnerOddsAvg  WinnerRoundsWon  \\\n0                  1                   1                   1                2   \n1                  1                   1                   1                4   \n2                  0                   0                   0                1   \n3                  1                   1                   1                1   \n4                  1                   1                   1                1   \n\n   LoserRoundsWon  LabelWinnerRounds  LabelWinnerRoundsAndOddsAvg  \\\n0               4                  0                            0   \n1               3                  1                            1   \n2               0                  1                            1   \n3               0                  1                            1   \n4               0                  1                            1   \n\n   WinnerRoundsLost  \n0                 0  \n1                 3  \n2                 0  \n3                 1  \n4                 2  \n\n[5 rows x 32 columns]",
      "text/html": "<div>\n<style scoped>\n    .dataframe tbody tr th:only-of-type {\n        vertical-align: middle;\n    }\n\n    .dataframe tbody tr th {\n        vertical-align: top;\n    }\n\n    .dataframe thead th {\n        text-align: right;\n    }\n</style>\n<table border=\"1\" class=\"dataframe\">\n  <thead>\n    <tr style=\"text-align: right;\">\n      <th></th>\n      <th>Unnamed: 0</th>\n      <th>ATP</th>\n      <th>Date</th>\n      <th>Round</th>\n      <th>Winner</th>\n      <th>Loser</th>\n      <th>WRank</th>\n      <th>LRank</th>\n      <th>WPts</th>\n      <th>LPts</th>\n      <th>...</th>\n      <th>LabelWinnerPoints</th>\n      <th>LabelWinnerOddsB65</th>\n      <th>LabelWinnerOddsPS</th>\n      <th>LabelWinnerOddsMAX</th>\n      <th>LabelWinnerOddsAvg</th>\n      <th>WinnerRoundsWon</th>\n      <th>LoserRoundsWon</th>\n      <th>LabelWinnerRounds</th>\n      <th>LabelWinnerRoundsAndOddsAvg</th>\n      <th>WinnerRoundsLost</th>\n    </tr>\n  </thead>\n  <tbody>\n    <tr>\n      <th>0</th>\n      <td>0</td>\n      <td>33</td>\n      <td>22/05/2016</td>\n      <td>1st Round</td>\n      <td>Kyrgios N.</td>\n      <td>Cecchinato M.</td>\n      <td>19</td>\n      <td>124.0</td>\n      <td>1855</td>\n      <td>478.0</td>\n      <td>...</td>\n      <td>1.0</td>\n      <td>1</td>\n      <td>1</td>\n      <td>1</td>\n      <td>1</td>\n      <td>2</td>\n      <td>4</td>\n      <td>0</td>\n      <td>0</td>\n      <td>0</td>\n    </tr>\n    <tr>\n      <th>1</th>\n      <td>1</td>\n      <td>33</td>\n      <td>22/05/2016</td>\n      <td>1st Round</td>\n      <td>Paire B.</td>\n      <td>Albot R.</td>\n      <td>21</td>\n      <td>137.0</td>\n      <td>1641</td>\n      <td>423.0</td>\n      <td>...</td>\n      <td>1.0</td>\n      <td>1</td>\n      <td>1</td>\n      <td>1</td>\n      <td>1</td>\n      <td>4</td>\n      <td>3</td>\n      <td>1</td>\n      <td>1</td>\n      <td>3</td>\n    </tr>\n    <tr>\n      <th>2</th>\n      <td>2</td>\n      <td>33</td>\n      <td>22/05/2016</td>\n      <td>1st Round</td>\n      <td>Sijsling I.</td>\n      <td>Ungur A.</td>\n      <td>123</td>\n      <td>203.0</td>\n      <td>484</td>\n      <td>264.0</td>\n      <td>...</td>\n      <td>1.0</td>\n      <td>0</td>\n      <td>0</td>\n      <td>0</td>\n      <td>0</td>\n      <td>1</td>\n      <td>0</td>\n      <td>1</td>\n      <td>1</td>\n      <td>0</td>\n    </tr>\n    <tr>\n      <th>3</th>\n      <td>3</td>\n      <td>33</td>\n      <td>22/05/2016</td>\n      <td>1st Round</td>\n      <td>Gabashvili T.</td>\n      <td>Young D.</td>\n      <td>79</td>\n      <td>76.0</td>\n      <td>706</td>\n      <td>712.0</td>\n      <td>...</td>\n      <td>0.0</td>\n      <td>1</td>\n      <td>1</td>\n      <td>1</td>\n      <td>1</td>\n      <td>1</td>\n      <td>0</td>\n      <td>1</td>\n      <td>1</td>\n      <td>1</td>\n    </tr>\n    <tr>\n      <th>4</th>\n      <td>4</td>\n      <td>33</td>\n      <td>22/05/2016</td>\n      <td>1st Round</td>\n      <td>Kuznetsov An.</td>\n      <td>Becker B.</td>\n      <td>40</td>\n      <td>96.0</td>\n      <td>1063</td>\n      <td>600.0</td>\n      <td>...</td>\n      <td>1.0</td>\n      <td>1</td>\n      <td>1</td>\n      <td>1</td>\n      <td>1</td>\n      <td>1</td>\n      <td>0</td>\n      <td>1</td>\n      <td>1</td>\n      <td>2</td>\n    </tr>\n  </tbody>\n</table>\n<p>5 rows × 32 columns</p>\n</div>"
     },
     "execution_count": 9,
     "metadata": {},
     "output_type": "execute_result"
    }
   ],
   "source": [
    "data.head()"
   ]
  },
  {
   "cell_type": "code",
   "execution_count": 10,
   "metadata": {},
   "outputs": [
    {
     "name": "stdout",
     "output_type": "stream",
     "text": [
      "<class 'pandas.core.frame.DataFrame'>\n",
      "RangeIndex: 888 entries, 0 to 887\n",
      "Data columns (total 32 columns):\n",
      " #   Column                       Non-Null Count  Dtype  \n",
      "---  ------                       --------------  -----  \n",
      " 0   Unnamed: 0                   888 non-null    int64  \n",
      " 1   ATP                          888 non-null    int64  \n",
      " 2   Date                         888 non-null    object \n",
      " 3   Round                        888 non-null    object \n",
      " 4   Winner                       888 non-null    object \n",
      " 5   Loser                        888 non-null    object \n",
      " 6   WRank                        888 non-null    int64  \n",
      " 7   LRank                        886 non-null    float64\n",
      " 8   WPts                         888 non-null    int64  \n",
      " 9   LPts                         886 non-null    float64\n",
      " 10  Wsets                        887 non-null    float64\n",
      " 11  Lsets                        887 non-null    float64\n",
      " 12  B365W                        888 non-null    float64\n",
      " 13  B365L                        888 non-null    float64\n",
      " 14  PSW                          888 non-null    float64\n",
      " 15  PSL                          888 non-null    float64\n",
      " 16  MaxW                         888 non-null    float64\n",
      " 17  MaxL                         888 non-null    float64\n",
      " 18  AvgW                         888 non-null    float64\n",
      " 19  AvgL                         888 non-null    float64\n",
      " 20  SetsTotales                  888 non-null    int64  \n",
      " 21  LabelWinnerRank              886 non-null    float64\n",
      " 22  LabelWinnerPoints            886 non-null    float64\n",
      " 23  LabelWinnerOddsB65           888 non-null    int64  \n",
      " 24  LabelWinnerOddsPS            888 non-null    int64  \n",
      " 25  LabelWinnerOddsMAX           888 non-null    int64  \n",
      " 26  LabelWinnerOddsAvg           888 non-null    int64  \n",
      " 27  WinnerRoundsWon              888 non-null    int64  \n",
      " 28  LoserRoundsWon               888 non-null    int64  \n",
      " 29  LabelWinnerRounds            888 non-null    int64  \n",
      " 30  LabelWinnerRoundsAndOddsAvg  888 non-null    int64  \n",
      " 31  WinnerRoundsLost             888 non-null    int64  \n",
      "dtypes: float64(14), int64(14), object(4)\n",
      "memory usage: 222.1+ KB\n"
     ]
    }
   ],
   "source": [
    "data.info()"
   ]
  },
  {
   "cell_type": "markdown",
   "metadata": {},
   "source": [
    "Now we add the Loser info about the number of rounds won for that specific round his playing"
   ]
  },
  {
   "cell_type": "code",
   "execution_count": 11,
   "metadata": {},
   "outputs": [
    {
     "name": "stderr",
     "output_type": "stream",
     "text": [
      "/var/folders/30/qpjmvdzs0ng9dh1bzzwc7brh0000gn/T/ipykernel_15053/1899390611.py:5: SettingWithCopyWarning: \n",
      "A value is trying to be set on a copy of a slice from a DataFrame\n",
      "\n",
      "See the caveats in the documentation: https://pandas.pydata.org/pandas-docs/stable/user_guide/indexing.html#returning-a-view-versus-a-copy\n",
      "  data[\"LoserRoundsLost\"][ind] = query_row['1st Round']\n",
      "/var/folders/30/qpjmvdzs0ng9dh1bzzwc7brh0000gn/T/ipykernel_15053/1899390611.py:9: SettingWithCopyWarning: \n",
      "A value is trying to be set on a copy of a slice from a DataFrame\n",
      "\n",
      "See the caveats in the documentation: https://pandas.pydata.org/pandas-docs/stable/user_guide/indexing.html#returning-a-view-versus-a-copy\n",
      "  data[\"LoserRoundsLost\"][ind] = query_row['2nd Round']\n",
      "/var/folders/30/qpjmvdzs0ng9dh1bzzwc7brh0000gn/T/ipykernel_15053/1899390611.py:13: SettingWithCopyWarning: \n",
      "A value is trying to be set on a copy of a slice from a DataFrame\n",
      "\n",
      "See the caveats in the documentation: https://pandas.pydata.org/pandas-docs/stable/user_guide/indexing.html#returning-a-view-versus-a-copy\n",
      "  data[\"LoserRoundsLost\"][ind] = query_row['3rd Round']\n",
      "/var/folders/30/qpjmvdzs0ng9dh1bzzwc7brh0000gn/T/ipykernel_15053/1899390611.py:17: SettingWithCopyWarning: \n",
      "A value is trying to be set on a copy of a slice from a DataFrame\n",
      "\n",
      "See the caveats in the documentation: https://pandas.pydata.org/pandas-docs/stable/user_guide/indexing.html#returning-a-view-versus-a-copy\n",
      "  data[\"LoserRoundsLost\"][ind] = query_row['4th Round']\n",
      "/var/folders/30/qpjmvdzs0ng9dh1bzzwc7brh0000gn/T/ipykernel_15053/1899390611.py:21: SettingWithCopyWarning: \n",
      "A value is trying to be set on a copy of a slice from a DataFrame\n",
      "\n",
      "See the caveats in the documentation: https://pandas.pydata.org/pandas-docs/stable/user_guide/indexing.html#returning-a-view-versus-a-copy\n",
      "  data[\"LoserRoundsLost\"][ind] = query_row['Quarterfinals']\n",
      "/var/folders/30/qpjmvdzs0ng9dh1bzzwc7brh0000gn/T/ipykernel_15053/1899390611.py:25: SettingWithCopyWarning: \n",
      "A value is trying to be set on a copy of a slice from a DataFrame\n",
      "\n",
      "See the caveats in the documentation: https://pandas.pydata.org/pandas-docs/stable/user_guide/indexing.html#returning-a-view-versus-a-copy\n",
      "  data[\"LoserRoundsLost\"][ind] = query_row['Semifinals']\n",
      "/var/folders/30/qpjmvdzs0ng9dh1bzzwc7brh0000gn/T/ipykernel_15053/1899390611.py:29: SettingWithCopyWarning: \n",
      "A value is trying to be set on a copy of a slice from a DataFrame\n",
      "\n",
      "See the caveats in the documentation: https://pandas.pydata.org/pandas-docs/stable/user_guide/indexing.html#returning-a-view-versus-a-copy\n",
      "  data[\"LoserRoundsLost\"][ind] = query_row['The Final']\n"
     ]
    }
   ],
   "source": [
    "data['LoserRoundsLost'] = 0\n",
    "for ind in data.index:\n",
    "    if data['Round'][ind]== '1st Round':\n",
    "        query_row=df_playerloses.loc[df_playerloses['Players'] == data['Loser'][ind]]\n",
    "        data[\"LoserRoundsLost\"][ind] = query_row['1st Round']\n",
    "        \n",
    "    if data['Round'][ind]== '2nd Round':\n",
    "        query_row=df_playerloses.loc[df_playerloses['Players'] == data['Loser'][ind]]\n",
    "        data[\"LoserRoundsLost\"][ind] = query_row['2nd Round']\n",
    "        \n",
    "    if data['Round'][ind]== '3rd Round':\n",
    "        query_row=df_playerloses.loc[df_playerloses['Players'] == data['Loser'][ind]]\n",
    "        data[\"LoserRoundsLost\"][ind] = query_row['3rd Round']\n",
    "        \n",
    "    if data['Round'][ind]== '4th Round':\n",
    "        query_row=df_playerloses.loc[df_playerloses['Players'] == data['Loser'][ind]]\n",
    "        data[\"LoserRoundsLost\"][ind] = query_row['4th Round']\n",
    "        \n",
    "    if data['Round'][ind]== 'Quarterfinals':\n",
    "        query_row=df_playerloses.loc[df_playerloses['Players'] == data['Loser'][ind]]\n",
    "        data[\"LoserRoundsLost\"][ind] = query_row['Quarterfinals']\n",
    "        \n",
    "    if data['Round'][ind]== 'Semifinals':\n",
    "        query_row=df_playerloses.loc[df_playerloses['Players'] == data['Loser'][ind]]\n",
    "        data[\"LoserRoundsLost\"][ind] = query_row['Semifinals']\n",
    "        \n",
    "    if data['Round'][ind]== 'The Final':\n",
    "        query_row=df_playerloses.loc[df_playerloses['Players'] == data['Loser'][ind]]\n",
    "        data[\"LoserRoundsLost\"][ind] = query_row['The Final']"
   ]
  },
  {
   "cell_type": "code",
   "execution_count": 12,
   "metadata": {},
   "outputs": [
    {
     "name": "stdout",
     "output_type": "stream",
     "text": [
      "<class 'pandas.core.frame.DataFrame'>\n",
      "RangeIndex: 888 entries, 0 to 887\n",
      "Data columns (total 33 columns):\n",
      " #   Column                       Non-Null Count  Dtype  \n",
      "---  ------                       --------------  -----  \n",
      " 0   Unnamed: 0                   888 non-null    int64  \n",
      " 1   ATP                          888 non-null    int64  \n",
      " 2   Date                         888 non-null    object \n",
      " 3   Round                        888 non-null    object \n",
      " 4   Winner                       888 non-null    object \n",
      " 5   Loser                        888 non-null    object \n",
      " 6   WRank                        888 non-null    int64  \n",
      " 7   LRank                        886 non-null    float64\n",
      " 8   WPts                         888 non-null    int64  \n",
      " 9   LPts                         886 non-null    float64\n",
      " 10  Wsets                        887 non-null    float64\n",
      " 11  Lsets                        887 non-null    float64\n",
      " 12  B365W                        888 non-null    float64\n",
      " 13  B365L                        888 non-null    float64\n",
      " 14  PSW                          888 non-null    float64\n",
      " 15  PSL                          888 non-null    float64\n",
      " 16  MaxW                         888 non-null    float64\n",
      " 17  MaxL                         888 non-null    float64\n",
      " 18  AvgW                         888 non-null    float64\n",
      " 19  AvgL                         888 non-null    float64\n",
      " 20  SetsTotales                  888 non-null    int64  \n",
      " 21  LabelWinnerRank              886 non-null    float64\n",
      " 22  LabelWinnerPoints            886 non-null    float64\n",
      " 23  LabelWinnerOddsB65           888 non-null    int64  \n",
      " 24  LabelWinnerOddsPS            888 non-null    int64  \n",
      " 25  LabelWinnerOddsMAX           888 non-null    int64  \n",
      " 26  LabelWinnerOddsAvg           888 non-null    int64  \n",
      " 27  WinnerRoundsWon              888 non-null    int64  \n",
      " 28  LoserRoundsWon               888 non-null    int64  \n",
      " 29  LabelWinnerRounds            888 non-null    int64  \n",
      " 30  LabelWinnerRoundsAndOddsAvg  888 non-null    int64  \n",
      " 31  WinnerRoundsLost             888 non-null    int64  \n",
      " 32  LoserRoundsLost              888 non-null    int64  \n",
      "dtypes: float64(14), int64(15), object(4)\n",
      "memory usage: 229.1+ KB\n"
     ]
    }
   ],
   "source": [
    "data.info()"
   ]
  },
  {
   "cell_type": "code",
   "execution_count": 13,
   "metadata": {},
   "outputs": [
    {
     "data": {
      "text/plain": "   Unnamed: 0  ATP        Date      Round         Winner          Loser  \\\n0           0   33  22/05/2016  1st Round     Kyrgios N.  Cecchinato M.   \n1           1   33  22/05/2016  1st Round       Paire B.       Albot R.   \n2           2   33  22/05/2016  1st Round    Sijsling I.       Ungur A.   \n3           3   33  22/05/2016  1st Round  Gabashvili T.       Young D.   \n4           4   33  22/05/2016  1st Round  Kuznetsov An.      Becker B.   \n\n   WRank  LRank  WPts   LPts  ...  LabelWinnerOddsB65  LabelWinnerOddsPS  \\\n0     19  124.0  1855  478.0  ...                   1                  1   \n1     21  137.0  1641  423.0  ...                   1                  1   \n2    123  203.0   484  264.0  ...                   0                  0   \n3     79   76.0   706  712.0  ...                   1                  1   \n4     40   96.0  1063  600.0  ...                   1                  1   \n\n   LabelWinnerOddsMAX  LabelWinnerOddsAvg  WinnerRoundsWon  LoserRoundsWon  \\\n0                   1                   1                2               4   \n1                   1                   1                4               3   \n2                   0                   0                1               0   \n3                   1                   1                1               0   \n4                   1                   1                1               0   \n\n   LabelWinnerRounds  LabelWinnerRoundsAndOddsAvg  WinnerRoundsLost  \\\n0                  0                            0                 0   \n1                  1                            1                 3   \n2                  1                            1                 0   \n3                  1                            1                 1   \n4                  1                            1                 2   \n\n   LoserRoundsLost  \n0                2  \n1                3  \n2                1  \n3                2  \n4                1  \n\n[5 rows x 33 columns]",
      "text/html": "<div>\n<style scoped>\n    .dataframe tbody tr th:only-of-type {\n        vertical-align: middle;\n    }\n\n    .dataframe tbody tr th {\n        vertical-align: top;\n    }\n\n    .dataframe thead th {\n        text-align: right;\n    }\n</style>\n<table border=\"1\" class=\"dataframe\">\n  <thead>\n    <tr style=\"text-align: right;\">\n      <th></th>\n      <th>Unnamed: 0</th>\n      <th>ATP</th>\n      <th>Date</th>\n      <th>Round</th>\n      <th>Winner</th>\n      <th>Loser</th>\n      <th>WRank</th>\n      <th>LRank</th>\n      <th>WPts</th>\n      <th>LPts</th>\n      <th>...</th>\n      <th>LabelWinnerOddsB65</th>\n      <th>LabelWinnerOddsPS</th>\n      <th>LabelWinnerOddsMAX</th>\n      <th>LabelWinnerOddsAvg</th>\n      <th>WinnerRoundsWon</th>\n      <th>LoserRoundsWon</th>\n      <th>LabelWinnerRounds</th>\n      <th>LabelWinnerRoundsAndOddsAvg</th>\n      <th>WinnerRoundsLost</th>\n      <th>LoserRoundsLost</th>\n    </tr>\n  </thead>\n  <tbody>\n    <tr>\n      <th>0</th>\n      <td>0</td>\n      <td>33</td>\n      <td>22/05/2016</td>\n      <td>1st Round</td>\n      <td>Kyrgios N.</td>\n      <td>Cecchinato M.</td>\n      <td>19</td>\n      <td>124.0</td>\n      <td>1855</td>\n      <td>478.0</td>\n      <td>...</td>\n      <td>1</td>\n      <td>1</td>\n      <td>1</td>\n      <td>1</td>\n      <td>2</td>\n      <td>4</td>\n      <td>0</td>\n      <td>0</td>\n      <td>0</td>\n      <td>2</td>\n    </tr>\n    <tr>\n      <th>1</th>\n      <td>1</td>\n      <td>33</td>\n      <td>22/05/2016</td>\n      <td>1st Round</td>\n      <td>Paire B.</td>\n      <td>Albot R.</td>\n      <td>21</td>\n      <td>137.0</td>\n      <td>1641</td>\n      <td>423.0</td>\n      <td>...</td>\n      <td>1</td>\n      <td>1</td>\n      <td>1</td>\n      <td>1</td>\n      <td>4</td>\n      <td>3</td>\n      <td>1</td>\n      <td>1</td>\n      <td>3</td>\n      <td>3</td>\n    </tr>\n    <tr>\n      <th>2</th>\n      <td>2</td>\n      <td>33</td>\n      <td>22/05/2016</td>\n      <td>1st Round</td>\n      <td>Sijsling I.</td>\n      <td>Ungur A.</td>\n      <td>123</td>\n      <td>203.0</td>\n      <td>484</td>\n      <td>264.0</td>\n      <td>...</td>\n      <td>0</td>\n      <td>0</td>\n      <td>0</td>\n      <td>0</td>\n      <td>1</td>\n      <td>0</td>\n      <td>1</td>\n      <td>1</td>\n      <td>0</td>\n      <td>1</td>\n    </tr>\n    <tr>\n      <th>3</th>\n      <td>3</td>\n      <td>33</td>\n      <td>22/05/2016</td>\n      <td>1st Round</td>\n      <td>Gabashvili T.</td>\n      <td>Young D.</td>\n      <td>79</td>\n      <td>76.0</td>\n      <td>706</td>\n      <td>712.0</td>\n      <td>...</td>\n      <td>1</td>\n      <td>1</td>\n      <td>1</td>\n      <td>1</td>\n      <td>1</td>\n      <td>0</td>\n      <td>1</td>\n      <td>1</td>\n      <td>1</td>\n      <td>2</td>\n    </tr>\n    <tr>\n      <th>4</th>\n      <td>4</td>\n      <td>33</td>\n      <td>22/05/2016</td>\n      <td>1st Round</td>\n      <td>Kuznetsov An.</td>\n      <td>Becker B.</td>\n      <td>40</td>\n      <td>96.0</td>\n      <td>1063</td>\n      <td>600.0</td>\n      <td>...</td>\n      <td>1</td>\n      <td>1</td>\n      <td>1</td>\n      <td>1</td>\n      <td>1</td>\n      <td>0</td>\n      <td>1</td>\n      <td>1</td>\n      <td>2</td>\n      <td>1</td>\n    </tr>\n  </tbody>\n</table>\n<p>5 rows × 33 columns</p>\n</div>"
     },
     "execution_count": 13,
     "metadata": {},
     "output_type": "execute_result"
    }
   ],
   "source": [
    "data.head()"
   ]
  },
  {
   "cell_type": "code",
   "execution_count": 14,
   "metadata": {},
   "outputs": [],
   "source": [
    "#data.to_csv(\"data_count_roundslost_for_each_player.csv\")"
   ]
  },
  {
   "cell_type": "markdown",
   "metadata": {},
   "source": [
    "To make the regression label, we need a continuous numeric label, we are going to create a column adding the sum of rounds won and lost for each player, and then divide the ones where he won over all the games total to get a fraction number."
   ]
  },
  {
   "cell_type": "markdown",
   "metadata": {},
   "source": [
    "Create the sum of games played by Winner"
   ]
  },
  {
   "cell_type": "code",
   "execution_count": 15,
   "metadata": {},
   "outputs": [
    {
     "data": {
      "text/plain": "   Unnamed: 0  ATP        Date      Round         Winner          Loser  \\\n0           0   33  22/05/2016  1st Round     Kyrgios N.  Cecchinato M.   \n1           1   33  22/05/2016  1st Round       Paire B.       Albot R.   \n2           2   33  22/05/2016  1st Round    Sijsling I.       Ungur A.   \n3           3   33  22/05/2016  1st Round  Gabashvili T.       Young D.   \n4           4   33  22/05/2016  1st Round  Kuznetsov An.      Becker B.   \n\n   WRank  LRank  WPts   LPts  ...  LabelWinnerOddsPS  LabelWinnerOddsMAX  \\\n0     19  124.0  1855  478.0  ...                  1                   1   \n1     21  137.0  1641  423.0  ...                  1                   1   \n2    123  203.0   484  264.0  ...                  0                   0   \n3     79   76.0   706  712.0  ...                  1                   1   \n4     40   96.0  1063  600.0  ...                  1                   1   \n\n   LabelWinnerOddsAvg  WinnerRoundsWon  LoserRoundsWon  LabelWinnerRounds  \\\n0                   1                2               4                  0   \n1                   1                4               3                  1   \n2                   0                1               0                  1   \n3                   1                1               0                  1   \n4                   1                1               0                  1   \n\n   LabelWinnerRoundsAndOddsAvg  WinnerRoundsLost  LoserRoundsLost  \\\n0                            0                 0                2   \n1                            1                 3                3   \n2                            1                 0                1   \n3                            1                 1                2   \n4                            1                 2                1   \n\n   WinnerRoundsPlayed  \n0                   2  \n1                   7  \n2                   1  \n3                   2  \n4                   3  \n\n[5 rows x 34 columns]",
      "text/html": "<div>\n<style scoped>\n    .dataframe tbody tr th:only-of-type {\n        vertical-align: middle;\n    }\n\n    .dataframe tbody tr th {\n        vertical-align: top;\n    }\n\n    .dataframe thead th {\n        text-align: right;\n    }\n</style>\n<table border=\"1\" class=\"dataframe\">\n  <thead>\n    <tr style=\"text-align: right;\">\n      <th></th>\n      <th>Unnamed: 0</th>\n      <th>ATP</th>\n      <th>Date</th>\n      <th>Round</th>\n      <th>Winner</th>\n      <th>Loser</th>\n      <th>WRank</th>\n      <th>LRank</th>\n      <th>WPts</th>\n      <th>LPts</th>\n      <th>...</th>\n      <th>LabelWinnerOddsPS</th>\n      <th>LabelWinnerOddsMAX</th>\n      <th>LabelWinnerOddsAvg</th>\n      <th>WinnerRoundsWon</th>\n      <th>LoserRoundsWon</th>\n      <th>LabelWinnerRounds</th>\n      <th>LabelWinnerRoundsAndOddsAvg</th>\n      <th>WinnerRoundsLost</th>\n      <th>LoserRoundsLost</th>\n      <th>WinnerRoundsPlayed</th>\n    </tr>\n  </thead>\n  <tbody>\n    <tr>\n      <th>0</th>\n      <td>0</td>\n      <td>33</td>\n      <td>22/05/2016</td>\n      <td>1st Round</td>\n      <td>Kyrgios N.</td>\n      <td>Cecchinato M.</td>\n      <td>19</td>\n      <td>124.0</td>\n      <td>1855</td>\n      <td>478.0</td>\n      <td>...</td>\n      <td>1</td>\n      <td>1</td>\n      <td>1</td>\n      <td>2</td>\n      <td>4</td>\n      <td>0</td>\n      <td>0</td>\n      <td>0</td>\n      <td>2</td>\n      <td>2</td>\n    </tr>\n    <tr>\n      <th>1</th>\n      <td>1</td>\n      <td>33</td>\n      <td>22/05/2016</td>\n      <td>1st Round</td>\n      <td>Paire B.</td>\n      <td>Albot R.</td>\n      <td>21</td>\n      <td>137.0</td>\n      <td>1641</td>\n      <td>423.0</td>\n      <td>...</td>\n      <td>1</td>\n      <td>1</td>\n      <td>1</td>\n      <td>4</td>\n      <td>3</td>\n      <td>1</td>\n      <td>1</td>\n      <td>3</td>\n      <td>3</td>\n      <td>7</td>\n    </tr>\n    <tr>\n      <th>2</th>\n      <td>2</td>\n      <td>33</td>\n      <td>22/05/2016</td>\n      <td>1st Round</td>\n      <td>Sijsling I.</td>\n      <td>Ungur A.</td>\n      <td>123</td>\n      <td>203.0</td>\n      <td>484</td>\n      <td>264.0</td>\n      <td>...</td>\n      <td>0</td>\n      <td>0</td>\n      <td>0</td>\n      <td>1</td>\n      <td>0</td>\n      <td>1</td>\n      <td>1</td>\n      <td>0</td>\n      <td>1</td>\n      <td>1</td>\n    </tr>\n    <tr>\n      <th>3</th>\n      <td>3</td>\n      <td>33</td>\n      <td>22/05/2016</td>\n      <td>1st Round</td>\n      <td>Gabashvili T.</td>\n      <td>Young D.</td>\n      <td>79</td>\n      <td>76.0</td>\n      <td>706</td>\n      <td>712.0</td>\n      <td>...</td>\n      <td>1</td>\n      <td>1</td>\n      <td>1</td>\n      <td>1</td>\n      <td>0</td>\n      <td>1</td>\n      <td>1</td>\n      <td>1</td>\n      <td>2</td>\n      <td>2</td>\n    </tr>\n    <tr>\n      <th>4</th>\n      <td>4</td>\n      <td>33</td>\n      <td>22/05/2016</td>\n      <td>1st Round</td>\n      <td>Kuznetsov An.</td>\n      <td>Becker B.</td>\n      <td>40</td>\n      <td>96.0</td>\n      <td>1063</td>\n      <td>600.0</td>\n      <td>...</td>\n      <td>1</td>\n      <td>1</td>\n      <td>1</td>\n      <td>1</td>\n      <td>0</td>\n      <td>1</td>\n      <td>1</td>\n      <td>2</td>\n      <td>1</td>\n      <td>3</td>\n    </tr>\n  </tbody>\n</table>\n<p>5 rows × 34 columns</p>\n</div>"
     },
     "execution_count": 15,
     "metadata": {},
     "output_type": "execute_result"
    }
   ],
   "source": [
    "data['WinnerRoundsPlayed'] = data['WinnerRoundsWon'] + data['WinnerRoundsLost']\n",
    "data.head()"
   ]
  },
  {
   "cell_type": "raw",
   "metadata": {},
   "source": [
    "Create the sum of games played by Loser"
   ]
  },
  {
   "cell_type": "code",
   "execution_count": 16,
   "metadata": {},
   "outputs": [
    {
     "data": {
      "text/plain": "   Unnamed: 0  ATP        Date      Round         Winner          Loser  \\\n0           0   33  22/05/2016  1st Round     Kyrgios N.  Cecchinato M.   \n1           1   33  22/05/2016  1st Round       Paire B.       Albot R.   \n2           2   33  22/05/2016  1st Round    Sijsling I.       Ungur A.   \n3           3   33  22/05/2016  1st Round  Gabashvili T.       Young D.   \n4           4   33  22/05/2016  1st Round  Kuznetsov An.      Becker B.   \n\n   WRank  LRank  WPts   LPts  ...  LabelWinnerOddsMAX  LabelWinnerOddsAvg  \\\n0     19  124.0  1855  478.0  ...                   1                   1   \n1     21  137.0  1641  423.0  ...                   1                   1   \n2    123  203.0   484  264.0  ...                   0                   0   \n3     79   76.0   706  712.0  ...                   1                   1   \n4     40   96.0  1063  600.0  ...                   1                   1   \n\n   WinnerRoundsWon  LoserRoundsWon  LabelWinnerRounds  \\\n0                2               4                  0   \n1                4               3                  1   \n2                1               0                  1   \n3                1               0                  1   \n4                1               0                  1   \n\n   LabelWinnerRoundsAndOddsAvg  WinnerRoundsLost  LoserRoundsLost  \\\n0                            0                 0                2   \n1                            1                 3                3   \n2                            1                 0                1   \n3                            1                 1                2   \n4                            1                 2                1   \n\n   WinnerRoundsPlayed  LoserRoundsPlayed  \n0                   2                  6  \n1                   7                  6  \n2                   1                  1  \n3                   2                  2  \n4                   3                  1  \n\n[5 rows x 35 columns]",
      "text/html": "<div>\n<style scoped>\n    .dataframe tbody tr th:only-of-type {\n        vertical-align: middle;\n    }\n\n    .dataframe tbody tr th {\n        vertical-align: top;\n    }\n\n    .dataframe thead th {\n        text-align: right;\n    }\n</style>\n<table border=\"1\" class=\"dataframe\">\n  <thead>\n    <tr style=\"text-align: right;\">\n      <th></th>\n      <th>Unnamed: 0</th>\n      <th>ATP</th>\n      <th>Date</th>\n      <th>Round</th>\n      <th>Winner</th>\n      <th>Loser</th>\n      <th>WRank</th>\n      <th>LRank</th>\n      <th>WPts</th>\n      <th>LPts</th>\n      <th>...</th>\n      <th>LabelWinnerOddsMAX</th>\n      <th>LabelWinnerOddsAvg</th>\n      <th>WinnerRoundsWon</th>\n      <th>LoserRoundsWon</th>\n      <th>LabelWinnerRounds</th>\n      <th>LabelWinnerRoundsAndOddsAvg</th>\n      <th>WinnerRoundsLost</th>\n      <th>LoserRoundsLost</th>\n      <th>WinnerRoundsPlayed</th>\n      <th>LoserRoundsPlayed</th>\n    </tr>\n  </thead>\n  <tbody>\n    <tr>\n      <th>0</th>\n      <td>0</td>\n      <td>33</td>\n      <td>22/05/2016</td>\n      <td>1st Round</td>\n      <td>Kyrgios N.</td>\n      <td>Cecchinato M.</td>\n      <td>19</td>\n      <td>124.0</td>\n      <td>1855</td>\n      <td>478.0</td>\n      <td>...</td>\n      <td>1</td>\n      <td>1</td>\n      <td>2</td>\n      <td>4</td>\n      <td>0</td>\n      <td>0</td>\n      <td>0</td>\n      <td>2</td>\n      <td>2</td>\n      <td>6</td>\n    </tr>\n    <tr>\n      <th>1</th>\n      <td>1</td>\n      <td>33</td>\n      <td>22/05/2016</td>\n      <td>1st Round</td>\n      <td>Paire B.</td>\n      <td>Albot R.</td>\n      <td>21</td>\n      <td>137.0</td>\n      <td>1641</td>\n      <td>423.0</td>\n      <td>...</td>\n      <td>1</td>\n      <td>1</td>\n      <td>4</td>\n      <td>3</td>\n      <td>1</td>\n      <td>1</td>\n      <td>3</td>\n      <td>3</td>\n      <td>7</td>\n      <td>6</td>\n    </tr>\n    <tr>\n      <th>2</th>\n      <td>2</td>\n      <td>33</td>\n      <td>22/05/2016</td>\n      <td>1st Round</td>\n      <td>Sijsling I.</td>\n      <td>Ungur A.</td>\n      <td>123</td>\n      <td>203.0</td>\n      <td>484</td>\n      <td>264.0</td>\n      <td>...</td>\n      <td>0</td>\n      <td>0</td>\n      <td>1</td>\n      <td>0</td>\n      <td>1</td>\n      <td>1</td>\n      <td>0</td>\n      <td>1</td>\n      <td>1</td>\n      <td>1</td>\n    </tr>\n    <tr>\n      <th>3</th>\n      <td>3</td>\n      <td>33</td>\n      <td>22/05/2016</td>\n      <td>1st Round</td>\n      <td>Gabashvili T.</td>\n      <td>Young D.</td>\n      <td>79</td>\n      <td>76.0</td>\n      <td>706</td>\n      <td>712.0</td>\n      <td>...</td>\n      <td>1</td>\n      <td>1</td>\n      <td>1</td>\n      <td>0</td>\n      <td>1</td>\n      <td>1</td>\n      <td>1</td>\n      <td>2</td>\n      <td>2</td>\n      <td>2</td>\n    </tr>\n    <tr>\n      <th>4</th>\n      <td>4</td>\n      <td>33</td>\n      <td>22/05/2016</td>\n      <td>1st Round</td>\n      <td>Kuznetsov An.</td>\n      <td>Becker B.</td>\n      <td>40</td>\n      <td>96.0</td>\n      <td>1063</td>\n      <td>600.0</td>\n      <td>...</td>\n      <td>1</td>\n      <td>1</td>\n      <td>1</td>\n      <td>0</td>\n      <td>1</td>\n      <td>1</td>\n      <td>2</td>\n      <td>1</td>\n      <td>3</td>\n      <td>1</td>\n    </tr>\n  </tbody>\n</table>\n<p>5 rows × 35 columns</p>\n</div>"
     },
     "execution_count": 16,
     "metadata": {},
     "output_type": "execute_result"
    }
   ],
   "source": [
    "data['LoserRoundsPlayed'] = data['LoserRoundsWon'] + data['LoserRoundsLost']\n",
    "data.head()"
   ]
  },
  {
   "cell_type": "markdown",
   "metadata": {},
   "source": [
    "Now lets create the numeric label for winners and losers"
   ]
  },
  {
   "cell_type": "code",
   "execution_count": 17,
   "metadata": {},
   "outputs": [],
   "source": [
    "data['LabelWinnerRoundsWonOverAll'] = data['WinnerRoundsWon'] / data['WinnerRoundsPlayed']"
   ]
  },
  {
   "cell_type": "code",
   "execution_count": 18,
   "metadata": {},
   "outputs": [],
   "source": [
    "data['LabelLoserRoundsWonOverAll'] = data['LoserRoundsWon'] / data['LoserRoundsPlayed']"
   ]
  },
  {
   "cell_type": "code",
   "execution_count": 19,
   "metadata": {},
   "outputs": [
    {
     "data": {
      "text/plain": "   Unnamed: 0  ATP        Date      Round         Winner          Loser  \\\n0           0   33  22/05/2016  1st Round     Kyrgios N.  Cecchinato M.   \n1           1   33  22/05/2016  1st Round       Paire B.       Albot R.   \n2           2   33  22/05/2016  1st Round    Sijsling I.       Ungur A.   \n3           3   33  22/05/2016  1st Round  Gabashvili T.       Young D.   \n4           4   33  22/05/2016  1st Round  Kuznetsov An.      Becker B.   \n\n   WRank  LRank  WPts   LPts  ...  WinnerRoundsWon  LoserRoundsWon  \\\n0     19  124.0  1855  478.0  ...                2               4   \n1     21  137.0  1641  423.0  ...                4               3   \n2    123  203.0   484  264.0  ...                1               0   \n3     79   76.0   706  712.0  ...                1               0   \n4     40   96.0  1063  600.0  ...                1               0   \n\n   LabelWinnerRounds  LabelWinnerRoundsAndOddsAvg  WinnerRoundsLost  \\\n0                  0                            0                 0   \n1                  1                            1                 3   \n2                  1                            1                 0   \n3                  1                            1                 1   \n4                  1                            1                 2   \n\n   LoserRoundsLost  WinnerRoundsPlayed  LoserRoundsPlayed  \\\n0                2                   2                  6   \n1                3                   7                  6   \n2                1                   1                  1   \n3                2                   2                  2   \n4                1                   3                  1   \n\n   LabelWinnerRoundsWonOverAll  LabelLoserRoundsWonOverAll  \n0                     1.000000                    0.666667  \n1                     0.571429                    0.500000  \n2                     1.000000                    0.000000  \n3                     0.500000                    0.000000  \n4                     0.333333                    0.000000  \n\n[5 rows x 37 columns]",
      "text/html": "<div>\n<style scoped>\n    .dataframe tbody tr th:only-of-type {\n        vertical-align: middle;\n    }\n\n    .dataframe tbody tr th {\n        vertical-align: top;\n    }\n\n    .dataframe thead th {\n        text-align: right;\n    }\n</style>\n<table border=\"1\" class=\"dataframe\">\n  <thead>\n    <tr style=\"text-align: right;\">\n      <th></th>\n      <th>Unnamed: 0</th>\n      <th>ATP</th>\n      <th>Date</th>\n      <th>Round</th>\n      <th>Winner</th>\n      <th>Loser</th>\n      <th>WRank</th>\n      <th>LRank</th>\n      <th>WPts</th>\n      <th>LPts</th>\n      <th>...</th>\n      <th>WinnerRoundsWon</th>\n      <th>LoserRoundsWon</th>\n      <th>LabelWinnerRounds</th>\n      <th>LabelWinnerRoundsAndOddsAvg</th>\n      <th>WinnerRoundsLost</th>\n      <th>LoserRoundsLost</th>\n      <th>WinnerRoundsPlayed</th>\n      <th>LoserRoundsPlayed</th>\n      <th>LabelWinnerRoundsWonOverAll</th>\n      <th>LabelLoserRoundsWonOverAll</th>\n    </tr>\n  </thead>\n  <tbody>\n    <tr>\n      <th>0</th>\n      <td>0</td>\n      <td>33</td>\n      <td>22/05/2016</td>\n      <td>1st Round</td>\n      <td>Kyrgios N.</td>\n      <td>Cecchinato M.</td>\n      <td>19</td>\n      <td>124.0</td>\n      <td>1855</td>\n      <td>478.0</td>\n      <td>...</td>\n      <td>2</td>\n      <td>4</td>\n      <td>0</td>\n      <td>0</td>\n      <td>0</td>\n      <td>2</td>\n      <td>2</td>\n      <td>6</td>\n      <td>1.000000</td>\n      <td>0.666667</td>\n    </tr>\n    <tr>\n      <th>1</th>\n      <td>1</td>\n      <td>33</td>\n      <td>22/05/2016</td>\n      <td>1st Round</td>\n      <td>Paire B.</td>\n      <td>Albot R.</td>\n      <td>21</td>\n      <td>137.0</td>\n      <td>1641</td>\n      <td>423.0</td>\n      <td>...</td>\n      <td>4</td>\n      <td>3</td>\n      <td>1</td>\n      <td>1</td>\n      <td>3</td>\n      <td>3</td>\n      <td>7</td>\n      <td>6</td>\n      <td>0.571429</td>\n      <td>0.500000</td>\n    </tr>\n    <tr>\n      <th>2</th>\n      <td>2</td>\n      <td>33</td>\n      <td>22/05/2016</td>\n      <td>1st Round</td>\n      <td>Sijsling I.</td>\n      <td>Ungur A.</td>\n      <td>123</td>\n      <td>203.0</td>\n      <td>484</td>\n      <td>264.0</td>\n      <td>...</td>\n      <td>1</td>\n      <td>0</td>\n      <td>1</td>\n      <td>1</td>\n      <td>0</td>\n      <td>1</td>\n      <td>1</td>\n      <td>1</td>\n      <td>1.000000</td>\n      <td>0.000000</td>\n    </tr>\n    <tr>\n      <th>3</th>\n      <td>3</td>\n      <td>33</td>\n      <td>22/05/2016</td>\n      <td>1st Round</td>\n      <td>Gabashvili T.</td>\n      <td>Young D.</td>\n      <td>79</td>\n      <td>76.0</td>\n      <td>706</td>\n      <td>712.0</td>\n      <td>...</td>\n      <td>1</td>\n      <td>0</td>\n      <td>1</td>\n      <td>1</td>\n      <td>1</td>\n      <td>2</td>\n      <td>2</td>\n      <td>2</td>\n      <td>0.500000</td>\n      <td>0.000000</td>\n    </tr>\n    <tr>\n      <th>4</th>\n      <td>4</td>\n      <td>33</td>\n      <td>22/05/2016</td>\n      <td>1st Round</td>\n      <td>Kuznetsov An.</td>\n      <td>Becker B.</td>\n      <td>40</td>\n      <td>96.0</td>\n      <td>1063</td>\n      <td>600.0</td>\n      <td>...</td>\n      <td>1</td>\n      <td>0</td>\n      <td>1</td>\n      <td>1</td>\n      <td>2</td>\n      <td>1</td>\n      <td>3</td>\n      <td>1</td>\n      <td>0.333333</td>\n      <td>0.000000</td>\n    </tr>\n  </tbody>\n</table>\n<p>5 rows × 37 columns</p>\n</div>"
     },
     "execution_count": 19,
     "metadata": {},
     "output_type": "execute_result"
    }
   ],
   "source": [
    "data.head()"
   ]
  },
  {
   "cell_type": "code",
   "execution_count": 20,
   "metadata": {},
   "outputs": [
    {
     "name": "stdout",
     "output_type": "stream",
     "text": [
      "<class 'pandas.core.frame.DataFrame'>\n",
      "RangeIndex: 888 entries, 0 to 887\n",
      "Data columns (total 37 columns):\n",
      " #   Column                       Non-Null Count  Dtype  \n",
      "---  ------                       --------------  -----  \n",
      " 0   Unnamed: 0                   888 non-null    int64  \n",
      " 1   ATP                          888 non-null    int64  \n",
      " 2   Date                         888 non-null    object \n",
      " 3   Round                        888 non-null    object \n",
      " 4   Winner                       888 non-null    object \n",
      " 5   Loser                        888 non-null    object \n",
      " 6   WRank                        888 non-null    int64  \n",
      " 7   LRank                        886 non-null    float64\n",
      " 8   WPts                         888 non-null    int64  \n",
      " 9   LPts                         886 non-null    float64\n",
      " 10  Wsets                        887 non-null    float64\n",
      " 11  Lsets                        887 non-null    float64\n",
      " 12  B365W                        888 non-null    float64\n",
      " 13  B365L                        888 non-null    float64\n",
      " 14  PSW                          888 non-null    float64\n",
      " 15  PSL                          888 non-null    float64\n",
      " 16  MaxW                         888 non-null    float64\n",
      " 17  MaxL                         888 non-null    float64\n",
      " 18  AvgW                         888 non-null    float64\n",
      " 19  AvgL                         888 non-null    float64\n",
      " 20  SetsTotales                  888 non-null    int64  \n",
      " 21  LabelWinnerRank              886 non-null    float64\n",
      " 22  LabelWinnerPoints            886 non-null    float64\n",
      " 23  LabelWinnerOddsB65           888 non-null    int64  \n",
      " 24  LabelWinnerOddsPS            888 non-null    int64  \n",
      " 25  LabelWinnerOddsMAX           888 non-null    int64  \n",
      " 26  LabelWinnerOddsAvg           888 non-null    int64  \n",
      " 27  WinnerRoundsWon              888 non-null    int64  \n",
      " 28  LoserRoundsWon               888 non-null    int64  \n",
      " 29  LabelWinnerRounds            888 non-null    int64  \n",
      " 30  LabelWinnerRoundsAndOddsAvg  888 non-null    int64  \n",
      " 31  WinnerRoundsLost             888 non-null    int64  \n",
      " 32  LoserRoundsLost              888 non-null    int64  \n",
      " 33  WinnerRoundsPlayed           888 non-null    int64  \n",
      " 34  LoserRoundsPlayed            888 non-null    int64  \n",
      " 35  LabelWinnerRoundsWonOverAll  888 non-null    float64\n",
      " 36  LabelLoserRoundsWonOverAll   888 non-null    float64\n",
      "dtypes: float64(16), int64(17), object(4)\n",
      "memory usage: 256.8+ KB\n"
     ]
    }
   ],
   "source": [
    "data.info()"
   ]
  },
  {
   "cell_type": "code",
   "execution_count": 21,
   "metadata": {},
   "outputs": [],
   "source": [
    "data['LabelWinnerRoundsWonOverAll'] = data['LabelWinnerRoundsWonOverAll'].map(lambda x: \"{:,.4f}\".format(x))\n",
    "data['LabelLoserRoundsWonOverAll'] = data['LabelLoserRoundsWonOverAll'].map(lambda x: \"{:,.4f}\".format(x))"
   ]
  },
  {
   "cell_type": "code",
   "execution_count": 22,
   "metadata": {},
   "outputs": [
    {
     "data": {
      "text/plain": "   Unnamed: 0  ATP        Date      Round         Winner          Loser  \\\n0           0   33  22/05/2016  1st Round     Kyrgios N.  Cecchinato M.   \n1           1   33  22/05/2016  1st Round       Paire B.       Albot R.   \n2           2   33  22/05/2016  1st Round    Sijsling I.       Ungur A.   \n3           3   33  22/05/2016  1st Round  Gabashvili T.       Young D.   \n4           4   33  22/05/2016  1st Round  Kuznetsov An.      Becker B.   \n\n   WRank  LRank  WPts   LPts  ...  WinnerRoundsWon  LoserRoundsWon  \\\n0     19  124.0  1855  478.0  ...                2               4   \n1     21  137.0  1641  423.0  ...                4               3   \n2    123  203.0   484  264.0  ...                1               0   \n3     79   76.0   706  712.0  ...                1               0   \n4     40   96.0  1063  600.0  ...                1               0   \n\n   LabelWinnerRounds  LabelWinnerRoundsAndOddsAvg  WinnerRoundsLost  \\\n0                  0                            0                 0   \n1                  1                            1                 3   \n2                  1                            1                 0   \n3                  1                            1                 1   \n4                  1                            1                 2   \n\n   LoserRoundsLost  WinnerRoundsPlayed  LoserRoundsPlayed  \\\n0                2                   2                  6   \n1                3                   7                  6   \n2                1                   1                  1   \n3                2                   2                  2   \n4                1                   3                  1   \n\n   LabelWinnerRoundsWonOverAll  LabelLoserRoundsWonOverAll  \n0                       1.0000                      0.6667  \n1                       0.5714                      0.5000  \n2                       1.0000                      0.0000  \n3                       0.5000                      0.0000  \n4                       0.3333                      0.0000  \n\n[5 rows x 37 columns]",
      "text/html": "<div>\n<style scoped>\n    .dataframe tbody tr th:only-of-type {\n        vertical-align: middle;\n    }\n\n    .dataframe tbody tr th {\n        vertical-align: top;\n    }\n\n    .dataframe thead th {\n        text-align: right;\n    }\n</style>\n<table border=\"1\" class=\"dataframe\">\n  <thead>\n    <tr style=\"text-align: right;\">\n      <th></th>\n      <th>Unnamed: 0</th>\n      <th>ATP</th>\n      <th>Date</th>\n      <th>Round</th>\n      <th>Winner</th>\n      <th>Loser</th>\n      <th>WRank</th>\n      <th>LRank</th>\n      <th>WPts</th>\n      <th>LPts</th>\n      <th>...</th>\n      <th>WinnerRoundsWon</th>\n      <th>LoserRoundsWon</th>\n      <th>LabelWinnerRounds</th>\n      <th>LabelWinnerRoundsAndOddsAvg</th>\n      <th>WinnerRoundsLost</th>\n      <th>LoserRoundsLost</th>\n      <th>WinnerRoundsPlayed</th>\n      <th>LoserRoundsPlayed</th>\n      <th>LabelWinnerRoundsWonOverAll</th>\n      <th>LabelLoserRoundsWonOverAll</th>\n    </tr>\n  </thead>\n  <tbody>\n    <tr>\n      <th>0</th>\n      <td>0</td>\n      <td>33</td>\n      <td>22/05/2016</td>\n      <td>1st Round</td>\n      <td>Kyrgios N.</td>\n      <td>Cecchinato M.</td>\n      <td>19</td>\n      <td>124.0</td>\n      <td>1855</td>\n      <td>478.0</td>\n      <td>...</td>\n      <td>2</td>\n      <td>4</td>\n      <td>0</td>\n      <td>0</td>\n      <td>0</td>\n      <td>2</td>\n      <td>2</td>\n      <td>6</td>\n      <td>1.0000</td>\n      <td>0.6667</td>\n    </tr>\n    <tr>\n      <th>1</th>\n      <td>1</td>\n      <td>33</td>\n      <td>22/05/2016</td>\n      <td>1st Round</td>\n      <td>Paire B.</td>\n      <td>Albot R.</td>\n      <td>21</td>\n      <td>137.0</td>\n      <td>1641</td>\n      <td>423.0</td>\n      <td>...</td>\n      <td>4</td>\n      <td>3</td>\n      <td>1</td>\n      <td>1</td>\n      <td>3</td>\n      <td>3</td>\n      <td>7</td>\n      <td>6</td>\n      <td>0.5714</td>\n      <td>0.5000</td>\n    </tr>\n    <tr>\n      <th>2</th>\n      <td>2</td>\n      <td>33</td>\n      <td>22/05/2016</td>\n      <td>1st Round</td>\n      <td>Sijsling I.</td>\n      <td>Ungur A.</td>\n      <td>123</td>\n      <td>203.0</td>\n      <td>484</td>\n      <td>264.0</td>\n      <td>...</td>\n      <td>1</td>\n      <td>0</td>\n      <td>1</td>\n      <td>1</td>\n      <td>0</td>\n      <td>1</td>\n      <td>1</td>\n      <td>1</td>\n      <td>1.0000</td>\n      <td>0.0000</td>\n    </tr>\n    <tr>\n      <th>3</th>\n      <td>3</td>\n      <td>33</td>\n      <td>22/05/2016</td>\n      <td>1st Round</td>\n      <td>Gabashvili T.</td>\n      <td>Young D.</td>\n      <td>79</td>\n      <td>76.0</td>\n      <td>706</td>\n      <td>712.0</td>\n      <td>...</td>\n      <td>1</td>\n      <td>0</td>\n      <td>1</td>\n      <td>1</td>\n      <td>1</td>\n      <td>2</td>\n      <td>2</td>\n      <td>2</td>\n      <td>0.5000</td>\n      <td>0.0000</td>\n    </tr>\n    <tr>\n      <th>4</th>\n      <td>4</td>\n      <td>33</td>\n      <td>22/05/2016</td>\n      <td>1st Round</td>\n      <td>Kuznetsov An.</td>\n      <td>Becker B.</td>\n      <td>40</td>\n      <td>96.0</td>\n      <td>1063</td>\n      <td>600.0</td>\n      <td>...</td>\n      <td>1</td>\n      <td>0</td>\n      <td>1</td>\n      <td>1</td>\n      <td>2</td>\n      <td>1</td>\n      <td>3</td>\n      <td>1</td>\n      <td>0.3333</td>\n      <td>0.0000</td>\n    </tr>\n  </tbody>\n</table>\n<p>5 rows × 37 columns</p>\n</div>"
     },
     "execution_count": 22,
     "metadata": {},
     "output_type": "execute_result"
    }
   ],
   "source": [
    "data.head()"
   ]
  },
  {
   "cell_type": "code",
   "execution_count": 23,
   "metadata": {},
   "outputs": [
    {
     "name": "stdout",
     "output_type": "stream",
     "text": [
      "<class 'pandas.core.frame.DataFrame'>\n",
      "RangeIndex: 888 entries, 0 to 887\n",
      "Data columns (total 37 columns):\n",
      " #   Column                       Non-Null Count  Dtype  \n",
      "---  ------                       --------------  -----  \n",
      " 0   Unnamed: 0                   888 non-null    int64  \n",
      " 1   ATP                          888 non-null    int64  \n",
      " 2   Date                         888 non-null    object \n",
      " 3   Round                        888 non-null    object \n",
      " 4   Winner                       888 non-null    object \n",
      " 5   Loser                        888 non-null    object \n",
      " 6   WRank                        888 non-null    int64  \n",
      " 7   LRank                        886 non-null    float64\n",
      " 8   WPts                         888 non-null    int64  \n",
      " 9   LPts                         886 non-null    float64\n",
      " 10  Wsets                        887 non-null    float64\n",
      " 11  Lsets                        887 non-null    float64\n",
      " 12  B365W                        888 non-null    float64\n",
      " 13  B365L                        888 non-null    float64\n",
      " 14  PSW                          888 non-null    float64\n",
      " 15  PSL                          888 non-null    float64\n",
      " 16  MaxW                         888 non-null    float64\n",
      " 17  MaxL                         888 non-null    float64\n",
      " 18  AvgW                         888 non-null    float64\n",
      " 19  AvgL                         888 non-null    float64\n",
      " 20  SetsTotales                  888 non-null    int64  \n",
      " 21  LabelWinnerRank              886 non-null    float64\n",
      " 22  LabelWinnerPoints            886 non-null    float64\n",
      " 23  LabelWinnerOddsB65           888 non-null    int64  \n",
      " 24  LabelWinnerOddsPS            888 non-null    int64  \n",
      " 25  LabelWinnerOddsMAX           888 non-null    int64  \n",
      " 26  LabelWinnerOddsAvg           888 non-null    int64  \n",
      " 27  WinnerRoundsWon              888 non-null    int64  \n",
      " 28  LoserRoundsWon               888 non-null    int64  \n",
      " 29  LabelWinnerRounds            888 non-null    int64  \n",
      " 30  LabelWinnerRoundsAndOddsAvg  888 non-null    int64  \n",
      " 31  WinnerRoundsLost             888 non-null    int64  \n",
      " 32  LoserRoundsLost              888 non-null    int64  \n",
      " 33  WinnerRoundsPlayed           888 non-null    int64  \n",
      " 34  LoserRoundsPlayed            888 non-null    int64  \n",
      " 35  LabelWinnerRoundsWonOverAll  888 non-null    object \n",
      " 36  LabelLoserRoundsWonOverAll   888 non-null    object \n",
      "dtypes: float64(14), int64(17), object(6)\n",
      "memory usage: 256.8+ KB\n"
     ]
    }
   ],
   "source": [
    "data.info()"
   ]
  },
  {
   "cell_type": "code",
   "execution_count": 24,
   "metadata": {},
   "outputs": [],
   "source": [
    "data.drop(columns=data.columns[0], axis=1, inplace=True)\n",
    "data.to_csv(\"data_label_winner_rounds_won_overall_regression.csv\", index=False)"
   ]
  },
  {
   "cell_type": "code",
   "execution_count": null,
   "metadata": {},
   "outputs": [],
   "source": []
  }
 ],
 "metadata": {
  "kernelspec": {
   "display_name": "Python 3 (ipykernel)",
   "language": "python",
   "name": "python3"
  },
  "language_info": {
   "codemirror_mode": {
    "name": "ipython",
    "version": 3
   },
   "file_extension": ".py",
   "mimetype": "text/x-python",
   "name": "python",
   "nbconvert_exporter": "python",
   "pygments_lexer": "ipython3",
   "version": "3.9.7"
  }
 },
 "nbformat": 4,
 "nbformat_minor": 1
}
