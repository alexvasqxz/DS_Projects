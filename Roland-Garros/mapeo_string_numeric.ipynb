{
 "cells": [
  {
   "cell_type": "code",
   "execution_count": 1,
   "metadata": {
    "collapsed": true
   },
   "outputs": [
    {
     "data": {
      "text/plain": "       Round         Winner          Loser  WRank  LRank  WPts   LPts  Wsets  \\\n0  1st Round     Kyrgios N.  Cecchinato M.     19  124.0  1855  478.0    3.0   \n1  1st Round       Paire B.       Albot R.     21  137.0  1641  423.0    3.0   \n2  1st Round    Sijsling I.       Ungur A.    123  203.0   484  264.0    3.0   \n3  1st Round  Gabashvili T.       Young D.     79   76.0   706  712.0    3.0   \n4  1st Round  Kuznetsov An.      Becker B.     40   96.0  1063  600.0    3.0   \n\n   Lsets  B365W  ...  WinnerRoundsWon  LoserRoundsWon  LabelWinnerRounds  \\\n0    0.0   1.02  ...                2               4                  0   \n1    2.0   1.14  ...                4               3                  1   \n2    0.0   2.10  ...                1               0                  1   \n3    0.0   1.72  ...                1               0                  1   \n4    0.0   1.08  ...                1               0                  1   \n\n   LabelWinnerRoundsAndOddsAvg  WinnerRoundsLost  LoserRoundsLost  \\\n0                            0                 0                2   \n1                            1                 3                3   \n2                            1                 0                1   \n3                            1                 1                2   \n4                            1                 2                1   \n\n   WinnerRoundsPlayed  LoserRoundsPlayed  LabelWinnerRoundsWonOverAll  \\\n0                   2                  6                       1.0000   \n1                   7                  6                       0.5714   \n2                   1                  1                       1.0000   \n3                   2                  2                       0.5000   \n4                   3                  1                       0.3333   \n\n   LabelLoserRoundsWonOverAll  \n0                      0.6667  \n1                      0.5000  \n2                      0.0000  \n3                      0.0000  \n4                      0.0000  \n\n[5 rows x 34 columns]",
      "text/html": "<div>\n<style scoped>\n    .dataframe tbody tr th:only-of-type {\n        vertical-align: middle;\n    }\n\n    .dataframe tbody tr th {\n        vertical-align: top;\n    }\n\n    .dataframe thead th {\n        text-align: right;\n    }\n</style>\n<table border=\"1\" class=\"dataframe\">\n  <thead>\n    <tr style=\"text-align: right;\">\n      <th></th>\n      <th>Round</th>\n      <th>Winner</th>\n      <th>Loser</th>\n      <th>WRank</th>\n      <th>LRank</th>\n      <th>WPts</th>\n      <th>LPts</th>\n      <th>Wsets</th>\n      <th>Lsets</th>\n      <th>B365W</th>\n      <th>...</th>\n      <th>WinnerRoundsWon</th>\n      <th>LoserRoundsWon</th>\n      <th>LabelWinnerRounds</th>\n      <th>LabelWinnerRoundsAndOddsAvg</th>\n      <th>WinnerRoundsLost</th>\n      <th>LoserRoundsLost</th>\n      <th>WinnerRoundsPlayed</th>\n      <th>LoserRoundsPlayed</th>\n      <th>LabelWinnerRoundsWonOverAll</th>\n      <th>LabelLoserRoundsWonOverAll</th>\n    </tr>\n  </thead>\n  <tbody>\n    <tr>\n      <th>0</th>\n      <td>1st Round</td>\n      <td>Kyrgios N.</td>\n      <td>Cecchinato M.</td>\n      <td>19</td>\n      <td>124.0</td>\n      <td>1855</td>\n      <td>478.0</td>\n      <td>3.0</td>\n      <td>0.0</td>\n      <td>1.02</td>\n      <td>...</td>\n      <td>2</td>\n      <td>4</td>\n      <td>0</td>\n      <td>0</td>\n      <td>0</td>\n      <td>2</td>\n      <td>2</td>\n      <td>6</td>\n      <td>1.0000</td>\n      <td>0.6667</td>\n    </tr>\n    <tr>\n      <th>1</th>\n      <td>1st Round</td>\n      <td>Paire B.</td>\n      <td>Albot R.</td>\n      <td>21</td>\n      <td>137.0</td>\n      <td>1641</td>\n      <td>423.0</td>\n      <td>3.0</td>\n      <td>2.0</td>\n      <td>1.14</td>\n      <td>...</td>\n      <td>4</td>\n      <td>3</td>\n      <td>1</td>\n      <td>1</td>\n      <td>3</td>\n      <td>3</td>\n      <td>7</td>\n      <td>6</td>\n      <td>0.5714</td>\n      <td>0.5000</td>\n    </tr>\n    <tr>\n      <th>2</th>\n      <td>1st Round</td>\n      <td>Sijsling I.</td>\n      <td>Ungur A.</td>\n      <td>123</td>\n      <td>203.0</td>\n      <td>484</td>\n      <td>264.0</td>\n      <td>3.0</td>\n      <td>0.0</td>\n      <td>2.10</td>\n      <td>...</td>\n      <td>1</td>\n      <td>0</td>\n      <td>1</td>\n      <td>1</td>\n      <td>0</td>\n      <td>1</td>\n      <td>1</td>\n      <td>1</td>\n      <td>1.0000</td>\n      <td>0.0000</td>\n    </tr>\n    <tr>\n      <th>3</th>\n      <td>1st Round</td>\n      <td>Gabashvili T.</td>\n      <td>Young D.</td>\n      <td>79</td>\n      <td>76.0</td>\n      <td>706</td>\n      <td>712.0</td>\n      <td>3.0</td>\n      <td>0.0</td>\n      <td>1.72</td>\n      <td>...</td>\n      <td>1</td>\n      <td>0</td>\n      <td>1</td>\n      <td>1</td>\n      <td>1</td>\n      <td>2</td>\n      <td>2</td>\n      <td>2</td>\n      <td>0.5000</td>\n      <td>0.0000</td>\n    </tr>\n    <tr>\n      <th>4</th>\n      <td>1st Round</td>\n      <td>Kuznetsov An.</td>\n      <td>Becker B.</td>\n      <td>40</td>\n      <td>96.0</td>\n      <td>1063</td>\n      <td>600.0</td>\n      <td>3.0</td>\n      <td>0.0</td>\n      <td>1.08</td>\n      <td>...</td>\n      <td>1</td>\n      <td>0</td>\n      <td>1</td>\n      <td>1</td>\n      <td>2</td>\n      <td>1</td>\n      <td>3</td>\n      <td>1</td>\n      <td>0.3333</td>\n      <td>0.0000</td>\n    </tr>\n  </tbody>\n</table>\n<p>5 rows × 34 columns</p>\n</div>"
     },
     "execution_count": 1,
     "metadata": {},
     "output_type": "execute_result"
    }
   ],
   "source": [
    "import pandas as pd\n",
    "data = pd.read_csv(\"data/data_label_winner_rounds_won_overall_regression.csv\")\n",
    "columns_to_drop = ['ATP', 'Date']\n",
    "data = data.drop(columns_to_drop, axis=1)\n",
    "data.head()"
   ]
  },
  {
   "cell_type": "code",
   "execution_count": 2,
   "outputs": [
    {
     "name": "stdout",
     "output_type": "stream",
     "text": [
      "['1st Round' '2nd Round' '3rd Round' '4th Round' 'Quarterfinals'\n",
      " 'Semifinals' 'The Final']\n"
     ]
    }
   ],
   "source": [
    "unique_rounds = data['Round'].unique()\n",
    "print(unique_rounds)"
   ],
   "metadata": {
    "collapsed": false
   }
  },
  {
   "cell_type": "code",
   "execution_count": 3,
   "outputs": [],
   "source": [
    "mapping_dict = {\n",
    "            '1st Round' : 1,\n",
    "            '2nd Round' : 2,\n",
    "            '3rd Round' : 3,\n",
    "            '4th Round' : 4,\n",
    "            'Quarterfinals' : 5,\n",
    "            'Semifinals' : 6,\n",
    "            'The Final' : 7\n",
    "        }\n",
    "\n",
    "def round_to_num(value):\n",
    "    if value in mapping_dict:\n",
    "        return mapping_dict[value]\n",
    "    return -1"
   ],
   "metadata": {
    "collapsed": false
   }
  },
  {
   "cell_type": "code",
   "execution_count": 4,
   "outputs": [
    {
     "data": {
      "text/plain": "   Round_num         Winner          Loser  WRank  LRank  WPts   LPts  Wsets  \\\n0          1     Kyrgios N.  Cecchinato M.     19  124.0  1855  478.0    3.0   \n1          1       Paire B.       Albot R.     21  137.0  1641  423.0    3.0   \n2          1    Sijsling I.       Ungur A.    123  203.0   484  264.0    3.0   \n3          1  Gabashvili T.       Young D.     79   76.0   706  712.0    3.0   \n4          1  Kuznetsov An.      Becker B.     40   96.0  1063  600.0    3.0   \n\n   Lsets  B365W  ...  WinnerRoundsWon  LoserRoundsWon  LabelWinnerRounds  \\\n0    0.0   1.02  ...                2               4                  0   \n1    2.0   1.14  ...                4               3                  1   \n2    0.0   2.10  ...                1               0                  1   \n3    0.0   1.72  ...                1               0                  1   \n4    0.0   1.08  ...                1               0                  1   \n\n   LabelWinnerRoundsAndOddsAvg  WinnerRoundsLost  LoserRoundsLost  \\\n0                            0                 0                2   \n1                            1                 3                3   \n2                            1                 0                1   \n3                            1                 1                2   \n4                            1                 2                1   \n\n   WinnerRoundsPlayed  LoserRoundsPlayed  LabelWinnerRoundsWonOverAll  \\\n0                   2                  6                       1.0000   \n1                   7                  6                       0.5714   \n2                   1                  1                       1.0000   \n3                   2                  2                       0.5000   \n4                   3                  1                       0.3333   \n\n   LabelLoserRoundsWonOverAll  \n0                      0.6667  \n1                      0.5000  \n2                      0.0000  \n3                      0.0000  \n4                      0.0000  \n\n[5 rows x 34 columns]",
      "text/html": "<div>\n<style scoped>\n    .dataframe tbody tr th:only-of-type {\n        vertical-align: middle;\n    }\n\n    .dataframe tbody tr th {\n        vertical-align: top;\n    }\n\n    .dataframe thead th {\n        text-align: right;\n    }\n</style>\n<table border=\"1\" class=\"dataframe\">\n  <thead>\n    <tr style=\"text-align: right;\">\n      <th></th>\n      <th>Round_num</th>\n      <th>Winner</th>\n      <th>Loser</th>\n      <th>WRank</th>\n      <th>LRank</th>\n      <th>WPts</th>\n      <th>LPts</th>\n      <th>Wsets</th>\n      <th>Lsets</th>\n      <th>B365W</th>\n      <th>...</th>\n      <th>WinnerRoundsWon</th>\n      <th>LoserRoundsWon</th>\n      <th>LabelWinnerRounds</th>\n      <th>LabelWinnerRoundsAndOddsAvg</th>\n      <th>WinnerRoundsLost</th>\n      <th>LoserRoundsLost</th>\n      <th>WinnerRoundsPlayed</th>\n      <th>LoserRoundsPlayed</th>\n      <th>LabelWinnerRoundsWonOverAll</th>\n      <th>LabelLoserRoundsWonOverAll</th>\n    </tr>\n  </thead>\n  <tbody>\n    <tr>\n      <th>0</th>\n      <td>1</td>\n      <td>Kyrgios N.</td>\n      <td>Cecchinato M.</td>\n      <td>19</td>\n      <td>124.0</td>\n      <td>1855</td>\n      <td>478.0</td>\n      <td>3.0</td>\n      <td>0.0</td>\n      <td>1.02</td>\n      <td>...</td>\n      <td>2</td>\n      <td>4</td>\n      <td>0</td>\n      <td>0</td>\n      <td>0</td>\n      <td>2</td>\n      <td>2</td>\n      <td>6</td>\n      <td>1.0000</td>\n      <td>0.6667</td>\n    </tr>\n    <tr>\n      <th>1</th>\n      <td>1</td>\n      <td>Paire B.</td>\n      <td>Albot R.</td>\n      <td>21</td>\n      <td>137.0</td>\n      <td>1641</td>\n      <td>423.0</td>\n      <td>3.0</td>\n      <td>2.0</td>\n      <td>1.14</td>\n      <td>...</td>\n      <td>4</td>\n      <td>3</td>\n      <td>1</td>\n      <td>1</td>\n      <td>3</td>\n      <td>3</td>\n      <td>7</td>\n      <td>6</td>\n      <td>0.5714</td>\n      <td>0.5000</td>\n    </tr>\n    <tr>\n      <th>2</th>\n      <td>1</td>\n      <td>Sijsling I.</td>\n      <td>Ungur A.</td>\n      <td>123</td>\n      <td>203.0</td>\n      <td>484</td>\n      <td>264.0</td>\n      <td>3.0</td>\n      <td>0.0</td>\n      <td>2.10</td>\n      <td>...</td>\n      <td>1</td>\n      <td>0</td>\n      <td>1</td>\n      <td>1</td>\n      <td>0</td>\n      <td>1</td>\n      <td>1</td>\n      <td>1</td>\n      <td>1.0000</td>\n      <td>0.0000</td>\n    </tr>\n    <tr>\n      <th>3</th>\n      <td>1</td>\n      <td>Gabashvili T.</td>\n      <td>Young D.</td>\n      <td>79</td>\n      <td>76.0</td>\n      <td>706</td>\n      <td>712.0</td>\n      <td>3.0</td>\n      <td>0.0</td>\n      <td>1.72</td>\n      <td>...</td>\n      <td>1</td>\n      <td>0</td>\n      <td>1</td>\n      <td>1</td>\n      <td>1</td>\n      <td>2</td>\n      <td>2</td>\n      <td>2</td>\n      <td>0.5000</td>\n      <td>0.0000</td>\n    </tr>\n    <tr>\n      <th>4</th>\n      <td>1</td>\n      <td>Kuznetsov An.</td>\n      <td>Becker B.</td>\n      <td>40</td>\n      <td>96.0</td>\n      <td>1063</td>\n      <td>600.0</td>\n      <td>3.0</td>\n      <td>0.0</td>\n      <td>1.08</td>\n      <td>...</td>\n      <td>1</td>\n      <td>0</td>\n      <td>1</td>\n      <td>1</td>\n      <td>2</td>\n      <td>1</td>\n      <td>3</td>\n      <td>1</td>\n      <td>0.3333</td>\n      <td>0.0000</td>\n    </tr>\n  </tbody>\n</table>\n<p>5 rows × 34 columns</p>\n</div>"
     },
     "execution_count": 4,
     "metadata": {},
     "output_type": "execute_result"
    }
   ],
   "source": [
    "data.insert(loc=0, column='Round_num', value=data['Round'].apply(round_to_num))\n",
    "data = data.drop('Round', axis=1)\n",
    "data.head()"
   ],
   "metadata": {
    "collapsed": false
   }
  },
  {
   "cell_type": "code",
   "execution_count": 5,
   "outputs": [
    {
     "name": "stdout",
     "output_type": "stream",
     "text": [
      "{'Majchrzak K.', 'Martinez P.', 'Seppi A.', 'Couacaud E.', 'Marchenko I.', 'Gomez E.', 'Alcaraz C.', 'Ungur A.', 'Bolelli S.', 'Ram R.', 'Moutet C.', 'Tsonga J.W.', 'Becker B.', 'Samper-Montana J.', 'Bedene A.', 'Giraldo S.', 'Sela D.', 'Chung H.', 'Bourgue M.', 'Molleker R.', 'Hoang A.', 'Goffin D.', 'Gabashvili T.', 'Cressy M.', 'Auger-Aliassime F.', 'Mannarino A.', 'Ofner S.', 'Dimitrov G.', 'Kamke T.', 'Giustino L.', 'Trungelliti M.', 'Vilella Martinez M.', 'Garin C.', 'Benchetrit E.', 'Gojo B.', 'Pavlasek A.', 'Dzumhur D.', 'Kukushkin M.', 'Napolitano S.', 'Fabbiano T.', 'Lehecka J.', 'Paire B.', 'Laaksonen H.', 'Londero J.I.', 'Nadal R.', 'Pella G.', 'Medvedev D.', 'Baker B.', 'Hurkacz H.', 'Lopez F.', 'Sonego L.', 'Klahn B.', 'Baghdatis M.', 'Caruso S.', 'Milojevic N.', 'Kwon S.W.', 'Donaldson J.', 'Raonic M.', 'Muller A.', 'Mmoh M.', 'Halys Q.', 'Sugita Y.', 'Carreno Busta P.', 'Mahut N.', 'Tiafoe F.', 'Daniel T.', 'Kubler J.', 'Dodig I.', 'Agamenone F.', 'Bagnis F.', 'Marterer M.', 'Ruud C.', 'Harrison R.', 'Basic M.', 'Hanfmann Y.', 'Robert S.', 'Fognini F.', 'Jarry N.', 'Mayot H.', 'Young D.', 'Rola B.', 'Lu Y.', 'Van De Zandschulp B.', 'De Greef A.', 'Sock J.', 'Opelka R.', 'Haider-Maurer A.', 'Kolar Z.', 'Bautista Agut R.', 'Humbert U.', 'Evans D.', 'Coric B.', 'Zopp J.', 'Ivashka I.', 'Rodionov J.', 'Vatutin A.', 'Duckworth J.', 'Youzhny M.', 'Verdasco F.', 'Zverev M.', 'Janowicz J.', 'Gasquet R.', 'Korda S.', 'Garcia-Lopez G.', 'Wawrinka S.', 'Karatsev A.', 'Chardy J.', 'Hemery C.', 'Robredo T.', 'Khachanov K.', 'Taberner C.', 'Escobedo E.', 'Cachin P.', 'Nishikori K.', 'Munar J.', 'Mathieu P.H.', 'Copil M.', 'De Minaur A.', 'Zverev A.', 'Mayer L.', 'Stebe C.M.', 'Krajinovic F.', 'Cuevas P.', 'Fritz T.', 'Zeppieri G.', 'Zapata Miralles B.', 'Granollers M.', 'Darcis S.', 'Musetti L.', 'Gulbis E.', 'Mcdonald M.', 'Istomin D.', 'Novak D.', 'Uchiyama Y.', 'Delbonis F.', 'Cazaux A.', 'Zeballos H.', 'Groth S.', 'Monaco J.', 'Janvier M.', 'Jung J.', 'Kotov P.', 'Sinner J.', 'Kravchuk K.', 'Thiem D.', 'Olivo R.', 'Ymer E.', 'Barrere G.', 'Koepfer D.', 'Safiullin R.', 'Millman J.', 'Kecmanovic M.', 'Safwat M.', 'Paul T.', 'Rodriguez Taverna S.', 'Machac T.', 'Giron M.', 'Brown D.', 'Polmans M.', 'Melzer G.', 'Vesely J.', 'Benneteau J.', 'Gunneswaran P.', 'Cervantes I.', 'Djokovic N.', 'Popyrin A.', 'Stepanek R.', 'Blancaneaux G.', 'Basilashvili N.', 'Stakhovsky S.', 'Tipsarevic J.', 'Federer R.', 'Ymer M.', 'Hamou M.', 'Fucsovics M.', 'Nishioka Y.', 'Travaglia S.', 'Rosol L.', 'Montanes A.', 'Bellucci T.', 'Coppejans K.', 'Karlovic I.', 'Cerundolo F.', 'Almagro N.', 'Isner J.', 'Maden Y.', 'Djere L.', 'Berlocq C.', 'Munoz De La Nava D.', 'De Bakker T.', 'Bhambri Y.', 'Fratangelo B.', 'Broady L.', 'Mayer F.', 'Berdych T.', 'Shapovalov D.', 'Kyrgios N.', 'Bublik A.', 'Gaston H.', 'Murray A.', 'Sijsling I.', 'Norrie C.', 'Brooksby J.', 'Molcan A.', 'Etcheverry T.', 'Troicki V.', 'Carballes Baena R.', 'O Connell C.', 'Ruusuvuori E.', 'Andujar P.', 'Johnson S.', 'Martin A.', 'Estrella Burgos V.', 'Davidovich Fokina A.', 'Balazs A.', 'Mager G.', 'Jaziri M.', 'Gojowczyk P.', 'Borges N.', 'Guinard M.', 'Ramos-Vinolas A.', 'Dellien H.', 'Lu Y.H.', 'Bonzi B.', 'Ebden M.', 'Querrey S.', 'Tomic B.', 'Edmund K.', 'Struff J.L.', 'Kohlschreiber P.', 'Donskoy E.', 'Anderson K.', 'Kokkinakis T.', 'Vukic A.', 'Cilic M.', 'Lokoli L.', 'Griekspoor T.', 'Diez S.', 'Dolgopolov O.', 'Nakashima B.', 'Andreozzi G.', 'Del Potro J.M.', 'Pouille L.', 'Muller G.', 'Herbert P.H.', 'Rubin N.', 'Ferrer D.', 'Schwartzman D.', 'Tsitsipas S.', 'Ugo Carabelli C.', 'Lorenzi P.', 'Monfils G.', 'Otte O.', 'Berankis R.', 'Monteiro T.', 'Elias G.', 'Giannessi A.', 'Albot R.', 'Galan D.E.', 'Del Potro J. M.', 'Klizan M.', 'Gerasimov E.', 'Tursunov D.', 'Kovalik J.', 'Harris L.', 'Pospisil V.', 'Simon G.', 'Galan D.', 'Coria F.', 'Rinderknech A.', 'Sousa J.', 'Berrettini M.', 'Altmaier D.', 'Rune H.', 'Ilhan M.', 'Kuznetsov An.', 'Lajovic D.', 'Cecchinato M.', 'Polansky P.', 'Sandgren T.', 'De Schepper K.', 'Kudla D.', 'Tseng C. H.', 'Baez S.', 'Varillas J. P.', 'Bemelmans R.', 'Thompson J.', 'Haase R.', 'Rublev A.', 'Kicker N.', 'Gombos N.', 'Dutra Silva R.'}\n"
     ]
    }
   ],
   "source": [
    "# Obtener valores de todos los nombres Unicos\n",
    "player_values = set(data['Winner'].tolist() + data['Loser'].tolist())\n",
    "print(player_values)"
   ],
   "metadata": {
    "collapsed": false
   }
  },
  {
   "cell_type": "code",
   "execution_count": 6,
   "outputs": [
    {
     "name": "stdout",
     "output_type": "stream",
     "text": [
      "{\n",
      "    \"Majchrzak K.\": 0,\n",
      "    \"Martinez P.\": 1,\n",
      "    \"Seppi A.\": 2,\n",
      "    \"Couacaud E.\": 3,\n",
      "    \"Marchenko I.\": 4,\n",
      "    \"Gomez E.\": 5,\n",
      "    \"Alcaraz C.\": 6,\n",
      "    \"Ungur A.\": 7,\n",
      "    \"Bolelli S.\": 8,\n",
      "    \"Ram R.\": 9,\n",
      "    \"Moutet C.\": 10,\n",
      "    \"Tsonga J.W.\": 11,\n",
      "    \"Becker B.\": 12,\n",
      "    \"Samper-Montana J.\": 13,\n",
      "    \"Bedene A.\": 14,\n",
      "    \"Giraldo S.\": 15,\n",
      "    \"Sela D.\": 16,\n",
      "    \"Chung H.\": 17,\n",
      "    \"Bourgue M.\": 18,\n",
      "    \"Molleker R.\": 19,\n",
      "    \"Hoang A.\": 20,\n",
      "    \"Goffin D.\": 21,\n",
      "    \"Gabashvili T.\": 22,\n",
      "    \"Cressy M.\": 23,\n",
      "    \"Auger-Aliassime F.\": 24,\n",
      "    \"Mannarino A.\": 25,\n",
      "    \"Ofner S.\": 26,\n",
      "    \"Dimitrov G.\": 27,\n",
      "    \"Kamke T.\": 28,\n",
      "    \"Giustino L.\": 29,\n",
      "    \"Trungelliti M.\": 30,\n",
      "    \"Vilella Martinez M.\": 31,\n",
      "    \"Garin C.\": 32,\n",
      "    \"Benchetrit E.\": 33,\n",
      "    \"Gojo B.\": 34,\n",
      "    \"Pavlasek A.\": 35,\n",
      "    \"Dzumhur D.\": 36,\n",
      "    \"Kukushkin M.\": 37,\n",
      "    \"Napolitano S.\": 38,\n",
      "    \"Fabbiano T.\": 39,\n",
      "    \"Lehecka J.\": 40,\n",
      "    \"Paire B.\": 41,\n",
      "    \"Laaksonen H.\": 42,\n",
      "    \"Londero J.I.\": 43,\n",
      "    \"Nadal R.\": 44,\n",
      "    \"Pella G.\": 45,\n",
      "    \"Medvedev D.\": 46,\n",
      "    \"Baker B.\": 47,\n",
      "    \"Hurkacz H.\": 48,\n",
      "    \"Lopez F.\": 49,\n",
      "    \"Sonego L.\": 50,\n",
      "    \"Klahn B.\": 51,\n",
      "    \"Baghdatis M.\": 52,\n",
      "    \"Caruso S.\": 53,\n",
      "    \"Milojevic N.\": 54,\n",
      "    \"Kwon S.W.\": 55,\n",
      "    \"Donaldson J.\": 56,\n",
      "    \"Raonic M.\": 57,\n",
      "    \"Muller A.\": 58,\n",
      "    \"Mmoh M.\": 59,\n",
      "    \"Halys Q.\": 60,\n",
      "    \"Sugita Y.\": 61,\n",
      "    \"Carreno Busta P.\": 62,\n",
      "    \"Mahut N.\": 63,\n",
      "    \"Tiafoe F.\": 64,\n",
      "    \"Daniel T.\": 65,\n",
      "    \"Kubler J.\": 66,\n",
      "    \"Dodig I.\": 67,\n",
      "    \"Agamenone F.\": 68,\n",
      "    \"Bagnis F.\": 69,\n",
      "    \"Marterer M.\": 70,\n",
      "    \"Ruud C.\": 71,\n",
      "    \"Harrison R.\": 72,\n",
      "    \"Basic M.\": 73,\n",
      "    \"Hanfmann Y.\": 74,\n",
      "    \"Robert S.\": 75,\n",
      "    \"Fognini F.\": 76,\n",
      "    \"Jarry N.\": 77,\n",
      "    \"Mayot H.\": 78,\n",
      "    \"Young D.\": 79,\n",
      "    \"Rola B.\": 80,\n",
      "    \"Lu Y.\": 81,\n",
      "    \"Van De Zandschulp B.\": 82,\n",
      "    \"De Greef A.\": 83,\n",
      "    \"Sock J.\": 84,\n",
      "    \"Opelka R.\": 85,\n",
      "    \"Haider-Maurer A.\": 86,\n",
      "    \"Kolar Z.\": 87,\n",
      "    \"Bautista Agut R.\": 88,\n",
      "    \"Humbert U.\": 89,\n",
      "    \"Evans D.\": 90,\n",
      "    \"Coric B.\": 91,\n",
      "    \"Zopp J.\": 92,\n",
      "    \"Ivashka I.\": 93,\n",
      "    \"Rodionov J.\": 94,\n",
      "    \"Vatutin A.\": 95,\n",
      "    \"Duckworth J.\": 96,\n",
      "    \"Youzhny M.\": 97,\n",
      "    \"Verdasco F.\": 98,\n",
      "    \"Zverev M.\": 99,\n",
      "    \"Janowicz J.\": 100,\n",
      "    \"Gasquet R.\": 101,\n",
      "    \"Korda S.\": 102,\n",
      "    \"Garcia-Lopez G.\": 103,\n",
      "    \"Wawrinka S.\": 104,\n",
      "    \"Karatsev A.\": 105,\n",
      "    \"Chardy J.\": 106,\n",
      "    \"Hemery C.\": 107,\n",
      "    \"Robredo T.\": 108,\n",
      "    \"Khachanov K.\": 109,\n",
      "    \"Taberner C.\": 110,\n",
      "    \"Escobedo E.\": 111,\n",
      "    \"Cachin P.\": 112,\n",
      "    \"Nishikori K.\": 113,\n",
      "    \"Munar J.\": 114,\n",
      "    \"Mathieu P.H.\": 115,\n",
      "    \"Copil M.\": 116,\n",
      "    \"De Minaur A.\": 117,\n",
      "    \"Zverev A.\": 118,\n",
      "    \"Mayer L.\": 119,\n",
      "    \"Stebe C.M.\": 120,\n",
      "    \"Krajinovic F.\": 121,\n",
      "    \"Cuevas P.\": 122,\n",
      "    \"Fritz T.\": 123,\n",
      "    \"Zeppieri G.\": 124,\n",
      "    \"Zapata Miralles B.\": 125,\n",
      "    \"Granollers M.\": 126,\n",
      "    \"Darcis S.\": 127,\n",
      "    \"Musetti L.\": 128,\n",
      "    \"Gulbis E.\": 129,\n",
      "    \"Mcdonald M.\": 130,\n",
      "    \"Istomin D.\": 131,\n",
      "    \"Novak D.\": 132,\n",
      "    \"Uchiyama Y.\": 133,\n",
      "    \"Delbonis F.\": 134,\n",
      "    \"Cazaux A.\": 135,\n",
      "    \"Zeballos H.\": 136,\n",
      "    \"Groth S.\": 137,\n",
      "    \"Monaco J.\": 138,\n",
      "    \"Janvier M.\": 139,\n",
      "    \"Jung J.\": 140,\n",
      "    \"Kotov P.\": 141,\n",
      "    \"Sinner J.\": 142,\n",
      "    \"Kravchuk K.\": 143,\n",
      "    \"Thiem D.\": 144,\n",
      "    \"Olivo R.\": 145,\n",
      "    \"Ymer E.\": 146,\n",
      "    \"Barrere G.\": 147,\n",
      "    \"Koepfer D.\": 148,\n",
      "    \"Safiullin R.\": 149,\n",
      "    \"Millman J.\": 150,\n",
      "    \"Kecmanovic M.\": 151,\n",
      "    \"Safwat M.\": 152,\n",
      "    \"Paul T.\": 153,\n",
      "    \"Rodriguez Taverna S.\": 154,\n",
      "    \"Machac T.\": 155,\n",
      "    \"Giron M.\": 156,\n",
      "    \"Brown D.\": 157,\n",
      "    \"Polmans M.\": 158,\n",
      "    \"Melzer G.\": 159,\n",
      "    \"Vesely J.\": 160,\n",
      "    \"Benneteau J.\": 161,\n",
      "    \"Gunneswaran P.\": 162,\n",
      "    \"Cervantes I.\": 163,\n",
      "    \"Djokovic N.\": 164,\n",
      "    \"Popyrin A.\": 165,\n",
      "    \"Stepanek R.\": 166,\n",
      "    \"Blancaneaux G.\": 167,\n",
      "    \"Basilashvili N.\": 168,\n",
      "    \"Stakhovsky S.\": 169,\n",
      "    \"Tipsarevic J.\": 170,\n",
      "    \"Federer R.\": 171,\n",
      "    \"Ymer M.\": 172,\n",
      "    \"Hamou M.\": 173,\n",
      "    \"Fucsovics M.\": 174,\n",
      "    \"Nishioka Y.\": 175,\n",
      "    \"Travaglia S.\": 176,\n",
      "    \"Rosol L.\": 177,\n",
      "    \"Montanes A.\": 178,\n",
      "    \"Bellucci T.\": 179,\n",
      "    \"Coppejans K.\": 180,\n",
      "    \"Karlovic I.\": 181,\n",
      "    \"Cerundolo F.\": 182,\n",
      "    \"Almagro N.\": 183,\n",
      "    \"Isner J.\": 184,\n",
      "    \"Maden Y.\": 185,\n",
      "    \"Djere L.\": 186,\n",
      "    \"Berlocq C.\": 187,\n",
      "    \"Munoz De La Nava D.\": 188,\n",
      "    \"De Bakker T.\": 189,\n",
      "    \"Bhambri Y.\": 190,\n",
      "    \"Fratangelo B.\": 191,\n",
      "    \"Broady L.\": 192,\n",
      "    \"Mayer F.\": 193,\n",
      "    \"Berdych T.\": 194,\n",
      "    \"Shapovalov D.\": 195,\n",
      "    \"Kyrgios N.\": 196,\n",
      "    \"Bublik A.\": 197,\n",
      "    \"Gaston H.\": 198,\n",
      "    \"Murray A.\": 199,\n",
      "    \"Sijsling I.\": 200,\n",
      "    \"Norrie C.\": 201,\n",
      "    \"Brooksby J.\": 202,\n",
      "    \"Molcan A.\": 203,\n",
      "    \"Etcheverry T.\": 204,\n",
      "    \"Troicki V.\": 205,\n",
      "    \"Carballes Baena R.\": 206,\n",
      "    \"O Connell C.\": 207,\n",
      "    \"Ruusuvuori E.\": 208,\n",
      "    \"Andujar P.\": 209,\n",
      "    \"Johnson S.\": 210,\n",
      "    \"Martin A.\": 211,\n",
      "    \"Estrella Burgos V.\": 212,\n",
      "    \"Davidovich Fokina A.\": 213,\n",
      "    \"Balazs A.\": 214,\n",
      "    \"Mager G.\": 215,\n",
      "    \"Jaziri M.\": 216,\n",
      "    \"Gojowczyk P.\": 217,\n",
      "    \"Borges N.\": 218,\n",
      "    \"Guinard M.\": 219,\n",
      "    \"Ramos-Vinolas A.\": 220,\n",
      "    \"Dellien H.\": 221,\n",
      "    \"Lu Y.H.\": 222,\n",
      "    \"Bonzi B.\": 223,\n",
      "    \"Ebden M.\": 224,\n",
      "    \"Querrey S.\": 225,\n",
      "    \"Tomic B.\": 226,\n",
      "    \"Edmund K.\": 227,\n",
      "    \"Struff J.L.\": 228,\n",
      "    \"Kohlschreiber P.\": 229,\n",
      "    \"Donskoy E.\": 230,\n",
      "    \"Anderson K.\": 231,\n",
      "    \"Kokkinakis T.\": 232,\n",
      "    \"Vukic A.\": 233,\n",
      "    \"Cilic M.\": 234,\n",
      "    \"Lokoli L.\": 235,\n",
      "    \"Griekspoor T.\": 236,\n",
      "    \"Diez S.\": 237,\n",
      "    \"Dolgopolov O.\": 238,\n",
      "    \"Nakashima B.\": 239,\n",
      "    \"Andreozzi G.\": 240,\n",
      "    \"Del Potro J.M.\": 241,\n",
      "    \"Pouille L.\": 242,\n",
      "    \"Muller G.\": 243,\n",
      "    \"Herbert P.H.\": 244,\n",
      "    \"Rubin N.\": 245,\n",
      "    \"Ferrer D.\": 246,\n",
      "    \"Schwartzman D.\": 247,\n",
      "    \"Tsitsipas S.\": 248,\n",
      "    \"Ugo Carabelli C.\": 249,\n",
      "    \"Lorenzi P.\": 250,\n",
      "    \"Monfils G.\": 251,\n",
      "    \"Otte O.\": 252,\n",
      "    \"Berankis R.\": 253,\n",
      "    \"Monteiro T.\": 254,\n",
      "    \"Elias G.\": 255,\n",
      "    \"Giannessi A.\": 256,\n",
      "    \"Albot R.\": 257,\n",
      "    \"Galan D.E.\": 258,\n",
      "    \"Del Potro J. M.\": 259,\n",
      "    \"Klizan M.\": 260,\n",
      "    \"Gerasimov E.\": 261,\n",
      "    \"Tursunov D.\": 262,\n",
      "    \"Kovalik J.\": 263,\n",
      "    \"Harris L.\": 264,\n",
      "    \"Pospisil V.\": 265,\n",
      "    \"Simon G.\": 266,\n",
      "    \"Galan D.\": 267,\n",
      "    \"Coria F.\": 268,\n",
      "    \"Rinderknech A.\": 269,\n",
      "    \"Sousa J.\": 270,\n",
      "    \"Berrettini M.\": 271,\n",
      "    \"Altmaier D.\": 272,\n",
      "    \"Rune H.\": 273,\n",
      "    \"Ilhan M.\": 274,\n",
      "    \"Kuznetsov An.\": 275,\n",
      "    \"Lajovic D.\": 276,\n",
      "    \"Cecchinato M.\": 277,\n",
      "    \"Polansky P.\": 278,\n",
      "    \"Sandgren T.\": 279,\n",
      "    \"De Schepper K.\": 280,\n",
      "    \"Kudla D.\": 281,\n",
      "    \"Tseng C. H.\": 282,\n",
      "    \"Baez S.\": 283,\n",
      "    \"Varillas J. P.\": 284,\n",
      "    \"Bemelmans R.\": 285,\n",
      "    \"Thompson J.\": 286,\n",
      "    \"Haase R.\": 287,\n",
      "    \"Rublev A.\": 288,\n",
      "    \"Kicker N.\": 289,\n",
      "    \"Gombos N.\": 290,\n",
      "    \"Dutra Silva R.\": 291\n",
      "}\n"
     ]
    }
   ],
   "source": [
    "# Mapeas nombres unicos a llave que se incrementa en 1\n",
    "import json\n",
    "dict_jugadores = {value: key for key, value in enumerate(player_values)}\n",
    "print(json.dumps(dict_jugadores, indent=4))"
   ],
   "metadata": {
    "collapsed": false
   }
  },
  {
   "cell_type": "code",
   "execution_count": 7,
   "outputs": [],
   "source": [
    "# Funcion para en base a un nombre obtener su id\n",
    "def player_to_id(value):\n",
    "    if value in dict_jugadores:\n",
    "        return dict_jugadores[value]\n",
    "    return -1"
   ],
   "metadata": {
    "collapsed": false
   }
  },
  {
   "cell_type": "code",
   "execution_count": 8,
   "outputs": [
    {
     "data": {
      "text/plain": "   Round_num  Winner_Id  Loser_Id  WRank  LRank  WPts   LPts  Wsets  Lsets  \\\n0          1        196       277     19  124.0  1855  478.0    3.0    0.0   \n1          1         41       257     21  137.0  1641  423.0    3.0    2.0   \n2          1        200         7    123  203.0   484  264.0    3.0    0.0   \n3          1         22        79     79   76.0   706  712.0    3.0    0.0   \n4          1        275        12     40   96.0  1063  600.0    3.0    0.0   \n\n   B365W  ...  WinnerRoundsWon  LoserRoundsWon  LabelWinnerRounds  \\\n0   1.02  ...                2               4                  0   \n1   1.14  ...                4               3                  1   \n2   2.10  ...                1               0                  1   \n3   1.72  ...                1               0                  1   \n4   1.08  ...                1               0                  1   \n\n   LabelWinnerRoundsAndOddsAvg  WinnerRoundsLost  LoserRoundsLost  \\\n0                            0                 0                2   \n1                            1                 3                3   \n2                            1                 0                1   \n3                            1                 1                2   \n4                            1                 2                1   \n\n   WinnerRoundsPlayed  LoserRoundsPlayed  LabelWinnerRoundsWonOverAll  \\\n0                   2                  6                       1.0000   \n1                   7                  6                       0.5714   \n2                   1                  1                       1.0000   \n3                   2                  2                       0.5000   \n4                   3                  1                       0.3333   \n\n   LabelLoserRoundsWonOverAll  \n0                      0.6667  \n1                      0.5000  \n2                      0.0000  \n3                      0.0000  \n4                      0.0000  \n\n[5 rows x 34 columns]",
      "text/html": "<div>\n<style scoped>\n    .dataframe tbody tr th:only-of-type {\n        vertical-align: middle;\n    }\n\n    .dataframe tbody tr th {\n        vertical-align: top;\n    }\n\n    .dataframe thead th {\n        text-align: right;\n    }\n</style>\n<table border=\"1\" class=\"dataframe\">\n  <thead>\n    <tr style=\"text-align: right;\">\n      <th></th>\n      <th>Round_num</th>\n      <th>Winner_Id</th>\n      <th>Loser_Id</th>\n      <th>WRank</th>\n      <th>LRank</th>\n      <th>WPts</th>\n      <th>LPts</th>\n      <th>Wsets</th>\n      <th>Lsets</th>\n      <th>B365W</th>\n      <th>...</th>\n      <th>WinnerRoundsWon</th>\n      <th>LoserRoundsWon</th>\n      <th>LabelWinnerRounds</th>\n      <th>LabelWinnerRoundsAndOddsAvg</th>\n      <th>WinnerRoundsLost</th>\n      <th>LoserRoundsLost</th>\n      <th>WinnerRoundsPlayed</th>\n      <th>LoserRoundsPlayed</th>\n      <th>LabelWinnerRoundsWonOverAll</th>\n      <th>LabelLoserRoundsWonOverAll</th>\n    </tr>\n  </thead>\n  <tbody>\n    <tr>\n      <th>0</th>\n      <td>1</td>\n      <td>196</td>\n      <td>277</td>\n      <td>19</td>\n      <td>124.0</td>\n      <td>1855</td>\n      <td>478.0</td>\n      <td>3.0</td>\n      <td>0.0</td>\n      <td>1.02</td>\n      <td>...</td>\n      <td>2</td>\n      <td>4</td>\n      <td>0</td>\n      <td>0</td>\n      <td>0</td>\n      <td>2</td>\n      <td>2</td>\n      <td>6</td>\n      <td>1.0000</td>\n      <td>0.6667</td>\n    </tr>\n    <tr>\n      <th>1</th>\n      <td>1</td>\n      <td>41</td>\n      <td>257</td>\n      <td>21</td>\n      <td>137.0</td>\n      <td>1641</td>\n      <td>423.0</td>\n      <td>3.0</td>\n      <td>2.0</td>\n      <td>1.14</td>\n      <td>...</td>\n      <td>4</td>\n      <td>3</td>\n      <td>1</td>\n      <td>1</td>\n      <td>3</td>\n      <td>3</td>\n      <td>7</td>\n      <td>6</td>\n      <td>0.5714</td>\n      <td>0.5000</td>\n    </tr>\n    <tr>\n      <th>2</th>\n      <td>1</td>\n      <td>200</td>\n      <td>7</td>\n      <td>123</td>\n      <td>203.0</td>\n      <td>484</td>\n      <td>264.0</td>\n      <td>3.0</td>\n      <td>0.0</td>\n      <td>2.10</td>\n      <td>...</td>\n      <td>1</td>\n      <td>0</td>\n      <td>1</td>\n      <td>1</td>\n      <td>0</td>\n      <td>1</td>\n      <td>1</td>\n      <td>1</td>\n      <td>1.0000</td>\n      <td>0.0000</td>\n    </tr>\n    <tr>\n      <th>3</th>\n      <td>1</td>\n      <td>22</td>\n      <td>79</td>\n      <td>79</td>\n      <td>76.0</td>\n      <td>706</td>\n      <td>712.0</td>\n      <td>3.0</td>\n      <td>0.0</td>\n      <td>1.72</td>\n      <td>...</td>\n      <td>1</td>\n      <td>0</td>\n      <td>1</td>\n      <td>1</td>\n      <td>1</td>\n      <td>2</td>\n      <td>2</td>\n      <td>2</td>\n      <td>0.5000</td>\n      <td>0.0000</td>\n    </tr>\n    <tr>\n      <th>4</th>\n      <td>1</td>\n      <td>275</td>\n      <td>12</td>\n      <td>40</td>\n      <td>96.0</td>\n      <td>1063</td>\n      <td>600.0</td>\n      <td>3.0</td>\n      <td>0.0</td>\n      <td>1.08</td>\n      <td>...</td>\n      <td>1</td>\n      <td>0</td>\n      <td>1</td>\n      <td>1</td>\n      <td>2</td>\n      <td>1</td>\n      <td>3</td>\n      <td>1</td>\n      <td>0.3333</td>\n      <td>0.0000</td>\n    </tr>\n  </tbody>\n</table>\n<p>5 rows × 34 columns</p>\n</div>"
     },
     "execution_count": 8,
     "metadata": {},
     "output_type": "execute_result"
    }
   ],
   "source": [
    "data.insert(loc=1, column='Winner_Id', value=data['Winner'].apply(player_to_id))\n",
    "data = data.drop('Winner', axis=1)\n",
    "data.insert(loc=2, column='Loser_Id', value=data['Loser'].apply(player_to_id))\n",
    "data = data.drop('Loser', axis=1)\n",
    "data.head()"
   ],
   "metadata": {
    "collapsed": false
   }
  },
  {
   "cell_type": "code",
   "execution_count": 9,
   "outputs": [],
   "source": [
    "# Guardar resultado final\n",
    "data.to_csv('data/data_numeric_regression.csv', index=False)"
   ],
   "metadata": {
    "collapsed": false
   }
  },
  {
   "cell_type": "code",
   "execution_count": 10,
   "outputs": [],
   "source": [
    "import csv\n",
    "# Guardar mapeo Jugador - Id\n",
    "with open('data/mapeo_jugador_id.csv', 'w', newline='') as file:\n",
    "    writer = csv.writer(file)\n",
    "\n",
    "    # Write each key-value pair as a row in the CSV file\n",
    "    for key, value in dict_jugadores.items():\n",
    "        writer.writerow([key, value])"
   ],
   "metadata": {
    "collapsed": false
   }
  }
 ],
 "metadata": {
  "kernelspec": {
   "display_name": "Python 3",
   "language": "python",
   "name": "python3"
  },
  "language_info": {
   "codemirror_mode": {
    "name": "ipython",
    "version": 2
   },
   "file_extension": ".py",
   "mimetype": "text/x-python",
   "name": "python",
   "nbconvert_exporter": "python",
   "pygments_lexer": "ipython2",
   "version": "2.7.6"
  }
 },
 "nbformat": 4,
 "nbformat_minor": 0
}
