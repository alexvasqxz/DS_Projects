{
 "cells": [
  {
   "cell_type": "code",
   "execution_count": 16,
   "metadata": {
    "collapsed": true
   },
   "outputs": [
    {
     "data": {
      "text/plain": "   ATP        Date      Round         Winner          Loser  WRank  LRank  \\\n0   33  22/05/2016  1st Round     Kyrgios N.  Cecchinato M.     19  124.0   \n1   33  22/05/2016  1st Round       Paire B.       Albot R.     21  137.0   \n2   33  22/05/2016  1st Round    Sijsling I.       Ungur A.    123  203.0   \n3   33  22/05/2016  1st Round  Gabashvili T.       Young D.     79   76.0   \n4   33  22/05/2016  1st Round  Kuznetsov An.      Becker B.     40   96.0   \n\n   WPts   LPts  Wsets  ...  WinnerRoundsWon  LoserRoundsWon  \\\n0  1855  478.0    3.0  ...                2               4   \n1  1641  423.0    3.0  ...                4               3   \n2   484  264.0    3.0  ...                1               0   \n3   706  712.0    3.0  ...                1               0   \n4  1063  600.0    3.0  ...                1               0   \n\n   LabelWinnerRounds  LabelWinnerRoundsAndOddsAvg  WinnerRoundsLost  \\\n0                  0                            0                 0   \n1                  1                            1                 3   \n2                  1                            1                 0   \n3                  1                            1                 1   \n4                  1                            1                 2   \n\n   LoserRoundsLost  WinnerRoundsPlayed  LoserRoundsPlayed  \\\n0                2                   2                  6   \n1                3                   7                  6   \n2                1                   1                  1   \n3                2                   2                  2   \n4                1                   3                  1   \n\n   LabelWinnerRoundsWonOverAll  LabelLoserRoundsWonOverAll  \n0                       1.0000                      0.6667  \n1                       0.5714                      0.5000  \n2                       1.0000                      0.0000  \n3                       0.5000                      0.0000  \n4                       0.3333                      0.0000  \n\n[5 rows x 36 columns]",
      "text/html": "<div>\n<style scoped>\n    .dataframe tbody tr th:only-of-type {\n        vertical-align: middle;\n    }\n\n    .dataframe tbody tr th {\n        vertical-align: top;\n    }\n\n    .dataframe thead th {\n        text-align: right;\n    }\n</style>\n<table border=\"1\" class=\"dataframe\">\n  <thead>\n    <tr style=\"text-align: right;\">\n      <th></th>\n      <th>ATP</th>\n      <th>Date</th>\n      <th>Round</th>\n      <th>Winner</th>\n      <th>Loser</th>\n      <th>WRank</th>\n      <th>LRank</th>\n      <th>WPts</th>\n      <th>LPts</th>\n      <th>Wsets</th>\n      <th>...</th>\n      <th>WinnerRoundsWon</th>\n      <th>LoserRoundsWon</th>\n      <th>LabelWinnerRounds</th>\n      <th>LabelWinnerRoundsAndOddsAvg</th>\n      <th>WinnerRoundsLost</th>\n      <th>LoserRoundsLost</th>\n      <th>WinnerRoundsPlayed</th>\n      <th>LoserRoundsPlayed</th>\n      <th>LabelWinnerRoundsWonOverAll</th>\n      <th>LabelLoserRoundsWonOverAll</th>\n    </tr>\n  </thead>\n  <tbody>\n    <tr>\n      <th>0</th>\n      <td>33</td>\n      <td>22/05/2016</td>\n      <td>1st Round</td>\n      <td>Kyrgios N.</td>\n      <td>Cecchinato M.</td>\n      <td>19</td>\n      <td>124.0</td>\n      <td>1855</td>\n      <td>478.0</td>\n      <td>3.0</td>\n      <td>...</td>\n      <td>2</td>\n      <td>4</td>\n      <td>0</td>\n      <td>0</td>\n      <td>0</td>\n      <td>2</td>\n      <td>2</td>\n      <td>6</td>\n      <td>1.0000</td>\n      <td>0.6667</td>\n    </tr>\n    <tr>\n      <th>1</th>\n      <td>33</td>\n      <td>22/05/2016</td>\n      <td>1st Round</td>\n      <td>Paire B.</td>\n      <td>Albot R.</td>\n      <td>21</td>\n      <td>137.0</td>\n      <td>1641</td>\n      <td>423.0</td>\n      <td>3.0</td>\n      <td>...</td>\n      <td>4</td>\n      <td>3</td>\n      <td>1</td>\n      <td>1</td>\n      <td>3</td>\n      <td>3</td>\n      <td>7</td>\n      <td>6</td>\n      <td>0.5714</td>\n      <td>0.5000</td>\n    </tr>\n    <tr>\n      <th>2</th>\n      <td>33</td>\n      <td>22/05/2016</td>\n      <td>1st Round</td>\n      <td>Sijsling I.</td>\n      <td>Ungur A.</td>\n      <td>123</td>\n      <td>203.0</td>\n      <td>484</td>\n      <td>264.0</td>\n      <td>3.0</td>\n      <td>...</td>\n      <td>1</td>\n      <td>0</td>\n      <td>1</td>\n      <td>1</td>\n      <td>0</td>\n      <td>1</td>\n      <td>1</td>\n      <td>1</td>\n      <td>1.0000</td>\n      <td>0.0000</td>\n    </tr>\n    <tr>\n      <th>3</th>\n      <td>33</td>\n      <td>22/05/2016</td>\n      <td>1st Round</td>\n      <td>Gabashvili T.</td>\n      <td>Young D.</td>\n      <td>79</td>\n      <td>76.0</td>\n      <td>706</td>\n      <td>712.0</td>\n      <td>3.0</td>\n      <td>...</td>\n      <td>1</td>\n      <td>0</td>\n      <td>1</td>\n      <td>1</td>\n      <td>1</td>\n      <td>2</td>\n      <td>2</td>\n      <td>2</td>\n      <td>0.5000</td>\n      <td>0.0000</td>\n    </tr>\n    <tr>\n      <th>4</th>\n      <td>33</td>\n      <td>22/05/2016</td>\n      <td>1st Round</td>\n      <td>Kuznetsov An.</td>\n      <td>Becker B.</td>\n      <td>40</td>\n      <td>96.0</td>\n      <td>1063</td>\n      <td>600.0</td>\n      <td>3.0</td>\n      <td>...</td>\n      <td>1</td>\n      <td>0</td>\n      <td>1</td>\n      <td>1</td>\n      <td>2</td>\n      <td>1</td>\n      <td>3</td>\n      <td>1</td>\n      <td>0.3333</td>\n      <td>0.0000</td>\n    </tr>\n  </tbody>\n</table>\n<p>5 rows × 36 columns</p>\n</div>"
     },
     "execution_count": 16,
     "metadata": {},
     "output_type": "execute_result"
    }
   ],
   "source": [
    "import pandas as pd\n",
    "data = pd.read_csv(\"data/data_label_winner_rounds_won_overall_regression.csv\")\n",
    "data.head()"
   ]
  },
  {
   "cell_type": "code",
   "execution_count": 20,
   "outputs": [
    {
     "name": "stdout",
     "output_type": "stream",
     "text": [
      "['1st Round' '2nd Round' '3rd Round' '4th Round' 'Quarterfinals'\n",
      " 'Semifinals' 'The Final']\n"
     ]
    }
   ],
   "source": [
    "unique_rounds = data['Round'].unique()\n",
    "print(unique_rounds)"
   ],
   "metadata": {
    "collapsed": false
   }
  },
  {
   "cell_type": "code",
   "execution_count": 30,
   "outputs": [
    {
     "name": "stdout",
     "output_type": "stream",
     "text": [
      "-1\n"
     ]
    }
   ],
   "source": [
    "mapping_dict = {\n",
    "            '1st Round' : 1,\n",
    "            '2nd Round' : 2,\n",
    "            '3rd Round' : 3,\n",
    "            '4th Round' : 4,\n",
    "            'Quarterfinals' : 5,\n",
    "            'Semifinals' : 6,\n",
    "            'The Final' : 7\n",
    "        }\n",
    "\n",
    "def round_to_num(value):\n",
    "    if value in mapping_dict:\n",
    "        return mapping_dict[value]\n",
    "    return -1"
   ],
   "metadata": {
    "collapsed": false
   }
  },
  {
   "cell_type": "code",
   "execution_count": 31,
   "outputs": [
    {
     "data": {
      "text/plain": "   ATP        Date  Round_num         Winner          Loser  WRank  LRank  \\\n0   33  22/05/2016          1     Kyrgios N.  Cecchinato M.     19  124.0   \n1   33  22/05/2016          1       Paire B.       Albot R.     21  137.0   \n2   33  22/05/2016          1    Sijsling I.       Ungur A.    123  203.0   \n3   33  22/05/2016          1  Gabashvili T.       Young D.     79   76.0   \n4   33  22/05/2016          1  Kuznetsov An.      Becker B.     40   96.0   \n\n   WPts   LPts  Wsets  ...  WinnerRoundsWon  LoserRoundsWon  \\\n0  1855  478.0    3.0  ...                2               4   \n1  1641  423.0    3.0  ...                4               3   \n2   484  264.0    3.0  ...                1               0   \n3   706  712.0    3.0  ...                1               0   \n4  1063  600.0    3.0  ...                1               0   \n\n   LabelWinnerRounds  LabelWinnerRoundsAndOddsAvg  WinnerRoundsLost  \\\n0                  0                            0                 0   \n1                  1                            1                 3   \n2                  1                            1                 0   \n3                  1                            1                 1   \n4                  1                            1                 2   \n\n   LoserRoundsLost  WinnerRoundsPlayed  LoserRoundsPlayed  \\\n0                2                   2                  6   \n1                3                   7                  6   \n2                1                   1                  1   \n3                2                   2                  2   \n4                1                   3                  1   \n\n   LabelWinnerRoundsWonOverAll  LabelLoserRoundsWonOverAll  \n0                       1.0000                      0.6667  \n1                       0.5714                      0.5000  \n2                       1.0000                      0.0000  \n3                       0.5000                      0.0000  \n4                       0.3333                      0.0000  \n\n[5 rows x 36 columns]",
      "text/html": "<div>\n<style scoped>\n    .dataframe tbody tr th:only-of-type {\n        vertical-align: middle;\n    }\n\n    .dataframe tbody tr th {\n        vertical-align: top;\n    }\n\n    .dataframe thead th {\n        text-align: right;\n    }\n</style>\n<table border=\"1\" class=\"dataframe\">\n  <thead>\n    <tr style=\"text-align: right;\">\n      <th></th>\n      <th>ATP</th>\n      <th>Date</th>\n      <th>Round_num</th>\n      <th>Winner</th>\n      <th>Loser</th>\n      <th>WRank</th>\n      <th>LRank</th>\n      <th>WPts</th>\n      <th>LPts</th>\n      <th>Wsets</th>\n      <th>...</th>\n      <th>WinnerRoundsWon</th>\n      <th>LoserRoundsWon</th>\n      <th>LabelWinnerRounds</th>\n      <th>LabelWinnerRoundsAndOddsAvg</th>\n      <th>WinnerRoundsLost</th>\n      <th>LoserRoundsLost</th>\n      <th>WinnerRoundsPlayed</th>\n      <th>LoserRoundsPlayed</th>\n      <th>LabelWinnerRoundsWonOverAll</th>\n      <th>LabelLoserRoundsWonOverAll</th>\n    </tr>\n  </thead>\n  <tbody>\n    <tr>\n      <th>0</th>\n      <td>33</td>\n      <td>22/05/2016</td>\n      <td>1</td>\n      <td>Kyrgios N.</td>\n      <td>Cecchinato M.</td>\n      <td>19</td>\n      <td>124.0</td>\n      <td>1855</td>\n      <td>478.0</td>\n      <td>3.0</td>\n      <td>...</td>\n      <td>2</td>\n      <td>4</td>\n      <td>0</td>\n      <td>0</td>\n      <td>0</td>\n      <td>2</td>\n      <td>2</td>\n      <td>6</td>\n      <td>1.0000</td>\n      <td>0.6667</td>\n    </tr>\n    <tr>\n      <th>1</th>\n      <td>33</td>\n      <td>22/05/2016</td>\n      <td>1</td>\n      <td>Paire B.</td>\n      <td>Albot R.</td>\n      <td>21</td>\n      <td>137.0</td>\n      <td>1641</td>\n      <td>423.0</td>\n      <td>3.0</td>\n      <td>...</td>\n      <td>4</td>\n      <td>3</td>\n      <td>1</td>\n      <td>1</td>\n      <td>3</td>\n      <td>3</td>\n      <td>7</td>\n      <td>6</td>\n      <td>0.5714</td>\n      <td>0.5000</td>\n    </tr>\n    <tr>\n      <th>2</th>\n      <td>33</td>\n      <td>22/05/2016</td>\n      <td>1</td>\n      <td>Sijsling I.</td>\n      <td>Ungur A.</td>\n      <td>123</td>\n      <td>203.0</td>\n      <td>484</td>\n      <td>264.0</td>\n      <td>3.0</td>\n      <td>...</td>\n      <td>1</td>\n      <td>0</td>\n      <td>1</td>\n      <td>1</td>\n      <td>0</td>\n      <td>1</td>\n      <td>1</td>\n      <td>1</td>\n      <td>1.0000</td>\n      <td>0.0000</td>\n    </tr>\n    <tr>\n      <th>3</th>\n      <td>33</td>\n      <td>22/05/2016</td>\n      <td>1</td>\n      <td>Gabashvili T.</td>\n      <td>Young D.</td>\n      <td>79</td>\n      <td>76.0</td>\n      <td>706</td>\n      <td>712.0</td>\n      <td>3.0</td>\n      <td>...</td>\n      <td>1</td>\n      <td>0</td>\n      <td>1</td>\n      <td>1</td>\n      <td>1</td>\n      <td>2</td>\n      <td>2</td>\n      <td>2</td>\n      <td>0.5000</td>\n      <td>0.0000</td>\n    </tr>\n    <tr>\n      <th>4</th>\n      <td>33</td>\n      <td>22/05/2016</td>\n      <td>1</td>\n      <td>Kuznetsov An.</td>\n      <td>Becker B.</td>\n      <td>40</td>\n      <td>96.0</td>\n      <td>1063</td>\n      <td>600.0</td>\n      <td>3.0</td>\n      <td>...</td>\n      <td>1</td>\n      <td>0</td>\n      <td>1</td>\n      <td>1</td>\n      <td>2</td>\n      <td>1</td>\n      <td>3</td>\n      <td>1</td>\n      <td>0.3333</td>\n      <td>0.0000</td>\n    </tr>\n  </tbody>\n</table>\n<p>5 rows × 36 columns</p>\n</div>"
     },
     "execution_count": 31,
     "metadata": {},
     "output_type": "execute_result"
    }
   ],
   "source": [
    "data.insert(loc=2, column='Round_num', value=data['Round'].apply(round_to_num))\n",
    "data = data.drop('Round', axis=1)\n",
    "data.head()"
   ],
   "metadata": {
    "collapsed": false
   }
  },
  {
   "cell_type": "code",
   "execution_count": 32,
   "outputs": [
    {
     "name": "stdout",
     "output_type": "stream",
     "text": [
      "{'Ferrer D.', 'Khachanov K.', 'Mcdonald M.', 'Pella G.', 'Londero J.I.', 'Balazs A.', 'Fratangelo B.', 'Millman J.', 'Vukic A.', 'Sousa J.', 'Rosol L.', 'Janowicz J.', 'Vatutin A.', 'Molcan A.', 'Johnson S.', 'Bemelmans R.', 'Mayer L.', 'Ramos-Vinolas A.', 'Baghdatis M.', 'Blancaneaux G.', 'Melzer G.', 'Berdych T.', 'Albot R.', 'Musetti L.', 'Young D.', 'Federer R.', 'Baker B.', 'Mayot H.', 'Rublev A.', 'Nishioka Y.', 'Fritz T.', 'Chung H.', 'Ebden M.', 'Zverev M.', 'Istomin D.', 'Milojevic N.', 'Zopp J.', 'Agamenone F.', 'Lu Y.H.', 'Martinez P.', 'Krajinovic F.', 'Hoang A.', 'Tseng C. H.', 'Bourgue M.', 'Kubler J.', 'Nishikori K.', 'Laaksonen H.', 'Diez S.', 'Gunneswaran P.', 'Robert S.', 'Safiullin R.', 'Hemery C.', 'Ugo Carabelli C.', 'Granollers M.', 'Lu Y.', 'Guinard M.', 'Troicki V.', 'Isner J.', 'Garcia-Lopez G.', 'Nakashima B.', 'Lajovic D.', 'Maden Y.', 'Carballes Baena R.', 'Tipsarevic J.', 'Griekspoor T.', 'Kovalik J.', 'Paul T.', 'Taberner C.', 'Lehecka J.', 'Herbert P.H.', 'Korda S.', 'Polmans M.', 'Giraldo S.', 'Lopez F.', 'Fognini F.', 'Gabashvili T.', 'Kicker N.', 'Fucsovics M.', 'Cuevas P.', 'Del Potro J.M.', 'Cachin P.', 'Estrella Burgos V.', 'O Connell C.', 'Daniel T.', 'Pouille L.', 'Sela D.', 'Bautista Agut R.', 'Tursunov D.', 'Pavlasek A.', 'Goffin D.', 'Cecchinato M.', 'Verdasco F.', 'Monfils G.', 'Kamke T.', 'Elias G.', 'Escobedo E.', 'Bellucci T.', 'Sinner J.', 'Simon G.', 'Mannarino A.', 'Martin A.', 'Kolar Z.', 'Cazaux A.', 'Etcheverry T.', 'Zeballos H.', 'Djokovic N.', 'Schwartzman D.', 'Djere L.', 'Bedene A.', 'Del Potro J. M.', 'Baez S.', 'Mayer F.', 'Stebe C.M.', 'Mmoh M.', 'Broady L.', 'Benneteau J.', 'Coric B.', 'Sonego L.', 'Brown D.', 'Montanes A.', 'Kotov P.', 'Berrettini M.', 'Coppejans K.', 'Benchetrit E.', 'Delbonis F.', 'Rune H.', 'Gasquet R.', 'Muller G.', 'Karlovic I.', 'Hanfmann Y.', 'Bonzi B.', 'Kecmanovic M.', 'Gerasimov E.', 'Anderson K.', 'Gaston H.', 'Popyrin A.', 'Zverev A.', 'Kwon S.W.', 'Jaziri M.', 'Muller A.', 'Paire B.', 'Gulbis E.', 'Chardy J.', 'Berlocq C.', 'Struff J.L.', 'Ram R.', 'Cerundolo F.', 'Kohlschreiber P.', 'Duckworth J.', 'Monaco J.', 'Harris L.', 'Rodriguez Taverna S.', 'Ilhan M.', 'Andreozzi G.', 'Travaglia S.', 'Kuznetsov An.', 'Sijsling I.', 'Andujar P.', 'Zapata Miralles B.', 'Murray A.', 'Sock J.', 'Rodionov J.', 'Auger-Aliassime F.', 'Moutet C.', 'Coria F.', 'Pospisil V.', 'Basic M.', 'Rubin N.', 'Kyrgios N.', 'Darcis S.', 'Bhambri Y.', 'Opelka R.', 'Humbert U.', 'Klahn B.', 'Querrey S.', 'Monteiro T.', 'Alcaraz C.', 'Stepanek R.', 'Novak D.', 'Basilashvili N.', 'Nadal R.', 'Mahut N.', 'Tiafoe F.', 'Munoz De La Nava D.', 'Dolgopolov O.', 'Klizan M.', 'Tsitsipas S.', 'Sandgren T.', 'Haase R.', 'Dellien H.', 'Uchiyama Y.', 'Jung J.', 'Fabbiano T.', 'Bolelli S.', 'Ivashka I.', 'Tomic B.', 'Robredo T.', 'Safwat M.', 'Medvedev D.', 'Barrere G.', 'Vesely J.', 'Olivo R.', 'Kravchuk K.', 'Donaldson J.', 'Berankis R.', 'Varillas J. P.', 'Cervantes I.', 'Dodig I.', 'Thompson J.', 'Borges N.', 'Hamou M.', 'Cilic M.', 'Wawrinka S.', 'Trungelliti M.', 'Groth S.', 'Norrie C.', 'Thiem D.', 'Bublik A.', 'Kukushkin M.', 'Koepfer D.', 'Gojo B.', 'Edmund K.', 'Ruusuvuori E.', 'Gombos N.', 'Majchrzak K.', 'Tsonga J.W.', 'Dzumhur D.', 'De Schepper K.', 'De Bakker T.', 'Munar J.', 'Jarry N.', 'Davidovich Fokina A.', 'Karatsev A.', 'Gojowczyk P.', 'Brooksby J.', 'Bagnis F.', 'Ruud C.', 'Molleker R.', 'Shapovalov D.', 'De Greef A.', 'Galan D.', 'Janvier M.', 'Harrison R.', 'Carreno Busta P.', 'De Minaur A.', 'Marchenko I.', 'Machac T.', 'Haider-Maurer A.', 'Otte O.', 'Couacaud E.', 'Mathieu P.H.', 'Lorenzi P.', 'Marterer M.', 'Halys Q.', 'Caruso S.', 'Hurkacz H.', 'Samper-Montana J.', 'Polansky P.', 'Garin C.', 'Kudla D.', 'Rola B.', 'Zeppieri G.', 'Lokoli L.', 'Galan D.E.', 'Youzhny M.', 'Copil M.', 'Napolitano S.', 'Seppi A.', 'Evans D.', 'Stakhovsky S.', 'Donskoy E.', 'Altmaier D.', 'Ungur A.', 'Ymer M.', 'Becker B.', 'Giustino L.', 'Kokkinakis T.', 'Mager G.', 'Vilella Martinez M.', 'Gomez E.', 'Sugita Y.', 'Ofner S.', 'Cressy M.', 'Dutra Silva R.', 'Ymer E.', 'Raonic M.', 'Dimitrov G.', 'Rinderknech A.', 'Van De Zandschulp B.', 'Giron M.', 'Almagro N.', 'Giannessi A.'}\n"
     ]
    }
   ],
   "source": [
    "# Obtener valores de todos los nombres Unicos\n",
    "player_values = set(data['Winner'].tolist() + data['Loser'].tolist())\n",
    "print(player_values)"
   ],
   "metadata": {
    "collapsed": false
   }
  },
  {
   "cell_type": "code",
   "execution_count": 35,
   "outputs": [
    {
     "name": "stdout",
     "output_type": "stream",
     "text": [
      "{\n",
      "    \"Ferrer D.\": 0,\n",
      "    \"Khachanov K.\": 1,\n",
      "    \"Mcdonald M.\": 2,\n",
      "    \"Pella G.\": 3,\n",
      "    \"Londero J.I.\": 4,\n",
      "    \"Balazs A.\": 5,\n",
      "    \"Fratangelo B.\": 6,\n",
      "    \"Millman J.\": 7,\n",
      "    \"Vukic A.\": 8,\n",
      "    \"Sousa J.\": 9,\n",
      "    \"Rosol L.\": 10,\n",
      "    \"Janowicz J.\": 11,\n",
      "    \"Vatutin A.\": 12,\n",
      "    \"Molcan A.\": 13,\n",
      "    \"Johnson S.\": 14,\n",
      "    \"Bemelmans R.\": 15,\n",
      "    \"Mayer L.\": 16,\n",
      "    \"Ramos-Vinolas A.\": 17,\n",
      "    \"Baghdatis M.\": 18,\n",
      "    \"Blancaneaux G.\": 19,\n",
      "    \"Melzer G.\": 20,\n",
      "    \"Berdych T.\": 21,\n",
      "    \"Albot R.\": 22,\n",
      "    \"Musetti L.\": 23,\n",
      "    \"Young D.\": 24,\n",
      "    \"Federer R.\": 25,\n",
      "    \"Baker B.\": 26,\n",
      "    \"Mayot H.\": 27,\n",
      "    \"Rublev A.\": 28,\n",
      "    \"Nishioka Y.\": 29,\n",
      "    \"Fritz T.\": 30,\n",
      "    \"Chung H.\": 31,\n",
      "    \"Ebden M.\": 32,\n",
      "    \"Zverev M.\": 33,\n",
      "    \"Istomin D.\": 34,\n",
      "    \"Milojevic N.\": 35,\n",
      "    \"Zopp J.\": 36,\n",
      "    \"Agamenone F.\": 37,\n",
      "    \"Lu Y.H.\": 38,\n",
      "    \"Martinez P.\": 39,\n",
      "    \"Krajinovic F.\": 40,\n",
      "    \"Hoang A.\": 41,\n",
      "    \"Tseng C. H.\": 42,\n",
      "    \"Bourgue M.\": 43,\n",
      "    \"Kubler J.\": 44,\n",
      "    \"Nishikori K.\": 45,\n",
      "    \"Laaksonen H.\": 46,\n",
      "    \"Diez S.\": 47,\n",
      "    \"Gunneswaran P.\": 48,\n",
      "    \"Robert S.\": 49,\n",
      "    \"Safiullin R.\": 50,\n",
      "    \"Hemery C.\": 51,\n",
      "    \"Ugo Carabelli C.\": 52,\n",
      "    \"Granollers M.\": 53,\n",
      "    \"Lu Y.\": 54,\n",
      "    \"Guinard M.\": 55,\n",
      "    \"Troicki V.\": 56,\n",
      "    \"Isner J.\": 57,\n",
      "    \"Garcia-Lopez G.\": 58,\n",
      "    \"Nakashima B.\": 59,\n",
      "    \"Lajovic D.\": 60,\n",
      "    \"Maden Y.\": 61,\n",
      "    \"Carballes Baena R.\": 62,\n",
      "    \"Tipsarevic J.\": 63,\n",
      "    \"Griekspoor T.\": 64,\n",
      "    \"Kovalik J.\": 65,\n",
      "    \"Paul T.\": 66,\n",
      "    \"Taberner C.\": 67,\n",
      "    \"Lehecka J.\": 68,\n",
      "    \"Herbert P.H.\": 69,\n",
      "    \"Korda S.\": 70,\n",
      "    \"Polmans M.\": 71,\n",
      "    \"Giraldo S.\": 72,\n",
      "    \"Lopez F.\": 73,\n",
      "    \"Fognini F.\": 74,\n",
      "    \"Gabashvili T.\": 75,\n",
      "    \"Kicker N.\": 76,\n",
      "    \"Fucsovics M.\": 77,\n",
      "    \"Cuevas P.\": 78,\n",
      "    \"Del Potro J.M.\": 79,\n",
      "    \"Cachin P.\": 80,\n",
      "    \"Estrella Burgos V.\": 81,\n",
      "    \"O Connell C.\": 82,\n",
      "    \"Daniel T.\": 83,\n",
      "    \"Pouille L.\": 84,\n",
      "    \"Sela D.\": 85,\n",
      "    \"Bautista Agut R.\": 86,\n",
      "    \"Tursunov D.\": 87,\n",
      "    \"Pavlasek A.\": 88,\n",
      "    \"Goffin D.\": 89,\n",
      "    \"Cecchinato M.\": 90,\n",
      "    \"Verdasco F.\": 91,\n",
      "    \"Monfils G.\": 92,\n",
      "    \"Kamke T.\": 93,\n",
      "    \"Elias G.\": 94,\n",
      "    \"Escobedo E.\": 95,\n",
      "    \"Bellucci T.\": 96,\n",
      "    \"Sinner J.\": 97,\n",
      "    \"Simon G.\": 98,\n",
      "    \"Mannarino A.\": 99,\n",
      "    \"Martin A.\": 100,\n",
      "    \"Kolar Z.\": 101,\n",
      "    \"Cazaux A.\": 102,\n",
      "    \"Etcheverry T.\": 103,\n",
      "    \"Zeballos H.\": 104,\n",
      "    \"Djokovic N.\": 105,\n",
      "    \"Schwartzman D.\": 106,\n",
      "    \"Djere L.\": 107,\n",
      "    \"Bedene A.\": 108,\n",
      "    \"Del Potro J. M.\": 109,\n",
      "    \"Baez S.\": 110,\n",
      "    \"Mayer F.\": 111,\n",
      "    \"Stebe C.M.\": 112,\n",
      "    \"Mmoh M.\": 113,\n",
      "    \"Broady L.\": 114,\n",
      "    \"Benneteau J.\": 115,\n",
      "    \"Coric B.\": 116,\n",
      "    \"Sonego L.\": 117,\n",
      "    \"Brown D.\": 118,\n",
      "    \"Montanes A.\": 119,\n",
      "    \"Kotov P.\": 120,\n",
      "    \"Berrettini M.\": 121,\n",
      "    \"Coppejans K.\": 122,\n",
      "    \"Benchetrit E.\": 123,\n",
      "    \"Delbonis F.\": 124,\n",
      "    \"Rune H.\": 125,\n",
      "    \"Gasquet R.\": 126,\n",
      "    \"Muller G.\": 127,\n",
      "    \"Karlovic I.\": 128,\n",
      "    \"Hanfmann Y.\": 129,\n",
      "    \"Bonzi B.\": 130,\n",
      "    \"Kecmanovic M.\": 131,\n",
      "    \"Gerasimov E.\": 132,\n",
      "    \"Anderson K.\": 133,\n",
      "    \"Gaston H.\": 134,\n",
      "    \"Popyrin A.\": 135,\n",
      "    \"Zverev A.\": 136,\n",
      "    \"Kwon S.W.\": 137,\n",
      "    \"Jaziri M.\": 138,\n",
      "    \"Muller A.\": 139,\n",
      "    \"Paire B.\": 140,\n",
      "    \"Gulbis E.\": 141,\n",
      "    \"Chardy J.\": 142,\n",
      "    \"Berlocq C.\": 143,\n",
      "    \"Struff J.L.\": 144,\n",
      "    \"Ram R.\": 145,\n",
      "    \"Cerundolo F.\": 146,\n",
      "    \"Kohlschreiber P.\": 147,\n",
      "    \"Duckworth J.\": 148,\n",
      "    \"Monaco J.\": 149,\n",
      "    \"Harris L.\": 150,\n",
      "    \"Rodriguez Taverna S.\": 151,\n",
      "    \"Ilhan M.\": 152,\n",
      "    \"Andreozzi G.\": 153,\n",
      "    \"Travaglia S.\": 154,\n",
      "    \"Kuznetsov An.\": 155,\n",
      "    \"Sijsling I.\": 156,\n",
      "    \"Andujar P.\": 157,\n",
      "    \"Zapata Miralles B.\": 158,\n",
      "    \"Murray A.\": 159,\n",
      "    \"Sock J.\": 160,\n",
      "    \"Rodionov J.\": 161,\n",
      "    \"Auger-Aliassime F.\": 162,\n",
      "    \"Moutet C.\": 163,\n",
      "    \"Coria F.\": 164,\n",
      "    \"Pospisil V.\": 165,\n",
      "    \"Basic M.\": 166,\n",
      "    \"Rubin N.\": 167,\n",
      "    \"Kyrgios N.\": 168,\n",
      "    \"Darcis S.\": 169,\n",
      "    \"Bhambri Y.\": 170,\n",
      "    \"Opelka R.\": 171,\n",
      "    \"Humbert U.\": 172,\n",
      "    \"Klahn B.\": 173,\n",
      "    \"Querrey S.\": 174,\n",
      "    \"Monteiro T.\": 175,\n",
      "    \"Alcaraz C.\": 176,\n",
      "    \"Stepanek R.\": 177,\n",
      "    \"Novak D.\": 178,\n",
      "    \"Basilashvili N.\": 179,\n",
      "    \"Nadal R.\": 180,\n",
      "    \"Mahut N.\": 181,\n",
      "    \"Tiafoe F.\": 182,\n",
      "    \"Munoz De La Nava D.\": 183,\n",
      "    \"Dolgopolov O.\": 184,\n",
      "    \"Klizan M.\": 185,\n",
      "    \"Tsitsipas S.\": 186,\n",
      "    \"Sandgren T.\": 187,\n",
      "    \"Haase R.\": 188,\n",
      "    \"Dellien H.\": 189,\n",
      "    \"Uchiyama Y.\": 190,\n",
      "    \"Jung J.\": 191,\n",
      "    \"Fabbiano T.\": 192,\n",
      "    \"Bolelli S.\": 193,\n",
      "    \"Ivashka I.\": 194,\n",
      "    \"Tomic B.\": 195,\n",
      "    \"Robredo T.\": 196,\n",
      "    \"Safwat M.\": 197,\n",
      "    \"Medvedev D.\": 198,\n",
      "    \"Barrere G.\": 199,\n",
      "    \"Vesely J.\": 200,\n",
      "    \"Olivo R.\": 201,\n",
      "    \"Kravchuk K.\": 202,\n",
      "    \"Donaldson J.\": 203,\n",
      "    \"Berankis R.\": 204,\n",
      "    \"Varillas J. P.\": 205,\n",
      "    \"Cervantes I.\": 206,\n",
      "    \"Dodig I.\": 207,\n",
      "    \"Thompson J.\": 208,\n",
      "    \"Borges N.\": 209,\n",
      "    \"Hamou M.\": 210,\n",
      "    \"Cilic M.\": 211,\n",
      "    \"Wawrinka S.\": 212,\n",
      "    \"Trungelliti M.\": 213,\n",
      "    \"Groth S.\": 214,\n",
      "    \"Norrie C.\": 215,\n",
      "    \"Thiem D.\": 216,\n",
      "    \"Bublik A.\": 217,\n",
      "    \"Kukushkin M.\": 218,\n",
      "    \"Koepfer D.\": 219,\n",
      "    \"Gojo B.\": 220,\n",
      "    \"Edmund K.\": 221,\n",
      "    \"Ruusuvuori E.\": 222,\n",
      "    \"Gombos N.\": 223,\n",
      "    \"Majchrzak K.\": 224,\n",
      "    \"Tsonga J.W.\": 225,\n",
      "    \"Dzumhur D.\": 226,\n",
      "    \"De Schepper K.\": 227,\n",
      "    \"De Bakker T.\": 228,\n",
      "    \"Munar J.\": 229,\n",
      "    \"Jarry N.\": 230,\n",
      "    \"Davidovich Fokina A.\": 231,\n",
      "    \"Karatsev A.\": 232,\n",
      "    \"Gojowczyk P.\": 233,\n",
      "    \"Brooksby J.\": 234,\n",
      "    \"Bagnis F.\": 235,\n",
      "    \"Ruud C.\": 236,\n",
      "    \"Molleker R.\": 237,\n",
      "    \"Shapovalov D.\": 238,\n",
      "    \"De Greef A.\": 239,\n",
      "    \"Galan D.\": 240,\n",
      "    \"Janvier M.\": 241,\n",
      "    \"Harrison R.\": 242,\n",
      "    \"Carreno Busta P.\": 243,\n",
      "    \"De Minaur A.\": 244,\n",
      "    \"Marchenko I.\": 245,\n",
      "    \"Machac T.\": 246,\n",
      "    \"Haider-Maurer A.\": 247,\n",
      "    \"Otte O.\": 248,\n",
      "    \"Couacaud E.\": 249,\n",
      "    \"Mathieu P.H.\": 250,\n",
      "    \"Lorenzi P.\": 251,\n",
      "    \"Marterer M.\": 252,\n",
      "    \"Halys Q.\": 253,\n",
      "    \"Caruso S.\": 254,\n",
      "    \"Hurkacz H.\": 255,\n",
      "    \"Samper-Montana J.\": 256,\n",
      "    \"Polansky P.\": 257,\n",
      "    \"Garin C.\": 258,\n",
      "    \"Kudla D.\": 259,\n",
      "    \"Rola B.\": 260,\n",
      "    \"Zeppieri G.\": 261,\n",
      "    \"Lokoli L.\": 262,\n",
      "    \"Galan D.E.\": 263,\n",
      "    \"Youzhny M.\": 264,\n",
      "    \"Copil M.\": 265,\n",
      "    \"Napolitano S.\": 266,\n",
      "    \"Seppi A.\": 267,\n",
      "    \"Evans D.\": 268,\n",
      "    \"Stakhovsky S.\": 269,\n",
      "    \"Donskoy E.\": 270,\n",
      "    \"Altmaier D.\": 271,\n",
      "    \"Ungur A.\": 272,\n",
      "    \"Ymer M.\": 273,\n",
      "    \"Becker B.\": 274,\n",
      "    \"Giustino L.\": 275,\n",
      "    \"Kokkinakis T.\": 276,\n",
      "    \"Mager G.\": 277,\n",
      "    \"Vilella Martinez M.\": 278,\n",
      "    \"Gomez E.\": 279,\n",
      "    \"Sugita Y.\": 280,\n",
      "    \"Ofner S.\": 281,\n",
      "    \"Cressy M.\": 282,\n",
      "    \"Dutra Silva R.\": 283,\n",
      "    \"Ymer E.\": 284,\n",
      "    \"Raonic M.\": 285,\n",
      "    \"Dimitrov G.\": 286,\n",
      "    \"Rinderknech A.\": 287,\n",
      "    \"Van De Zandschulp B.\": 288,\n",
      "    \"Giron M.\": 289,\n",
      "    \"Almagro N.\": 290,\n",
      "    \"Giannessi A.\": 291\n",
      "}\n"
     ]
    }
   ],
   "source": [
    "# Mapeas nombres unicos a llave que se incrementa en 1\n",
    "import json\n",
    "dict_jugadores = {value: key for key, value in enumerate(player_values)}\n",
    "print(json.dumps(dict_jugadores, indent=4))"
   ],
   "metadata": {
    "collapsed": false
   }
  },
  {
   "cell_type": "code",
   "execution_count": 37,
   "outputs": [
    {
     "name": "stdout",
     "output_type": "stream",
     "text": [
      "-1\n"
     ]
    }
   ],
   "source": [
    "# Funcion para en base a un nombre obtener su id\n",
    "def player_to_id(value):\n",
    "    if value in dict_jugadores:\n",
    "        return dict_jugadores[value]\n",
    "    return -1"
   ],
   "metadata": {
    "collapsed": false
   }
  },
  {
   "cell_type": "code",
   "execution_count": 38,
   "outputs": [
    {
     "data": {
      "text/plain": "   ATP        Date  Round_num  Winner_Id  Loser_Id  WRank  LRank  WPts   LPts  \\\n0   33  22/05/2016          1        168        90     19  124.0  1855  478.0   \n1   33  22/05/2016          1        140        22     21  137.0  1641  423.0   \n2   33  22/05/2016          1        156       272    123  203.0   484  264.0   \n3   33  22/05/2016          1         75        24     79   76.0   706  712.0   \n4   33  22/05/2016          1        155       274     40   96.0  1063  600.0   \n\n   Wsets  ...  WinnerRoundsWon  LoserRoundsWon  LabelWinnerRounds  \\\n0    3.0  ...                2               4                  0   \n1    3.0  ...                4               3                  1   \n2    3.0  ...                1               0                  1   \n3    3.0  ...                1               0                  1   \n4    3.0  ...                1               0                  1   \n\n   LabelWinnerRoundsAndOddsAvg  WinnerRoundsLost  LoserRoundsLost  \\\n0                            0                 0                2   \n1                            1                 3                3   \n2                            1                 0                1   \n3                            1                 1                2   \n4                            1                 2                1   \n\n   WinnerRoundsPlayed  LoserRoundsPlayed  LabelWinnerRoundsWonOverAll  \\\n0                   2                  6                       1.0000   \n1                   7                  6                       0.5714   \n2                   1                  1                       1.0000   \n3                   2                  2                       0.5000   \n4                   3                  1                       0.3333   \n\n   LabelLoserRoundsWonOverAll  \n0                      0.6667  \n1                      0.5000  \n2                      0.0000  \n3                      0.0000  \n4                      0.0000  \n\n[5 rows x 36 columns]",
      "text/html": "<div>\n<style scoped>\n    .dataframe tbody tr th:only-of-type {\n        vertical-align: middle;\n    }\n\n    .dataframe tbody tr th {\n        vertical-align: top;\n    }\n\n    .dataframe thead th {\n        text-align: right;\n    }\n</style>\n<table border=\"1\" class=\"dataframe\">\n  <thead>\n    <tr style=\"text-align: right;\">\n      <th></th>\n      <th>ATP</th>\n      <th>Date</th>\n      <th>Round_num</th>\n      <th>Winner_Id</th>\n      <th>Loser_Id</th>\n      <th>WRank</th>\n      <th>LRank</th>\n      <th>WPts</th>\n      <th>LPts</th>\n      <th>Wsets</th>\n      <th>...</th>\n      <th>WinnerRoundsWon</th>\n      <th>LoserRoundsWon</th>\n      <th>LabelWinnerRounds</th>\n      <th>LabelWinnerRoundsAndOddsAvg</th>\n      <th>WinnerRoundsLost</th>\n      <th>LoserRoundsLost</th>\n      <th>WinnerRoundsPlayed</th>\n      <th>LoserRoundsPlayed</th>\n      <th>LabelWinnerRoundsWonOverAll</th>\n      <th>LabelLoserRoundsWonOverAll</th>\n    </tr>\n  </thead>\n  <tbody>\n    <tr>\n      <th>0</th>\n      <td>33</td>\n      <td>22/05/2016</td>\n      <td>1</td>\n      <td>168</td>\n      <td>90</td>\n      <td>19</td>\n      <td>124.0</td>\n      <td>1855</td>\n      <td>478.0</td>\n      <td>3.0</td>\n      <td>...</td>\n      <td>2</td>\n      <td>4</td>\n      <td>0</td>\n      <td>0</td>\n      <td>0</td>\n      <td>2</td>\n      <td>2</td>\n      <td>6</td>\n      <td>1.0000</td>\n      <td>0.6667</td>\n    </tr>\n    <tr>\n      <th>1</th>\n      <td>33</td>\n      <td>22/05/2016</td>\n      <td>1</td>\n      <td>140</td>\n      <td>22</td>\n      <td>21</td>\n      <td>137.0</td>\n      <td>1641</td>\n      <td>423.0</td>\n      <td>3.0</td>\n      <td>...</td>\n      <td>4</td>\n      <td>3</td>\n      <td>1</td>\n      <td>1</td>\n      <td>3</td>\n      <td>3</td>\n      <td>7</td>\n      <td>6</td>\n      <td>0.5714</td>\n      <td>0.5000</td>\n    </tr>\n    <tr>\n      <th>2</th>\n      <td>33</td>\n      <td>22/05/2016</td>\n      <td>1</td>\n      <td>156</td>\n      <td>272</td>\n      <td>123</td>\n      <td>203.0</td>\n      <td>484</td>\n      <td>264.0</td>\n      <td>3.0</td>\n      <td>...</td>\n      <td>1</td>\n      <td>0</td>\n      <td>1</td>\n      <td>1</td>\n      <td>0</td>\n      <td>1</td>\n      <td>1</td>\n      <td>1</td>\n      <td>1.0000</td>\n      <td>0.0000</td>\n    </tr>\n    <tr>\n      <th>3</th>\n      <td>33</td>\n      <td>22/05/2016</td>\n      <td>1</td>\n      <td>75</td>\n      <td>24</td>\n      <td>79</td>\n      <td>76.0</td>\n      <td>706</td>\n      <td>712.0</td>\n      <td>3.0</td>\n      <td>...</td>\n      <td>1</td>\n      <td>0</td>\n      <td>1</td>\n      <td>1</td>\n      <td>1</td>\n      <td>2</td>\n      <td>2</td>\n      <td>2</td>\n      <td>0.5000</td>\n      <td>0.0000</td>\n    </tr>\n    <tr>\n      <th>4</th>\n      <td>33</td>\n      <td>22/05/2016</td>\n      <td>1</td>\n      <td>155</td>\n      <td>274</td>\n      <td>40</td>\n      <td>96.0</td>\n      <td>1063</td>\n      <td>600.0</td>\n      <td>3.0</td>\n      <td>...</td>\n      <td>1</td>\n      <td>0</td>\n      <td>1</td>\n      <td>1</td>\n      <td>2</td>\n      <td>1</td>\n      <td>3</td>\n      <td>1</td>\n      <td>0.3333</td>\n      <td>0.0000</td>\n    </tr>\n  </tbody>\n</table>\n<p>5 rows × 36 columns</p>\n</div>"
     },
     "execution_count": 38,
     "metadata": {},
     "output_type": "execute_result"
    }
   ],
   "source": [
    "data.insert(loc=3, column='Winner_Id', value=data['Winner'].apply(player_to_id))\n",
    "data = data.drop('Winner', axis=1)\n",
    "data.insert(loc=4, column='Loser_Id', value=data['Loser'].apply(player_to_id))\n",
    "data = data.drop('Loser', axis=1)\n",
    "data.head()"
   ],
   "metadata": {
    "collapsed": false
   }
  },
  {
   "cell_type": "code",
   "execution_count": 43,
   "outputs": [],
   "source": [
    "# Guardar resultado final\n",
    "data.to_csv('data/data_numeric_regression.csv', index=False)"
   ],
   "metadata": {
    "collapsed": false
   }
  },
  {
   "cell_type": "code",
   "execution_count": 42,
   "outputs": [],
   "source": [
    "import csv\n",
    "# Guardar mapeo Jugador - Id\n",
    "with open('data/mapeo_jugador_id.csv', 'w', newline='') as file:\n",
    "    writer = csv.writer(file)\n",
    "\n",
    "    # Write each key-value pair as a row in the CSV file\n",
    "    for key, value in dict_jugadores.items():\n",
    "        writer.writerow([key, value])"
   ],
   "metadata": {
    "collapsed": false
   }
  },
  {
   "cell_type": "code",
   "execution_count": null,
   "outputs": [],
   "source": [],
   "metadata": {
    "collapsed": false
   }
  }
 ],
 "metadata": {
  "kernelspec": {
   "display_name": "Python 3",
   "language": "python",
   "name": "python3"
  },
  "language_info": {
   "codemirror_mode": {
    "name": "ipython",
    "version": 2
   },
   "file_extension": ".py",
   "mimetype": "text/x-python",
   "name": "python",
   "nbconvert_exporter": "python",
   "pygments_lexer": "ipython2",
   "version": "2.7.6"
  }
 },
 "nbformat": 4,
 "nbformat_minor": 0
}
