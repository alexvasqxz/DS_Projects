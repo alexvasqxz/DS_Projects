{
 "cells": [
  {
   "cell_type": "code",
   "execution_count": 1,
   "metadata": {
    "collapsed": true
   },
   "outputs": [
    {
     "data": {
      "text/plain": "       Round         Winner          Loser  WRank  LRank  WPts   LPts  Wsets  \\\n0  1st Round     Kyrgios N.  Cecchinato M.     19  124.0  1855  478.0    3.0   \n1  1st Round       Paire B.       Albot R.     21  137.0  1641  423.0    3.0   \n2  1st Round    Sijsling I.       Ungur A.    123  203.0   484  264.0    3.0   \n3  1st Round  Gabashvili T.       Young D.     79   76.0   706  712.0    3.0   \n4  1st Round  Kuznetsov An.      Becker B.     40   96.0  1063  600.0    3.0   \n\n   Lsets  B365W  ...  WinnerRoundsWon  LoserRoundsWon  LabelWinnerRounds  \\\n0    0.0   1.02  ...                2               4                  0   \n1    2.0   1.14  ...                4               3                  1   \n2    0.0   2.10  ...                1               0                  1   \n3    0.0   1.72  ...                1               0                  1   \n4    0.0   1.08  ...                1               0                  1   \n\n   LabelWinnerRoundsAndOddsAvg  WinnerRoundsLost  LoserRoundsLost  \\\n0                            0                 0                2   \n1                            1                 3                3   \n2                            1                 0                1   \n3                            1                 1                2   \n4                            1                 2                1   \n\n   WinnerRoundsPlayed  LoserRoundsPlayed  LabelWinnerRoundsWonOverAll  \\\n0                   2                  6                       1.0000   \n1                   7                  6                       0.5714   \n2                   1                  1                       1.0000   \n3                   2                  2                       0.5000   \n4                   3                  1                       0.3333   \n\n   LabelLoserRoundsWonOverAll  \n0                      0.6667  \n1                      0.5000  \n2                      0.0000  \n3                      0.0000  \n4                      0.0000  \n\n[5 rows x 34 columns]",
      "text/html": "<div>\n<style scoped>\n    .dataframe tbody tr th:only-of-type {\n        vertical-align: middle;\n    }\n\n    .dataframe tbody tr th {\n        vertical-align: top;\n    }\n\n    .dataframe thead th {\n        text-align: right;\n    }\n</style>\n<table border=\"1\" class=\"dataframe\">\n  <thead>\n    <tr style=\"text-align: right;\">\n      <th></th>\n      <th>Round</th>\n      <th>Winner</th>\n      <th>Loser</th>\n      <th>WRank</th>\n      <th>LRank</th>\n      <th>WPts</th>\n      <th>LPts</th>\n      <th>Wsets</th>\n      <th>Lsets</th>\n      <th>B365W</th>\n      <th>...</th>\n      <th>WinnerRoundsWon</th>\n      <th>LoserRoundsWon</th>\n      <th>LabelWinnerRounds</th>\n      <th>LabelWinnerRoundsAndOddsAvg</th>\n      <th>WinnerRoundsLost</th>\n      <th>LoserRoundsLost</th>\n      <th>WinnerRoundsPlayed</th>\n      <th>LoserRoundsPlayed</th>\n      <th>LabelWinnerRoundsWonOverAll</th>\n      <th>LabelLoserRoundsWonOverAll</th>\n    </tr>\n  </thead>\n  <tbody>\n    <tr>\n      <th>0</th>\n      <td>1st Round</td>\n      <td>Kyrgios N.</td>\n      <td>Cecchinato M.</td>\n      <td>19</td>\n      <td>124.0</td>\n      <td>1855</td>\n      <td>478.0</td>\n      <td>3.0</td>\n      <td>0.0</td>\n      <td>1.02</td>\n      <td>...</td>\n      <td>2</td>\n      <td>4</td>\n      <td>0</td>\n      <td>0</td>\n      <td>0</td>\n      <td>2</td>\n      <td>2</td>\n      <td>6</td>\n      <td>1.0000</td>\n      <td>0.6667</td>\n    </tr>\n    <tr>\n      <th>1</th>\n      <td>1st Round</td>\n      <td>Paire B.</td>\n      <td>Albot R.</td>\n      <td>21</td>\n      <td>137.0</td>\n      <td>1641</td>\n      <td>423.0</td>\n      <td>3.0</td>\n      <td>2.0</td>\n      <td>1.14</td>\n      <td>...</td>\n      <td>4</td>\n      <td>3</td>\n      <td>1</td>\n      <td>1</td>\n      <td>3</td>\n      <td>3</td>\n      <td>7</td>\n      <td>6</td>\n      <td>0.5714</td>\n      <td>0.5000</td>\n    </tr>\n    <tr>\n      <th>2</th>\n      <td>1st Round</td>\n      <td>Sijsling I.</td>\n      <td>Ungur A.</td>\n      <td>123</td>\n      <td>203.0</td>\n      <td>484</td>\n      <td>264.0</td>\n      <td>3.0</td>\n      <td>0.0</td>\n      <td>2.10</td>\n      <td>...</td>\n      <td>1</td>\n      <td>0</td>\n      <td>1</td>\n      <td>1</td>\n      <td>0</td>\n      <td>1</td>\n      <td>1</td>\n      <td>1</td>\n      <td>1.0000</td>\n      <td>0.0000</td>\n    </tr>\n    <tr>\n      <th>3</th>\n      <td>1st Round</td>\n      <td>Gabashvili T.</td>\n      <td>Young D.</td>\n      <td>79</td>\n      <td>76.0</td>\n      <td>706</td>\n      <td>712.0</td>\n      <td>3.0</td>\n      <td>0.0</td>\n      <td>1.72</td>\n      <td>...</td>\n      <td>1</td>\n      <td>0</td>\n      <td>1</td>\n      <td>1</td>\n      <td>1</td>\n      <td>2</td>\n      <td>2</td>\n      <td>2</td>\n      <td>0.5000</td>\n      <td>0.0000</td>\n    </tr>\n    <tr>\n      <th>4</th>\n      <td>1st Round</td>\n      <td>Kuznetsov An.</td>\n      <td>Becker B.</td>\n      <td>40</td>\n      <td>96.0</td>\n      <td>1063</td>\n      <td>600.0</td>\n      <td>3.0</td>\n      <td>0.0</td>\n      <td>1.08</td>\n      <td>...</td>\n      <td>1</td>\n      <td>0</td>\n      <td>1</td>\n      <td>1</td>\n      <td>2</td>\n      <td>1</td>\n      <td>3</td>\n      <td>1</td>\n      <td>0.3333</td>\n      <td>0.0000</td>\n    </tr>\n  </tbody>\n</table>\n<p>5 rows × 34 columns</p>\n</div>"
     },
     "execution_count": 1,
     "metadata": {},
     "output_type": "execute_result"
    }
   ],
   "source": [
    "import pandas as pd\n",
    "data = pd.read_csv(\"data/male/data_label_winner_rounds_won_overall_regression.csv\")\n",
    "columns_to_drop = ['ATP', 'Date']\n",
    "data = data.drop(columns_to_drop, axis=1)\n",
    "data.head()"
   ]
  },
  {
   "cell_type": "code",
   "execution_count": 2,
   "outputs": [
    {
     "name": "stdout",
     "output_type": "stream",
     "text": [
      "['1st Round' '2nd Round' '3rd Round' '4th Round' 'Quarterfinals'\n",
      " 'Semifinals' 'The Final']\n"
     ]
    }
   ],
   "source": [
    "unique_rounds = data['Round'].unique()\n",
    "print(unique_rounds)"
   ],
   "metadata": {
    "collapsed": false
   }
  },
  {
   "cell_type": "code",
   "execution_count": 3,
   "outputs": [],
   "source": [
    "mapping_dict = {\n",
    "            '1st Round' : 1,\n",
    "            '2nd Round' : 2,\n",
    "            '3rd Round' : 3,\n",
    "            '4th Round' : 4,\n",
    "            'Quarterfinals' : 5,\n",
    "            'Semifinals' : 6,\n",
    "            'The Final' : 7\n",
    "        }\n",
    "\n",
    "def round_to_num(value):\n",
    "    if value in mapping_dict:\n",
    "        return mapping_dict[value]\n",
    "    return -1"
   ],
   "metadata": {
    "collapsed": false
   }
  },
  {
   "cell_type": "code",
   "execution_count": 4,
   "outputs": [
    {
     "data": {
      "text/plain": "   Round_num         Winner          Loser  WRank  LRank  WPts   LPts  Wsets  \\\n0          1     Kyrgios N.  Cecchinato M.     19  124.0  1855  478.0    3.0   \n1          1       Paire B.       Albot R.     21  137.0  1641  423.0    3.0   \n2          1    Sijsling I.       Ungur A.    123  203.0   484  264.0    3.0   \n3          1  Gabashvili T.       Young D.     79   76.0   706  712.0    3.0   \n4          1  Kuznetsov An.      Becker B.     40   96.0  1063  600.0    3.0   \n\n   Lsets  B365W  ...  WinnerRoundsWon  LoserRoundsWon  LabelWinnerRounds  \\\n0    0.0   1.02  ...                2               4                  0   \n1    2.0   1.14  ...                4               3                  1   \n2    0.0   2.10  ...                1               0                  1   \n3    0.0   1.72  ...                1               0                  1   \n4    0.0   1.08  ...                1               0                  1   \n\n   LabelWinnerRoundsAndOddsAvg  WinnerRoundsLost  LoserRoundsLost  \\\n0                            0                 0                2   \n1                            1                 3                3   \n2                            1                 0                1   \n3                            1                 1                2   \n4                            1                 2                1   \n\n   WinnerRoundsPlayed  LoserRoundsPlayed  LabelWinnerRoundsWonOverAll  \\\n0                   2                  6                       1.0000   \n1                   7                  6                       0.5714   \n2                   1                  1                       1.0000   \n3                   2                  2                       0.5000   \n4                   3                  1                       0.3333   \n\n   LabelLoserRoundsWonOverAll  \n0                      0.6667  \n1                      0.5000  \n2                      0.0000  \n3                      0.0000  \n4                      0.0000  \n\n[5 rows x 34 columns]",
      "text/html": "<div>\n<style scoped>\n    .dataframe tbody tr th:only-of-type {\n        vertical-align: middle;\n    }\n\n    .dataframe tbody tr th {\n        vertical-align: top;\n    }\n\n    .dataframe thead th {\n        text-align: right;\n    }\n</style>\n<table border=\"1\" class=\"dataframe\">\n  <thead>\n    <tr style=\"text-align: right;\">\n      <th></th>\n      <th>Round_num</th>\n      <th>Winner</th>\n      <th>Loser</th>\n      <th>WRank</th>\n      <th>LRank</th>\n      <th>WPts</th>\n      <th>LPts</th>\n      <th>Wsets</th>\n      <th>Lsets</th>\n      <th>B365W</th>\n      <th>...</th>\n      <th>WinnerRoundsWon</th>\n      <th>LoserRoundsWon</th>\n      <th>LabelWinnerRounds</th>\n      <th>LabelWinnerRoundsAndOddsAvg</th>\n      <th>WinnerRoundsLost</th>\n      <th>LoserRoundsLost</th>\n      <th>WinnerRoundsPlayed</th>\n      <th>LoserRoundsPlayed</th>\n      <th>LabelWinnerRoundsWonOverAll</th>\n      <th>LabelLoserRoundsWonOverAll</th>\n    </tr>\n  </thead>\n  <tbody>\n    <tr>\n      <th>0</th>\n      <td>1</td>\n      <td>Kyrgios N.</td>\n      <td>Cecchinato M.</td>\n      <td>19</td>\n      <td>124.0</td>\n      <td>1855</td>\n      <td>478.0</td>\n      <td>3.0</td>\n      <td>0.0</td>\n      <td>1.02</td>\n      <td>...</td>\n      <td>2</td>\n      <td>4</td>\n      <td>0</td>\n      <td>0</td>\n      <td>0</td>\n      <td>2</td>\n      <td>2</td>\n      <td>6</td>\n      <td>1.0000</td>\n      <td>0.6667</td>\n    </tr>\n    <tr>\n      <th>1</th>\n      <td>1</td>\n      <td>Paire B.</td>\n      <td>Albot R.</td>\n      <td>21</td>\n      <td>137.0</td>\n      <td>1641</td>\n      <td>423.0</td>\n      <td>3.0</td>\n      <td>2.0</td>\n      <td>1.14</td>\n      <td>...</td>\n      <td>4</td>\n      <td>3</td>\n      <td>1</td>\n      <td>1</td>\n      <td>3</td>\n      <td>3</td>\n      <td>7</td>\n      <td>6</td>\n      <td>0.5714</td>\n      <td>0.5000</td>\n    </tr>\n    <tr>\n      <th>2</th>\n      <td>1</td>\n      <td>Sijsling I.</td>\n      <td>Ungur A.</td>\n      <td>123</td>\n      <td>203.0</td>\n      <td>484</td>\n      <td>264.0</td>\n      <td>3.0</td>\n      <td>0.0</td>\n      <td>2.10</td>\n      <td>...</td>\n      <td>1</td>\n      <td>0</td>\n      <td>1</td>\n      <td>1</td>\n      <td>0</td>\n      <td>1</td>\n      <td>1</td>\n      <td>1</td>\n      <td>1.0000</td>\n      <td>0.0000</td>\n    </tr>\n    <tr>\n      <th>3</th>\n      <td>1</td>\n      <td>Gabashvili T.</td>\n      <td>Young D.</td>\n      <td>79</td>\n      <td>76.0</td>\n      <td>706</td>\n      <td>712.0</td>\n      <td>3.0</td>\n      <td>0.0</td>\n      <td>1.72</td>\n      <td>...</td>\n      <td>1</td>\n      <td>0</td>\n      <td>1</td>\n      <td>1</td>\n      <td>1</td>\n      <td>2</td>\n      <td>2</td>\n      <td>2</td>\n      <td>0.5000</td>\n      <td>0.0000</td>\n    </tr>\n    <tr>\n      <th>4</th>\n      <td>1</td>\n      <td>Kuznetsov An.</td>\n      <td>Becker B.</td>\n      <td>40</td>\n      <td>96.0</td>\n      <td>1063</td>\n      <td>600.0</td>\n      <td>3.0</td>\n      <td>0.0</td>\n      <td>1.08</td>\n      <td>...</td>\n      <td>1</td>\n      <td>0</td>\n      <td>1</td>\n      <td>1</td>\n      <td>2</td>\n      <td>1</td>\n      <td>3</td>\n      <td>1</td>\n      <td>0.3333</td>\n      <td>0.0000</td>\n    </tr>\n  </tbody>\n</table>\n<p>5 rows × 34 columns</p>\n</div>"
     },
     "execution_count": 4,
     "metadata": {},
     "output_type": "execute_result"
    }
   ],
   "source": [
    "data.insert(loc=0, column='Round_num', value=data['Round'].apply(round_to_num))\n",
    "data = data.drop('Round', axis=1)\n",
    "data.head()"
   ],
   "metadata": {
    "collapsed": false
   }
  },
  {
   "cell_type": "code",
   "execution_count": 5,
   "outputs": [
    {
     "name": "stdout",
     "output_type": "stream",
     "text": [
      "{'Mathieu P.H.', 'Barrere G.', 'Goffin D.', 'Mahut N.', 'Jung J.', 'Krajinovic F.', 'Maden Y.', 'Halys Q.', 'Herbert P.H.', 'Youzhny M.', 'Haider-Maurer A.', 'Kyrgios N.', 'Coric B.', 'Kuznetsov An.', 'Sandgren T.', 'Groth S.', 'Cuevas P.', 'Rubin N.', 'Norrie C.', 'Sonego L.', 'Kotov P.', 'Sousa J.', 'Nishioka Y.', 'Duckworth J.', 'Schwartzman D.', 'Fucsovics M.', 'Cilic M.', 'Donskoy E.', 'Garcia-Lopez G.', 'Hoang A.', 'Cecchinato M.', 'Dutra Silva R.', 'Coppejans K.', 'Garin C.', 'Bautista Agut R.', 'Kovalik J.', 'Gerasimov E.', 'Evans D.', 'Ram R.', 'Bemelmans R.', 'Gulbis E.', 'Carreno Busta P.', 'Molleker R.', 'Rinderknech A.', 'O Connell C.', 'Klahn B.', 'Brooksby J.', 'De Bakker T.', 'Laaksonen H.', 'Berdych T.', 'Uchiyama Y.', 'Ungur A.', 'Van De Zandschulp B.', 'Edmund K.', 'Majchrzak K.', 'Gabashvili T.', 'Napolitano S.', 'Korda S.', 'Molcan A.', 'Sock J.', 'Montanes A.', 'Stepanek R.', 'Lorenzi P.', 'Zopp J.', 'Ramos-Vinolas A.', 'Seppi A.', 'Otte O.', 'Hemery C.', 'Bagnis F.', 'Djokovic N.', 'Gasquet R.', 'Kudla D.', 'Vatutin A.', 'Istomin D.', 'Gaston H.', 'Struff J.L.', 'Troicki V.', 'Galan D.', 'Rosol L.', 'De Greef A.', 'Bourgue M.', 'Albot R.', 'Ferrer D.', 'Hurkacz H.', 'Tomic B.', 'Trungelliti M.', 'Couacaud E.', 'Baez S.', 'Johnson S.', 'Mmoh M.', 'Fritz T.', 'Paul T.', 'Sela D.', 'Sinner J.', 'Khachanov K.', 'Delbonis F.', 'Anderson K.', 'De Schepper K.', 'Basilashvili N.', 'Dzumhur D.', 'Rune H.', 'Gomez E.', 'Londero J.I.', 'Fabbiano T.', 'Kohlschreiber P.', 'Pavlasek A.', 'Muller A.', 'Pospisil V.', 'Rola B.', 'Kokkinakis T.', 'Raonic M.', 'Bedene A.', 'Mayer F.', 'Bolelli S.', 'Zverev M.', 'Simon G.', 'Opelka R.', 'Coria F.', 'Andujar P.', 'Del Potro J. M.', 'Ruud C.', 'Gojo B.', 'Griekspoor T.', 'Mcdonald M.', 'Ymer E.', 'Munoz De La Nava D.', 'Karatsev A.', 'Gombos N.', 'Hamou M.', 'Querrey S.', 'Del Potro J.M.', 'Munar J.', 'Rodionov J.', 'Djere L.', 'Ilhan M.', 'Humbert U.', 'Tsitsipas S.', 'Tipsarevic J.', 'Carballes Baena R.', 'Lu Y.H.', 'Basic M.', 'Broady L.', 'Baghdatis M.', 'Thiem D.', 'Fratangelo B.', 'Monaco J.', 'Ugo Carabelli C.', 'Zverev A.', 'Estrella Burgos V.', 'Olivo R.', 'Berrettini M.', 'Rublev A.', 'Lopez F.', 'Koepfer D.', 'Muller G.', 'Young D.', 'Alcaraz C.', 'Taberner C.', 'Bhambri Y.', 'Giron M.', 'Nakashima B.', 'Dodig I.', 'Gojowczyk P.', 'Blancaneaux G.', 'Sijsling I.', 'Donaldson J.', 'Davidovich Fokina A.', 'Ruusuvuori E.', 'Borges N.', 'Kravchuk K.', 'Cachin P.', 'Marchenko I.', 'Tursunov D.', 'Lokoli L.', 'Pouille L.', 'Chung H.', 'Haase R.', 'Balazs A.', 'Kubler J.', 'Tiafoe F.', 'Jaziri M.', 'Kukushkin M.', 'Verdasco F.', 'Monteiro T.', 'Cervantes I.', 'Pella G.', 'Novak D.', 'Tseng C. H.', 'Robert S.', 'Mannarino A.', 'Bellucci T.', 'Galan D.E.', 'Moutet C.', 'Murray A.', 'Safiullin R.', 'Dimitrov G.', 'Marterer M.', 'Diez S.', 'Safwat M.', 'Granollers M.', 'Martin A.', 'Caruso S.', 'Guinard M.', 'Medvedev D.', 'Cazaux A.', 'Giustino L.', 'Wawrinka S.', 'Karlovic I.', 'Harris L.', 'Monfils G.', 'Rodriguez Taverna S.', 'Polmans M.', 'Melzer G.', 'Cerundolo F.', 'Bonzi B.', 'Varillas J. P.', 'Berlocq C.', 'Klizan M.', 'Machac T.', 'Benchetrit E.', 'Shapovalov D.', 'De Minaur A.', 'Samper-Montana J.', 'Kolar Z.', 'Copil M.', 'Thompson J.', 'Auger-Aliassime F.', 'Darcis S.', 'Ebden M.', 'Baker B.', 'Vukic A.', 'Jarry N.', 'Paire B.', 'Stakhovsky S.', 'Kamke T.', 'Popyrin A.', 'Becker B.', 'Hanfmann Y.', 'Kecmanovic M.', 'Gunneswaran P.', 'Ofner S.', 'Polansky P.', 'Daniel T.', 'Janvier M.', 'Lu Y.', 'Altmaier D.', 'Ivashka I.', 'Vesely J.', 'Robredo T.', 'Andreozzi G.', 'Agamenone F.', 'Zeppieri G.', 'Berankis R.', 'Tsonga J.W.', 'Zapata Miralles B.', 'Janowicz J.', 'Isner J.', 'Kicker N.', 'Milojevic N.', 'Zeballos H.', 'Lajovic D.', 'Federer R.', 'Harrison R.', 'Elias G.', 'Millman J.', 'Giraldo S.', 'Musetti L.', 'Ymer M.', 'Vilella Martinez M.', 'Nishikori K.', 'Dellien H.', 'Giannessi A.', 'Etcheverry T.', 'Brown D.', 'Kwon S.W.', 'Mager G.', 'Mayot H.', 'Escobedo E.', 'Lehecka J.', 'Stebe C.M.', 'Mayer L.', 'Benneteau J.', 'Travaglia S.', 'Chardy J.', 'Dolgopolov O.', 'Sugita Y.', 'Bublik A.', 'Almagro N.', 'Fognini F.', 'Cressy M.', 'Nadal R.', 'Martinez P.'}\n"
     ]
    }
   ],
   "source": [
    "# Obtener valores de todos los nombres Unicos\n",
    "player_values = set(data['Winner'].tolist() + data['Loser'].tolist())\n",
    "print(player_values)"
   ],
   "metadata": {
    "collapsed": false
   }
  },
  {
   "cell_type": "code",
   "execution_count": 6,
   "outputs": [
    {
     "name": "stdout",
     "output_type": "stream",
     "text": [
      "{\n",
      "    \"Mathieu P.H.\": 0,\n",
      "    \"Barrere G.\": 1,\n",
      "    \"Goffin D.\": 2,\n",
      "    \"Mahut N.\": 3,\n",
      "    \"Jung J.\": 4,\n",
      "    \"Krajinovic F.\": 5,\n",
      "    \"Maden Y.\": 6,\n",
      "    \"Halys Q.\": 7,\n",
      "    \"Herbert P.H.\": 8,\n",
      "    \"Youzhny M.\": 9,\n",
      "    \"Haider-Maurer A.\": 10,\n",
      "    \"Kyrgios N.\": 11,\n",
      "    \"Coric B.\": 12,\n",
      "    \"Kuznetsov An.\": 13,\n",
      "    \"Sandgren T.\": 14,\n",
      "    \"Groth S.\": 15,\n",
      "    \"Cuevas P.\": 16,\n",
      "    \"Rubin N.\": 17,\n",
      "    \"Norrie C.\": 18,\n",
      "    \"Sonego L.\": 19,\n",
      "    \"Kotov P.\": 20,\n",
      "    \"Sousa J.\": 21,\n",
      "    \"Nishioka Y.\": 22,\n",
      "    \"Duckworth J.\": 23,\n",
      "    \"Schwartzman D.\": 24,\n",
      "    \"Fucsovics M.\": 25,\n",
      "    \"Cilic M.\": 26,\n",
      "    \"Donskoy E.\": 27,\n",
      "    \"Garcia-Lopez G.\": 28,\n",
      "    \"Hoang A.\": 29,\n",
      "    \"Cecchinato M.\": 30,\n",
      "    \"Dutra Silva R.\": 31,\n",
      "    \"Coppejans K.\": 32,\n",
      "    \"Garin C.\": 33,\n",
      "    \"Bautista Agut R.\": 34,\n",
      "    \"Kovalik J.\": 35,\n",
      "    \"Gerasimov E.\": 36,\n",
      "    \"Evans D.\": 37,\n",
      "    \"Ram R.\": 38,\n",
      "    \"Bemelmans R.\": 39,\n",
      "    \"Gulbis E.\": 40,\n",
      "    \"Carreno Busta P.\": 41,\n",
      "    \"Molleker R.\": 42,\n",
      "    \"Rinderknech A.\": 43,\n",
      "    \"O Connell C.\": 44,\n",
      "    \"Klahn B.\": 45,\n",
      "    \"Brooksby J.\": 46,\n",
      "    \"De Bakker T.\": 47,\n",
      "    \"Laaksonen H.\": 48,\n",
      "    \"Berdych T.\": 49,\n",
      "    \"Uchiyama Y.\": 50,\n",
      "    \"Ungur A.\": 51,\n",
      "    \"Van De Zandschulp B.\": 52,\n",
      "    \"Edmund K.\": 53,\n",
      "    \"Majchrzak K.\": 54,\n",
      "    \"Gabashvili T.\": 55,\n",
      "    \"Napolitano S.\": 56,\n",
      "    \"Korda S.\": 57,\n",
      "    \"Molcan A.\": 58,\n",
      "    \"Sock J.\": 59,\n",
      "    \"Montanes A.\": 60,\n",
      "    \"Stepanek R.\": 61,\n",
      "    \"Lorenzi P.\": 62,\n",
      "    \"Zopp J.\": 63,\n",
      "    \"Ramos-Vinolas A.\": 64,\n",
      "    \"Seppi A.\": 65,\n",
      "    \"Otte O.\": 66,\n",
      "    \"Hemery C.\": 67,\n",
      "    \"Bagnis F.\": 68,\n",
      "    \"Djokovic N.\": 69,\n",
      "    \"Gasquet R.\": 70,\n",
      "    \"Kudla D.\": 71,\n",
      "    \"Vatutin A.\": 72,\n",
      "    \"Istomin D.\": 73,\n",
      "    \"Gaston H.\": 74,\n",
      "    \"Struff J.L.\": 75,\n",
      "    \"Troicki V.\": 76,\n",
      "    \"Galan D.\": 77,\n",
      "    \"Rosol L.\": 78,\n",
      "    \"De Greef A.\": 79,\n",
      "    \"Bourgue M.\": 80,\n",
      "    \"Albot R.\": 81,\n",
      "    \"Ferrer D.\": 82,\n",
      "    \"Hurkacz H.\": 83,\n",
      "    \"Tomic B.\": 84,\n",
      "    \"Trungelliti M.\": 85,\n",
      "    \"Couacaud E.\": 86,\n",
      "    \"Baez S.\": 87,\n",
      "    \"Johnson S.\": 88,\n",
      "    \"Mmoh M.\": 89,\n",
      "    \"Fritz T.\": 90,\n",
      "    \"Paul T.\": 91,\n",
      "    \"Sela D.\": 92,\n",
      "    \"Sinner J.\": 93,\n",
      "    \"Khachanov K.\": 94,\n",
      "    \"Delbonis F.\": 95,\n",
      "    \"Anderson K.\": 96,\n",
      "    \"De Schepper K.\": 97,\n",
      "    \"Basilashvili N.\": 98,\n",
      "    \"Dzumhur D.\": 99,\n",
      "    \"Rune H.\": 100,\n",
      "    \"Gomez E.\": 101,\n",
      "    \"Londero J.I.\": 102,\n",
      "    \"Fabbiano T.\": 103,\n",
      "    \"Kohlschreiber P.\": 104,\n",
      "    \"Pavlasek A.\": 105,\n",
      "    \"Muller A.\": 106,\n",
      "    \"Pospisil V.\": 107,\n",
      "    \"Rola B.\": 108,\n",
      "    \"Kokkinakis T.\": 109,\n",
      "    \"Raonic M.\": 110,\n",
      "    \"Bedene A.\": 111,\n",
      "    \"Mayer F.\": 112,\n",
      "    \"Bolelli S.\": 113,\n",
      "    \"Zverev M.\": 114,\n",
      "    \"Simon G.\": 115,\n",
      "    \"Opelka R.\": 116,\n",
      "    \"Coria F.\": 117,\n",
      "    \"Andujar P.\": 118,\n",
      "    \"Del Potro J. M.\": 119,\n",
      "    \"Ruud C.\": 120,\n",
      "    \"Gojo B.\": 121,\n",
      "    \"Griekspoor T.\": 122,\n",
      "    \"Mcdonald M.\": 123,\n",
      "    \"Ymer E.\": 124,\n",
      "    \"Munoz De La Nava D.\": 125,\n",
      "    \"Karatsev A.\": 126,\n",
      "    \"Gombos N.\": 127,\n",
      "    \"Hamou M.\": 128,\n",
      "    \"Querrey S.\": 129,\n",
      "    \"Del Potro J.M.\": 130,\n",
      "    \"Munar J.\": 131,\n",
      "    \"Rodionov J.\": 132,\n",
      "    \"Djere L.\": 133,\n",
      "    \"Ilhan M.\": 134,\n",
      "    \"Humbert U.\": 135,\n",
      "    \"Tsitsipas S.\": 136,\n",
      "    \"Tipsarevic J.\": 137,\n",
      "    \"Carballes Baena R.\": 138,\n",
      "    \"Lu Y.H.\": 139,\n",
      "    \"Basic M.\": 140,\n",
      "    \"Broady L.\": 141,\n",
      "    \"Baghdatis M.\": 142,\n",
      "    \"Thiem D.\": 143,\n",
      "    \"Fratangelo B.\": 144,\n",
      "    \"Monaco J.\": 145,\n",
      "    \"Ugo Carabelli C.\": 146,\n",
      "    \"Zverev A.\": 147,\n",
      "    \"Estrella Burgos V.\": 148,\n",
      "    \"Olivo R.\": 149,\n",
      "    \"Berrettini M.\": 150,\n",
      "    \"Rublev A.\": 151,\n",
      "    \"Lopez F.\": 152,\n",
      "    \"Koepfer D.\": 153,\n",
      "    \"Muller G.\": 154,\n",
      "    \"Young D.\": 155,\n",
      "    \"Alcaraz C.\": 156,\n",
      "    \"Taberner C.\": 157,\n",
      "    \"Bhambri Y.\": 158,\n",
      "    \"Giron M.\": 159,\n",
      "    \"Nakashima B.\": 160,\n",
      "    \"Dodig I.\": 161,\n",
      "    \"Gojowczyk P.\": 162,\n",
      "    \"Blancaneaux G.\": 163,\n",
      "    \"Sijsling I.\": 164,\n",
      "    \"Donaldson J.\": 165,\n",
      "    \"Davidovich Fokina A.\": 166,\n",
      "    \"Ruusuvuori E.\": 167,\n",
      "    \"Borges N.\": 168,\n",
      "    \"Kravchuk K.\": 169,\n",
      "    \"Cachin P.\": 170,\n",
      "    \"Marchenko I.\": 171,\n",
      "    \"Tursunov D.\": 172,\n",
      "    \"Lokoli L.\": 173,\n",
      "    \"Pouille L.\": 174,\n",
      "    \"Chung H.\": 175,\n",
      "    \"Haase R.\": 176,\n",
      "    \"Balazs A.\": 177,\n",
      "    \"Kubler J.\": 178,\n",
      "    \"Tiafoe F.\": 179,\n",
      "    \"Jaziri M.\": 180,\n",
      "    \"Kukushkin M.\": 181,\n",
      "    \"Verdasco F.\": 182,\n",
      "    \"Monteiro T.\": 183,\n",
      "    \"Cervantes I.\": 184,\n",
      "    \"Pella G.\": 185,\n",
      "    \"Novak D.\": 186,\n",
      "    \"Tseng C. H.\": 187,\n",
      "    \"Robert S.\": 188,\n",
      "    \"Mannarino A.\": 189,\n",
      "    \"Bellucci T.\": 190,\n",
      "    \"Galan D.E.\": 191,\n",
      "    \"Moutet C.\": 192,\n",
      "    \"Murray A.\": 193,\n",
      "    \"Safiullin R.\": 194,\n",
      "    \"Dimitrov G.\": 195,\n",
      "    \"Marterer M.\": 196,\n",
      "    \"Diez S.\": 197,\n",
      "    \"Safwat M.\": 198,\n",
      "    \"Granollers M.\": 199,\n",
      "    \"Martin A.\": 200,\n",
      "    \"Caruso S.\": 201,\n",
      "    \"Guinard M.\": 202,\n",
      "    \"Medvedev D.\": 203,\n",
      "    \"Cazaux A.\": 204,\n",
      "    \"Giustino L.\": 205,\n",
      "    \"Wawrinka S.\": 206,\n",
      "    \"Karlovic I.\": 207,\n",
      "    \"Harris L.\": 208,\n",
      "    \"Monfils G.\": 209,\n",
      "    \"Rodriguez Taverna S.\": 210,\n",
      "    \"Polmans M.\": 211,\n",
      "    \"Melzer G.\": 212,\n",
      "    \"Cerundolo F.\": 213,\n",
      "    \"Bonzi B.\": 214,\n",
      "    \"Varillas J. P.\": 215,\n",
      "    \"Berlocq C.\": 216,\n",
      "    \"Klizan M.\": 217,\n",
      "    \"Machac T.\": 218,\n",
      "    \"Benchetrit E.\": 219,\n",
      "    \"Shapovalov D.\": 220,\n",
      "    \"De Minaur A.\": 221,\n",
      "    \"Samper-Montana J.\": 222,\n",
      "    \"Kolar Z.\": 223,\n",
      "    \"Copil M.\": 224,\n",
      "    \"Thompson J.\": 225,\n",
      "    \"Auger-Aliassime F.\": 226,\n",
      "    \"Darcis S.\": 227,\n",
      "    \"Ebden M.\": 228,\n",
      "    \"Baker B.\": 229,\n",
      "    \"Vukic A.\": 230,\n",
      "    \"Jarry N.\": 231,\n",
      "    \"Paire B.\": 232,\n",
      "    \"Stakhovsky S.\": 233,\n",
      "    \"Kamke T.\": 234,\n",
      "    \"Popyrin A.\": 235,\n",
      "    \"Becker B.\": 236,\n",
      "    \"Hanfmann Y.\": 237,\n",
      "    \"Kecmanovic M.\": 238,\n",
      "    \"Gunneswaran P.\": 239,\n",
      "    \"Ofner S.\": 240,\n",
      "    \"Polansky P.\": 241,\n",
      "    \"Daniel T.\": 242,\n",
      "    \"Janvier M.\": 243,\n",
      "    \"Lu Y.\": 244,\n",
      "    \"Altmaier D.\": 245,\n",
      "    \"Ivashka I.\": 246,\n",
      "    \"Vesely J.\": 247,\n",
      "    \"Robredo T.\": 248,\n",
      "    \"Andreozzi G.\": 249,\n",
      "    \"Agamenone F.\": 250,\n",
      "    \"Zeppieri G.\": 251,\n",
      "    \"Berankis R.\": 252,\n",
      "    \"Tsonga J.W.\": 253,\n",
      "    \"Zapata Miralles B.\": 254,\n",
      "    \"Janowicz J.\": 255,\n",
      "    \"Isner J.\": 256,\n",
      "    \"Kicker N.\": 257,\n",
      "    \"Milojevic N.\": 258,\n",
      "    \"Zeballos H.\": 259,\n",
      "    \"Lajovic D.\": 260,\n",
      "    \"Federer R.\": 261,\n",
      "    \"Harrison R.\": 262,\n",
      "    \"Elias G.\": 263,\n",
      "    \"Millman J.\": 264,\n",
      "    \"Giraldo S.\": 265,\n",
      "    \"Musetti L.\": 266,\n",
      "    \"Ymer M.\": 267,\n",
      "    \"Vilella Martinez M.\": 268,\n",
      "    \"Nishikori K.\": 269,\n",
      "    \"Dellien H.\": 270,\n",
      "    \"Giannessi A.\": 271,\n",
      "    \"Etcheverry T.\": 272,\n",
      "    \"Brown D.\": 273,\n",
      "    \"Kwon S.W.\": 274,\n",
      "    \"Mager G.\": 275,\n",
      "    \"Mayot H.\": 276,\n",
      "    \"Escobedo E.\": 277,\n",
      "    \"Lehecka J.\": 278,\n",
      "    \"Stebe C.M.\": 279,\n",
      "    \"Mayer L.\": 280,\n",
      "    \"Benneteau J.\": 281,\n",
      "    \"Travaglia S.\": 282,\n",
      "    \"Chardy J.\": 283,\n",
      "    \"Dolgopolov O.\": 284,\n",
      "    \"Sugita Y.\": 285,\n",
      "    \"Bublik A.\": 286,\n",
      "    \"Almagro N.\": 287,\n",
      "    \"Fognini F.\": 288,\n",
      "    \"Cressy M.\": 289,\n",
      "    \"Nadal R.\": 290,\n",
      "    \"Martinez P.\": 291\n",
      "}\n"
     ]
    }
   ],
   "source": [
    "# Mapeas nombres unicos a llave que se incrementa en 1\n",
    "import json\n",
    "dict_jugadores = {value: key for key, value in enumerate(player_values)}\n",
    "print(json.dumps(dict_jugadores, indent=4))"
   ],
   "metadata": {
    "collapsed": false
   }
  },
  {
   "cell_type": "code",
   "execution_count": 7,
   "outputs": [],
   "source": [
    "# Funcion para en base a un nombre obtener su id\n",
    "def player_to_id(value):\n",
    "    if value in dict_jugadores:\n",
    "        return dict_jugadores[value]\n",
    "    return -1"
   ],
   "metadata": {
    "collapsed": false
   }
  },
  {
   "cell_type": "code",
   "execution_count": 8,
   "outputs": [
    {
     "data": {
      "text/plain": "   Round_num  Winner_Id  Loser_Id  WRank  LRank  WPts   LPts  Wsets  Lsets  \\\n0          1         11        30     19  124.0  1855  478.0    3.0    0.0   \n1          1        232        81     21  137.0  1641  423.0    3.0    2.0   \n2          1        164        51    123  203.0   484  264.0    3.0    0.0   \n3          1         55       155     79   76.0   706  712.0    3.0    0.0   \n4          1         13       236     40   96.0  1063  600.0    3.0    0.0   \n\n   B365W  ...  WinnerRoundsWon  LoserRoundsWon  LabelWinnerRounds  \\\n0   1.02  ...                2               4                  0   \n1   1.14  ...                4               3                  1   \n2   2.10  ...                1               0                  1   \n3   1.72  ...                1               0                  1   \n4   1.08  ...                1               0                  1   \n\n   LabelWinnerRoundsAndOddsAvg  WinnerRoundsLost  LoserRoundsLost  \\\n0                            0                 0                2   \n1                            1                 3                3   \n2                            1                 0                1   \n3                            1                 1                2   \n4                            1                 2                1   \n\n   WinnerRoundsPlayed  LoserRoundsPlayed  LabelWinnerRoundsWonOverAll  \\\n0                   2                  6                       1.0000   \n1                   7                  6                       0.5714   \n2                   1                  1                       1.0000   \n3                   2                  2                       0.5000   \n4                   3                  1                       0.3333   \n\n   LabelLoserRoundsWonOverAll  \n0                      0.6667  \n1                      0.5000  \n2                      0.0000  \n3                      0.0000  \n4                      0.0000  \n\n[5 rows x 34 columns]",
      "text/html": "<div>\n<style scoped>\n    .dataframe tbody tr th:only-of-type {\n        vertical-align: middle;\n    }\n\n    .dataframe tbody tr th {\n        vertical-align: top;\n    }\n\n    .dataframe thead th {\n        text-align: right;\n    }\n</style>\n<table border=\"1\" class=\"dataframe\">\n  <thead>\n    <tr style=\"text-align: right;\">\n      <th></th>\n      <th>Round_num</th>\n      <th>Winner_Id</th>\n      <th>Loser_Id</th>\n      <th>WRank</th>\n      <th>LRank</th>\n      <th>WPts</th>\n      <th>LPts</th>\n      <th>Wsets</th>\n      <th>Lsets</th>\n      <th>B365W</th>\n      <th>...</th>\n      <th>WinnerRoundsWon</th>\n      <th>LoserRoundsWon</th>\n      <th>LabelWinnerRounds</th>\n      <th>LabelWinnerRoundsAndOddsAvg</th>\n      <th>WinnerRoundsLost</th>\n      <th>LoserRoundsLost</th>\n      <th>WinnerRoundsPlayed</th>\n      <th>LoserRoundsPlayed</th>\n      <th>LabelWinnerRoundsWonOverAll</th>\n      <th>LabelLoserRoundsWonOverAll</th>\n    </tr>\n  </thead>\n  <tbody>\n    <tr>\n      <th>0</th>\n      <td>1</td>\n      <td>11</td>\n      <td>30</td>\n      <td>19</td>\n      <td>124.0</td>\n      <td>1855</td>\n      <td>478.0</td>\n      <td>3.0</td>\n      <td>0.0</td>\n      <td>1.02</td>\n      <td>...</td>\n      <td>2</td>\n      <td>4</td>\n      <td>0</td>\n      <td>0</td>\n      <td>0</td>\n      <td>2</td>\n      <td>2</td>\n      <td>6</td>\n      <td>1.0000</td>\n      <td>0.6667</td>\n    </tr>\n    <tr>\n      <th>1</th>\n      <td>1</td>\n      <td>232</td>\n      <td>81</td>\n      <td>21</td>\n      <td>137.0</td>\n      <td>1641</td>\n      <td>423.0</td>\n      <td>3.0</td>\n      <td>2.0</td>\n      <td>1.14</td>\n      <td>...</td>\n      <td>4</td>\n      <td>3</td>\n      <td>1</td>\n      <td>1</td>\n      <td>3</td>\n      <td>3</td>\n      <td>7</td>\n      <td>6</td>\n      <td>0.5714</td>\n      <td>0.5000</td>\n    </tr>\n    <tr>\n      <th>2</th>\n      <td>1</td>\n      <td>164</td>\n      <td>51</td>\n      <td>123</td>\n      <td>203.0</td>\n      <td>484</td>\n      <td>264.0</td>\n      <td>3.0</td>\n      <td>0.0</td>\n      <td>2.10</td>\n      <td>...</td>\n      <td>1</td>\n      <td>0</td>\n      <td>1</td>\n      <td>1</td>\n      <td>0</td>\n      <td>1</td>\n      <td>1</td>\n      <td>1</td>\n      <td>1.0000</td>\n      <td>0.0000</td>\n    </tr>\n    <tr>\n      <th>3</th>\n      <td>1</td>\n      <td>55</td>\n      <td>155</td>\n      <td>79</td>\n      <td>76.0</td>\n      <td>706</td>\n      <td>712.0</td>\n      <td>3.0</td>\n      <td>0.0</td>\n      <td>1.72</td>\n      <td>...</td>\n      <td>1</td>\n      <td>0</td>\n      <td>1</td>\n      <td>1</td>\n      <td>1</td>\n      <td>2</td>\n      <td>2</td>\n      <td>2</td>\n      <td>0.5000</td>\n      <td>0.0000</td>\n    </tr>\n    <tr>\n      <th>4</th>\n      <td>1</td>\n      <td>13</td>\n      <td>236</td>\n      <td>40</td>\n      <td>96.0</td>\n      <td>1063</td>\n      <td>600.0</td>\n      <td>3.0</td>\n      <td>0.0</td>\n      <td>1.08</td>\n      <td>...</td>\n      <td>1</td>\n      <td>0</td>\n      <td>1</td>\n      <td>1</td>\n      <td>2</td>\n      <td>1</td>\n      <td>3</td>\n      <td>1</td>\n      <td>0.3333</td>\n      <td>0.0000</td>\n    </tr>\n  </tbody>\n</table>\n<p>5 rows × 34 columns</p>\n</div>"
     },
     "execution_count": 8,
     "metadata": {},
     "output_type": "execute_result"
    }
   ],
   "source": [
    "data.insert(loc=1, column='Winner_Id', value=data['Winner'].apply(player_to_id))\n",
    "data = data.drop('Winner', axis=1)\n",
    "data.insert(loc=2, column='Loser_Id', value=data['Loser'].apply(player_to_id))\n",
    "data = data.drop('Loser', axis=1)\n",
    "data.head()"
   ],
   "metadata": {
    "collapsed": false
   }
  },
  {
   "cell_type": "code",
   "execution_count": 9,
   "outputs": [],
   "source": [
    "# Guardar resultado final\n",
    "data.to_csv('data/data_numeric_regression.csv', index=False)"
   ],
   "metadata": {
    "collapsed": false
   }
  },
  {
   "cell_type": "code",
   "execution_count": 10,
   "outputs": [],
   "source": [
    "import csv\n",
    "# Guardar mapeo Jugador - Id\n",
    "with open('data/mapeo_jugador_id.csv', 'w', newline='') as file:\n",
    "    writer = csv.writer(file)\n",
    "\n",
    "    # Write each key-value pair as a row in the CSV file\n",
    "    for key, value in dict_jugadores.items():\n",
    "        writer.writerow([key, value])"
   ],
   "metadata": {
    "collapsed": false
   }
  },
  {
   "cell_type": "code",
   "execution_count": null,
   "outputs": [],
   "source": [],
   "metadata": {
    "collapsed": false
   }
  }
 ],
 "metadata": {
  "kernelspec": {
   "display_name": "Python 3",
   "language": "python",
   "name": "python3"
  },
  "language_info": {
   "codemirror_mode": {
    "name": "ipython",
    "version": 2
   },
   "file_extension": ".py",
   "mimetype": "text/x-python",
   "name": "python",
   "nbconvert_exporter": "python",
   "pygments_lexer": "ipython2",
   "version": "2.7.6"
  }
 },
 "nbformat": 4,
 "nbformat_minor": 0
}
