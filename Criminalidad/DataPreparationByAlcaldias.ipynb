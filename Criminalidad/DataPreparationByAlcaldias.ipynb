{
 "cells": [
  {
   "cell_type": "code",
   "execution_count": 1,
   "outputs": [],
   "source": [
    "import pandas as pd"
   ],
   "metadata": {
    "collapsed": false
   }
  },
  {
   "cell_type": "markdown",
   "source": [
    "# Running this Notebook with the output of DataPreparation.ipynb will create a dataset per each value in column \"alcaldia_hechos\" and keep data from 2019 and forward."
   ],
   "metadata": {
    "collapsed": false
   }
  },
  {
   "cell_type": "code",
   "execution_count": 9,
   "outputs": [],
   "source": [
    "data_set = pd.read_csv(\"data/data_preparation.csv\")"
   ],
   "metadata": {
    "collapsed": false
   }
  },
  {
   "cell_type": "code",
   "execution_count": 10,
   "outputs": [
    {
     "name": "stderr",
     "output_type": "stream",
     "text": [
      "/var/folders/w7/2qfkwrqj78s87nng1w7_tnx80000gn/T/ipykernel_9151/2932706267.py:1: UserWarning: Parsing dates in DD/MM/YYYY format when dayfirst=False (the default) was specified. This may lead to inconsistently parsed dates! Specify a format to ensure consistent parsing.\n",
      "  data_set[[\"FechaHecho\"]] = data_set[[\"FechaHecho\"]].apply(pd.to_datetime)\n"
     ]
    }
   ],
   "source": [
    "data_set[[\"FechaHecho\"]] = data_set[[\"FechaHecho\"]].apply(pd.to_datetime)"
   ],
   "metadata": {
    "collapsed": false
   }
  },
  {
   "cell_type": "code",
   "execution_count": 11,
   "outputs": [
    {
     "name": "stderr",
     "output_type": "stream",
     "text": [
      "/var/folders/w7/2qfkwrqj78s87nng1w7_tnx80000gn/T/ipykernel_9151/3786744246.py:2: FutureWarning: Passing unit-less datetime64 dtype to .astype is deprecated and will raise in a future version. Pass 'datetime64[ns]' instead\n",
      "  data_set[\"FechaHecho\"] = data_set[\"FechaHecho\"].astype(\"datetime64\")\n"
     ]
    },
    {
     "data": {
      "text/plain": "        idCarpeta                                             Delito  \\\n712700  9094003.0    DAÑO EN PROPIEDAD AJENA INTENCIONAL A AUTOMOVIL   \n712705  9094008.0  LESIONES CULPOSAS POR TRANSITO VEHICULAR EN CO...   \n712706  9094008.0  LESIONES CULPOSAS POR TRANSITO VEHICULAR EN CO...   \n712707  9094008.0  LESIONES CULPOSAS POR TRANSITO VEHICULAR EN CO...   \n712709  9094010.0        DESOBEDIENCIA Y RESISTENCIA DE PARTICULARES   \n\n        riesgo_delito         Sexo  Edad  Sexo_num       rango_edad  \\\n712700              5  Desconocido  39.0         0  Adultos jóvenes   \n712705              4    Masculino  20.0         5  Adultos jóvenes   \n712706              4    Masculino  33.0         5  Adultos jóvenes   \n712707              4    Masculino  24.0         5  Adultos jóvenes   \n712709              3  Desconocido  39.0         0  Adultos jóvenes   \n\n       TipoPersona  TipoPersona_num CalidadJuridica Mes_hecho  FechaHecho  \\\n712700       MORAL               10        OFENDIDO     Enero  01/01/2022   \n712705      FISICA                5       LESIONADO     Enero  01/01/2022   \n712706      FISICA                5       LESIONADO     Enero  01/01/2022   \n712707      FISICA                5       LESIONADO     Enero  01/01/2022   \n712709       MORAL               10        OFENDIDO     Enero  01/01/2022   \n\n        Dias_transcurridos  count_semanas  poblacion_alcaldia HoraHecho  \\\n712700                   0           1149              545884     00:05   \n712705                   0           1149             1835486     00:15   \n712706                   0           1149             1835486     00:15   \n712707                   0           1149             1835486     00:15   \n712709                   0           1149              404695     01:00   \n\n       HoraInicio alcaldia_hechos  \n712700      00:40      CUAUHTEMOC  \n712705      01:41      IZTAPALAPA  \n712706      01:41      IZTAPALAPA  \n712707      01:41      IZTAPALAPA  \n712709      01:48       IZTACALCO  ",
      "text/html": "<div>\n<style scoped>\n    .dataframe tbody tr th:only-of-type {\n        vertical-align: middle;\n    }\n\n    .dataframe tbody tr th {\n        vertical-align: top;\n    }\n\n    .dataframe thead th {\n        text-align: right;\n    }\n</style>\n<table border=\"1\" class=\"dataframe\">\n  <thead>\n    <tr style=\"text-align: right;\">\n      <th></th>\n      <th>idCarpeta</th>\n      <th>Delito</th>\n      <th>riesgo_delito</th>\n      <th>Sexo</th>\n      <th>Edad</th>\n      <th>Sexo_num</th>\n      <th>rango_edad</th>\n      <th>TipoPersona</th>\n      <th>TipoPersona_num</th>\n      <th>CalidadJuridica</th>\n      <th>Mes_hecho</th>\n      <th>FechaHecho</th>\n      <th>Dias_transcurridos</th>\n      <th>count_semanas</th>\n      <th>poblacion_alcaldia</th>\n      <th>HoraHecho</th>\n      <th>HoraInicio</th>\n      <th>alcaldia_hechos</th>\n    </tr>\n  </thead>\n  <tbody>\n    <tr>\n      <th>712700</th>\n      <td>9094003.0</td>\n      <td>DAÑO EN PROPIEDAD AJENA INTENCIONAL A AUTOMOVIL</td>\n      <td>5</td>\n      <td>Desconocido</td>\n      <td>39.0</td>\n      <td>0</td>\n      <td>Adultos jóvenes</td>\n      <td>MORAL</td>\n      <td>10</td>\n      <td>OFENDIDO</td>\n      <td>Enero</td>\n      <td>01/01/2022</td>\n      <td>0</td>\n      <td>1149</td>\n      <td>545884</td>\n      <td>00:05</td>\n      <td>00:40</td>\n      <td>CUAUHTEMOC</td>\n    </tr>\n    <tr>\n      <th>712705</th>\n      <td>9094008.0</td>\n      <td>LESIONES CULPOSAS POR TRANSITO VEHICULAR EN CO...</td>\n      <td>4</td>\n      <td>Masculino</td>\n      <td>20.0</td>\n      <td>5</td>\n      <td>Adultos jóvenes</td>\n      <td>FISICA</td>\n      <td>5</td>\n      <td>LESIONADO</td>\n      <td>Enero</td>\n      <td>01/01/2022</td>\n      <td>0</td>\n      <td>1149</td>\n      <td>1835486</td>\n      <td>00:15</td>\n      <td>01:41</td>\n      <td>IZTAPALAPA</td>\n    </tr>\n    <tr>\n      <th>712706</th>\n      <td>9094008.0</td>\n      <td>LESIONES CULPOSAS POR TRANSITO VEHICULAR EN CO...</td>\n      <td>4</td>\n      <td>Masculino</td>\n      <td>33.0</td>\n      <td>5</td>\n      <td>Adultos jóvenes</td>\n      <td>FISICA</td>\n      <td>5</td>\n      <td>LESIONADO</td>\n      <td>Enero</td>\n      <td>01/01/2022</td>\n      <td>0</td>\n      <td>1149</td>\n      <td>1835486</td>\n      <td>00:15</td>\n      <td>01:41</td>\n      <td>IZTAPALAPA</td>\n    </tr>\n    <tr>\n      <th>712707</th>\n      <td>9094008.0</td>\n      <td>LESIONES CULPOSAS POR TRANSITO VEHICULAR EN CO...</td>\n      <td>4</td>\n      <td>Masculino</td>\n      <td>24.0</td>\n      <td>5</td>\n      <td>Adultos jóvenes</td>\n      <td>FISICA</td>\n      <td>5</td>\n      <td>LESIONADO</td>\n      <td>Enero</td>\n      <td>01/01/2022</td>\n      <td>0</td>\n      <td>1149</td>\n      <td>1835486</td>\n      <td>00:15</td>\n      <td>01:41</td>\n      <td>IZTAPALAPA</td>\n    </tr>\n    <tr>\n      <th>712709</th>\n      <td>9094010.0</td>\n      <td>DESOBEDIENCIA Y RESISTENCIA DE PARTICULARES</td>\n      <td>3</td>\n      <td>Desconocido</td>\n      <td>39.0</td>\n      <td>0</td>\n      <td>Adultos jóvenes</td>\n      <td>MORAL</td>\n      <td>10</td>\n      <td>OFENDIDO</td>\n      <td>Enero</td>\n      <td>01/01/2022</td>\n      <td>0</td>\n      <td>1149</td>\n      <td>404695</td>\n      <td>01:00</td>\n      <td>01:48</td>\n      <td>IZTACALCO</td>\n    </tr>\n  </tbody>\n</table>\n</div>"
     },
     "execution_count": 11,
     "metadata": {},
     "output_type": "execute_result"
    }
   ],
   "source": [
    "# tambien limitamos la fecha delitos a los anios 2019, 2020, 2021, y 2022\n",
    "data_set[\"FechaHecho\"] = data_set[\"FechaHecho\"].astype(\"datetime64\")\n",
    "data_set = data_set.loc[(data_set['FechaHecho'] >= '2022-01-01')]\n",
    "data_set['FechaHecho'] = data_set['FechaHecho'].dt.strftime('%m/%d/%Y')\n",
    "data_set.head()"
   ],
   "metadata": {
    "collapsed": false
   }
  },
  {
   "cell_type": "code",
   "execution_count": 12,
   "outputs": [],
   "source": [
    "def formatear_minusculas_sin_acentos(string_value):\n",
    "    string_value_lower=string_value.lower()\n",
    "    to_replace = {\" \": \"_\", \"á\": \"a\", \"é\": \"e\", \"í\": \"i\",\"ó\": \"o\", \"ú\": \"u\"}\n",
    "\n",
    "    for char in to_replace.keys():\n",
    "        # dictionaryName[keys] - another way to get value\n",
    "        string_value_lower = string_value_lower.replace(char, to_replace[char])\n",
    "    return string_value_lower.lower()\n",
    "\n",
    "def get_data_by_alcaldia(df, name_alcaldia):\n",
    "    data_unsupervised = df.loc[df['alcaldia_hechos'] == name_alcaldia]\n",
    "    data_unsupervised=data_unsupervised.drop('alcaldia_hechos', axis=1)\n",
    "    name_alcaldia_formatted = formatear_minusculas_sin_acentos(name_alcaldia)\n",
    "    data_unsupervised.to_csv(f'data/data_preparation_{name_alcaldia_formatted}.csv', index=False)\n"
   ],
   "metadata": {
    "collapsed": false
   }
  },
  {
   "cell_type": "code",
   "execution_count": 13,
   "outputs": [],
   "source": [
    "list_alcaldias=data_set[\"alcaldia_hechos\"].unique()\n",
    "for alcaldia in list_alcaldias:\n",
    "    get_data_by_alcaldia(data_set, alcaldia)"
   ],
   "metadata": {
    "collapsed": false
   }
  },
  {
   "cell_type": "code",
   "execution_count": null,
   "outputs": [],
   "source": [],
   "metadata": {
    "collapsed": false
   }
  }
 ],
 "metadata": {
  "kernelspec": {
   "display_name": "Python 3",
   "language": "python",
   "name": "python3"
  },
  "language_info": {
   "codemirror_mode": {
    "name": "ipython",
    "version": 2
   },
   "file_extension": ".py",
   "mimetype": "text/x-python",
   "name": "python",
   "nbconvert_exporter": "python",
   "pygments_lexer": "ipython2",
   "version": "2.7.6"
  }
 },
 "nbformat": 4,
 "nbformat_minor": 0
}
