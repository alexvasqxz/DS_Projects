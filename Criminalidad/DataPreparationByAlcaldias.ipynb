{
 "cells": [
  {
   "cell_type": "code",
   "execution_count": 1,
   "outputs": [],
   "source": [
    "\n",
    "import pandas as pd\n",
    "import os"
   ],
   "metadata": {
    "collapsed": false
   }
  },
  {
   "cell_type": "markdown",
   "source": [
    "# Running this Notebook with the output of DataPreparation.ipynb will create a dataset per each value in column \"alcaldia_hechos\" and keep data from 2019 and forward."
   ],
   "metadata": {
    "collapsed": false
   }
  },
  {
   "cell_type": "code",
   "execution_count": 2,
   "outputs": [],
   "source": [
    "os.chdir(\"/Users/abyvelazquez/Developer/Repos/DS_Projects/Criminalidad/data/\")\n",
    "data_set = pd.read_csv(\"data_preparation.csv\")"
   ],
   "metadata": {
    "collapsed": false
   }
  },
  {
   "cell_type": "code",
   "execution_count": 3,
   "outputs": [
    {
     "name": "stderr",
     "output_type": "stream",
     "text": [
      "/var/folders/30/qpjmvdzs0ng9dh1bzzwc7brh0000gn/T/ipykernel_77410/2932706267.py:1: UserWarning: Parsing dates in DD/MM/YYYY format when dayfirst=False (the default) was specified. This may lead to inconsistently parsed dates! Specify a format to ensure consistent parsing.\n",
      "  data_set[[\"FechaHecho\"]] = data_set[[\"FechaHecho\"]].apply(pd.to_datetime)\n"
     ]
    }
   ],
   "source": [
    "data_set[[\"FechaHecho\"]] = data_set[[\"FechaHecho\"]].apply(pd.to_datetime)"
   ],
   "metadata": {
    "collapsed": false
   }
  },
  {
   "cell_type": "code",
   "execution_count": 4,
   "outputs": [
    {
     "name": "stderr",
     "output_type": "stream",
     "text": [
      "/var/folders/30/qpjmvdzs0ng9dh1bzzwc7brh0000gn/T/ipykernel_77410/3028764650.py:2: FutureWarning: Passing unit-less datetime64 dtype to .astype is deprecated and will raise in a future version. Pass 'datetime64[ns]' instead\n",
      "  data_set[\"FechaHecho\"] = data_set[\"FechaHecho\"].astype(\"datetime64\")\n"
     ]
    },
    {
     "name": "stdout",
     "output_type": "stream",
     "text": [
      "<class 'pandas.core.frame.DataFrame'>\n",
      "Int64Index: 934125 entries, 3 to 961665\n",
      "Data columns (total 16 columns):\n",
      " #   Column              Non-Null Count   Dtype         \n",
      "---  ------              --------------   -----         \n",
      " 0   idCarpeta           934125 non-null  float64       \n",
      " 1   Delito              934125 non-null  object        \n",
      " 2   riesgo_delito       934125 non-null  int64         \n",
      " 3   Sexo                934125 non-null  object        \n",
      " 4   Edad                934125 non-null  float64       \n",
      " 5   rango_edad          934125 non-null  object        \n",
      " 6   TipoPersona         934125 non-null  object        \n",
      " 7   CalidadJuridica     934125 non-null  object        \n",
      " 8   Mes_hecho           934125 non-null  object        \n",
      " 9   FechaHecho          934125 non-null  datetime64[ns]\n",
      " 10  Dias_transcurridos  934125 non-null  int64         \n",
      " 11  count_semanas       934125 non-null  int64         \n",
      " 12  HoraHecho           934125 non-null  object        \n",
      " 13  HoraInicio          934125 non-null  object        \n",
      " 14  poblacion_alcaldia  934125 non-null  int64         \n",
      " 15  alcaldia_hechos     934125 non-null  object        \n",
      "dtypes: datetime64[ns](1), float64(2), int64(4), object(9)\n",
      "memory usage: 121.2+ MB\n"
     ]
    }
   ],
   "source": [
    "# tambien limitamos la fecha delitos a los anios 2019, 2020, 2021, y 2022\n",
    "data_set[\"FechaHecho\"] = data_set[\"FechaHecho\"].astype(\"datetime64\")\n",
    "data_set = data_set.loc[(data_set['FechaHecho'] >= '2019-01-01')]\n",
    "data_set.info()"
   ],
   "metadata": {
    "collapsed": false
   }
  },
  {
   "cell_type": "code",
   "execution_count": 7,
   "outputs": [],
   "source": [
    "def formatear_minusculas_sin_acentos(string_value):\n",
    "    string_value_lower=string_value.lower()\n",
    "    to_replace = {\" \": \"_\", \"á\": \"a\", \"é\": \"e\", \"í\": \"i\",\"ó\": \"o\", \"ú\": \"u\"}\n",
    "\n",
    "    for char in to_replace.keys():\n",
    "        # dictionaryName[keys] - another way to get value\n",
    "        string_value_lower = string_value_lower.replace(char, to_replace[char])\n",
    "    return string_value_lower.lower()\n",
    "\n",
    "def get_data_by_alcaldia(df, name_alcaldia):\n",
    "    data_unsupervised = df.loc[df['alcaldia_hechos'] == name_alcaldia]\n",
    "    data_unsupervised=data_unsupervised.drop('alcaldia_hechos', axis=1)\n",
    "    name_alcaldia_formatted = formatear_minusculas_sin_acentos(name_alcaldia)\n",
    "    data_unsupervised.to_csv(f'data_preparation_{name_alcaldia_formatted}.csv', index=False)\n"
   ],
   "metadata": {
    "collapsed": false
   }
  },
  {
   "cell_type": "code",
   "execution_count": 8,
   "outputs": [],
   "source": [
    "list_alcaldias=data_set[\"alcaldia_hechos\"].unique()\n",
    "for alcaldia in list_alcaldias:\n",
    "    get_data_by_alcaldia(data_set, alcaldia)"
   ],
   "metadata": {
    "collapsed": false
   }
  },
  {
   "cell_type": "code",
   "execution_count": 6,
   "outputs": [],
   "source": [],
   "metadata": {
    "collapsed": false
   }
  }
 ],
 "metadata": {
  "kernelspec": {
   "display_name": "Python 3",
   "language": "python",
   "name": "python3"
  },
  "language_info": {
   "codemirror_mode": {
    "name": "ipython",
    "version": 2
   },
   "file_extension": ".py",
   "mimetype": "text/x-python",
   "name": "python",
   "nbconvert_exporter": "python",
   "pygments_lexer": "ipython2",
   "version": "2.7.6"
  }
 },
 "nbformat": 4,
 "nbformat_minor": 0
}
