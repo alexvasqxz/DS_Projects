{
 "cells": [
  {
   "cell_type": "code",
   "execution_count": 7,
   "outputs": [],
   "source": [
    "\n",
    "import pandas as pd\n",
    "import os"
   ],
   "metadata": {
    "collapsed": false
   }
  },
  {
   "cell_type": "markdown",
   "source": [
    "# Running this Notebook with the output of DataPreparation.ipynb will create a dataset per each value in column \"alcaldia_hechos\" and keep data from 2019 and forward."
   ],
   "metadata": {
    "collapsed": false
   }
  },
  {
   "cell_type": "code",
   "execution_count": 8,
   "outputs": [],
   "source": [
    "os.chdir(\"/Users/abyvelazquez/Developer/Repos/DS_Projects/Criminalidad/data/\")\n",
    "data_set = pd.read_csv(\"data_preparation.csv\")"
   ],
   "metadata": {
    "collapsed": false
   }
  },
  {
   "cell_type": "code",
   "execution_count": 9,
   "outputs": [
    {
     "name": "stderr",
     "output_type": "stream",
     "text": [
      "/var/folders/30/qpjmvdzs0ng9dh1bzzwc7brh0000gn/T/ipykernel_79723/134547265.py:1: UserWarning: Parsing dates in DD/MM/YYYY format when dayfirst=False (the default) was specified. This may lead to inconsistently parsed dates! Specify a format to ensure consistent parsing.\n",
      "  data_set[[\"FechaHecho\"]] = data_set[[\"FechaHecho\"]].apply(pd.to_datetime)\n"
     ]
    }
   ],
   "source": [
    "\n",
    "data_set[[\"FechaHecho\"]] = data_set[[\"FechaHecho\"]].apply(pd.to_datetime)"
   ],
   "metadata": {
    "collapsed": false
   }
  },
  {
   "cell_type": "code",
   "execution_count": 10,
   "outputs": [
    {
     "name": "stderr",
     "output_type": "stream",
     "text": [
      "/var/folders/30/qpjmvdzs0ng9dh1bzzwc7brh0000gn/T/ipykernel_79723/4169249580.py:2: FutureWarning: Passing unit-less datetime64 dtype to .astype is deprecated and will raise in a future version. Pass 'datetime64[ns]' instead\n",
      "  data_set[\"FechaHecho\"] = data_set[\"FechaHecho\"].astype(\"datetime64\")\n"
     ]
    },
    {
     "data": {
      "text/plain": "    idCarpeta                                             Delito  \\\n3   8324435.0  ROBO DE VEHICULO DE SERVICIO PARTICULAR SIN VI...   \n4   8324438.0                  ROBO DE MOTOCICLETA SIN VIOLENCIA   \n6   8324444.0         ROBO A TRANSEUNTE DE CELULAR SIN VIOLENCIA   \n14  8324477.0                         ROBO DE ACCESORIOS DE AUTO   \n19  8324487.0  ROBO A PASAJERO A BORDO DE TRANSPORTE PÚBLICO ...   \n\n    riesgo_delito       Sexo  Edad               rango_edad TipoPersona  \\\n3               3  Masculino  35.0          Adultos jóvenes      FISICA   \n4               3  Masculino  39.0          Adultos jóvenes      FISICA   \n6               2   Femenino  55.0  Adultos de mediana edad      FISICA   \n14              2  Masculino  61.0          Adultos mayores      FISICA   \n19              9  Masculino  44.0  Adultos de mediana edad      FISICA   \n\n          CalidadJuridica Mes_hecho  FechaHecho  Dias_transcurridos  \\\n3   VICTIMA Y DENUNCIANTE     Enero  04/01/2019                   0   \n4                 VICTIMA     Enero  03/01/2019                   1   \n6   VICTIMA Y DENUNCIANTE     Enero  04/01/2019                   0   \n14  VICTIMA Y DENUNCIANTE     Enero  03/01/2019                   1   \n19  VICTIMA Y DENUNCIANTE     Enero  04/01/2019                   0   \n\n    count_semanas HoraHecho HoraInicio  poblacion_alcaldia alcaldia_hechos  \n3             992     06:00      12:27              404695       IZTACALCO  \n4             992     20:00      12:35             1835486      IZTAPALAPA  \n6             992     08:30      12:40              759137  ALVARO OBREGON  \n14            992     19:00      13:14              414470  MIGUEL HIDALGO  \n19            992     11:40      13:24             1835486      IZTAPALAPA  ",
      "text/html": "<div>\n<style scoped>\n    .dataframe tbody tr th:only-of-type {\n        vertical-align: middle;\n    }\n\n    .dataframe tbody tr th {\n        vertical-align: top;\n    }\n\n    .dataframe thead th {\n        text-align: right;\n    }\n</style>\n<table border=\"1\" class=\"dataframe\">\n  <thead>\n    <tr style=\"text-align: right;\">\n      <th></th>\n      <th>idCarpeta</th>\n      <th>Delito</th>\n      <th>riesgo_delito</th>\n      <th>Sexo</th>\n      <th>Edad</th>\n      <th>rango_edad</th>\n      <th>TipoPersona</th>\n      <th>CalidadJuridica</th>\n      <th>Mes_hecho</th>\n      <th>FechaHecho</th>\n      <th>Dias_transcurridos</th>\n      <th>count_semanas</th>\n      <th>HoraHecho</th>\n      <th>HoraInicio</th>\n      <th>poblacion_alcaldia</th>\n      <th>alcaldia_hechos</th>\n    </tr>\n  </thead>\n  <tbody>\n    <tr>\n      <th>3</th>\n      <td>8324435.0</td>\n      <td>ROBO DE VEHICULO DE SERVICIO PARTICULAR SIN VI...</td>\n      <td>3</td>\n      <td>Masculino</td>\n      <td>35.0</td>\n      <td>Adultos jóvenes</td>\n      <td>FISICA</td>\n      <td>VICTIMA Y DENUNCIANTE</td>\n      <td>Enero</td>\n      <td>04/01/2019</td>\n      <td>0</td>\n      <td>992</td>\n      <td>06:00</td>\n      <td>12:27</td>\n      <td>404695</td>\n      <td>IZTACALCO</td>\n    </tr>\n    <tr>\n      <th>4</th>\n      <td>8324438.0</td>\n      <td>ROBO DE MOTOCICLETA SIN VIOLENCIA</td>\n      <td>3</td>\n      <td>Masculino</td>\n      <td>39.0</td>\n      <td>Adultos jóvenes</td>\n      <td>FISICA</td>\n      <td>VICTIMA</td>\n      <td>Enero</td>\n      <td>03/01/2019</td>\n      <td>1</td>\n      <td>992</td>\n      <td>20:00</td>\n      <td>12:35</td>\n      <td>1835486</td>\n      <td>IZTAPALAPA</td>\n    </tr>\n    <tr>\n      <th>6</th>\n      <td>8324444.0</td>\n      <td>ROBO A TRANSEUNTE DE CELULAR SIN VIOLENCIA</td>\n      <td>2</td>\n      <td>Femenino</td>\n      <td>55.0</td>\n      <td>Adultos de mediana edad</td>\n      <td>FISICA</td>\n      <td>VICTIMA Y DENUNCIANTE</td>\n      <td>Enero</td>\n      <td>04/01/2019</td>\n      <td>0</td>\n      <td>992</td>\n      <td>08:30</td>\n      <td>12:40</td>\n      <td>759137</td>\n      <td>ALVARO OBREGON</td>\n    </tr>\n    <tr>\n      <th>14</th>\n      <td>8324477.0</td>\n      <td>ROBO DE ACCESORIOS DE AUTO</td>\n      <td>2</td>\n      <td>Masculino</td>\n      <td>61.0</td>\n      <td>Adultos mayores</td>\n      <td>FISICA</td>\n      <td>VICTIMA Y DENUNCIANTE</td>\n      <td>Enero</td>\n      <td>03/01/2019</td>\n      <td>1</td>\n      <td>992</td>\n      <td>19:00</td>\n      <td>13:14</td>\n      <td>414470</td>\n      <td>MIGUEL HIDALGO</td>\n    </tr>\n    <tr>\n      <th>19</th>\n      <td>8324487.0</td>\n      <td>ROBO A PASAJERO A BORDO DE TRANSPORTE PÚBLICO ...</td>\n      <td>9</td>\n      <td>Masculino</td>\n      <td>44.0</td>\n      <td>Adultos de mediana edad</td>\n      <td>FISICA</td>\n      <td>VICTIMA Y DENUNCIANTE</td>\n      <td>Enero</td>\n      <td>04/01/2019</td>\n      <td>0</td>\n      <td>992</td>\n      <td>11:40</td>\n      <td>13:24</td>\n      <td>1835486</td>\n      <td>IZTAPALAPA</td>\n    </tr>\n  </tbody>\n</table>\n</div>"
     },
     "execution_count": 10,
     "metadata": {},
     "output_type": "execute_result"
    }
   ],
   "source": [
    "# tambien limitamos la fecha delitos a los anios 2019, 2020, 2021, y 2022\n",
    "data_set[\"FechaHecho\"] = data_set[\"FechaHecho\"].astype(\"datetime64\")\n",
    "data_set = data_set.loc[(data_set['FechaHecho'] >= '2019-01-01')]\n",
    "data_set['FechaHecho'] = data_set['FechaHecho'].dt.strftime('%m/%d/%Y')\n",
    "data_set.head()"
   ],
   "metadata": {
    "collapsed": false
   }
  },
  {
   "cell_type": "code",
   "execution_count": 11,
   "outputs": [],
   "source": [
    "def formatear_minusculas_sin_acentos(string_value):\n",
    "    string_value_lower=string_value.lower()\n",
    "    to_replace = {\" \": \"_\", \"á\": \"a\", \"é\": \"e\", \"í\": \"i\",\"ó\": \"o\", \"ú\": \"u\"}\n",
    "\n",
    "    for char in to_replace.keys():\n",
    "        # dictionaryName[keys] - another way to get value\n",
    "        string_value_lower = string_value_lower.replace(char, to_replace[char])\n",
    "    return string_value_lower.lower()\n",
    "\n",
    "def get_data_by_alcaldia(df, name_alcaldia):\n",
    "    data_unsupervised = df.loc[df['alcaldia_hechos'] == name_alcaldia]\n",
    "    data_unsupervised=data_unsupervised.drop('alcaldia_hechos', axis=1)\n",
    "    name_alcaldia_formatted = formatear_minusculas_sin_acentos(name_alcaldia)\n",
    "    data_unsupervised.to_csv(f'data_preparation_{name_alcaldia_formatted}.csv', index=False)\n"
   ],
   "metadata": {
    "collapsed": false
   }
  },
  {
   "cell_type": "code",
   "execution_count": 12,
   "outputs": [],
   "source": [
    "list_alcaldias=data_set[\"alcaldia_hechos\"].unique()\n",
    "for alcaldia in list_alcaldias:\n",
    "    get_data_by_alcaldia(data_set, alcaldia)"
   ],
   "metadata": {
    "collapsed": false
   }
  },
  {
   "cell_type": "code",
   "execution_count": null,
   "outputs": [],
   "source": [],
   "metadata": {
    "collapsed": false
   }
  }
 ],
 "metadata": {
  "kernelspec": {
   "display_name": "Python 3",
   "language": "python",
   "name": "python3"
  },
  "language_info": {
   "codemirror_mode": {
    "name": "ipython",
    "version": 2
   },
   "file_extension": ".py",
   "mimetype": "text/x-python",
   "name": "python",
   "nbconvert_exporter": "python",
   "pygments_lexer": "ipython2",
   "version": "2.7.6"
  }
 },
 "nbformat": 4,
 "nbformat_minor": 0
}
