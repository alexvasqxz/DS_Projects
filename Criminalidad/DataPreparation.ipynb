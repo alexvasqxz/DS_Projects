{
 "cells": [
  {
   "cell_type": "markdown",
   "source": [
    "# Data Preparation"
   ],
   "metadata": {
    "collapsed": false
   }
  },
  {
   "cell_type": "markdown",
   "source": [
    "## Select Data - Eliminar Columnas\n",
    "De la seccion de entendimiento de los datos, vimos que hay columnas que realmente no aportan mucha información, importancia o significancia al alcance de este proyecto, por lo que en esta parte, se eliminaran para contar unicamente con los datos que se trabajaran, estas columnas son:\n",
    "\n",
    "- municipio_hechos : Al tener el 99% de sus datos como NaN y no aportar informacion\n",
    "- competencia : Al tener un unico valor\n",
    "- coordenadas (latitud y longitud) : El proyecto se enfocara en las alcaldias de la Ciudad de Mexico y el valor de coordenadas no estan dentro de\n",
    "este scope\n",
    "- fgj_colonia_registro : No esta dentro del scope de este proyecto"
   ],
   "metadata": {
    "collapsed": false
   }
  },
  {
   "cell_type": "code",
   "execution_count": 217,
   "outputs": [],
   "source": [
    "import pandas as pd\n",
    "\n",
    "data_set = pd.read_csv(\"sourceData.csv\")"
   ],
   "metadata": {
    "collapsed": false
   }
  },
  {
   "cell_type": "code",
   "execution_count": 218,
   "outputs": [
    {
     "data": {
      "text/plain": "   idCarpeta  Anio_inicio Mes_inicio FechaInicio  \\\n0  8324429.0         2019      Enero  04/01/2019   \n1  8324430.0         2019      Enero  04/01/2019   \n2  8324431.0         2019      Enero  04/01/2019   \n3  8324435.0         2019      Enero  04/01/2019   \n4  8324438.0         2019      Enero  04/01/2019   \n\n                                              Delito  \\\n0                                             FRAUDE   \n1  PRODUCCIÓN, IMPRESIÓN, ENAJENACIÓN, DISTRIBUCI...   \n2  ROBO A TRANSEUNTE SALIENDO DEL BANCO CON VIOLE...   \n3  ROBO DE VEHICULO DE SERVICIO PARTICULAR SIN VI...   \n4                  ROBO DE MOTOCICLETA SIN VIOLENCIA   \n\n                                           Categoria       Sexo  Edad  \\\n0                             DELITO DE BAJO IMPACTO  Masculino  62.0   \n1                             DELITO DE BAJO IMPACTO   Femenino  38.0   \n2  ROBO A CUENTAHABIENTE SALIENDO DEL CAJERO CON ...  Masculino  42.0   \n3               ROBO DE VEHÍCULO CON Y SIN VIOLENCIA  Masculino  35.0   \n4               ROBO DE VEHÍCULO CON Y SIN VIOLENCIA  Masculino   NaN   \n\n  TipoPersona        CalidadJuridica  Anio_hecho  Mes_hecho  FechaHecho  \\\n0      FISICA               OFENDIDO      2018.0     Agosto  29/08/2018   \n1      FISICA  VICTIMA Y DENUNCIANTE      2018.0  Diciembre  15/12/2018   \n2      FISICA  VICTIMA Y DENUNCIANTE      2018.0  Diciembre  22/12/2018   \n3      FISICA  VICTIMA Y DENUNCIANTE      2019.0      Enero  04/01/2019   \n4      FISICA                VICTIMA      2019.0      Enero  03/01/2019   \n\n  HoraHecho HoraInicio alcaldia_hechos                colonia_datos  \n0  12:00:00   12:19:00  ALVARO OBREGON                GUADALUPE INN  \n1  15:00:00   12:20:00    AZCAPOTZALCO  VICTORIA DE LAS DEMOCRACIAS  \n2  15:30:00   12:23:00        COYOACAN              COPILCO EL BAJO  \n3  06:00:00   12:27:00       IZTACALCO                  PANTITLAN V  \n4  20:00:00   12:35:00      IZTAPALAPA         LAS AMERICAS (U HAB)  ",
      "text/html": "<div>\n<style scoped>\n    .dataframe tbody tr th:only-of-type {\n        vertical-align: middle;\n    }\n\n    .dataframe tbody tr th {\n        vertical-align: top;\n    }\n\n    .dataframe thead th {\n        text-align: right;\n    }\n</style>\n<table border=\"1\" class=\"dataframe\">\n  <thead>\n    <tr style=\"text-align: right;\">\n      <th></th>\n      <th>idCarpeta</th>\n      <th>Anio_inicio</th>\n      <th>Mes_inicio</th>\n      <th>FechaInicio</th>\n      <th>Delito</th>\n      <th>Categoria</th>\n      <th>Sexo</th>\n      <th>Edad</th>\n      <th>TipoPersona</th>\n      <th>CalidadJuridica</th>\n      <th>Anio_hecho</th>\n      <th>Mes_hecho</th>\n      <th>FechaHecho</th>\n      <th>HoraHecho</th>\n      <th>HoraInicio</th>\n      <th>alcaldia_hechos</th>\n      <th>colonia_datos</th>\n    </tr>\n  </thead>\n  <tbody>\n    <tr>\n      <th>0</th>\n      <td>8324429.0</td>\n      <td>2019</td>\n      <td>Enero</td>\n      <td>04/01/2019</td>\n      <td>FRAUDE</td>\n      <td>DELITO DE BAJO IMPACTO</td>\n      <td>Masculino</td>\n      <td>62.0</td>\n      <td>FISICA</td>\n      <td>OFENDIDO</td>\n      <td>2018.0</td>\n      <td>Agosto</td>\n      <td>29/08/2018</td>\n      <td>12:00:00</td>\n      <td>12:19:00</td>\n      <td>ALVARO OBREGON</td>\n      <td>GUADALUPE INN</td>\n    </tr>\n    <tr>\n      <th>1</th>\n      <td>8324430.0</td>\n      <td>2019</td>\n      <td>Enero</td>\n      <td>04/01/2019</td>\n      <td>PRODUCCIÓN, IMPRESIÓN, ENAJENACIÓN, DISTRIBUCI...</td>\n      <td>DELITO DE BAJO IMPACTO</td>\n      <td>Femenino</td>\n      <td>38.0</td>\n      <td>FISICA</td>\n      <td>VICTIMA Y DENUNCIANTE</td>\n      <td>2018.0</td>\n      <td>Diciembre</td>\n      <td>15/12/2018</td>\n      <td>15:00:00</td>\n      <td>12:20:00</td>\n      <td>AZCAPOTZALCO</td>\n      <td>VICTORIA DE LAS DEMOCRACIAS</td>\n    </tr>\n    <tr>\n      <th>2</th>\n      <td>8324431.0</td>\n      <td>2019</td>\n      <td>Enero</td>\n      <td>04/01/2019</td>\n      <td>ROBO A TRANSEUNTE SALIENDO DEL BANCO CON VIOLE...</td>\n      <td>ROBO A CUENTAHABIENTE SALIENDO DEL CAJERO CON ...</td>\n      <td>Masculino</td>\n      <td>42.0</td>\n      <td>FISICA</td>\n      <td>VICTIMA Y DENUNCIANTE</td>\n      <td>2018.0</td>\n      <td>Diciembre</td>\n      <td>22/12/2018</td>\n      <td>15:30:00</td>\n      <td>12:23:00</td>\n      <td>COYOACAN</td>\n      <td>COPILCO EL BAJO</td>\n    </tr>\n    <tr>\n      <th>3</th>\n      <td>8324435.0</td>\n      <td>2019</td>\n      <td>Enero</td>\n      <td>04/01/2019</td>\n      <td>ROBO DE VEHICULO DE SERVICIO PARTICULAR SIN VI...</td>\n      <td>ROBO DE VEHÍCULO CON Y SIN VIOLENCIA</td>\n      <td>Masculino</td>\n      <td>35.0</td>\n      <td>FISICA</td>\n      <td>VICTIMA Y DENUNCIANTE</td>\n      <td>2019.0</td>\n      <td>Enero</td>\n      <td>04/01/2019</td>\n      <td>06:00:00</td>\n      <td>12:27:00</td>\n      <td>IZTACALCO</td>\n      <td>PANTITLAN V</td>\n    </tr>\n    <tr>\n      <th>4</th>\n      <td>8324438.0</td>\n      <td>2019</td>\n      <td>Enero</td>\n      <td>04/01/2019</td>\n      <td>ROBO DE MOTOCICLETA SIN VIOLENCIA</td>\n      <td>ROBO DE VEHÍCULO CON Y SIN VIOLENCIA</td>\n      <td>Masculino</td>\n      <td>NaN</td>\n      <td>FISICA</td>\n      <td>VICTIMA</td>\n      <td>2019.0</td>\n      <td>Enero</td>\n      <td>03/01/2019</td>\n      <td>20:00:00</td>\n      <td>12:35:00</td>\n      <td>IZTAPALAPA</td>\n      <td>LAS AMERICAS (U HAB)</td>\n    </tr>\n  </tbody>\n</table>\n</div>"
     },
     "execution_count": 218,
     "metadata": {},
     "output_type": "execute_result"
    }
   ],
   "source": [
    "columns_to_remove = ['municipio_hechos', 'competencia', 'latitud', 'longitud', 'fgj_colonia_registro']\n",
    "data_set = data_set.drop(columns_to_remove, axis=1)\n",
    "\n",
    "data_set.head()"
   ],
   "metadata": {
    "collapsed": false
   }
  },
  {
   "cell_type": "markdown",
   "source": [
    "## Outliers\n",
    "Las columnas que cuentan con valores outliers son:\n",
    "- edad: Valores mayores a 120 (258, 361 y 369) y 1899 valores de 0\n",
    "- año_hechos: Un valor de 222 y valores del siglo pasado"
   ],
   "metadata": {
    "collapsed": false
   }
  },
  {
   "cell_type": "code",
   "execution_count": 219,
   "outputs": [],
   "source": [
    "valores_edad = data_set.groupby('Edad')['idCarpeta'].count()\n",
    "valores_ahecho = data_set.groupby('Anio_hecho')['idCarpeta'].count()"
   ],
   "metadata": {
    "collapsed": false
   }
  },
  {
   "cell_type": "markdown",
   "source": [
    "### Outliers - Edad\n",
    "El approach a seguir es el obtener un promedio de edad entre un limite inferior (1) y un limite superior (120)\n",
    "Despues de obtener este promedio, reemplazamos los outliers (valores de 0, 258, 361 y 369) con este promedio, ya que el numero de valores en 0 es significativo (1899)"
   ],
   "metadata": {
    "collapsed": false
   }
  },
  {
   "cell_type": "code",
   "execution_count": 220,
   "outputs": [
    {
     "name": "stdout",
     "output_type": "stream",
     "text": [
      "38.944485754445886\n",
      "39\n"
     ]
    }
   ],
   "source": [
    "limite_inferior = 1\n",
    "limite_superior = 120\n",
    "edad_en_rango = data_set.loc[data_set['Edad'].between(limite_inferior, limite_superior), 'Edad']\n",
    "promedio_edad = edad_en_rango.mean()\n",
    "print(promedio_edad)\n",
    "\n",
    "promedio_edad = round(promedio_edad)\n",
    "print(promedio_edad)"
   ],
   "metadata": {
    "collapsed": false
   }
  },
  {
   "cell_type": "code",
   "execution_count": 221,
   "outputs": [
    {
     "name": "stdout",
     "output_type": "stream",
     "text": [
      "Edad\n",
      "1.0       942\n",
      "2.0      1206\n",
      "3.0      1685\n",
      "4.0      1837\n",
      "5.0      1848\n",
      "         ... \n",
      "107.0       1\n",
      "110.0       1\n",
      "111.0       1\n",
      "114.0       1\n",
      "120.0       2\n",
      "Name: idCarpeta, Length: 110, dtype: int64\n"
     ]
    }
   ],
   "source": [
    "data_set['Edad'] = data_set['Edad'].mask(~data_set['Edad'].between(limite_inferior, limite_superior), promedio_edad)\n",
    "print(data_set.groupby('Edad')['idCarpeta'].count())"
   ],
   "metadata": {
    "collapsed": false
   }
  },
  {
   "cell_type": "markdown",
   "source": [
    "## Outliers - Año Hechos\n",
    "Se borran las filas con valores menores a 2000"
   ],
   "metadata": {
    "collapsed": false
   }
  },
  {
   "cell_type": "code",
   "execution_count": 222,
   "outputs": [
    {
     "name": "stdout",
     "output_type": "stream",
     "text": [
      "Anio_hecho\n",
      "2000.0       118\n",
      "2001.0        93\n",
      "2002.0       212\n",
      "2003.0        68\n",
      "2004.0        84\n",
      "2005.0        84\n",
      "2006.0       108\n",
      "2007.0       129\n",
      "2008.0       231\n",
      "2009.0       254\n",
      "2010.0       353\n",
      "2011.0       430\n",
      "2012.0       531\n",
      "2013.0       541\n",
      "2014.0       880\n",
      "2015.0      1085\n",
      "2016.0      1732\n",
      "2017.0      3457\n",
      "2018.0     17888\n",
      "2019.0    261051\n",
      "2020.0    214736\n",
      "2021.0    235849\n",
      "2022.0    233278\n",
      "Name: idCarpeta, dtype: int64\n"
     ]
    }
   ],
   "source": [
    "data_set = data_set[data_set['Anio_hecho'] >= 2000]\n",
    "print(data_set.groupby('Anio_hecho')['idCarpeta'].count())"
   ],
   "metadata": {
    "collapsed": false
   }
  },
  {
   "cell_type": "markdown",
   "source": [
    "## Missing Data\n",
    "Las columnas con valores NaN son las siguientes:\n",
    "- Sexo : 180,609 registros\n",
    "- TipoPersona : 6512 registros\n",
    "- CalidadJuridica: 1 registro\n",
    "- Anio_hecho, Mes_hecho, FechaHecho : 370 registros\n",
    "- HoraHecho : 361 registros\n",
    "- HoraInicio : 1\n",
    "- colonia_datos : 69,602 registros"
   ],
   "metadata": {
    "collapsed": false
   }
  },
  {
   "cell_type": "code",
   "execution_count": 223,
   "outputs": [
    {
     "name": "stdout",
     "output_type": "stream",
     "text": [
      "Sexo : 180471\n",
      "TipoPersona : 6502\n",
      "CalidadJuridica : 1\n",
      "HoraHecho : 1\n",
      "HoraInicio : 1\n",
      "colonia_datos : 69462\n"
     ]
    }
   ],
   "source": [
    "for column in data_set.columns:\n",
    "    if(data_set[column].isnull().sum() > 0):\n",
    "        print(column + ' : ' + str(data_set[column].isnull().sum()))"
   ],
   "metadata": {
    "collapsed": false
   }
  },
  {
   "cell_type": "markdown",
   "source": [
    "### Grupo 1 - Columnas con menos de 1000 registros Nan\n",
    "El approach para este grupo es borrar los registros, ya que son de un numero muy bajo\n",
    "Las columnas a borrar sus registros con valores nulos son:\n",
    "- CalidadJuridica\n",
    "- Anio_hecho\n",
    "- Mes_hecho\n",
    "- FechaHecho\n",
    "- HoraHecho\n",
    "- HoraInicio"
   ],
   "metadata": {
    "collapsed": false
   }
  },
  {
   "cell_type": "code",
   "execution_count": 224,
   "outputs": [
    {
     "name": "stdout",
     "output_type": "stream",
     "text": [
      "Sexo : 180471\n",
      "TipoPersona : 6502\n",
      "colonia_datos : 69461\n"
     ]
    }
   ],
   "source": [
    "data_set = data_set.dropna(subset=['CalidadJuridica', 'Anio_hecho', 'Mes_hecho', 'FechaHecho', 'HoraHecho', 'HoraInicio'])\n",
    "for column in data_set.columns:\n",
    "    if(data_set[column].isnull().sum() > 0):\n",
    "        print(column + ' : ' + str(data_set[column].isnull().sum()))"
   ],
   "metadata": {
    "collapsed": false
   }
  },
  {
   "cell_type": "markdown",
   "source": [
    "### Grupo 2 - Columnas con mas de 1000 registros Nan\n",
    "Para estas columnas, el approach es sustituir los valores Nulos con la palabra 'Desconocido'\n",
    "Las columnas a ser modificadas son:\n",
    "- Sexo\n",
    "- TipoPersona\n",
    "- colonia_datos"
   ],
   "metadata": {
    "collapsed": false
   }
  },
  {
   "cell_type": "code",
   "execution_count": 225,
   "outputs": [],
   "source": [
    "data_set[['Sexo', 'TipoPersona', 'colonia_datos']] = data_set[['Sexo', 'TipoPersona', 'colonia_datos']].fillna('Desconocido')\n",
    "for column in data_set.columns:\n",
    "    if(data_set[column].isnull().sum() > 0):\n",
    "        print(column + ' : ' + str(data_set[column].isnull().sum()))"
   ],
   "metadata": {
    "collapsed": false
   }
  },
  {
   "cell_type": "markdown",
   "source": [
    "## Data Transformation\n",
    "En esta seccion, se modificaran las columnas de formato HH:MM:SS a HH:MM\n",
    "Estas columnas son:\n",
    "- HoraHecho\n",
    "- HoraInicio"
   ],
   "metadata": {
    "collapsed": false
   }
  },
  {
   "cell_type": "code",
   "execution_count": 226,
   "outputs": [
    {
     "data": {
      "text/plain": "   idCarpeta  Anio_inicio Mes_inicio FechaInicio  \\\n0  8324429.0         2019      Enero  04/01/2019   \n1  8324430.0         2019      Enero  04/01/2019   \n2  8324431.0         2019      Enero  04/01/2019   \n3  8324435.0         2019      Enero  04/01/2019   \n4  8324438.0         2019      Enero  04/01/2019   \n\n                                              Delito  \\\n0                                             FRAUDE   \n1  PRODUCCIÓN, IMPRESIÓN, ENAJENACIÓN, DISTRIBUCI...   \n2  ROBO A TRANSEUNTE SALIENDO DEL BANCO CON VIOLE...   \n3  ROBO DE VEHICULO DE SERVICIO PARTICULAR SIN VI...   \n4                  ROBO DE MOTOCICLETA SIN VIOLENCIA   \n\n                                           Categoria       Sexo  Edad  \\\n0                             DELITO DE BAJO IMPACTO  Masculino  62.0   \n1                             DELITO DE BAJO IMPACTO   Femenino  38.0   \n2  ROBO A CUENTAHABIENTE SALIENDO DEL CAJERO CON ...  Masculino  42.0   \n3               ROBO DE VEHÍCULO CON Y SIN VIOLENCIA  Masculino  35.0   \n4               ROBO DE VEHÍCULO CON Y SIN VIOLENCIA  Masculino  39.0   \n\n  TipoPersona        CalidadJuridica  Anio_hecho  Mes_hecho  FechaHecho  \\\n0      FISICA               OFENDIDO      2018.0     Agosto  29/08/2018   \n1      FISICA  VICTIMA Y DENUNCIANTE      2018.0  Diciembre  15/12/2018   \n2      FISICA  VICTIMA Y DENUNCIANTE      2018.0  Diciembre  22/12/2018   \n3      FISICA  VICTIMA Y DENUNCIANTE      2019.0      Enero  04/01/2019   \n4      FISICA                VICTIMA      2019.0      Enero  03/01/2019   \n\n  HoraHecho HoraInicio alcaldia_hechos                colonia_datos  \n0     12:00      12:19  ALVARO OBREGON                GUADALUPE INN  \n1     15:00      12:20    AZCAPOTZALCO  VICTORIA DE LAS DEMOCRACIAS  \n2     15:30      12:23        COYOACAN              COPILCO EL BAJO  \n3     06:00      12:27       IZTACALCO                  PANTITLAN V  \n4     20:00      12:35      IZTAPALAPA         LAS AMERICAS (U HAB)  ",
      "text/html": "<div>\n<style scoped>\n    .dataframe tbody tr th:only-of-type {\n        vertical-align: middle;\n    }\n\n    .dataframe tbody tr th {\n        vertical-align: top;\n    }\n\n    .dataframe thead th {\n        text-align: right;\n    }\n</style>\n<table border=\"1\" class=\"dataframe\">\n  <thead>\n    <tr style=\"text-align: right;\">\n      <th></th>\n      <th>idCarpeta</th>\n      <th>Anio_inicio</th>\n      <th>Mes_inicio</th>\n      <th>FechaInicio</th>\n      <th>Delito</th>\n      <th>Categoria</th>\n      <th>Sexo</th>\n      <th>Edad</th>\n      <th>TipoPersona</th>\n      <th>CalidadJuridica</th>\n      <th>Anio_hecho</th>\n      <th>Mes_hecho</th>\n      <th>FechaHecho</th>\n      <th>HoraHecho</th>\n      <th>HoraInicio</th>\n      <th>alcaldia_hechos</th>\n      <th>colonia_datos</th>\n    </tr>\n  </thead>\n  <tbody>\n    <tr>\n      <th>0</th>\n      <td>8324429.0</td>\n      <td>2019</td>\n      <td>Enero</td>\n      <td>04/01/2019</td>\n      <td>FRAUDE</td>\n      <td>DELITO DE BAJO IMPACTO</td>\n      <td>Masculino</td>\n      <td>62.0</td>\n      <td>FISICA</td>\n      <td>OFENDIDO</td>\n      <td>2018.0</td>\n      <td>Agosto</td>\n      <td>29/08/2018</td>\n      <td>12:00</td>\n      <td>12:19</td>\n      <td>ALVARO OBREGON</td>\n      <td>GUADALUPE INN</td>\n    </tr>\n    <tr>\n      <th>1</th>\n      <td>8324430.0</td>\n      <td>2019</td>\n      <td>Enero</td>\n      <td>04/01/2019</td>\n      <td>PRODUCCIÓN, IMPRESIÓN, ENAJENACIÓN, DISTRIBUCI...</td>\n      <td>DELITO DE BAJO IMPACTO</td>\n      <td>Femenino</td>\n      <td>38.0</td>\n      <td>FISICA</td>\n      <td>VICTIMA Y DENUNCIANTE</td>\n      <td>2018.0</td>\n      <td>Diciembre</td>\n      <td>15/12/2018</td>\n      <td>15:00</td>\n      <td>12:20</td>\n      <td>AZCAPOTZALCO</td>\n      <td>VICTORIA DE LAS DEMOCRACIAS</td>\n    </tr>\n    <tr>\n      <th>2</th>\n      <td>8324431.0</td>\n      <td>2019</td>\n      <td>Enero</td>\n      <td>04/01/2019</td>\n      <td>ROBO A TRANSEUNTE SALIENDO DEL BANCO CON VIOLE...</td>\n      <td>ROBO A CUENTAHABIENTE SALIENDO DEL CAJERO CON ...</td>\n      <td>Masculino</td>\n      <td>42.0</td>\n      <td>FISICA</td>\n      <td>VICTIMA Y DENUNCIANTE</td>\n      <td>2018.0</td>\n      <td>Diciembre</td>\n      <td>22/12/2018</td>\n      <td>15:30</td>\n      <td>12:23</td>\n      <td>COYOACAN</td>\n      <td>COPILCO EL BAJO</td>\n    </tr>\n    <tr>\n      <th>3</th>\n      <td>8324435.0</td>\n      <td>2019</td>\n      <td>Enero</td>\n      <td>04/01/2019</td>\n      <td>ROBO DE VEHICULO DE SERVICIO PARTICULAR SIN VI...</td>\n      <td>ROBO DE VEHÍCULO CON Y SIN VIOLENCIA</td>\n      <td>Masculino</td>\n      <td>35.0</td>\n      <td>FISICA</td>\n      <td>VICTIMA Y DENUNCIANTE</td>\n      <td>2019.0</td>\n      <td>Enero</td>\n      <td>04/01/2019</td>\n      <td>06:00</td>\n      <td>12:27</td>\n      <td>IZTACALCO</td>\n      <td>PANTITLAN V</td>\n    </tr>\n    <tr>\n      <th>4</th>\n      <td>8324438.0</td>\n      <td>2019</td>\n      <td>Enero</td>\n      <td>04/01/2019</td>\n      <td>ROBO DE MOTOCICLETA SIN VIOLENCIA</td>\n      <td>ROBO DE VEHÍCULO CON Y SIN VIOLENCIA</td>\n      <td>Masculino</td>\n      <td>39.0</td>\n      <td>FISICA</td>\n      <td>VICTIMA</td>\n      <td>2019.0</td>\n      <td>Enero</td>\n      <td>03/01/2019</td>\n      <td>20:00</td>\n      <td>12:35</td>\n      <td>IZTAPALAPA</td>\n      <td>LAS AMERICAS (U HAB)</td>\n    </tr>\n  </tbody>\n</table>\n</div>"
     },
     "execution_count": 226,
     "metadata": {},
     "output_type": "execute_result"
    }
   ],
   "source": [
    "data_set[['HoraHecho', 'HoraInicio']] = data_set[['HoraHecho', 'HoraInicio']].apply(pd.to_datetime)\n",
    "data_set['HoraHecho'] = data_set['HoraHecho'].dt.strftime('%H:%M')\n",
    "data_set['HoraInicio'] = data_set['HoraInicio'].dt.strftime('%H:%M')\n",
    "data_set.head()"
   ],
   "metadata": {
    "collapsed": false
   }
  },
  {
   "cell_type": "markdown",
   "source": [
    "### Crear Columnas Dia y Mes\n",
    "Se observo que contamos con dos columnas FechaInicio y FechaHecho, de igual forma para cada una de estas se cuenta con dos columnas Mes y Anio\n",
    "Las columnas FechaInicio y FechaHecho son de tipo DD-MM-YYYY, las columnas Mes_inicio y Mes_hecho representan los valores MM de dichas columnas, y las columnas con prefijo Anio indican los valores YYYY respectivamente\n",
    "Con el proposito de contar con datos mas limpios y entendibles, se seguira el siguiente algoritmo:\n",
    "1. Crear una columna Dia_inicio que representara el valor numerico DD de la columna FechaInicio\n",
    "2. Reemplazar los valores de Mes_inicio por su valor numerico MM de la columna FechaInicio\n",
    "3. Eliminar la columna FechaInicio\n",
    "4. Seguir los pasos 1-3 para la columna FechaHecho"
   ],
   "metadata": {
    "collapsed": false
   }
  },
  {
   "cell_type": "code",
   "execution_count": 227,
   "outputs": [
    {
     "data": {
      "text/plain": "   idCarpeta  Anio_inicio  Mes_inicio  Dia_inicio  \\\n0  8324429.0         2019           1           4   \n1  8324430.0         2019           1           4   \n2  8324431.0         2019           1           4   \n3  8324435.0         2019           1           4   \n4  8324438.0         2019           1           4   \n\n                                              Delito  \\\n0                                             FRAUDE   \n1  PRODUCCIÓN, IMPRESIÓN, ENAJENACIÓN, DISTRIBUCI...   \n2  ROBO A TRANSEUNTE SALIENDO DEL BANCO CON VIOLE...   \n3  ROBO DE VEHICULO DE SERVICIO PARTICULAR SIN VI...   \n4                  ROBO DE MOTOCICLETA SIN VIOLENCIA   \n\n                                           Categoria       Sexo  Edad  \\\n0                             DELITO DE BAJO IMPACTO  Masculino  62.0   \n1                             DELITO DE BAJO IMPACTO   Femenino  38.0   \n2  ROBO A CUENTAHABIENTE SALIENDO DEL CAJERO CON ...  Masculino  42.0   \n3               ROBO DE VEHÍCULO CON Y SIN VIOLENCIA  Masculino  35.0   \n4               ROBO DE VEHÍCULO CON Y SIN VIOLENCIA  Masculino  39.0   \n\n  TipoPersona        CalidadJuridica  Anio_hecho  Mes_hecho  FechaHecho  \\\n0      FISICA               OFENDIDO      2018.0     Agosto  29/08/2018   \n1      FISICA  VICTIMA Y DENUNCIANTE      2018.0  Diciembre  15/12/2018   \n2      FISICA  VICTIMA Y DENUNCIANTE      2018.0  Diciembre  22/12/2018   \n3      FISICA  VICTIMA Y DENUNCIANTE      2019.0      Enero  04/01/2019   \n4      FISICA                VICTIMA      2019.0      Enero  03/01/2019   \n\n  HoraHecho HoraInicio alcaldia_hechos                colonia_datos  \n0     12:00      12:19  ALVARO OBREGON                GUADALUPE INN  \n1     15:00      12:20    AZCAPOTZALCO  VICTORIA DE LAS DEMOCRACIAS  \n2     15:30      12:23        COYOACAN              COPILCO EL BAJO  \n3     06:00      12:27       IZTACALCO                  PANTITLAN V  \n4     20:00      12:35      IZTAPALAPA         LAS AMERICAS (U HAB)  ",
      "text/html": "<div>\n<style scoped>\n    .dataframe tbody tr th:only-of-type {\n        vertical-align: middle;\n    }\n\n    .dataframe tbody tr th {\n        vertical-align: top;\n    }\n\n    .dataframe thead th {\n        text-align: right;\n    }\n</style>\n<table border=\"1\" class=\"dataframe\">\n  <thead>\n    <tr style=\"text-align: right;\">\n      <th></th>\n      <th>idCarpeta</th>\n      <th>Anio_inicio</th>\n      <th>Mes_inicio</th>\n      <th>Dia_inicio</th>\n      <th>Delito</th>\n      <th>Categoria</th>\n      <th>Sexo</th>\n      <th>Edad</th>\n      <th>TipoPersona</th>\n      <th>CalidadJuridica</th>\n      <th>Anio_hecho</th>\n      <th>Mes_hecho</th>\n      <th>FechaHecho</th>\n      <th>HoraHecho</th>\n      <th>HoraInicio</th>\n      <th>alcaldia_hechos</th>\n      <th>colonia_datos</th>\n    </tr>\n  </thead>\n  <tbody>\n    <tr>\n      <th>0</th>\n      <td>8324429.0</td>\n      <td>2019</td>\n      <td>1</td>\n      <td>4</td>\n      <td>FRAUDE</td>\n      <td>DELITO DE BAJO IMPACTO</td>\n      <td>Masculino</td>\n      <td>62.0</td>\n      <td>FISICA</td>\n      <td>OFENDIDO</td>\n      <td>2018.0</td>\n      <td>Agosto</td>\n      <td>29/08/2018</td>\n      <td>12:00</td>\n      <td>12:19</td>\n      <td>ALVARO OBREGON</td>\n      <td>GUADALUPE INN</td>\n    </tr>\n    <tr>\n      <th>1</th>\n      <td>8324430.0</td>\n      <td>2019</td>\n      <td>1</td>\n      <td>4</td>\n      <td>PRODUCCIÓN, IMPRESIÓN, ENAJENACIÓN, DISTRIBUCI...</td>\n      <td>DELITO DE BAJO IMPACTO</td>\n      <td>Femenino</td>\n      <td>38.0</td>\n      <td>FISICA</td>\n      <td>VICTIMA Y DENUNCIANTE</td>\n      <td>2018.0</td>\n      <td>Diciembre</td>\n      <td>15/12/2018</td>\n      <td>15:00</td>\n      <td>12:20</td>\n      <td>AZCAPOTZALCO</td>\n      <td>VICTORIA DE LAS DEMOCRACIAS</td>\n    </tr>\n    <tr>\n      <th>2</th>\n      <td>8324431.0</td>\n      <td>2019</td>\n      <td>1</td>\n      <td>4</td>\n      <td>ROBO A TRANSEUNTE SALIENDO DEL BANCO CON VIOLE...</td>\n      <td>ROBO A CUENTAHABIENTE SALIENDO DEL CAJERO CON ...</td>\n      <td>Masculino</td>\n      <td>42.0</td>\n      <td>FISICA</td>\n      <td>VICTIMA Y DENUNCIANTE</td>\n      <td>2018.0</td>\n      <td>Diciembre</td>\n      <td>22/12/2018</td>\n      <td>15:30</td>\n      <td>12:23</td>\n      <td>COYOACAN</td>\n      <td>COPILCO EL BAJO</td>\n    </tr>\n    <tr>\n      <th>3</th>\n      <td>8324435.0</td>\n      <td>2019</td>\n      <td>1</td>\n      <td>4</td>\n      <td>ROBO DE VEHICULO DE SERVICIO PARTICULAR SIN VI...</td>\n      <td>ROBO DE VEHÍCULO CON Y SIN VIOLENCIA</td>\n      <td>Masculino</td>\n      <td>35.0</td>\n      <td>FISICA</td>\n      <td>VICTIMA Y DENUNCIANTE</td>\n      <td>2019.0</td>\n      <td>Enero</td>\n      <td>04/01/2019</td>\n      <td>06:00</td>\n      <td>12:27</td>\n      <td>IZTACALCO</td>\n      <td>PANTITLAN V</td>\n    </tr>\n    <tr>\n      <th>4</th>\n      <td>8324438.0</td>\n      <td>2019</td>\n      <td>1</td>\n      <td>4</td>\n      <td>ROBO DE MOTOCICLETA SIN VIOLENCIA</td>\n      <td>ROBO DE VEHÍCULO CON Y SIN VIOLENCIA</td>\n      <td>Masculino</td>\n      <td>39.0</td>\n      <td>FISICA</td>\n      <td>VICTIMA</td>\n      <td>2019.0</td>\n      <td>Enero</td>\n      <td>03/01/2019</td>\n      <td>20:00</td>\n      <td>12:35</td>\n      <td>IZTAPALAPA</td>\n      <td>LAS AMERICAS (U HAB)</td>\n    </tr>\n  </tbody>\n</table>\n</div>"
     },
     "execution_count": 227,
     "metadata": {},
     "output_type": "execute_result"
    }
   ],
   "source": [
    "# Fecha Inicio\n",
    "# Dias\n",
    "dias_inicio = pd.to_datetime(data_set['FechaInicio'], format='%d/%m/%Y').dt.day\n",
    "data_set.insert(3, 'Dia_inicio', dias_inicio)\n",
    "# Meses\n",
    "meses_inicio = pd.to_datetime(data_set['FechaInicio'], format='%d/%m/%Y').dt.month\n",
    "data_set['Mes_inicio'] = meses_inicio\n",
    "# Año\n",
    "anios_inicio = pd.to_datetime(data_set['FechaInicio'], format='%d/%m/%Y').dt.year\n",
    "data_set['Anio_inicio'] = anios_inicio\n",
    "\n",
    "data_set = data_set.drop('FechaInicio', axis=1)\n",
    "data_set.head()"
   ],
   "metadata": {
    "collapsed": false
   }
  },
  {
   "cell_type": "code",
   "execution_count": 228,
   "outputs": [
    {
     "data": {
      "text/plain": "   idCarpeta  Anio_inicio  Mes_inicio  Dia_inicio  \\\n0  8324429.0         2019           1           4   \n1  8324430.0         2019           1           4   \n2  8324431.0         2019           1           4   \n3  8324435.0         2019           1           4   \n4  8324438.0         2019           1           4   \n\n                                              Delito  \\\n0                                             FRAUDE   \n1  PRODUCCIÓN, IMPRESIÓN, ENAJENACIÓN, DISTRIBUCI...   \n2  ROBO A TRANSEUNTE SALIENDO DEL BANCO CON VIOLE...   \n3  ROBO DE VEHICULO DE SERVICIO PARTICULAR SIN VI...   \n4                  ROBO DE MOTOCICLETA SIN VIOLENCIA   \n\n                                           Categoria       Sexo  Edad  \\\n0                             DELITO DE BAJO IMPACTO  Masculino  62.0   \n1                             DELITO DE BAJO IMPACTO   Femenino  38.0   \n2  ROBO A CUENTAHABIENTE SALIENDO DEL CAJERO CON ...  Masculino  42.0   \n3               ROBO DE VEHÍCULO CON Y SIN VIOLENCIA  Masculino  35.0   \n4               ROBO DE VEHÍCULO CON Y SIN VIOLENCIA  Masculino  39.0   \n\n  TipoPersona        CalidadJuridica  Anio_hecho  Mes_hecho  Dia_hecho  \\\n0      FISICA               OFENDIDO        2018          8         29   \n1      FISICA  VICTIMA Y DENUNCIANTE        2018         12         15   \n2      FISICA  VICTIMA Y DENUNCIANTE        2018         12         22   \n3      FISICA  VICTIMA Y DENUNCIANTE        2019          1          4   \n4      FISICA                VICTIMA        2019          1          3   \n\n  HoraHecho HoraInicio alcaldia_hechos                colonia_datos  \n0     12:00      12:19  ALVARO OBREGON                GUADALUPE INN  \n1     15:00      12:20    AZCAPOTZALCO  VICTORIA DE LAS DEMOCRACIAS  \n2     15:30      12:23        COYOACAN              COPILCO EL BAJO  \n3     06:00      12:27       IZTACALCO                  PANTITLAN V  \n4     20:00      12:35      IZTAPALAPA         LAS AMERICAS (U HAB)  ",
      "text/html": "<div>\n<style scoped>\n    .dataframe tbody tr th:only-of-type {\n        vertical-align: middle;\n    }\n\n    .dataframe tbody tr th {\n        vertical-align: top;\n    }\n\n    .dataframe thead th {\n        text-align: right;\n    }\n</style>\n<table border=\"1\" class=\"dataframe\">\n  <thead>\n    <tr style=\"text-align: right;\">\n      <th></th>\n      <th>idCarpeta</th>\n      <th>Anio_inicio</th>\n      <th>Mes_inicio</th>\n      <th>Dia_inicio</th>\n      <th>Delito</th>\n      <th>Categoria</th>\n      <th>Sexo</th>\n      <th>Edad</th>\n      <th>TipoPersona</th>\n      <th>CalidadJuridica</th>\n      <th>Anio_hecho</th>\n      <th>Mes_hecho</th>\n      <th>Dia_hecho</th>\n      <th>HoraHecho</th>\n      <th>HoraInicio</th>\n      <th>alcaldia_hechos</th>\n      <th>colonia_datos</th>\n    </tr>\n  </thead>\n  <tbody>\n    <tr>\n      <th>0</th>\n      <td>8324429.0</td>\n      <td>2019</td>\n      <td>1</td>\n      <td>4</td>\n      <td>FRAUDE</td>\n      <td>DELITO DE BAJO IMPACTO</td>\n      <td>Masculino</td>\n      <td>62.0</td>\n      <td>FISICA</td>\n      <td>OFENDIDO</td>\n      <td>2018</td>\n      <td>8</td>\n      <td>29</td>\n      <td>12:00</td>\n      <td>12:19</td>\n      <td>ALVARO OBREGON</td>\n      <td>GUADALUPE INN</td>\n    </tr>\n    <tr>\n      <th>1</th>\n      <td>8324430.0</td>\n      <td>2019</td>\n      <td>1</td>\n      <td>4</td>\n      <td>PRODUCCIÓN, IMPRESIÓN, ENAJENACIÓN, DISTRIBUCI...</td>\n      <td>DELITO DE BAJO IMPACTO</td>\n      <td>Femenino</td>\n      <td>38.0</td>\n      <td>FISICA</td>\n      <td>VICTIMA Y DENUNCIANTE</td>\n      <td>2018</td>\n      <td>12</td>\n      <td>15</td>\n      <td>15:00</td>\n      <td>12:20</td>\n      <td>AZCAPOTZALCO</td>\n      <td>VICTORIA DE LAS DEMOCRACIAS</td>\n    </tr>\n    <tr>\n      <th>2</th>\n      <td>8324431.0</td>\n      <td>2019</td>\n      <td>1</td>\n      <td>4</td>\n      <td>ROBO A TRANSEUNTE SALIENDO DEL BANCO CON VIOLE...</td>\n      <td>ROBO A CUENTAHABIENTE SALIENDO DEL CAJERO CON ...</td>\n      <td>Masculino</td>\n      <td>42.0</td>\n      <td>FISICA</td>\n      <td>VICTIMA Y DENUNCIANTE</td>\n      <td>2018</td>\n      <td>12</td>\n      <td>22</td>\n      <td>15:30</td>\n      <td>12:23</td>\n      <td>COYOACAN</td>\n      <td>COPILCO EL BAJO</td>\n    </tr>\n    <tr>\n      <th>3</th>\n      <td>8324435.0</td>\n      <td>2019</td>\n      <td>1</td>\n      <td>4</td>\n      <td>ROBO DE VEHICULO DE SERVICIO PARTICULAR SIN VI...</td>\n      <td>ROBO DE VEHÍCULO CON Y SIN VIOLENCIA</td>\n      <td>Masculino</td>\n      <td>35.0</td>\n      <td>FISICA</td>\n      <td>VICTIMA Y DENUNCIANTE</td>\n      <td>2019</td>\n      <td>1</td>\n      <td>4</td>\n      <td>06:00</td>\n      <td>12:27</td>\n      <td>IZTACALCO</td>\n      <td>PANTITLAN V</td>\n    </tr>\n    <tr>\n      <th>4</th>\n      <td>8324438.0</td>\n      <td>2019</td>\n      <td>1</td>\n      <td>4</td>\n      <td>ROBO DE MOTOCICLETA SIN VIOLENCIA</td>\n      <td>ROBO DE VEHÍCULO CON Y SIN VIOLENCIA</td>\n      <td>Masculino</td>\n      <td>39.0</td>\n      <td>FISICA</td>\n      <td>VICTIMA</td>\n      <td>2019</td>\n      <td>1</td>\n      <td>3</td>\n      <td>20:00</td>\n      <td>12:35</td>\n      <td>IZTAPALAPA</td>\n      <td>LAS AMERICAS (U HAB)</td>\n    </tr>\n  </tbody>\n</table>\n</div>"
     },
     "execution_count": 228,
     "metadata": {},
     "output_type": "execute_result"
    }
   ],
   "source": [
    "# Fecha Hecho\n",
    "# Dias\n",
    "dias_hecho = pd.to_datetime(data_set['FechaHecho'], format='%d/%m/%Y').dt.day\n",
    "data_set.insert(12, 'Dia_hecho', dias_hecho)\n",
    "# Meses\n",
    "meses_hecho = pd.to_datetime(data_set['FechaHecho'], format='%d/%m/%Y').dt.month\n",
    "data_set['Mes_hecho'] = meses_hecho\n",
    "# Año\n",
    "anios_hecho = pd.to_datetime(data_set['FechaHecho'], format='%d/%m/%Y').dt.year\n",
    "data_set['Anio_hecho'] = anios_hecho\n",
    "\n",
    "data_set = data_set.drop('FechaHecho', axis=1)\n",
    "data_set.head()"
   ],
   "metadata": {
    "collapsed": false
   }
  },
  {
   "cell_type": "markdown",
   "source": [
    "## Data Integration\n",
    "\n",
    "### Poblacion Alcaldias\n",
    "En esta fase nos centraremos en agregar información externa proveniente de otras bases de datos y fuentes de información\n",
    "Para esto, integraremos datos obtenidos de las estadisticas de Poblacion del INEGI para mostrar la poblacion por alcaldia, agregando una nueva columna de poblacion dependiendo el valor de la columna de alcaldia_hechos\n",
    "Para realizar este mapeo entre la alcaldia de los hechos y su poblacion, se llevo a cabo un script en Python"
   ],
   "metadata": {
    "collapsed": false
   }
  },
  {
   "cell_type": "code",
   "execution_count": 229,
   "outputs": [
    {
     "data": {
      "text/plain": "   idCarpeta  Anio_inicio  Mes_inicio  Dia_inicio  \\\n0  8324429.0         2019           1           4   \n1  8324430.0         2019           1           4   \n2  8324431.0         2019           1           4   \n3  8324435.0         2019           1           4   \n4  8324438.0         2019           1           4   \n\n                                              Delito  \\\n0                                             FRAUDE   \n1  PRODUCCIÓN, IMPRESIÓN, ENAJENACIÓN, DISTRIBUCI...   \n2  ROBO A TRANSEUNTE SALIENDO DEL BANCO CON VIOLE...   \n3  ROBO DE VEHICULO DE SERVICIO PARTICULAR SIN VI...   \n4                  ROBO DE MOTOCICLETA SIN VIOLENCIA   \n\n                                           Categoria       Sexo  Edad  \\\n0                             DELITO DE BAJO IMPACTO  Masculino  62.0   \n1                             DELITO DE BAJO IMPACTO   Femenino  38.0   \n2  ROBO A CUENTAHABIENTE SALIENDO DEL CAJERO CON ...  Masculino  42.0   \n3               ROBO DE VEHÍCULO CON Y SIN VIOLENCIA  Masculino  35.0   \n4               ROBO DE VEHÍCULO CON Y SIN VIOLENCIA  Masculino  39.0   \n\n  TipoPersona        CalidadJuridica  Anio_hecho  Mes_hecho  Dia_hecho  \\\n0      FISICA               OFENDIDO        2018          8         29   \n1      FISICA  VICTIMA Y DENUNCIANTE        2018         12         15   \n2      FISICA  VICTIMA Y DENUNCIANTE        2018         12         22   \n3      FISICA  VICTIMA Y DENUNCIANTE        2019          1          4   \n4      FISICA                VICTIMA        2019          1          3   \n\n  HoraHecho HoraInicio alcaldia_hechos  poblacion_alcaldia  \\\n0     12:00      12:19  ALVARO OBREGON              759137   \n1     15:00      12:20    AZCAPOTZALCO              432205   \n2     15:30      12:23        COYOACAN              614447   \n3     06:00      12:27       IZTACALCO              404695   \n4     20:00      12:35      IZTAPALAPA             1835486   \n\n                 colonia_datos  \n0                GUADALUPE INN  \n1  VICTORIA DE LAS DEMOCRACIAS  \n2              COPILCO EL BAJO  \n3                  PANTITLAN V  \n4         LAS AMERICAS (U HAB)  ",
      "text/html": "<div>\n<style scoped>\n    .dataframe tbody tr th:only-of-type {\n        vertical-align: middle;\n    }\n\n    .dataframe tbody tr th {\n        vertical-align: top;\n    }\n\n    .dataframe thead th {\n        text-align: right;\n    }\n</style>\n<table border=\"1\" class=\"dataframe\">\n  <thead>\n    <tr style=\"text-align: right;\">\n      <th></th>\n      <th>idCarpeta</th>\n      <th>Anio_inicio</th>\n      <th>Mes_inicio</th>\n      <th>Dia_inicio</th>\n      <th>Delito</th>\n      <th>Categoria</th>\n      <th>Sexo</th>\n      <th>Edad</th>\n      <th>TipoPersona</th>\n      <th>CalidadJuridica</th>\n      <th>Anio_hecho</th>\n      <th>Mes_hecho</th>\n      <th>Dia_hecho</th>\n      <th>HoraHecho</th>\n      <th>HoraInicio</th>\n      <th>alcaldia_hechos</th>\n      <th>poblacion_alcaldia</th>\n      <th>colonia_datos</th>\n    </tr>\n  </thead>\n  <tbody>\n    <tr>\n      <th>0</th>\n      <td>8324429.0</td>\n      <td>2019</td>\n      <td>1</td>\n      <td>4</td>\n      <td>FRAUDE</td>\n      <td>DELITO DE BAJO IMPACTO</td>\n      <td>Masculino</td>\n      <td>62.0</td>\n      <td>FISICA</td>\n      <td>OFENDIDO</td>\n      <td>2018</td>\n      <td>8</td>\n      <td>29</td>\n      <td>12:00</td>\n      <td>12:19</td>\n      <td>ALVARO OBREGON</td>\n      <td>759137</td>\n      <td>GUADALUPE INN</td>\n    </tr>\n    <tr>\n      <th>1</th>\n      <td>8324430.0</td>\n      <td>2019</td>\n      <td>1</td>\n      <td>4</td>\n      <td>PRODUCCIÓN, IMPRESIÓN, ENAJENACIÓN, DISTRIBUCI...</td>\n      <td>DELITO DE BAJO IMPACTO</td>\n      <td>Femenino</td>\n      <td>38.0</td>\n      <td>FISICA</td>\n      <td>VICTIMA Y DENUNCIANTE</td>\n      <td>2018</td>\n      <td>12</td>\n      <td>15</td>\n      <td>15:00</td>\n      <td>12:20</td>\n      <td>AZCAPOTZALCO</td>\n      <td>432205</td>\n      <td>VICTORIA DE LAS DEMOCRACIAS</td>\n    </tr>\n    <tr>\n      <th>2</th>\n      <td>8324431.0</td>\n      <td>2019</td>\n      <td>1</td>\n      <td>4</td>\n      <td>ROBO A TRANSEUNTE SALIENDO DEL BANCO CON VIOLE...</td>\n      <td>ROBO A CUENTAHABIENTE SALIENDO DEL CAJERO CON ...</td>\n      <td>Masculino</td>\n      <td>42.0</td>\n      <td>FISICA</td>\n      <td>VICTIMA Y DENUNCIANTE</td>\n      <td>2018</td>\n      <td>12</td>\n      <td>22</td>\n      <td>15:30</td>\n      <td>12:23</td>\n      <td>COYOACAN</td>\n      <td>614447</td>\n      <td>COPILCO EL BAJO</td>\n    </tr>\n    <tr>\n      <th>3</th>\n      <td>8324435.0</td>\n      <td>2019</td>\n      <td>1</td>\n      <td>4</td>\n      <td>ROBO DE VEHICULO DE SERVICIO PARTICULAR SIN VI...</td>\n      <td>ROBO DE VEHÍCULO CON Y SIN VIOLENCIA</td>\n      <td>Masculino</td>\n      <td>35.0</td>\n      <td>FISICA</td>\n      <td>VICTIMA Y DENUNCIANTE</td>\n      <td>2019</td>\n      <td>1</td>\n      <td>4</td>\n      <td>06:00</td>\n      <td>12:27</td>\n      <td>IZTACALCO</td>\n      <td>404695</td>\n      <td>PANTITLAN V</td>\n    </tr>\n    <tr>\n      <th>4</th>\n      <td>8324438.0</td>\n      <td>2019</td>\n      <td>1</td>\n      <td>4</td>\n      <td>ROBO DE MOTOCICLETA SIN VIOLENCIA</td>\n      <td>ROBO DE VEHÍCULO CON Y SIN VIOLENCIA</td>\n      <td>Masculino</td>\n      <td>39.0</td>\n      <td>FISICA</td>\n      <td>VICTIMA</td>\n      <td>2019</td>\n      <td>1</td>\n      <td>3</td>\n      <td>20:00</td>\n      <td>12:35</td>\n      <td>IZTAPALAPA</td>\n      <td>1835486</td>\n      <td>LAS AMERICAS (U HAB)</td>\n    </tr>\n  </tbody>\n</table>\n</div>"
     },
     "execution_count": 229,
     "metadata": {},
     "output_type": "execute_result"
    }
   ],
   "source": [
    "from mapeo_poblacion import get_population\n",
    "\n",
    "data_set.insert(loc=16, column='poblacion_alcaldia', value=data_set['alcaldia_hechos'].apply(get_population))\n",
    "data_set.head()"
   ],
   "metadata": {
    "collapsed": false
   }
  },
  {
   "cell_type": "markdown",
   "source": [
    "### Categorización de Delitos\n",
    "Actualmente el dataset cuenta con 16 tipos diferentes de Categorias y 310 tipos diferentes de Delitos, al ser tantos valores unicos se dificulta el\n",
    "analisis conciso de este tipo de delitos y los 16 tipos de categoria son algo ambigüos como \"Delito de bajo Impacto\".\n",
    "\n",
    "Para esto se ha utilizado de un algoritmo open source que emplea técnicas avanzadas de procesamiento de lenguaje natural, para clasificar distintos\n",
    "tipos de delitos en funcion de su nivel de riesgo y severidad. Este algoritmo analiza y evalua la gravedad de cada delito, permitiendo establecer\n",
    "rangos que van desde situaciones de menor riesgo (valor de 1) hasta aquellas que presentan un mayor nivel de peligro (valor de 10). El objetivo de esta\n",
    "herramienta es proporcionar una clasificacion precisa y confiable de los delitos.\n",
    "\n",
    "De esta forma la columna 'Categoria' deja de ser util y puede ser eliminada."
   ],
   "metadata": {
    "collapsed": false
   }
  },
  {
   "cell_type": "code",
   "execution_count": 230,
   "outputs": [
    {
     "name": "stdout",
     "output_type": "stream",
     "text": [
      "Categorias Distintas =  16; Delitos Distintos =  310\n"
     ]
    }
   ],
   "source": [
    "numero_categorias = len(pd.unique(data_set['Categoria']))\n",
    "numero_delitos = len(pd.unique(data_set['Delito']))\n",
    "print(f\"Categorias Distintas =  {numero_categorias}; Delitos Distintos =  {numero_delitos}\")"
   ],
   "metadata": {
    "collapsed": false
   }
  },
  {
   "cell_type": "code",
   "execution_count": 231,
   "outputs": [
    {
     "data": {
      "text/plain": "    idCarpeta  Anio_inicio  Mes_inicio  Dia_inicio  \\\n0   8324429.0         2019           1           4   \n1   8324430.0         2019           1           4   \n2   8324431.0         2019           1           4   \n3   8324435.0         2019           1           4   \n4   8324438.0         2019           1           4   \n5   8324442.0         2019           1           4   \n6   8324444.0         2019           1           4   \n7   8324451.0         2019           1           4   \n8   8324454.0         2019           1           4   \n9   8324455.0         2019           1           4   \n10  8324457.0         2019           1           4   \n11  8324459.0         2019           1           4   \n12  8324465.0         2019           1           4   \n13  8324469.0         2019           1           4   \n14  8324477.0         2019           1           4   \n15  8324479.0         2019           1           4   \n16  8324482.0         2019           1           4   \n17  8324485.0         2019           1           4   \n18  8324486.0         2019           1           4   \n19  8324487.0         2019           1           4   \n\n                                               Delito  riesgo_delito  \\\n0                                              FRAUDE              5   \n1   PRODUCCIÓN, IMPRESIÓN, ENAJENACIÓN, DISTRIBUCI...              8   \n2   ROBO A TRANSEUNTE SALIENDO DEL BANCO CON VIOLE...             10   \n3   ROBO DE VEHICULO DE SERVICIO PARTICULAR SIN VI...              3   \n4                   ROBO DE MOTOCICLETA SIN VIOLENCIA              3   \n5   PRODUCCIÓN, IMPRESIÓN, ENAJENACIÓN, DISTRIBUCI...              8   \n6          ROBO A TRANSEUNTE DE CELULAR SIN VIOLENCIA              2   \n7                                           VIOLACION             10   \n8   PRODUCCIÓN, IMPRESIÓN, ENAJENACIÓN, DISTRIBUCI...              8   \n9                     OMISION DE AUXILIO O DE CUIDADO              1   \n10                                            DESPOJO              2   \n11  ROBO A PASAJERO A BORDO DE PESERO COLECTIVO CO...              9   \n12  PRODUCCIÓN, IMPRESIÓN, ENAJENACIÓN, DISTRIBUCI...              8   \n13  PRODUCCIÓN, IMPRESIÓN, ENAJENACIÓN, DISTRIBUCI...              8   \n14                         ROBO DE ACCESORIOS DE AUTO              2   \n15  ROBO A TRANSEUNTE A BORDO DE TAXI PUBLICO Y PR...              4   \n16                                    ROBO DE OBJETOS              2   \n17                                    ROBO DE OBJETOS              2   \n18                                 ABUSO DE CONFIANZA              3   \n19  ROBO A PASAJERO A BORDO DE TRANSPORTE PÚBLICO ...              9   \n\n         Sexo  Edad TipoPersona        CalidadJuridica  Anio_hecho  Mes_hecho  \\\n0   Masculino  62.0      FISICA               OFENDIDO        2018          8   \n1    Femenino  38.0      FISICA  VICTIMA Y DENUNCIANTE        2018         12   \n2   Masculino  42.0      FISICA  VICTIMA Y DENUNCIANTE        2018         12   \n3   Masculino  35.0      FISICA  VICTIMA Y DENUNCIANTE        2019          1   \n4   Masculino  39.0      FISICA                VICTIMA        2019          1   \n5    Femenino  42.0      FISICA               OFENDIDO        2018         10   \n6    Femenino  55.0      FISICA  VICTIMA Y DENUNCIANTE        2019          1   \n7   Masculino  13.0      FISICA                VICTIMA        2010         12   \n8    Femenino  83.0      FISICA  VICTIMA Y DENUNCIANTE        2018         12   \n9   Masculino  15.0      FISICA                VICTIMA        2018          1   \n10  Masculino  45.0      FISICA  VICTIMA Y DENUNCIANTE        2018          5   \n11  Masculino  27.0      FISICA  VICTIMA Y DENUNCIANTE        2018          1   \n12   Femenino  58.0      FISICA  VICTIMA Y DENUNCIANTE        2018         12   \n13   Femenino  31.0      FISICA  VICTIMA Y DENUNCIANTE        2018         12   \n14  Masculino  61.0      FISICA  VICTIMA Y DENUNCIANTE        2019          1   \n15  Masculino  39.0      FISICA  VICTIMA Y DENUNCIANTE        2018         12   \n16  Masculino  39.0      FISICA               OFENDIDO        2018         12   \n17  Masculino  37.0      FISICA               OFENDIDO        2018         12   \n18   Femenino  72.0      FISICA               OFENDIDO        2018         11   \n19  Masculino  44.0      FISICA  VICTIMA Y DENUNCIANTE        2019          1   \n\n    Dia_hecho HoraHecho HoraInicio      alcaldia_hechos  poblacion_alcaldia  \\\n0          29     12:00      12:19       ALVARO OBREGON              759137   \n1          15     15:00      12:20         AZCAPOTZALCO              432205   \n2          22     15:30      12:23             COYOACAN              614447   \n3           4     06:00      12:27            IZTACALCO              404695   \n4           3     20:00      12:35           IZTAPALAPA             1835486   \n5          12     18:00      12:38             COYOACAN              614447   \n6           4     08:30      12:40       ALVARO OBREGON              759137   \n7          19     03:00      12:48    GUSTAVO A. MADERO             1173351   \n8          27     13:00      12:51           IZTAPALAPA             1835486   \n9           4     13:00      12:51  VENUSTIANO CARRANZA              443704   \n10         11     10:00      12:52           IZTAPALAPA             1835486   \n11          4     08:30      12:53  VENUSTIANO CARRANZA              443704   \n12          3     14:30      12:59    GUSTAVO A. MADERO             1173351   \n13         19     10:00      13:05           XOCHIMILCO              442178   \n14          3     19:00      13:14       MIGUEL HIDALGO              414470   \n15         25     04:00      13:16           CUAUHTEMOC              545884   \n16         23     10:00      13:19           CUAUHTEMOC              545884   \n17         31     11:00      13:23           CUAUHTEMOC              545884   \n18         22     14:00      13:23    GUSTAVO A. MADERO             1173351   \n19          4     11:40      13:24           IZTAPALAPA             1835486   \n\n                               colonia_datos  \n0                              GUADALUPE INN  \n1                VICTORIA DE LAS DEMOCRACIAS  \n2                            COPILCO EL BAJO  \n3                                PANTITLAN V  \n4                       LAS AMERICAS (U HAB)  \n5                           LOS REYES (PBLO)  \n6                                    TOLTECA  \n7                 GENERAL FELIPE BERRIOZABAL  \n8                                   BANJIDAL  \n9                                Desconocido  \n10              SANTIAGO ACAHUALTEPEC (PBLO)  \n11                        CUCHILLA PANTITLAN  \n12                             LINDAVISTA II  \n13                          LA NORIA TEPEPAN  \n14                                  TLAXPANA  \n15                                DOCTORES I  \n16                                MORELOS II  \n17                            ROMA NORTE III  \n18  SAN JUAN DE ARAGON 6A SECCION (U HAB) II  \n19                                 MIRAVALLE  ",
      "text/html": "<div>\n<style scoped>\n    .dataframe tbody tr th:only-of-type {\n        vertical-align: middle;\n    }\n\n    .dataframe tbody tr th {\n        vertical-align: top;\n    }\n\n    .dataframe thead th {\n        text-align: right;\n    }\n</style>\n<table border=\"1\" class=\"dataframe\">\n  <thead>\n    <tr style=\"text-align: right;\">\n      <th></th>\n      <th>idCarpeta</th>\n      <th>Anio_inicio</th>\n      <th>Mes_inicio</th>\n      <th>Dia_inicio</th>\n      <th>Delito</th>\n      <th>riesgo_delito</th>\n      <th>Sexo</th>\n      <th>Edad</th>\n      <th>TipoPersona</th>\n      <th>CalidadJuridica</th>\n      <th>Anio_hecho</th>\n      <th>Mes_hecho</th>\n      <th>Dia_hecho</th>\n      <th>HoraHecho</th>\n      <th>HoraInicio</th>\n      <th>alcaldia_hechos</th>\n      <th>poblacion_alcaldia</th>\n      <th>colonia_datos</th>\n    </tr>\n  </thead>\n  <tbody>\n    <tr>\n      <th>0</th>\n      <td>8324429.0</td>\n      <td>2019</td>\n      <td>1</td>\n      <td>4</td>\n      <td>FRAUDE</td>\n      <td>5</td>\n      <td>Masculino</td>\n      <td>62.0</td>\n      <td>FISICA</td>\n      <td>OFENDIDO</td>\n      <td>2018</td>\n      <td>8</td>\n      <td>29</td>\n      <td>12:00</td>\n      <td>12:19</td>\n      <td>ALVARO OBREGON</td>\n      <td>759137</td>\n      <td>GUADALUPE INN</td>\n    </tr>\n    <tr>\n      <th>1</th>\n      <td>8324430.0</td>\n      <td>2019</td>\n      <td>1</td>\n      <td>4</td>\n      <td>PRODUCCIÓN, IMPRESIÓN, ENAJENACIÓN, DISTRIBUCI...</td>\n      <td>8</td>\n      <td>Femenino</td>\n      <td>38.0</td>\n      <td>FISICA</td>\n      <td>VICTIMA Y DENUNCIANTE</td>\n      <td>2018</td>\n      <td>12</td>\n      <td>15</td>\n      <td>15:00</td>\n      <td>12:20</td>\n      <td>AZCAPOTZALCO</td>\n      <td>432205</td>\n      <td>VICTORIA DE LAS DEMOCRACIAS</td>\n    </tr>\n    <tr>\n      <th>2</th>\n      <td>8324431.0</td>\n      <td>2019</td>\n      <td>1</td>\n      <td>4</td>\n      <td>ROBO A TRANSEUNTE SALIENDO DEL BANCO CON VIOLE...</td>\n      <td>10</td>\n      <td>Masculino</td>\n      <td>42.0</td>\n      <td>FISICA</td>\n      <td>VICTIMA Y DENUNCIANTE</td>\n      <td>2018</td>\n      <td>12</td>\n      <td>22</td>\n      <td>15:30</td>\n      <td>12:23</td>\n      <td>COYOACAN</td>\n      <td>614447</td>\n      <td>COPILCO EL BAJO</td>\n    </tr>\n    <tr>\n      <th>3</th>\n      <td>8324435.0</td>\n      <td>2019</td>\n      <td>1</td>\n      <td>4</td>\n      <td>ROBO DE VEHICULO DE SERVICIO PARTICULAR SIN VI...</td>\n      <td>3</td>\n      <td>Masculino</td>\n      <td>35.0</td>\n      <td>FISICA</td>\n      <td>VICTIMA Y DENUNCIANTE</td>\n      <td>2019</td>\n      <td>1</td>\n      <td>4</td>\n      <td>06:00</td>\n      <td>12:27</td>\n      <td>IZTACALCO</td>\n      <td>404695</td>\n      <td>PANTITLAN V</td>\n    </tr>\n    <tr>\n      <th>4</th>\n      <td>8324438.0</td>\n      <td>2019</td>\n      <td>1</td>\n      <td>4</td>\n      <td>ROBO DE MOTOCICLETA SIN VIOLENCIA</td>\n      <td>3</td>\n      <td>Masculino</td>\n      <td>39.0</td>\n      <td>FISICA</td>\n      <td>VICTIMA</td>\n      <td>2019</td>\n      <td>1</td>\n      <td>3</td>\n      <td>20:00</td>\n      <td>12:35</td>\n      <td>IZTAPALAPA</td>\n      <td>1835486</td>\n      <td>LAS AMERICAS (U HAB)</td>\n    </tr>\n    <tr>\n      <th>5</th>\n      <td>8324442.0</td>\n      <td>2019</td>\n      <td>1</td>\n      <td>4</td>\n      <td>PRODUCCIÓN, IMPRESIÓN, ENAJENACIÓN, DISTRIBUCI...</td>\n      <td>8</td>\n      <td>Femenino</td>\n      <td>42.0</td>\n      <td>FISICA</td>\n      <td>OFENDIDO</td>\n      <td>2018</td>\n      <td>10</td>\n      <td>12</td>\n      <td>18:00</td>\n      <td>12:38</td>\n      <td>COYOACAN</td>\n      <td>614447</td>\n      <td>LOS REYES (PBLO)</td>\n    </tr>\n    <tr>\n      <th>6</th>\n      <td>8324444.0</td>\n      <td>2019</td>\n      <td>1</td>\n      <td>4</td>\n      <td>ROBO A TRANSEUNTE DE CELULAR SIN VIOLENCIA</td>\n      <td>2</td>\n      <td>Femenino</td>\n      <td>55.0</td>\n      <td>FISICA</td>\n      <td>VICTIMA Y DENUNCIANTE</td>\n      <td>2019</td>\n      <td>1</td>\n      <td>4</td>\n      <td>08:30</td>\n      <td>12:40</td>\n      <td>ALVARO OBREGON</td>\n      <td>759137</td>\n      <td>TOLTECA</td>\n    </tr>\n    <tr>\n      <th>7</th>\n      <td>8324451.0</td>\n      <td>2019</td>\n      <td>1</td>\n      <td>4</td>\n      <td>VIOLACION</td>\n      <td>10</td>\n      <td>Masculino</td>\n      <td>13.0</td>\n      <td>FISICA</td>\n      <td>VICTIMA</td>\n      <td>2010</td>\n      <td>12</td>\n      <td>19</td>\n      <td>03:00</td>\n      <td>12:48</td>\n      <td>GUSTAVO A. MADERO</td>\n      <td>1173351</td>\n      <td>GENERAL FELIPE BERRIOZABAL</td>\n    </tr>\n    <tr>\n      <th>8</th>\n      <td>8324454.0</td>\n      <td>2019</td>\n      <td>1</td>\n      <td>4</td>\n      <td>PRODUCCIÓN, IMPRESIÓN, ENAJENACIÓN, DISTRIBUCI...</td>\n      <td>8</td>\n      <td>Femenino</td>\n      <td>83.0</td>\n      <td>FISICA</td>\n      <td>VICTIMA Y DENUNCIANTE</td>\n      <td>2018</td>\n      <td>12</td>\n      <td>27</td>\n      <td>13:00</td>\n      <td>12:51</td>\n      <td>IZTAPALAPA</td>\n      <td>1835486</td>\n      <td>BANJIDAL</td>\n    </tr>\n    <tr>\n      <th>9</th>\n      <td>8324455.0</td>\n      <td>2019</td>\n      <td>1</td>\n      <td>4</td>\n      <td>OMISION DE AUXILIO O DE CUIDADO</td>\n      <td>1</td>\n      <td>Masculino</td>\n      <td>15.0</td>\n      <td>FISICA</td>\n      <td>VICTIMA</td>\n      <td>2018</td>\n      <td>1</td>\n      <td>4</td>\n      <td>13:00</td>\n      <td>12:51</td>\n      <td>VENUSTIANO CARRANZA</td>\n      <td>443704</td>\n      <td>Desconocido</td>\n    </tr>\n    <tr>\n      <th>10</th>\n      <td>8324457.0</td>\n      <td>2019</td>\n      <td>1</td>\n      <td>4</td>\n      <td>DESPOJO</td>\n      <td>2</td>\n      <td>Masculino</td>\n      <td>45.0</td>\n      <td>FISICA</td>\n      <td>VICTIMA Y DENUNCIANTE</td>\n      <td>2018</td>\n      <td>5</td>\n      <td>11</td>\n      <td>10:00</td>\n      <td>12:52</td>\n      <td>IZTAPALAPA</td>\n      <td>1835486</td>\n      <td>SANTIAGO ACAHUALTEPEC (PBLO)</td>\n    </tr>\n    <tr>\n      <th>11</th>\n      <td>8324459.0</td>\n      <td>2019</td>\n      <td>1</td>\n      <td>4</td>\n      <td>ROBO A PASAJERO A BORDO DE PESERO COLECTIVO CO...</td>\n      <td>9</td>\n      <td>Masculino</td>\n      <td>27.0</td>\n      <td>FISICA</td>\n      <td>VICTIMA Y DENUNCIANTE</td>\n      <td>2018</td>\n      <td>1</td>\n      <td>4</td>\n      <td>08:30</td>\n      <td>12:53</td>\n      <td>VENUSTIANO CARRANZA</td>\n      <td>443704</td>\n      <td>CUCHILLA PANTITLAN</td>\n    </tr>\n    <tr>\n      <th>12</th>\n      <td>8324465.0</td>\n      <td>2019</td>\n      <td>1</td>\n      <td>4</td>\n      <td>PRODUCCIÓN, IMPRESIÓN, ENAJENACIÓN, DISTRIBUCI...</td>\n      <td>8</td>\n      <td>Femenino</td>\n      <td>58.0</td>\n      <td>FISICA</td>\n      <td>VICTIMA Y DENUNCIANTE</td>\n      <td>2018</td>\n      <td>12</td>\n      <td>3</td>\n      <td>14:30</td>\n      <td>12:59</td>\n      <td>GUSTAVO A. MADERO</td>\n      <td>1173351</td>\n      <td>LINDAVISTA II</td>\n    </tr>\n    <tr>\n      <th>13</th>\n      <td>8324469.0</td>\n      <td>2019</td>\n      <td>1</td>\n      <td>4</td>\n      <td>PRODUCCIÓN, IMPRESIÓN, ENAJENACIÓN, DISTRIBUCI...</td>\n      <td>8</td>\n      <td>Femenino</td>\n      <td>31.0</td>\n      <td>FISICA</td>\n      <td>VICTIMA Y DENUNCIANTE</td>\n      <td>2018</td>\n      <td>12</td>\n      <td>19</td>\n      <td>10:00</td>\n      <td>13:05</td>\n      <td>XOCHIMILCO</td>\n      <td>442178</td>\n      <td>LA NORIA TEPEPAN</td>\n    </tr>\n    <tr>\n      <th>14</th>\n      <td>8324477.0</td>\n      <td>2019</td>\n      <td>1</td>\n      <td>4</td>\n      <td>ROBO DE ACCESORIOS DE AUTO</td>\n      <td>2</td>\n      <td>Masculino</td>\n      <td>61.0</td>\n      <td>FISICA</td>\n      <td>VICTIMA Y DENUNCIANTE</td>\n      <td>2019</td>\n      <td>1</td>\n      <td>3</td>\n      <td>19:00</td>\n      <td>13:14</td>\n      <td>MIGUEL HIDALGO</td>\n      <td>414470</td>\n      <td>TLAXPANA</td>\n    </tr>\n    <tr>\n      <th>15</th>\n      <td>8324479.0</td>\n      <td>2019</td>\n      <td>1</td>\n      <td>4</td>\n      <td>ROBO A TRANSEUNTE A BORDO DE TAXI PUBLICO Y PR...</td>\n      <td>4</td>\n      <td>Masculino</td>\n      <td>39.0</td>\n      <td>FISICA</td>\n      <td>VICTIMA Y DENUNCIANTE</td>\n      <td>2018</td>\n      <td>12</td>\n      <td>25</td>\n      <td>04:00</td>\n      <td>13:16</td>\n      <td>CUAUHTEMOC</td>\n      <td>545884</td>\n      <td>DOCTORES I</td>\n    </tr>\n    <tr>\n      <th>16</th>\n      <td>8324482.0</td>\n      <td>2019</td>\n      <td>1</td>\n      <td>4</td>\n      <td>ROBO DE OBJETOS</td>\n      <td>2</td>\n      <td>Masculino</td>\n      <td>39.0</td>\n      <td>FISICA</td>\n      <td>OFENDIDO</td>\n      <td>2018</td>\n      <td>12</td>\n      <td>23</td>\n      <td>10:00</td>\n      <td>13:19</td>\n      <td>CUAUHTEMOC</td>\n      <td>545884</td>\n      <td>MORELOS II</td>\n    </tr>\n    <tr>\n      <th>17</th>\n      <td>8324485.0</td>\n      <td>2019</td>\n      <td>1</td>\n      <td>4</td>\n      <td>ROBO DE OBJETOS</td>\n      <td>2</td>\n      <td>Masculino</td>\n      <td>37.0</td>\n      <td>FISICA</td>\n      <td>OFENDIDO</td>\n      <td>2018</td>\n      <td>12</td>\n      <td>31</td>\n      <td>11:00</td>\n      <td>13:23</td>\n      <td>CUAUHTEMOC</td>\n      <td>545884</td>\n      <td>ROMA NORTE III</td>\n    </tr>\n    <tr>\n      <th>18</th>\n      <td>8324486.0</td>\n      <td>2019</td>\n      <td>1</td>\n      <td>4</td>\n      <td>ABUSO DE CONFIANZA</td>\n      <td>3</td>\n      <td>Femenino</td>\n      <td>72.0</td>\n      <td>FISICA</td>\n      <td>OFENDIDO</td>\n      <td>2018</td>\n      <td>11</td>\n      <td>22</td>\n      <td>14:00</td>\n      <td>13:23</td>\n      <td>GUSTAVO A. MADERO</td>\n      <td>1173351</td>\n      <td>SAN JUAN DE ARAGON 6A SECCION (U HAB) II</td>\n    </tr>\n    <tr>\n      <th>19</th>\n      <td>8324487.0</td>\n      <td>2019</td>\n      <td>1</td>\n      <td>4</td>\n      <td>ROBO A PASAJERO A BORDO DE TRANSPORTE PÚBLICO ...</td>\n      <td>9</td>\n      <td>Masculino</td>\n      <td>44.0</td>\n      <td>FISICA</td>\n      <td>VICTIMA Y DENUNCIANTE</td>\n      <td>2019</td>\n      <td>1</td>\n      <td>4</td>\n      <td>11:40</td>\n      <td>13:24</td>\n      <td>IZTAPALAPA</td>\n      <td>1835486</td>\n      <td>MIRAVALLE</td>\n    </tr>\n  </tbody>\n</table>\n</div>"
     },
     "execution_count": 231,
     "metadata": {},
     "output_type": "execute_result"
    }
   ],
   "source": [
    "from mapeo_crimen import get_crime_score\n",
    "\n",
    "data_set.insert(loc=5, column='riesgo_delito', value=data_set['Delito'].apply(get_crime_score))\n",
    "data_set = data_set.drop('Categoria', axis=1)\n",
    "data_set.head()"
   ],
   "metadata": {
    "collapsed": false
   }
  },
  {
   "cell_type": "code",
   "execution_count": 232,
   "outputs": [],
   "source": [
    "data_set.to_csv('data_preparation.csv', index=False)"
   ],
   "metadata": {
    "collapsed": false
   }
  },
  {
   "cell_type": "code",
   "execution_count": null,
   "outputs": [],
   "source": [],
   "metadata": {
    "collapsed": false
   }
  }
 ],
 "metadata": {
  "kernelspec": {
   "display_name": "Python 3",
   "language": "python",
   "name": "python3"
  },
  "language_info": {
   "codemirror_mode": {
    "name": "ipython",
    "version": 2
   },
   "file_extension": ".py",
   "mimetype": "text/x-python",
   "name": "python",
   "nbconvert_exporter": "python",
   "pygments_lexer": "ipython2",
   "version": "2.7.6"
  }
 },
 "nbformat": 4,
 "nbformat_minor": 0
}
