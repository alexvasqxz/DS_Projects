{
 "cells": [
  {
   "cell_type": "markdown",
   "source": [
    "# Data Preparation"
   ],
   "metadata": {
    "collapsed": false
   }
  },
  {
   "cell_type": "markdown",
   "source": [
    "## Select Data - Eliminar Columnas\n",
    "De la seccion de entendimiento de los datos, vimos que hay columnas que realmente no aportan mucha información, importancia o significancia al alcance de este proyecto, por lo que en esta parte, se eliminaran para contar unicamente con los datos que se trabajaran, estas columnas son:\n",
    "\n",
    "- municipio_hechos : Al tener el 99% de sus datos como NaN y no aportar informacion\n",
    "- competencia : Al tener un unico valor\n",
    "- coordenadas (latitud y longitud) : El proyecto se enfocara en las alcaldias de la Ciudad de Mexico y el valor de coordenadas no estan dentro de\n",
    "este scope\n",
    "- colonia_datos : No esta dentro del scope de este proyecto\n",
    "- fgj_colonia_registro : No esta dentro del scope de este proyecto"
   ],
   "metadata": {
    "collapsed": false
   }
  },
  {
   "cell_type": "code",
   "execution_count": null,
   "outputs": [],
   "source": [
    "import pandas as pd\n",
    "\n",
    "data_set = pd.read_csv(\"data/sourceData.csv\")"
   ],
   "metadata": {
    "collapsed": false
   }
  },
  {
   "cell_type": "code",
   "execution_count": null,
   "outputs": [],
   "source": [
    "columns_to_remove = ['municipio_hechos', 'competencia', 'latitud', 'longitud', 'colonia_datos', 'fgj_colonia_registro']\n",
    "data_set = data_set.drop(columns_to_remove, axis=1)\n",
    "\n",
    "data_set.head()"
   ],
   "metadata": {
    "collapsed": false
   }
  },
  {
   "cell_type": "markdown",
   "source": [
    "## Outliers\n",
    "Las columnas que cuentan con valores outliers son:\n",
    "- edad: Valores mayores a 120 (258, 361 y 369) y 1899 valores de 0\n",
    "- año_hechos: Un valor de 222 y valores del siglo pasado"
   ],
   "metadata": {
    "collapsed": false
   }
  },
  {
   "cell_type": "code",
   "execution_count": null,
   "outputs": [],
   "source": [
    "valores_edad = data_set.groupby('Edad')['idCarpeta'].count()\n",
    "valores_ahecho = data_set.groupby('Anio_hecho')['idCarpeta'].count()"
   ],
   "metadata": {
    "collapsed": false
   }
  },
  {
   "cell_type": "markdown",
   "source": [
    "### Outliers - Edad\n",
    "El approach a seguir es el obtener un promedio de edad entre un limite inferior (1) y un limite superior (120)\n",
    "Despues de obtener este promedio, reemplazamos los outliers (valores de 0, 258, 361 y 369) con este promedio, ya que el numero de valores en 0 es significativo (1899)"
   ],
   "metadata": {
    "collapsed": false
   }
  },
  {
   "cell_type": "code",
   "execution_count": null,
   "outputs": [],
   "source": [
    "limite_inferior = 1\n",
    "limite_superior = 120\n",
    "edad_en_rango = data_set.loc[data_set['Edad'].between(limite_inferior, limite_superior), 'Edad']\n",
    "promedio_edad = edad_en_rango.mean()\n",
    "print(promedio_edad)\n",
    "\n",
    "promedio_edad = round(promedio_edad)\n",
    "print(promedio_edad)"
   ],
   "metadata": {
    "collapsed": false
   }
  },
  {
   "cell_type": "code",
   "execution_count": null,
   "outputs": [],
   "source": [
    "data_set['Edad'] = data_set['Edad'].mask(~data_set['Edad'].between(limite_inferior, limite_superior), promedio_edad)\n",
    "print(data_set.groupby('Edad')['idCarpeta'].count())"
   ],
   "metadata": {
    "collapsed": false
   }
  },
  {
   "cell_type": "markdown",
   "source": [
    "## Outliers - Año Hechos\n",
    "Se borran las filas con valores menores a 2000"
   ],
   "metadata": {
    "collapsed": false
   }
  },
  {
   "cell_type": "code",
   "execution_count": null,
   "outputs": [],
   "source": [
    "data_set = data_set[data_set['Anio_hecho'] >= 2000]\n",
    "print(data_set.groupby('Anio_hecho')['idCarpeta'].count())"
   ],
   "metadata": {
    "collapsed": false
   }
  },
  {
   "cell_type": "markdown",
   "source": [
    "## Cleaning Data\n",
    "Se borran las filas con valores a CDMX y FUERA DE CDMX para las alcaldias\n",
    "Ya que este proyecto se enfoca unicamente en alcaldias dentro de la ciudad"
   ],
   "metadata": {
    "collapsed": false
   }
  },
  {
   "cell_type": "code",
   "execution_count": null,
   "outputs": [],
   "source": [
    "data_set = data_set[~data_set['alcaldia_hechos'].isin(['CDMX', 'FUERA DE CDMX'])]\n",
    "print(data_set['alcaldia_hechos'].unique())"
   ],
   "metadata": {
    "collapsed": false
   }
  },
  {
   "cell_type": "markdown",
   "source": [
    "## Missing Data\n",
    "Las columnas con valores NaN son las siguientes:\n",
    "- Sexo : 180,609 registros\n",
    "- TipoPersona : 6512 registros\n",
    "- CalidadJuridica: 1 registro\n",
    "- Anio_hecho, Mes_hecho, FechaHecho : 370 registros\n",
    "- HoraHecho : 361 registros\n",
    "- HoraInicio : 1\n",
    "- colonia_datos : 69,602 registros"
   ],
   "metadata": {
    "collapsed": false
   }
  },
  {
   "cell_type": "code",
   "execution_count": null,
   "outputs": [],
   "source": [
    "for column in data_set.columns:\n",
    "    if(data_set[column].isnull().sum() > 0):\n",
    "        print(column + ' : ' + str(data_set[column].isnull().sum()))"
   ],
   "metadata": {
    "collapsed": false
   }
  },
  {
   "cell_type": "markdown",
   "source": [
    "### Grupo 1 - Columnas con menos de 1000 registros Nan\n",
    "El approach para este grupo es borrar los registros, ya que son de un numero muy bajo\n",
    "Las columnas a borrar sus registros con valores nulos son:\n",
    "- CalidadJuridica\n",
    "- Anio_hecho\n",
    "- Mes_hecho\n",
    "- FechaHecho\n",
    "- HoraHecho\n",
    "- HoraInicio"
   ],
   "metadata": {
    "collapsed": false
   }
  },
  {
   "cell_type": "code",
   "execution_count": null,
   "outputs": [],
   "source": [
    "data_set = data_set.dropna(subset=['CalidadJuridica', 'Anio_hecho', 'Mes_hecho', 'FechaHecho', 'HoraHecho', 'HoraInicio'])\n",
    "for column in data_set.columns:\n",
    "    if(data_set[column].isnull().sum() > 0):\n",
    "        print(column + ' : ' + str(data_set[column].isnull().sum()))"
   ],
   "metadata": {
    "collapsed": false
   }
  },
  {
   "cell_type": "markdown",
   "source": [
    "### Grupo 2 - Columnas con mas de 1000 registros Nan\n",
    "Para estas columnas, el approach es sustituir los valores Nulos con la palabra 'Desconocido'\n",
    "Las columnas a ser modificadas son:\n",
    "- Sexo\n",
    "- TipoPersona\n",
    "- colonia_datos"
   ],
   "metadata": {
    "collapsed": false
   }
  },
  {
   "cell_type": "code",
   "execution_count": null,
   "outputs": [],
   "source": [
    "data_set[['Sexo', 'TipoPersona']] = data_set[['Sexo', 'TipoPersona']].fillna('Desconocido')\n",
    "for column in data_set.columns:\n",
    "    if(data_set[column].isnull().sum() > 0):\n",
    "        print(column + ' : ' + str(data_set[column].isnull().sum()))"
   ],
   "metadata": {
    "collapsed": false
   }
  },
  {
   "cell_type": "markdown",
   "source": [
    "## Data Transformation\n",
    "En esta seccion, se modificaran las columnas de formato HH:MM:SS a HH:MM\n",
    "Estas columnas son:\n",
    "- HoraHecho\n",
    "- HoraInicio"
   ],
   "metadata": {
    "collapsed": false
   }
  },
  {
   "cell_type": "code",
   "execution_count": null,
   "outputs": [],
   "source": [
    "data_set[['HoraHecho', 'HoraInicio']] = data_set[['HoraHecho', 'HoraInicio']].apply(pd.to_datetime)\n",
    "data_set['HoraHecho'] = data_set['HoraHecho'].dt.strftime('%H:%M')\n",
    "data_set['HoraInicio'] = data_set['HoraInicio'].dt.strftime('%H:%M')\n",
    "data_set.head()"
   ],
   "metadata": {
    "collapsed": false
   }
  },
  {
   "cell_type": "markdown",
   "source": [
    "### Crear Columna Dias Transcurridos\n",
    "Con base a las columnas FechaInicio y FechaHecho, obtenemos los dias transcurridos entre la fecha en que se reporto el delito y la fecha en que ocurrio, para darnos una idea de si estos dias tienen un patron respecto a sexo o edad (hipotesis).\n",
    "\n",
    "Una vez realizado esto, las columnas de Anio_inicio, Mes_inicio y FechaInicio no seran de utilidad ya que para realizar las predicciones las fechas importantes son las de los hechos"
   ],
   "metadata": {
    "collapsed": false
   }
  },
  {
   "cell_type": "code",
   "execution_count": null,
   "outputs": [],
   "source": [
    "fechas_inicio = pd.to_datetime(data_set['FechaInicio'], format=\"%d/%m/%Y\")\n",
    "fechas_hechos = pd.to_datetime(data_set['FechaHecho'], format=\"%d/%m/%Y\")\n",
    "\n",
    "data_set.insert(13, 'Dias_transcurridos', (fechas_inicio - fechas_hechos).dt.days)\n",
    "\n",
    "# Borrar fechas inicio\n",
    "columns_to_remove = ['Anio_inicio', 'Mes_inicio', 'FechaInicio']\n",
    "data_set = data_set.drop(columns_to_remove, axis=1)\n",
    "\n",
    "data_set.head()"
   ],
   "metadata": {
    "collapsed": false
   }
  },
  {
   "cell_type": "markdown",
   "source": [
    "### Crear Columna Semanas\n",
    "Con base a la columna FechaHecho, tomaremos el valor mas viejo (el minimo de la fecha) y comenzaremos un counter de semana en uno, por cada semana transcurrida aumentaremos el counter a un valor de 1 para crear un timelapse semanal desde el hecho mas viejo al mas reciente para posteriormente realizar predicciones de delitos por semana.\n",
    "1. Obtener el valor minimo de FechaHecho\n",
    "2. Comenzar el counter de semanas\n",
    "1. Por cada semana transcurrida aumentar el counter\n",
    "2. Asignar el valor de counter correspondiente a la FechaHecho en una columna 'abs_semana'\n",
    "3. Eliminar la columna Anio_hecho ya que no aporta mucho\n",
    "\n",
    "Se descubrio que la fecha mas vieja del data_set es el primero de enero del 2000, si se quiere realizar algun modelo predictivo desde una fecha mas reciente a esta, por ejemplo, desde el 2015, se debera crear un offset para evitar errores, un ejemplo seria:\n",
    "- La semana uno original es 01/01/2000\n",
    "- El modelo predictivo que se desea crear (ejemplo) es a partir del 01/01/2015\n",
    "- Han pasada 782 semanas entre ambas fechas por lo que la fecha 01/01/2015 tiene un valor de 782 en la columna count_semanas\n",
    "- Se crea un offset de 782 es decir (count_semanas) - 781 para tomar a la fecha 01/01/2015 como la mas vieja\n",
    "- NOTA: Ajustar el numero de 782 por la fecha en que se desea comenzar el modelo"
   ],
   "metadata": {
    "collapsed": false
   }
  },
  {
   "cell_type": "code",
   "execution_count": null,
   "outputs": [],
   "source": [
    "oldest_date = fechas_hechos.min()\n",
    "data_set.insert(11, 'count_semanas', (fechas_hechos - oldest_date).dt.days // 7 + 1)\n",
    "data_set = data_set.drop(['Anio_hecho'], axis=1)\n",
    "data_set.head()"
   ],
   "metadata": {
    "collapsed": false
   }
  },
  {
   "cell_type": "markdown",
   "source": [
    "### Crear Columna Rango Edad\n",
    "Con base al valor de la columna Edad, se creara una variable categorica descriptiva generando 6 rangos diferentes de edad (Niño, Adolescente, y más), con la finalidad de tener un entendimiento mejor de los datos y poder interpretar mejor los resultados del modelo a crear posteriormente"
   ],
   "metadata": {
    "collapsed": false
   }
  },
  {
   "cell_type": "code",
   "execution_count": null,
   "outputs": [],
   "source": [
    "from mapeo_poblacion import obtener_rango_edad\n",
    "\n",
    "data_set.insert(loc=5, column='rango_edad', value=data_set['Edad'].apply(obtener_rango_edad))\n",
    "data_set.head()"
   ],
   "metadata": {
    "collapsed": false
   }
  },
  {
   "cell_type": "markdown",
   "source": [
    "### Columnas Sexo y tipo de persona Numerico"
   ],
   "metadata": {
    "collapsed": false
   }
  },
  {
   "cell_type": "code",
   "execution_count": null,
   "outputs": [],
   "source": [
    "from mapeo_poblacion import mapeo_sexo, mapeo_tipo_persona\n",
    "\n",
    "data_set.insert(loc=5, column='Sexo_num', value=data_set['Sexo'].apply(mapeo_sexo))\n",
    "data_set.insert(loc=8, column='TipoPersona_num', value=data_set['TipoPersona'].apply(mapeo_tipo_persona))"
   ],
   "metadata": {
    "collapsed": false
   }
  },
  {
   "cell_type": "markdown",
   "source": [
    "## Data Integration\n",
    "\n",
    "### Poblacion Alcaldias\n",
    "En esta fase nos centraremos en agregar información externa proveniente de otras bases de datos y fuentes de información\n",
    "Para esto, integraremos datos obtenidos de las estadisticas de Poblacion del INEGI para mostrar la poblacion por alcaldia, agregando una nueva columna de poblacion dependiendo el valor de la columna de alcaldia_hechos\n",
    "Para realizar este mapeo entre la alcaldia de los hechos y su poblacion, se llevo a cabo un script en Python"
   ],
   "metadata": {
    "collapsed": false
   }
  },
  {
   "cell_type": "code",
   "execution_count": null,
   "outputs": [],
   "source": [
    "from mapeo_poblacion import get_population\n",
    "\n",
    "data_set.insert(loc=14, column='poblacion_alcaldia', value=data_set['alcaldia_hechos'].apply(get_population))\n",
    "data_set.head()"
   ],
   "metadata": {
    "collapsed": false
   }
  },
  {
   "cell_type": "markdown",
   "source": [
    "### Categorización de Delitos\n",
    "Actualmente el dataset cuenta con 16 tipos diferentes de Categorias y 310 tipos diferentes de Delitos, al ser tantos valores unicos se dificulta el\n",
    "analisis conciso de este tipo de delitos y los 16 tipos de categoria son algo ambigüos como \"Delito de bajo Impacto\".\n",
    "\n",
    "Para esto se ha utilizado de un algoritmo open source que emplea técnicas avanzadas de procesamiento de lenguaje natural, para clasificar distintos\n",
    "tipos de delitos en funcion de su nivel de riesgo y severidad. Este algoritmo analiza y evalua la gravedad de cada delito, permitiendo establecer\n",
    "rangos que van desde situaciones de menor riesgo (valor de 1) hasta aquellas que presentan un mayor nivel de peligro (valor de 10). El objetivo de esta\n",
    "herramienta es proporcionar una clasificacion precisa y confiable de los delitos.\n",
    "\n",
    "De esta forma la columna 'Categoria' deja de ser util y puede ser eliminada."
   ],
   "metadata": {
    "collapsed": false
   }
  },
  {
   "cell_type": "code",
   "execution_count": null,
   "outputs": [],
   "source": [
    "numero_categorias = len(pd.unique(data_set['Categoria']))\n",
    "numero_delitos = len(pd.unique(data_set['Delito']))\n",
    "print(f\"Categorias Distintas =  {numero_categorias}; Delitos Distintos =  {numero_delitos}\")"
   ],
   "metadata": {
    "collapsed": false
   }
  },
  {
   "cell_type": "code",
   "execution_count": null,
   "outputs": [],
   "source": [
    "from mapeo_crimen import get_crime_score\n",
    "\n",
    "data_set.insert(loc=2, column='riesgo_delito', value=data_set['Delito'].apply(get_crime_score))\n",
    "data_set = data_set.drop('Categoria', axis=1)\n",
    "data_set.head()"
   ],
   "metadata": {
    "collapsed": false
   }
  },
  {
   "cell_type": "code",
   "execution_count": null,
   "outputs": [],
   "source": [
    "data_set.to_csv('data/data_preparation.csv', index=False)"
   ],
   "metadata": {
    "collapsed": false
   }
  },
  {
   "cell_type": "code",
   "execution_count": 40,
   "outputs": [],
   "source": [
    "dias_mayores = data_set[data_set['Dias_transcurridos'] > 30]\n",
    "counts = dias_mayores['Delito'].value_counts()\n",
    "sorted_counts = counts.sort_values(ascending=False)\n",
    "sorted_counts.to_csv('data/dias_mayores.csv')"
   ],
   "metadata": {
    "collapsed": false
   }
  },
  {
   "cell_type": "code",
   "execution_count": 42,
   "outputs": [
    {
     "name": "stdout",
     "output_type": "stream",
     "text": [
      "riesgo_delito\n",
      "1     762041.500638\n",
      "2     731761.466405\n",
      "3     771705.766788\n",
      "4     778342.345900\n",
      "5     704733.602606\n",
      "6     813364.053267\n",
      "7     791849.750052\n",
      "8     827455.489872\n",
      "9     901290.752079\n",
      "10    877608.999224\n",
      "Name: poblacion_alcaldia, dtype: float64\n"
     ]
    }
   ],
   "source": [
    "average_values = data_set.groupby('riesgo_delito')['poblacion_alcaldia'].mean()\n",
    "\n",
    "# Print the average values\n",
    "print(average_values)"
   ],
   "metadata": {
    "collapsed": false
   }
  },
  {
   "cell_type": "code",
   "execution_count": null,
   "outputs": [],
   "source": [],
   "metadata": {
    "collapsed": false
   }
  }
 ],
 "metadata": {
  "kernelspec": {
   "display_name": "Python 3",
   "language": "python",
   "name": "python3"
  },
  "language_info": {
   "codemirror_mode": {
    "name": "ipython",
    "version": 2
   },
   "file_extension": ".py",
   "mimetype": "text/x-python",
   "name": "python",
   "nbconvert_exporter": "python",
   "pygments_lexer": "ipython2",
   "version": "2.7.6"
  }
 },
 "nbformat": 4,
 "nbformat_minor": 0
}
