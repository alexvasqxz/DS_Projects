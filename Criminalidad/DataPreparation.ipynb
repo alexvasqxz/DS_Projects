{
 "cells": [
  {
   "cell_type": "markdown",
   "source": [
    "# Data Preparation"
   ],
   "metadata": {
    "collapsed": false
   }
  },
  {
   "cell_type": "markdown",
   "source": [
    "## Select Data - Eliminar Columnas\n",
    "De la seccion de entendimiento de los datos, vimos que hay columnas que realmente no aportan mucha información, importancia o significancia al alcance de este proyecto, por lo que en esta parte, se eliminaran para contar unicamente con los datos que se trabajaran, estas columnas son:\n",
    "\n",
    "- municipio_hechos : Al tener el 99% de sus datos como NaN y no aportar informacion\n",
    "- competencia : Al tener un unico valor\n",
    "- coordenadas (latitud y longitud) : El proyecto se enfocara en las alcaldias de la Ciudad de Mexico y el valor de coordenadas no estan dentro de\n",
    "este scope\n",
    "- colonia_datos : No esta dentro del scope de este proyecto\n",
    "- fgj_colonia_registro : No esta dentro del scope de este proyecto"
   ],
   "metadata": {
    "collapsed": false
   }
  },
  {
   "cell_type": "code",
   "execution_count": 2,
   "outputs": [],
   "source": [
    "import pandas as pd\n",
    "\n",
    "data_set = pd.read_csv(\"data/sourceData.csv\")"
   ],
   "metadata": {
    "collapsed": false
   }
  },
  {
   "cell_type": "code",
   "execution_count": 3,
   "outputs": [
    {
     "data": {
      "text/plain": "   idCarpeta  Anio_inicio Mes_inicio FechaInicio  \\\n0  8324429.0         2019      Enero  04/01/2019   \n1  8324430.0         2019      Enero  04/01/2019   \n2  8324431.0         2019      Enero  04/01/2019   \n3  8324435.0         2019      Enero  04/01/2019   \n4  8324438.0         2019      Enero  04/01/2019   \n\n                                              Delito  \\\n0                                             FRAUDE   \n1  PRODUCCIÓN, IMPRESIÓN, ENAJENACIÓN, DISTRIBUCI...   \n2  ROBO A TRANSEUNTE SALIENDO DEL BANCO CON VIOLE...   \n3  ROBO DE VEHICULO DE SERVICIO PARTICULAR SIN VI...   \n4                  ROBO DE MOTOCICLETA SIN VIOLENCIA   \n\n                                           Categoria       Sexo  Edad  \\\n0                             DELITO DE BAJO IMPACTO  Masculino  62.0   \n1                             DELITO DE BAJO IMPACTO   Femenino  38.0   \n2  ROBO A CUENTAHABIENTE SALIENDO DEL CAJERO CON ...  Masculino  42.0   \n3               ROBO DE VEHÍCULO CON Y SIN VIOLENCIA  Masculino  35.0   \n4               ROBO DE VEHÍCULO CON Y SIN VIOLENCIA  Masculino   NaN   \n\n  TipoPersona        CalidadJuridica  Anio_hecho  Mes_hecho  FechaHecho  \\\n0      FISICA               OFENDIDO      2018.0     Agosto  29/08/2018   \n1      FISICA  VICTIMA Y DENUNCIANTE      2018.0  Diciembre  15/12/2018   \n2      FISICA  VICTIMA Y DENUNCIANTE      2018.0  Diciembre  22/12/2018   \n3      FISICA  VICTIMA Y DENUNCIANTE      2019.0      Enero  04/01/2019   \n4      FISICA                VICTIMA      2019.0      Enero  03/01/2019   \n\n  HoraHecho HoraInicio alcaldia_hechos  \n0  12:00:00   12:19:00  ALVARO OBREGON  \n1  15:00:00   12:20:00    AZCAPOTZALCO  \n2  15:30:00   12:23:00        COYOACAN  \n3  06:00:00   12:27:00       IZTACALCO  \n4  20:00:00   12:35:00      IZTAPALAPA  ",
      "text/html": "<div>\n<style scoped>\n    .dataframe tbody tr th:only-of-type {\n        vertical-align: middle;\n    }\n\n    .dataframe tbody tr th {\n        vertical-align: top;\n    }\n\n    .dataframe thead th {\n        text-align: right;\n    }\n</style>\n<table border=\"1\" class=\"dataframe\">\n  <thead>\n    <tr style=\"text-align: right;\">\n      <th></th>\n      <th>idCarpeta</th>\n      <th>Anio_inicio</th>\n      <th>Mes_inicio</th>\n      <th>FechaInicio</th>\n      <th>Delito</th>\n      <th>Categoria</th>\n      <th>Sexo</th>\n      <th>Edad</th>\n      <th>TipoPersona</th>\n      <th>CalidadJuridica</th>\n      <th>Anio_hecho</th>\n      <th>Mes_hecho</th>\n      <th>FechaHecho</th>\n      <th>HoraHecho</th>\n      <th>HoraInicio</th>\n      <th>alcaldia_hechos</th>\n    </tr>\n  </thead>\n  <tbody>\n    <tr>\n      <th>0</th>\n      <td>8324429.0</td>\n      <td>2019</td>\n      <td>Enero</td>\n      <td>04/01/2019</td>\n      <td>FRAUDE</td>\n      <td>DELITO DE BAJO IMPACTO</td>\n      <td>Masculino</td>\n      <td>62.0</td>\n      <td>FISICA</td>\n      <td>OFENDIDO</td>\n      <td>2018.0</td>\n      <td>Agosto</td>\n      <td>29/08/2018</td>\n      <td>12:00:00</td>\n      <td>12:19:00</td>\n      <td>ALVARO OBREGON</td>\n    </tr>\n    <tr>\n      <th>1</th>\n      <td>8324430.0</td>\n      <td>2019</td>\n      <td>Enero</td>\n      <td>04/01/2019</td>\n      <td>PRODUCCIÓN, IMPRESIÓN, ENAJENACIÓN, DISTRIBUCI...</td>\n      <td>DELITO DE BAJO IMPACTO</td>\n      <td>Femenino</td>\n      <td>38.0</td>\n      <td>FISICA</td>\n      <td>VICTIMA Y DENUNCIANTE</td>\n      <td>2018.0</td>\n      <td>Diciembre</td>\n      <td>15/12/2018</td>\n      <td>15:00:00</td>\n      <td>12:20:00</td>\n      <td>AZCAPOTZALCO</td>\n    </tr>\n    <tr>\n      <th>2</th>\n      <td>8324431.0</td>\n      <td>2019</td>\n      <td>Enero</td>\n      <td>04/01/2019</td>\n      <td>ROBO A TRANSEUNTE SALIENDO DEL BANCO CON VIOLE...</td>\n      <td>ROBO A CUENTAHABIENTE SALIENDO DEL CAJERO CON ...</td>\n      <td>Masculino</td>\n      <td>42.0</td>\n      <td>FISICA</td>\n      <td>VICTIMA Y DENUNCIANTE</td>\n      <td>2018.0</td>\n      <td>Diciembre</td>\n      <td>22/12/2018</td>\n      <td>15:30:00</td>\n      <td>12:23:00</td>\n      <td>COYOACAN</td>\n    </tr>\n    <tr>\n      <th>3</th>\n      <td>8324435.0</td>\n      <td>2019</td>\n      <td>Enero</td>\n      <td>04/01/2019</td>\n      <td>ROBO DE VEHICULO DE SERVICIO PARTICULAR SIN VI...</td>\n      <td>ROBO DE VEHÍCULO CON Y SIN VIOLENCIA</td>\n      <td>Masculino</td>\n      <td>35.0</td>\n      <td>FISICA</td>\n      <td>VICTIMA Y DENUNCIANTE</td>\n      <td>2019.0</td>\n      <td>Enero</td>\n      <td>04/01/2019</td>\n      <td>06:00:00</td>\n      <td>12:27:00</td>\n      <td>IZTACALCO</td>\n    </tr>\n    <tr>\n      <th>4</th>\n      <td>8324438.0</td>\n      <td>2019</td>\n      <td>Enero</td>\n      <td>04/01/2019</td>\n      <td>ROBO DE MOTOCICLETA SIN VIOLENCIA</td>\n      <td>ROBO DE VEHÍCULO CON Y SIN VIOLENCIA</td>\n      <td>Masculino</td>\n      <td>NaN</td>\n      <td>FISICA</td>\n      <td>VICTIMA</td>\n      <td>2019.0</td>\n      <td>Enero</td>\n      <td>03/01/2019</td>\n      <td>20:00:00</td>\n      <td>12:35:00</td>\n      <td>IZTAPALAPA</td>\n    </tr>\n  </tbody>\n</table>\n</div>"
     },
     "execution_count": 3,
     "metadata": {},
     "output_type": "execute_result"
    }
   ],
   "source": [
    "columns_to_remove = ['municipio_hechos', 'competencia', 'latitud', 'longitud', 'colonia_datos', 'fgj_colonia_registro']\n",
    "data_set = data_set.drop(columns_to_remove, axis=1)\n",
    "\n",
    "data_set.head()"
   ],
   "metadata": {
    "collapsed": false
   }
  },
  {
   "cell_type": "markdown",
   "source": [
    "## Outliers\n",
    "Las columnas que cuentan con valores outliers son:\n",
    "- edad: Valores mayores a 120 (258, 361 y 369) y 1899 valores de 0\n",
    "- año_hechos: Un valor de 222 y valores del siglo pasado"
   ],
   "metadata": {
    "collapsed": false
   }
  },
  {
   "cell_type": "code",
   "execution_count": 4,
   "outputs": [],
   "source": [
    "valores_edad = data_set.groupby('Edad')['idCarpeta'].count()\n",
    "valores_ahecho = data_set.groupby('Anio_hecho')['idCarpeta'].count()"
   ],
   "metadata": {
    "collapsed": false
   }
  },
  {
   "cell_type": "markdown",
   "source": [
    "### Outliers - Edad\n",
    "El approach a seguir es el obtener un promedio de edad entre un limite inferior (1) y un limite superior (120)\n",
    "Despues de obtener este promedio, reemplazamos los outliers (valores de 0, 258, 361 y 369) con este promedio, ya que el numero de valores en 0 es significativo (1899)"
   ],
   "metadata": {
    "collapsed": false
   }
  },
  {
   "cell_type": "code",
   "execution_count": 5,
   "outputs": [
    {
     "name": "stdout",
     "output_type": "stream",
     "text": [
      "38.944485754445886\n",
      "39\n"
     ]
    }
   ],
   "source": [
    "limite_inferior = 1\n",
    "limite_superior = 120\n",
    "edad_en_rango = data_set.loc[data_set['Edad'].between(limite_inferior, limite_superior), 'Edad']\n",
    "promedio_edad = edad_en_rango.mean()\n",
    "print(promedio_edad)\n",
    "\n",
    "promedio_edad = round(promedio_edad)\n",
    "print(promedio_edad)"
   ],
   "metadata": {
    "collapsed": false
   }
  },
  {
   "cell_type": "code",
   "execution_count": 6,
   "outputs": [
    {
     "name": "stdout",
     "output_type": "stream",
     "text": [
      "Edad\n",
      "1.0       942\n",
      "2.0      1206\n",
      "3.0      1685\n",
      "4.0      1837\n",
      "5.0      1848\n",
      "         ... \n",
      "107.0       1\n",
      "110.0       1\n",
      "111.0       1\n",
      "114.0       1\n",
      "120.0       2\n",
      "Name: idCarpeta, Length: 110, dtype: int64\n"
     ]
    }
   ],
   "source": [
    "data_set['Edad'] = data_set['Edad'].mask(~data_set['Edad'].between(limite_inferior, limite_superior), promedio_edad)\n",
    "print(data_set.groupby('Edad')['idCarpeta'].count())"
   ],
   "metadata": {
    "collapsed": false
   }
  },
  {
   "cell_type": "markdown",
   "source": [
    "## Outliers - Año Hechos\n",
    "Se borran las filas con valores menores a 2000"
   ],
   "metadata": {
    "collapsed": false
   }
  },
  {
   "cell_type": "code",
   "execution_count": 7,
   "outputs": [
    {
     "name": "stdout",
     "output_type": "stream",
     "text": [
      "Anio_hecho\n",
      "2000.0       118\n",
      "2001.0        93\n",
      "2002.0       212\n",
      "2003.0        68\n",
      "2004.0        84\n",
      "2005.0        84\n",
      "2006.0       108\n",
      "2007.0       129\n",
      "2008.0       231\n",
      "2009.0       254\n",
      "2010.0       353\n",
      "2011.0       430\n",
      "2012.0       531\n",
      "2013.0       541\n",
      "2014.0       880\n",
      "2015.0      1085\n",
      "2016.0      1732\n",
      "2017.0      3457\n",
      "2018.0     17888\n",
      "2019.0    261051\n",
      "2020.0    214736\n",
      "2021.0    235849\n",
      "2022.0    233278\n",
      "Name: idCarpeta, dtype: int64\n"
     ]
    }
   ],
   "source": [
    "data_set = data_set[data_set['Anio_hecho'] >= 2000]\n",
    "print(data_set.groupby('Anio_hecho')['idCarpeta'].count())"
   ],
   "metadata": {
    "collapsed": false
   }
  },
  {
   "cell_type": "markdown",
   "source": [
    "## Cleaning Data\n",
    "Se borran las filas con valores a CDMX y FUERA DE CDMX para las alcaldias\n",
    "Ya que este proyecto se enfoca unicamente en alcaldias dentro de la ciudad"
   ],
   "metadata": {
    "collapsed": false
   }
  },
  {
   "cell_type": "code",
   "execution_count": 8,
   "outputs": [
    {
     "name": "stdout",
     "output_type": "stream",
     "text": [
      "['ALVARO OBREGON' 'AZCAPOTZALCO' 'COYOACAN' 'IZTACALCO' 'IZTAPALAPA'\n",
      " 'GUSTAVO A. MADERO' 'VENUSTIANO CARRANZA' 'XOCHIMILCO' 'MIGUEL HIDALGO'\n",
      " 'CUAUHTEMOC' 'BENITO JUAREZ' 'TLAHUAC' 'TLALPAN' 'LA MAGDALENA CONTRERAS'\n",
      " 'CUAJIMALPA DE MORELOS' 'MILPA ALTA']\n"
     ]
    }
   ],
   "source": [
    "data_set = data_set[~data_set['alcaldia_hechos'].isin(['CDMX', 'FUERA DE CDMX'])]\n",
    "print(data_set['alcaldia_hechos'].unique())"
   ],
   "metadata": {
    "collapsed": false
   }
  },
  {
   "cell_type": "markdown",
   "source": [
    "## Missing Data\n",
    "Las columnas con valores NaN son las siguientes:\n",
    "- Sexo : 180,609 registros\n",
    "- TipoPersona : 6512 registros\n",
    "- CalidadJuridica: 1 registro\n",
    "- Anio_hecho, Mes_hecho, FechaHecho : 370 registros\n",
    "- HoraHecho : 361 registros\n",
    "- HoraInicio : 1\n",
    "- colonia_datos : 69,602 registros"
   ],
   "metadata": {
    "collapsed": false
   }
  },
  {
   "cell_type": "code",
   "execution_count": 9,
   "outputs": [
    {
     "name": "stdout",
     "output_type": "stream",
     "text": [
      "Sexo : 179449\n",
      "TipoPersona : 6426\n",
      "CalidadJuridica : 1\n",
      "HoraHecho : 1\n",
      "HoraInicio : 1\n"
     ]
    }
   ],
   "source": [
    "for column in data_set.columns:\n",
    "    if(data_set[column].isnull().sum() > 0):\n",
    "        print(column + ' : ' + str(data_set[column].isnull().sum()))"
   ],
   "metadata": {
    "collapsed": false
   }
  },
  {
   "cell_type": "markdown",
   "source": [
    "### Grupo 1 - Columnas con menos de 1000 registros Nan\n",
    "El approach para este grupo es borrar los registros, ya que son de un numero muy bajo\n",
    "Las columnas a borrar sus registros con valores nulos son:\n",
    "- CalidadJuridica\n",
    "- Anio_hecho\n",
    "- Mes_hecho\n",
    "- FechaHecho\n",
    "- HoraHecho\n",
    "- HoraInicio"
   ],
   "metadata": {
    "collapsed": false
   }
  },
  {
   "cell_type": "code",
   "execution_count": 10,
   "outputs": [
    {
     "name": "stdout",
     "output_type": "stream",
     "text": [
      "Sexo : 179449\n",
      "TipoPersona : 6426\n"
     ]
    }
   ],
   "source": [
    "data_set = data_set.dropna(subset=['CalidadJuridica', 'Anio_hecho', 'Mes_hecho', 'FechaHecho', 'HoraHecho', 'HoraInicio'])\n",
    "for column in data_set.columns:\n",
    "    if(data_set[column].isnull().sum() > 0):\n",
    "        print(column + ' : ' + str(data_set[column].isnull().sum()))"
   ],
   "metadata": {
    "collapsed": false
   }
  },
  {
   "cell_type": "markdown",
   "source": [
    "### Grupo 2 - Columnas con mas de 1000 registros Nan\n",
    "Para estas columnas, el approach es sustituir los valores Nulos con la palabra 'Desconocido'\n",
    "Las columnas a ser modificadas son:\n",
    "- Sexo\n",
    "- TipoPersona\n",
    "- colonia_datos"
   ],
   "metadata": {
    "collapsed": false
   }
  },
  {
   "cell_type": "code",
   "execution_count": 11,
   "outputs": [],
   "source": [
    "data_set[['Sexo', 'TipoPersona']] = data_set[['Sexo', 'TipoPersona']].fillna('Desconocido')\n",
    "for column in data_set.columns:\n",
    "    if(data_set[column].isnull().sum() > 0):\n",
    "        print(column + ' : ' + str(data_set[column].isnull().sum()))"
   ],
   "metadata": {
    "collapsed": false
   }
  },
  {
   "cell_type": "markdown",
   "source": [
    "## Data Transformation\n",
    "En esta seccion, se modificaran las columnas de formato HH:MM:SS a HH:MM\n",
    "Estas columnas son:\n",
    "- HoraHecho\n",
    "- HoraInicio"
   ],
   "metadata": {
    "collapsed": false
   }
  },
  {
   "cell_type": "code",
   "execution_count": 12,
   "outputs": [
    {
     "data": {
      "text/plain": "   idCarpeta  Anio_inicio Mes_inicio FechaInicio  \\\n0  8324429.0         2019      Enero  04/01/2019   \n1  8324430.0         2019      Enero  04/01/2019   \n2  8324431.0         2019      Enero  04/01/2019   \n3  8324435.0         2019      Enero  04/01/2019   \n4  8324438.0         2019      Enero  04/01/2019   \n\n                                              Delito  \\\n0                                             FRAUDE   \n1  PRODUCCIÓN, IMPRESIÓN, ENAJENACIÓN, DISTRIBUCI...   \n2  ROBO A TRANSEUNTE SALIENDO DEL BANCO CON VIOLE...   \n3  ROBO DE VEHICULO DE SERVICIO PARTICULAR SIN VI...   \n4                  ROBO DE MOTOCICLETA SIN VIOLENCIA   \n\n                                           Categoria       Sexo  Edad  \\\n0                             DELITO DE BAJO IMPACTO  Masculino  62.0   \n1                             DELITO DE BAJO IMPACTO   Femenino  38.0   \n2  ROBO A CUENTAHABIENTE SALIENDO DEL CAJERO CON ...  Masculino  42.0   \n3               ROBO DE VEHÍCULO CON Y SIN VIOLENCIA  Masculino  35.0   \n4               ROBO DE VEHÍCULO CON Y SIN VIOLENCIA  Masculino  39.0   \n\n  TipoPersona        CalidadJuridica  Anio_hecho  Mes_hecho  FechaHecho  \\\n0      FISICA               OFENDIDO      2018.0     Agosto  29/08/2018   \n1      FISICA  VICTIMA Y DENUNCIANTE      2018.0  Diciembre  15/12/2018   \n2      FISICA  VICTIMA Y DENUNCIANTE      2018.0  Diciembre  22/12/2018   \n3      FISICA  VICTIMA Y DENUNCIANTE      2019.0      Enero  04/01/2019   \n4      FISICA                VICTIMA      2019.0      Enero  03/01/2019   \n\n  HoraHecho HoraInicio alcaldia_hechos  \n0     12:00      12:19  ALVARO OBREGON  \n1     15:00      12:20    AZCAPOTZALCO  \n2     15:30      12:23        COYOACAN  \n3     06:00      12:27       IZTACALCO  \n4     20:00      12:35      IZTAPALAPA  ",
      "text/html": "<div>\n<style scoped>\n    .dataframe tbody tr th:only-of-type {\n        vertical-align: middle;\n    }\n\n    .dataframe tbody tr th {\n        vertical-align: top;\n    }\n\n    .dataframe thead th {\n        text-align: right;\n    }\n</style>\n<table border=\"1\" class=\"dataframe\">\n  <thead>\n    <tr style=\"text-align: right;\">\n      <th></th>\n      <th>idCarpeta</th>\n      <th>Anio_inicio</th>\n      <th>Mes_inicio</th>\n      <th>FechaInicio</th>\n      <th>Delito</th>\n      <th>Categoria</th>\n      <th>Sexo</th>\n      <th>Edad</th>\n      <th>TipoPersona</th>\n      <th>CalidadJuridica</th>\n      <th>Anio_hecho</th>\n      <th>Mes_hecho</th>\n      <th>FechaHecho</th>\n      <th>HoraHecho</th>\n      <th>HoraInicio</th>\n      <th>alcaldia_hechos</th>\n    </tr>\n  </thead>\n  <tbody>\n    <tr>\n      <th>0</th>\n      <td>8324429.0</td>\n      <td>2019</td>\n      <td>Enero</td>\n      <td>04/01/2019</td>\n      <td>FRAUDE</td>\n      <td>DELITO DE BAJO IMPACTO</td>\n      <td>Masculino</td>\n      <td>62.0</td>\n      <td>FISICA</td>\n      <td>OFENDIDO</td>\n      <td>2018.0</td>\n      <td>Agosto</td>\n      <td>29/08/2018</td>\n      <td>12:00</td>\n      <td>12:19</td>\n      <td>ALVARO OBREGON</td>\n    </tr>\n    <tr>\n      <th>1</th>\n      <td>8324430.0</td>\n      <td>2019</td>\n      <td>Enero</td>\n      <td>04/01/2019</td>\n      <td>PRODUCCIÓN, IMPRESIÓN, ENAJENACIÓN, DISTRIBUCI...</td>\n      <td>DELITO DE BAJO IMPACTO</td>\n      <td>Femenino</td>\n      <td>38.0</td>\n      <td>FISICA</td>\n      <td>VICTIMA Y DENUNCIANTE</td>\n      <td>2018.0</td>\n      <td>Diciembre</td>\n      <td>15/12/2018</td>\n      <td>15:00</td>\n      <td>12:20</td>\n      <td>AZCAPOTZALCO</td>\n    </tr>\n    <tr>\n      <th>2</th>\n      <td>8324431.0</td>\n      <td>2019</td>\n      <td>Enero</td>\n      <td>04/01/2019</td>\n      <td>ROBO A TRANSEUNTE SALIENDO DEL BANCO CON VIOLE...</td>\n      <td>ROBO A CUENTAHABIENTE SALIENDO DEL CAJERO CON ...</td>\n      <td>Masculino</td>\n      <td>42.0</td>\n      <td>FISICA</td>\n      <td>VICTIMA Y DENUNCIANTE</td>\n      <td>2018.0</td>\n      <td>Diciembre</td>\n      <td>22/12/2018</td>\n      <td>15:30</td>\n      <td>12:23</td>\n      <td>COYOACAN</td>\n    </tr>\n    <tr>\n      <th>3</th>\n      <td>8324435.0</td>\n      <td>2019</td>\n      <td>Enero</td>\n      <td>04/01/2019</td>\n      <td>ROBO DE VEHICULO DE SERVICIO PARTICULAR SIN VI...</td>\n      <td>ROBO DE VEHÍCULO CON Y SIN VIOLENCIA</td>\n      <td>Masculino</td>\n      <td>35.0</td>\n      <td>FISICA</td>\n      <td>VICTIMA Y DENUNCIANTE</td>\n      <td>2019.0</td>\n      <td>Enero</td>\n      <td>04/01/2019</td>\n      <td>06:00</td>\n      <td>12:27</td>\n      <td>IZTACALCO</td>\n    </tr>\n    <tr>\n      <th>4</th>\n      <td>8324438.0</td>\n      <td>2019</td>\n      <td>Enero</td>\n      <td>04/01/2019</td>\n      <td>ROBO DE MOTOCICLETA SIN VIOLENCIA</td>\n      <td>ROBO DE VEHÍCULO CON Y SIN VIOLENCIA</td>\n      <td>Masculino</td>\n      <td>39.0</td>\n      <td>FISICA</td>\n      <td>VICTIMA</td>\n      <td>2019.0</td>\n      <td>Enero</td>\n      <td>03/01/2019</td>\n      <td>20:00</td>\n      <td>12:35</td>\n      <td>IZTAPALAPA</td>\n    </tr>\n  </tbody>\n</table>\n</div>"
     },
     "execution_count": 12,
     "metadata": {},
     "output_type": "execute_result"
    }
   ],
   "source": [
    "data_set[['HoraHecho', 'HoraInicio']] = data_set[['HoraHecho', 'HoraInicio']].apply(pd.to_datetime)\n",
    "data_set['HoraHecho'] = data_set['HoraHecho'].dt.strftime('%H:%M')\n",
    "data_set['HoraInicio'] = data_set['HoraInicio'].dt.strftime('%H:%M')\n",
    "data_set.head()"
   ],
   "metadata": {
    "collapsed": false
   }
  },
  {
   "cell_type": "markdown",
   "source": [
    "### Crear Columna Dias Transcurridos\n",
    "Con base a las columnas FechaInicio y FechaHecho, obtenemos los dias transcurridos entre la fecha en que se reporto el delito y la fecha en que ocurrio, para darnos una idea de si estos dias tienen un patron respecto a sexo o edad (hipotesis).\n",
    "\n",
    "Una vez realizado esto, las columnas de Anio_inicio, Mes_inicio y FechaInicio no seran de utilidad ya que para realizar las predicciones las fechas importantes son las de los hechos"
   ],
   "metadata": {
    "collapsed": false
   }
  },
  {
   "cell_type": "code",
   "execution_count": 13,
   "outputs": [
    {
     "data": {
      "text/plain": "   idCarpeta                                             Delito  \\\n0  8324429.0                                             FRAUDE   \n1  8324430.0  PRODUCCIÓN, IMPRESIÓN, ENAJENACIÓN, DISTRIBUCI...   \n2  8324431.0  ROBO A TRANSEUNTE SALIENDO DEL BANCO CON VIOLE...   \n3  8324435.0  ROBO DE VEHICULO DE SERVICIO PARTICULAR SIN VI...   \n4  8324438.0                  ROBO DE MOTOCICLETA SIN VIOLENCIA   \n\n                                           Categoria       Sexo  Edad  \\\n0                             DELITO DE BAJO IMPACTO  Masculino  62.0   \n1                             DELITO DE BAJO IMPACTO   Femenino  38.0   \n2  ROBO A CUENTAHABIENTE SALIENDO DEL CAJERO CON ...  Masculino  42.0   \n3               ROBO DE VEHÍCULO CON Y SIN VIOLENCIA  Masculino  35.0   \n4               ROBO DE VEHÍCULO CON Y SIN VIOLENCIA  Masculino  39.0   \n\n  TipoPersona        CalidadJuridica  Anio_hecho  Mes_hecho  FechaHecho  \\\n0      FISICA               OFENDIDO      2018.0     Agosto  29/08/2018   \n1      FISICA  VICTIMA Y DENUNCIANTE      2018.0  Diciembre  15/12/2018   \n2      FISICA  VICTIMA Y DENUNCIANTE      2018.0  Diciembre  22/12/2018   \n3      FISICA  VICTIMA Y DENUNCIANTE      2019.0      Enero  04/01/2019   \n4      FISICA                VICTIMA      2019.0      Enero  03/01/2019   \n\n   Dias_transcurridos HoraHecho HoraInicio alcaldia_hechos  \n0                 128     12:00      12:19  ALVARO OBREGON  \n1                  20     15:00      12:20    AZCAPOTZALCO  \n2                  13     15:30      12:23        COYOACAN  \n3                   0     06:00      12:27       IZTACALCO  \n4                   1     20:00      12:35      IZTAPALAPA  ",
      "text/html": "<div>\n<style scoped>\n    .dataframe tbody tr th:only-of-type {\n        vertical-align: middle;\n    }\n\n    .dataframe tbody tr th {\n        vertical-align: top;\n    }\n\n    .dataframe thead th {\n        text-align: right;\n    }\n</style>\n<table border=\"1\" class=\"dataframe\">\n  <thead>\n    <tr style=\"text-align: right;\">\n      <th></th>\n      <th>idCarpeta</th>\n      <th>Delito</th>\n      <th>Categoria</th>\n      <th>Sexo</th>\n      <th>Edad</th>\n      <th>TipoPersona</th>\n      <th>CalidadJuridica</th>\n      <th>Anio_hecho</th>\n      <th>Mes_hecho</th>\n      <th>FechaHecho</th>\n      <th>Dias_transcurridos</th>\n      <th>HoraHecho</th>\n      <th>HoraInicio</th>\n      <th>alcaldia_hechos</th>\n    </tr>\n  </thead>\n  <tbody>\n    <tr>\n      <th>0</th>\n      <td>8324429.0</td>\n      <td>FRAUDE</td>\n      <td>DELITO DE BAJO IMPACTO</td>\n      <td>Masculino</td>\n      <td>62.0</td>\n      <td>FISICA</td>\n      <td>OFENDIDO</td>\n      <td>2018.0</td>\n      <td>Agosto</td>\n      <td>29/08/2018</td>\n      <td>128</td>\n      <td>12:00</td>\n      <td>12:19</td>\n      <td>ALVARO OBREGON</td>\n    </tr>\n    <tr>\n      <th>1</th>\n      <td>8324430.0</td>\n      <td>PRODUCCIÓN, IMPRESIÓN, ENAJENACIÓN, DISTRIBUCI...</td>\n      <td>DELITO DE BAJO IMPACTO</td>\n      <td>Femenino</td>\n      <td>38.0</td>\n      <td>FISICA</td>\n      <td>VICTIMA Y DENUNCIANTE</td>\n      <td>2018.0</td>\n      <td>Diciembre</td>\n      <td>15/12/2018</td>\n      <td>20</td>\n      <td>15:00</td>\n      <td>12:20</td>\n      <td>AZCAPOTZALCO</td>\n    </tr>\n    <tr>\n      <th>2</th>\n      <td>8324431.0</td>\n      <td>ROBO A TRANSEUNTE SALIENDO DEL BANCO CON VIOLE...</td>\n      <td>ROBO A CUENTAHABIENTE SALIENDO DEL CAJERO CON ...</td>\n      <td>Masculino</td>\n      <td>42.0</td>\n      <td>FISICA</td>\n      <td>VICTIMA Y DENUNCIANTE</td>\n      <td>2018.0</td>\n      <td>Diciembre</td>\n      <td>22/12/2018</td>\n      <td>13</td>\n      <td>15:30</td>\n      <td>12:23</td>\n      <td>COYOACAN</td>\n    </tr>\n    <tr>\n      <th>3</th>\n      <td>8324435.0</td>\n      <td>ROBO DE VEHICULO DE SERVICIO PARTICULAR SIN VI...</td>\n      <td>ROBO DE VEHÍCULO CON Y SIN VIOLENCIA</td>\n      <td>Masculino</td>\n      <td>35.0</td>\n      <td>FISICA</td>\n      <td>VICTIMA Y DENUNCIANTE</td>\n      <td>2019.0</td>\n      <td>Enero</td>\n      <td>04/01/2019</td>\n      <td>0</td>\n      <td>06:00</td>\n      <td>12:27</td>\n      <td>IZTACALCO</td>\n    </tr>\n    <tr>\n      <th>4</th>\n      <td>8324438.0</td>\n      <td>ROBO DE MOTOCICLETA SIN VIOLENCIA</td>\n      <td>ROBO DE VEHÍCULO CON Y SIN VIOLENCIA</td>\n      <td>Masculino</td>\n      <td>39.0</td>\n      <td>FISICA</td>\n      <td>VICTIMA</td>\n      <td>2019.0</td>\n      <td>Enero</td>\n      <td>03/01/2019</td>\n      <td>1</td>\n      <td>20:00</td>\n      <td>12:35</td>\n      <td>IZTAPALAPA</td>\n    </tr>\n  </tbody>\n</table>\n</div>"
     },
     "execution_count": 13,
     "metadata": {},
     "output_type": "execute_result"
    }
   ],
   "source": [
    "fechas_inicio = pd.to_datetime(data_set['FechaInicio'], format=\"%d/%m/%Y\")\n",
    "fechas_hechos = pd.to_datetime(data_set['FechaHecho'], format=\"%d/%m/%Y\")\n",
    "\n",
    "data_set.insert(13, 'Dias_transcurridos', (fechas_inicio - fechas_hechos).dt.days)\n",
    "\n",
    "# Borrar fechas inicio\n",
    "columns_to_remove = ['Anio_inicio', 'Mes_inicio', 'FechaInicio']\n",
    "data_set = data_set.drop(columns_to_remove, axis=1)\n",
    "\n",
    "data_set.head()"
   ],
   "metadata": {
    "collapsed": false
   }
  },
  {
   "cell_type": "markdown",
   "source": [
    "### Crear Columna Semanas\n",
    "Con base a la columna FechaHecho, tomaremos el valor mas viejo (el minimo de la fecha) y comenzaremos un counter de semana en uno, por cada semana transcurrida aumentaremos el counter a un valor de 1 para crear un timelapse semanal desde el hecho mas viejo al mas reciente para posteriormente realizar predicciones de delitos por semana.\n",
    "1. Obtener el valor minimo de FechaHecho\n",
    "2. Comenzar el counter de semanas\n",
    "1. Por cada semana transcurrida aumentar el counter\n",
    "2. Asignar el valor de counter correspondiente a la FechaHecho en una columna 'abs_semana'\n",
    "3. Eliminar la columna Anio_hecho ya que no aporta mucho\n",
    "\n",
    "Se descubrio que la fecha mas vieja del data_set es el primero de enero del 2000, si se quiere realizar algun modelo predictivo desde una fecha mas reciente a esta, por ejemplo, desde el 2015, se debera crear un offset para evitar errores, un ejemplo seria:\n",
    "- La semana uno original es 01/01/2000\n",
    "- El modelo predictivo que se desea crear (ejemplo) es a partir del 01/01/2015\n",
    "- Han pasada 782 semanas entre ambas fechas por lo que la fecha 01/01/2015 tiene un valor de 782 en la columna count_semanas\n",
    "- Se crea un offset de 782 es decir (count_semanas) - 781 para tomar a la fecha 01/01/2015 como la mas vieja\n",
    "- NOTA: Ajustar el numero de 782 por la fecha en que se desea comenzar el modelo"
   ],
   "metadata": {
    "collapsed": false
   }
  },
  {
   "cell_type": "code",
   "execution_count": 14,
   "outputs": [
    {
     "data": {
      "text/plain": "   idCarpeta                                             Delito  \\\n0  8324429.0                                             FRAUDE   \n1  8324430.0  PRODUCCIÓN, IMPRESIÓN, ENAJENACIÓN, DISTRIBUCI...   \n2  8324431.0  ROBO A TRANSEUNTE SALIENDO DEL BANCO CON VIOLE...   \n3  8324435.0  ROBO DE VEHICULO DE SERVICIO PARTICULAR SIN VI...   \n4  8324438.0                  ROBO DE MOTOCICLETA SIN VIOLENCIA   \n\n                                           Categoria       Sexo  Edad  \\\n0                             DELITO DE BAJO IMPACTO  Masculino  62.0   \n1                             DELITO DE BAJO IMPACTO   Femenino  38.0   \n2  ROBO A CUENTAHABIENTE SALIENDO DEL CAJERO CON ...  Masculino  42.0   \n3               ROBO DE VEHÍCULO CON Y SIN VIOLENCIA  Masculino  35.0   \n4               ROBO DE VEHÍCULO CON Y SIN VIOLENCIA  Masculino  39.0   \n\n  TipoPersona        CalidadJuridica  Mes_hecho  FechaHecho  \\\n0      FISICA               OFENDIDO     Agosto  29/08/2018   \n1      FISICA  VICTIMA Y DENUNCIANTE  Diciembre  15/12/2018   \n2      FISICA  VICTIMA Y DENUNCIANTE  Diciembre  22/12/2018   \n3      FISICA  VICTIMA Y DENUNCIANTE      Enero  04/01/2019   \n4      FISICA                VICTIMA      Enero  03/01/2019   \n\n   Dias_transcurridos  count_semanas HoraHecho HoraInicio alcaldia_hechos  \n0                 128            974     12:00      12:19  ALVARO OBREGON  \n1                  20            990     15:00      12:20    AZCAPOTZALCO  \n2                  13            991     15:30      12:23        COYOACAN  \n3                   0            992     06:00      12:27       IZTACALCO  \n4                   1            992     20:00      12:35      IZTAPALAPA  ",
      "text/html": "<div>\n<style scoped>\n    .dataframe tbody tr th:only-of-type {\n        vertical-align: middle;\n    }\n\n    .dataframe tbody tr th {\n        vertical-align: top;\n    }\n\n    .dataframe thead th {\n        text-align: right;\n    }\n</style>\n<table border=\"1\" class=\"dataframe\">\n  <thead>\n    <tr style=\"text-align: right;\">\n      <th></th>\n      <th>idCarpeta</th>\n      <th>Delito</th>\n      <th>Categoria</th>\n      <th>Sexo</th>\n      <th>Edad</th>\n      <th>TipoPersona</th>\n      <th>CalidadJuridica</th>\n      <th>Mes_hecho</th>\n      <th>FechaHecho</th>\n      <th>Dias_transcurridos</th>\n      <th>count_semanas</th>\n      <th>HoraHecho</th>\n      <th>HoraInicio</th>\n      <th>alcaldia_hechos</th>\n    </tr>\n  </thead>\n  <tbody>\n    <tr>\n      <th>0</th>\n      <td>8324429.0</td>\n      <td>FRAUDE</td>\n      <td>DELITO DE BAJO IMPACTO</td>\n      <td>Masculino</td>\n      <td>62.0</td>\n      <td>FISICA</td>\n      <td>OFENDIDO</td>\n      <td>Agosto</td>\n      <td>29/08/2018</td>\n      <td>128</td>\n      <td>974</td>\n      <td>12:00</td>\n      <td>12:19</td>\n      <td>ALVARO OBREGON</td>\n    </tr>\n    <tr>\n      <th>1</th>\n      <td>8324430.0</td>\n      <td>PRODUCCIÓN, IMPRESIÓN, ENAJENACIÓN, DISTRIBUCI...</td>\n      <td>DELITO DE BAJO IMPACTO</td>\n      <td>Femenino</td>\n      <td>38.0</td>\n      <td>FISICA</td>\n      <td>VICTIMA Y DENUNCIANTE</td>\n      <td>Diciembre</td>\n      <td>15/12/2018</td>\n      <td>20</td>\n      <td>990</td>\n      <td>15:00</td>\n      <td>12:20</td>\n      <td>AZCAPOTZALCO</td>\n    </tr>\n    <tr>\n      <th>2</th>\n      <td>8324431.0</td>\n      <td>ROBO A TRANSEUNTE SALIENDO DEL BANCO CON VIOLE...</td>\n      <td>ROBO A CUENTAHABIENTE SALIENDO DEL CAJERO CON ...</td>\n      <td>Masculino</td>\n      <td>42.0</td>\n      <td>FISICA</td>\n      <td>VICTIMA Y DENUNCIANTE</td>\n      <td>Diciembre</td>\n      <td>22/12/2018</td>\n      <td>13</td>\n      <td>991</td>\n      <td>15:30</td>\n      <td>12:23</td>\n      <td>COYOACAN</td>\n    </tr>\n    <tr>\n      <th>3</th>\n      <td>8324435.0</td>\n      <td>ROBO DE VEHICULO DE SERVICIO PARTICULAR SIN VI...</td>\n      <td>ROBO DE VEHÍCULO CON Y SIN VIOLENCIA</td>\n      <td>Masculino</td>\n      <td>35.0</td>\n      <td>FISICA</td>\n      <td>VICTIMA Y DENUNCIANTE</td>\n      <td>Enero</td>\n      <td>04/01/2019</td>\n      <td>0</td>\n      <td>992</td>\n      <td>06:00</td>\n      <td>12:27</td>\n      <td>IZTACALCO</td>\n    </tr>\n    <tr>\n      <th>4</th>\n      <td>8324438.0</td>\n      <td>ROBO DE MOTOCICLETA SIN VIOLENCIA</td>\n      <td>ROBO DE VEHÍCULO CON Y SIN VIOLENCIA</td>\n      <td>Masculino</td>\n      <td>39.0</td>\n      <td>FISICA</td>\n      <td>VICTIMA</td>\n      <td>Enero</td>\n      <td>03/01/2019</td>\n      <td>1</td>\n      <td>992</td>\n      <td>20:00</td>\n      <td>12:35</td>\n      <td>IZTAPALAPA</td>\n    </tr>\n  </tbody>\n</table>\n</div>"
     },
     "execution_count": 14,
     "metadata": {},
     "output_type": "execute_result"
    }
   ],
   "source": [
    "oldest_date = fechas_hechos.min()\n",
    "data_set.insert(11, 'count_semanas', (fechas_hechos - oldest_date).dt.days // 7 + 1)\n",
    "data_set = data_set.drop(['Anio_hecho'], axis=1)\n",
    "data_set.head()"
   ],
   "metadata": {
    "collapsed": false
   }
  },
  {
   "cell_type": "markdown",
   "source": [
    "### Crear Columna Rango Edad\n",
    "Con base al valor de la columna Edad, se creara una variable categorica descriptiva generando 6 rangos diferentes de edad (Niño, Adolescente, y más), con la finalidad de tener un entendimiento mejor de los datos y poder interpretar mejor los resultados del modelo a crear posteriormente"
   ],
   "metadata": {
    "collapsed": false
   }
  },
  {
   "cell_type": "code",
   "execution_count": 15,
   "outputs": [
    {
     "data": {
      "text/plain": "   idCarpeta                                             Delito  \\\n0  8324429.0                                             FRAUDE   \n1  8324430.0  PRODUCCIÓN, IMPRESIÓN, ENAJENACIÓN, DISTRIBUCI...   \n2  8324431.0  ROBO A TRANSEUNTE SALIENDO DEL BANCO CON VIOLE...   \n3  8324435.0  ROBO DE VEHICULO DE SERVICIO PARTICULAR SIN VI...   \n4  8324438.0                  ROBO DE MOTOCICLETA SIN VIOLENCIA   \n\n                                           Categoria       Sexo  Edad  \\\n0                             DELITO DE BAJO IMPACTO  Masculino  62.0   \n1                             DELITO DE BAJO IMPACTO   Femenino  38.0   \n2  ROBO A CUENTAHABIENTE SALIENDO DEL CAJERO CON ...  Masculino  42.0   \n3               ROBO DE VEHÍCULO CON Y SIN VIOLENCIA  Masculino  35.0   \n4               ROBO DE VEHÍCULO CON Y SIN VIOLENCIA  Masculino  39.0   \n\n                rango_edad TipoPersona        CalidadJuridica  Mes_hecho  \\\n0          Adultos mayores      FISICA               OFENDIDO     Agosto   \n1          Adultos jóvenes      FISICA  VICTIMA Y DENUNCIANTE  Diciembre   \n2  Adultos de mediana edad      FISICA  VICTIMA Y DENUNCIANTE  Diciembre   \n3          Adultos jóvenes      FISICA  VICTIMA Y DENUNCIANTE      Enero   \n4          Adultos jóvenes      FISICA                VICTIMA      Enero   \n\n   FechaHecho  Dias_transcurridos  count_semanas HoraHecho HoraInicio  \\\n0  29/08/2018                 128            974     12:00      12:19   \n1  15/12/2018                  20            990     15:00      12:20   \n2  22/12/2018                  13            991     15:30      12:23   \n3  04/01/2019                   0            992     06:00      12:27   \n4  03/01/2019                   1            992     20:00      12:35   \n\n  alcaldia_hechos  \n0  ALVARO OBREGON  \n1    AZCAPOTZALCO  \n2        COYOACAN  \n3       IZTACALCO  \n4      IZTAPALAPA  ",
      "text/html": "<div>\n<style scoped>\n    .dataframe tbody tr th:only-of-type {\n        vertical-align: middle;\n    }\n\n    .dataframe tbody tr th {\n        vertical-align: top;\n    }\n\n    .dataframe thead th {\n        text-align: right;\n    }\n</style>\n<table border=\"1\" class=\"dataframe\">\n  <thead>\n    <tr style=\"text-align: right;\">\n      <th></th>\n      <th>idCarpeta</th>\n      <th>Delito</th>\n      <th>Categoria</th>\n      <th>Sexo</th>\n      <th>Edad</th>\n      <th>rango_edad</th>\n      <th>TipoPersona</th>\n      <th>CalidadJuridica</th>\n      <th>Mes_hecho</th>\n      <th>FechaHecho</th>\n      <th>Dias_transcurridos</th>\n      <th>count_semanas</th>\n      <th>HoraHecho</th>\n      <th>HoraInicio</th>\n      <th>alcaldia_hechos</th>\n    </tr>\n  </thead>\n  <tbody>\n    <tr>\n      <th>0</th>\n      <td>8324429.0</td>\n      <td>FRAUDE</td>\n      <td>DELITO DE BAJO IMPACTO</td>\n      <td>Masculino</td>\n      <td>62.0</td>\n      <td>Adultos mayores</td>\n      <td>FISICA</td>\n      <td>OFENDIDO</td>\n      <td>Agosto</td>\n      <td>29/08/2018</td>\n      <td>128</td>\n      <td>974</td>\n      <td>12:00</td>\n      <td>12:19</td>\n      <td>ALVARO OBREGON</td>\n    </tr>\n    <tr>\n      <th>1</th>\n      <td>8324430.0</td>\n      <td>PRODUCCIÓN, IMPRESIÓN, ENAJENACIÓN, DISTRIBUCI...</td>\n      <td>DELITO DE BAJO IMPACTO</td>\n      <td>Femenino</td>\n      <td>38.0</td>\n      <td>Adultos jóvenes</td>\n      <td>FISICA</td>\n      <td>VICTIMA Y DENUNCIANTE</td>\n      <td>Diciembre</td>\n      <td>15/12/2018</td>\n      <td>20</td>\n      <td>990</td>\n      <td>15:00</td>\n      <td>12:20</td>\n      <td>AZCAPOTZALCO</td>\n    </tr>\n    <tr>\n      <th>2</th>\n      <td>8324431.0</td>\n      <td>ROBO A TRANSEUNTE SALIENDO DEL BANCO CON VIOLE...</td>\n      <td>ROBO A CUENTAHABIENTE SALIENDO DEL CAJERO CON ...</td>\n      <td>Masculino</td>\n      <td>42.0</td>\n      <td>Adultos de mediana edad</td>\n      <td>FISICA</td>\n      <td>VICTIMA Y DENUNCIANTE</td>\n      <td>Diciembre</td>\n      <td>22/12/2018</td>\n      <td>13</td>\n      <td>991</td>\n      <td>15:30</td>\n      <td>12:23</td>\n      <td>COYOACAN</td>\n    </tr>\n    <tr>\n      <th>3</th>\n      <td>8324435.0</td>\n      <td>ROBO DE VEHICULO DE SERVICIO PARTICULAR SIN VI...</td>\n      <td>ROBO DE VEHÍCULO CON Y SIN VIOLENCIA</td>\n      <td>Masculino</td>\n      <td>35.0</td>\n      <td>Adultos jóvenes</td>\n      <td>FISICA</td>\n      <td>VICTIMA Y DENUNCIANTE</td>\n      <td>Enero</td>\n      <td>04/01/2019</td>\n      <td>0</td>\n      <td>992</td>\n      <td>06:00</td>\n      <td>12:27</td>\n      <td>IZTACALCO</td>\n    </tr>\n    <tr>\n      <th>4</th>\n      <td>8324438.0</td>\n      <td>ROBO DE MOTOCICLETA SIN VIOLENCIA</td>\n      <td>ROBO DE VEHÍCULO CON Y SIN VIOLENCIA</td>\n      <td>Masculino</td>\n      <td>39.0</td>\n      <td>Adultos jóvenes</td>\n      <td>FISICA</td>\n      <td>VICTIMA</td>\n      <td>Enero</td>\n      <td>03/01/2019</td>\n      <td>1</td>\n      <td>992</td>\n      <td>20:00</td>\n      <td>12:35</td>\n      <td>IZTAPALAPA</td>\n    </tr>\n  </tbody>\n</table>\n</div>"
     },
     "execution_count": 15,
     "metadata": {},
     "output_type": "execute_result"
    }
   ],
   "source": [
    "from mapeo_poblacion import obtener_rango_edad\n",
    "\n",
    "data_set.insert(loc=5, column='rango_edad', value=data_set['Edad'].apply(obtener_rango_edad))\n",
    "data_set.head()"
   ],
   "metadata": {
    "collapsed": false
   }
  },
  {
   "cell_type": "markdown",
   "source": [
    "### Columnas Sexo y tipo de persona Numerico"
   ],
   "metadata": {
    "collapsed": false
   }
  },
  {
   "cell_type": "code",
   "execution_count": 16,
   "outputs": [],
   "source": [
    "from mapeo_poblacion import mapeo_sexo, mapeo_tipo_persona\n",
    "\n",
    "data_set.insert(loc=5, column='Sexo_num', value=data_set['Sexo'].apply(mapeo_sexo))\n",
    "data_set.insert(loc=8, column='TipoPersona_num', value=data_set['TipoPersona'].apply(mapeo_tipo_persona))"
   ],
   "metadata": {
    "collapsed": false
   }
  },
  {
   "cell_type": "markdown",
   "source": [
    "## Data Integration\n",
    "\n",
    "### Poblacion Alcaldias\n",
    "En esta fase nos centraremos en agregar información externa proveniente de otras bases de datos y fuentes de información\n",
    "Para esto, integraremos datos obtenidos de las estadisticas de Poblacion del INEGI para mostrar la poblacion por alcaldia, agregando una nueva columna de poblacion dependiendo el valor de la columna de alcaldia_hechos\n",
    "Para realizar este mapeo entre la alcaldia de los hechos y su poblacion, se llevo a cabo un script en Python"
   ],
   "metadata": {
    "collapsed": false
   }
  },
  {
   "cell_type": "code",
   "execution_count": 17,
   "outputs": [
    {
     "data": {
      "text/plain": "   idCarpeta                                             Delito  \\\n0  8324429.0                                             FRAUDE   \n1  8324430.0  PRODUCCIÓN, IMPRESIÓN, ENAJENACIÓN, DISTRIBUCI...   \n2  8324431.0  ROBO A TRANSEUNTE SALIENDO DEL BANCO CON VIOLE...   \n3  8324435.0  ROBO DE VEHICULO DE SERVICIO PARTICULAR SIN VI...   \n4  8324438.0                  ROBO DE MOTOCICLETA SIN VIOLENCIA   \n\n                                           Categoria       Sexo  Edad  \\\n0                             DELITO DE BAJO IMPACTO  Masculino  62.0   \n1                             DELITO DE BAJO IMPACTO   Femenino  38.0   \n2  ROBO A CUENTAHABIENTE SALIENDO DEL CAJERO CON ...  Masculino  42.0   \n3               ROBO DE VEHÍCULO CON Y SIN VIOLENCIA  Masculino  35.0   \n4               ROBO DE VEHÍCULO CON Y SIN VIOLENCIA  Masculino  39.0   \n\n   Sexo_num               rango_edad TipoPersona  TipoPersona_num  \\\n0         5          Adultos mayores      FISICA                5   \n1        10          Adultos jóvenes      FISICA                5   \n2         5  Adultos de mediana edad      FISICA                5   \n3         5          Adultos jóvenes      FISICA                5   \n4         5          Adultos jóvenes      FISICA                5   \n\n         CalidadJuridica  Mes_hecho  FechaHecho  Dias_transcurridos  \\\n0               OFENDIDO     Agosto  29/08/2018                 128   \n1  VICTIMA Y DENUNCIANTE  Diciembre  15/12/2018                  20   \n2  VICTIMA Y DENUNCIANTE  Diciembre  22/12/2018                  13   \n3  VICTIMA Y DENUNCIANTE      Enero  04/01/2019                   0   \n4                VICTIMA      Enero  03/01/2019                   1   \n\n   count_semanas  poblacion_alcaldia HoraHecho HoraInicio alcaldia_hechos  \n0            974              759137     12:00      12:19  ALVARO OBREGON  \n1            990              432205     15:00      12:20    AZCAPOTZALCO  \n2            991              614447     15:30      12:23        COYOACAN  \n3            992              404695     06:00      12:27       IZTACALCO  \n4            992             1835486     20:00      12:35      IZTAPALAPA  ",
      "text/html": "<div>\n<style scoped>\n    .dataframe tbody tr th:only-of-type {\n        vertical-align: middle;\n    }\n\n    .dataframe tbody tr th {\n        vertical-align: top;\n    }\n\n    .dataframe thead th {\n        text-align: right;\n    }\n</style>\n<table border=\"1\" class=\"dataframe\">\n  <thead>\n    <tr style=\"text-align: right;\">\n      <th></th>\n      <th>idCarpeta</th>\n      <th>Delito</th>\n      <th>Categoria</th>\n      <th>Sexo</th>\n      <th>Edad</th>\n      <th>Sexo_num</th>\n      <th>rango_edad</th>\n      <th>TipoPersona</th>\n      <th>TipoPersona_num</th>\n      <th>CalidadJuridica</th>\n      <th>Mes_hecho</th>\n      <th>FechaHecho</th>\n      <th>Dias_transcurridos</th>\n      <th>count_semanas</th>\n      <th>poblacion_alcaldia</th>\n      <th>HoraHecho</th>\n      <th>HoraInicio</th>\n      <th>alcaldia_hechos</th>\n    </tr>\n  </thead>\n  <tbody>\n    <tr>\n      <th>0</th>\n      <td>8324429.0</td>\n      <td>FRAUDE</td>\n      <td>DELITO DE BAJO IMPACTO</td>\n      <td>Masculino</td>\n      <td>62.0</td>\n      <td>5</td>\n      <td>Adultos mayores</td>\n      <td>FISICA</td>\n      <td>5</td>\n      <td>OFENDIDO</td>\n      <td>Agosto</td>\n      <td>29/08/2018</td>\n      <td>128</td>\n      <td>974</td>\n      <td>759137</td>\n      <td>12:00</td>\n      <td>12:19</td>\n      <td>ALVARO OBREGON</td>\n    </tr>\n    <tr>\n      <th>1</th>\n      <td>8324430.0</td>\n      <td>PRODUCCIÓN, IMPRESIÓN, ENAJENACIÓN, DISTRIBUCI...</td>\n      <td>DELITO DE BAJO IMPACTO</td>\n      <td>Femenino</td>\n      <td>38.0</td>\n      <td>10</td>\n      <td>Adultos jóvenes</td>\n      <td>FISICA</td>\n      <td>5</td>\n      <td>VICTIMA Y DENUNCIANTE</td>\n      <td>Diciembre</td>\n      <td>15/12/2018</td>\n      <td>20</td>\n      <td>990</td>\n      <td>432205</td>\n      <td>15:00</td>\n      <td>12:20</td>\n      <td>AZCAPOTZALCO</td>\n    </tr>\n    <tr>\n      <th>2</th>\n      <td>8324431.0</td>\n      <td>ROBO A TRANSEUNTE SALIENDO DEL BANCO CON VIOLE...</td>\n      <td>ROBO A CUENTAHABIENTE SALIENDO DEL CAJERO CON ...</td>\n      <td>Masculino</td>\n      <td>42.0</td>\n      <td>5</td>\n      <td>Adultos de mediana edad</td>\n      <td>FISICA</td>\n      <td>5</td>\n      <td>VICTIMA Y DENUNCIANTE</td>\n      <td>Diciembre</td>\n      <td>22/12/2018</td>\n      <td>13</td>\n      <td>991</td>\n      <td>614447</td>\n      <td>15:30</td>\n      <td>12:23</td>\n      <td>COYOACAN</td>\n    </tr>\n    <tr>\n      <th>3</th>\n      <td>8324435.0</td>\n      <td>ROBO DE VEHICULO DE SERVICIO PARTICULAR SIN VI...</td>\n      <td>ROBO DE VEHÍCULO CON Y SIN VIOLENCIA</td>\n      <td>Masculino</td>\n      <td>35.0</td>\n      <td>5</td>\n      <td>Adultos jóvenes</td>\n      <td>FISICA</td>\n      <td>5</td>\n      <td>VICTIMA Y DENUNCIANTE</td>\n      <td>Enero</td>\n      <td>04/01/2019</td>\n      <td>0</td>\n      <td>992</td>\n      <td>404695</td>\n      <td>06:00</td>\n      <td>12:27</td>\n      <td>IZTACALCO</td>\n    </tr>\n    <tr>\n      <th>4</th>\n      <td>8324438.0</td>\n      <td>ROBO DE MOTOCICLETA SIN VIOLENCIA</td>\n      <td>ROBO DE VEHÍCULO CON Y SIN VIOLENCIA</td>\n      <td>Masculino</td>\n      <td>39.0</td>\n      <td>5</td>\n      <td>Adultos jóvenes</td>\n      <td>FISICA</td>\n      <td>5</td>\n      <td>VICTIMA</td>\n      <td>Enero</td>\n      <td>03/01/2019</td>\n      <td>1</td>\n      <td>992</td>\n      <td>1835486</td>\n      <td>20:00</td>\n      <td>12:35</td>\n      <td>IZTAPALAPA</td>\n    </tr>\n  </tbody>\n</table>\n</div>"
     },
     "execution_count": 17,
     "metadata": {},
     "output_type": "execute_result"
    }
   ],
   "source": [
    "from mapeo_poblacion import get_population\n",
    "\n",
    "data_set.insert(loc=14, column='poblacion_alcaldia', value=data_set['alcaldia_hechos'].apply(get_population))\n",
    "data_set.head()"
   ],
   "metadata": {
    "collapsed": false
   }
  },
  {
   "cell_type": "markdown",
   "source": [
    "### Categorización de Delitos\n",
    "Actualmente el dataset cuenta con 16 tipos diferentes de Categorias y 310 tipos diferentes de Delitos, al ser tantos valores unicos se dificulta el\n",
    "analisis conciso de este tipo de delitos y los 16 tipos de categoria son algo ambigüos como \"Delito de bajo Impacto\".\n",
    "\n",
    "Para esto se ha utilizado de un algoritmo open source que emplea técnicas avanzadas de procesamiento de lenguaje natural, para clasificar distintos\n",
    "tipos de delitos en funcion de su nivel de riesgo y severidad. Este algoritmo analiza y evalua la gravedad de cada delito, permitiendo establecer\n",
    "rangos que van desde situaciones de menor riesgo (valor de 1) hasta aquellas que presentan un mayor nivel de peligro (valor de 10). El objetivo de esta\n",
    "herramienta es proporcionar una clasificacion precisa y confiable de los delitos.\n",
    "\n",
    "De esta forma la columna 'Categoria' deja de ser util y puede ser eliminada."
   ],
   "metadata": {
    "collapsed": false
   }
  },
  {
   "cell_type": "code",
   "execution_count": 18,
   "outputs": [
    {
     "name": "stdout",
     "output_type": "stream",
     "text": [
      "Categorias Distintas =  16; Delitos Distintos =  308\n"
     ]
    }
   ],
   "source": [
    "numero_categorias = len(pd.unique(data_set['Categoria']))\n",
    "numero_delitos = len(pd.unique(data_set['Delito']))\n",
    "print(f\"Categorias Distintas =  {numero_categorias}; Delitos Distintos =  {numero_delitos}\")"
   ],
   "metadata": {
    "collapsed": false
   }
  },
  {
   "cell_type": "code",
   "execution_count": 19,
   "outputs": [
    {
     "data": {
      "text/plain": "   idCarpeta                                             Delito  \\\n0  8324429.0                                             FRAUDE   \n1  8324430.0  PRODUCCIÓN, IMPRESIÓN, ENAJENACIÓN, DISTRIBUCI...   \n2  8324431.0  ROBO A TRANSEUNTE SALIENDO DEL BANCO CON VIOLE...   \n3  8324435.0  ROBO DE VEHICULO DE SERVICIO PARTICULAR SIN VI...   \n4  8324438.0                  ROBO DE MOTOCICLETA SIN VIOLENCIA   \n\n   riesgo_delito       Sexo  Edad  Sexo_num               rango_edad  \\\n0              5  Masculino  62.0         5          Adultos mayores   \n1              8   Femenino  38.0        10          Adultos jóvenes   \n2             10  Masculino  42.0         5  Adultos de mediana edad   \n3              3  Masculino  35.0         5          Adultos jóvenes   \n4              3  Masculino  39.0         5          Adultos jóvenes   \n\n  TipoPersona  TipoPersona_num        CalidadJuridica  Mes_hecho  FechaHecho  \\\n0      FISICA                5               OFENDIDO     Agosto  29/08/2018   \n1      FISICA                5  VICTIMA Y DENUNCIANTE  Diciembre  15/12/2018   \n2      FISICA                5  VICTIMA Y DENUNCIANTE  Diciembre  22/12/2018   \n3      FISICA                5  VICTIMA Y DENUNCIANTE      Enero  04/01/2019   \n4      FISICA                5                VICTIMA      Enero  03/01/2019   \n\n   Dias_transcurridos  count_semanas  poblacion_alcaldia HoraHecho HoraInicio  \\\n0                 128            974              759137     12:00      12:19   \n1                  20            990              432205     15:00      12:20   \n2                  13            991              614447     15:30      12:23   \n3                   0            992              404695     06:00      12:27   \n4                   1            992             1835486     20:00      12:35   \n\n  alcaldia_hechos  \n0  ALVARO OBREGON  \n1    AZCAPOTZALCO  \n2        COYOACAN  \n3       IZTACALCO  \n4      IZTAPALAPA  ",
      "text/html": "<div>\n<style scoped>\n    .dataframe tbody tr th:only-of-type {\n        vertical-align: middle;\n    }\n\n    .dataframe tbody tr th {\n        vertical-align: top;\n    }\n\n    .dataframe thead th {\n        text-align: right;\n    }\n</style>\n<table border=\"1\" class=\"dataframe\">\n  <thead>\n    <tr style=\"text-align: right;\">\n      <th></th>\n      <th>idCarpeta</th>\n      <th>Delito</th>\n      <th>riesgo_delito</th>\n      <th>Sexo</th>\n      <th>Edad</th>\n      <th>Sexo_num</th>\n      <th>rango_edad</th>\n      <th>TipoPersona</th>\n      <th>TipoPersona_num</th>\n      <th>CalidadJuridica</th>\n      <th>Mes_hecho</th>\n      <th>FechaHecho</th>\n      <th>Dias_transcurridos</th>\n      <th>count_semanas</th>\n      <th>poblacion_alcaldia</th>\n      <th>HoraHecho</th>\n      <th>HoraInicio</th>\n      <th>alcaldia_hechos</th>\n    </tr>\n  </thead>\n  <tbody>\n    <tr>\n      <th>0</th>\n      <td>8324429.0</td>\n      <td>FRAUDE</td>\n      <td>5</td>\n      <td>Masculino</td>\n      <td>62.0</td>\n      <td>5</td>\n      <td>Adultos mayores</td>\n      <td>FISICA</td>\n      <td>5</td>\n      <td>OFENDIDO</td>\n      <td>Agosto</td>\n      <td>29/08/2018</td>\n      <td>128</td>\n      <td>974</td>\n      <td>759137</td>\n      <td>12:00</td>\n      <td>12:19</td>\n      <td>ALVARO OBREGON</td>\n    </tr>\n    <tr>\n      <th>1</th>\n      <td>8324430.0</td>\n      <td>PRODUCCIÓN, IMPRESIÓN, ENAJENACIÓN, DISTRIBUCI...</td>\n      <td>8</td>\n      <td>Femenino</td>\n      <td>38.0</td>\n      <td>10</td>\n      <td>Adultos jóvenes</td>\n      <td>FISICA</td>\n      <td>5</td>\n      <td>VICTIMA Y DENUNCIANTE</td>\n      <td>Diciembre</td>\n      <td>15/12/2018</td>\n      <td>20</td>\n      <td>990</td>\n      <td>432205</td>\n      <td>15:00</td>\n      <td>12:20</td>\n      <td>AZCAPOTZALCO</td>\n    </tr>\n    <tr>\n      <th>2</th>\n      <td>8324431.0</td>\n      <td>ROBO A TRANSEUNTE SALIENDO DEL BANCO CON VIOLE...</td>\n      <td>10</td>\n      <td>Masculino</td>\n      <td>42.0</td>\n      <td>5</td>\n      <td>Adultos de mediana edad</td>\n      <td>FISICA</td>\n      <td>5</td>\n      <td>VICTIMA Y DENUNCIANTE</td>\n      <td>Diciembre</td>\n      <td>22/12/2018</td>\n      <td>13</td>\n      <td>991</td>\n      <td>614447</td>\n      <td>15:30</td>\n      <td>12:23</td>\n      <td>COYOACAN</td>\n    </tr>\n    <tr>\n      <th>3</th>\n      <td>8324435.0</td>\n      <td>ROBO DE VEHICULO DE SERVICIO PARTICULAR SIN VI...</td>\n      <td>3</td>\n      <td>Masculino</td>\n      <td>35.0</td>\n      <td>5</td>\n      <td>Adultos jóvenes</td>\n      <td>FISICA</td>\n      <td>5</td>\n      <td>VICTIMA Y DENUNCIANTE</td>\n      <td>Enero</td>\n      <td>04/01/2019</td>\n      <td>0</td>\n      <td>992</td>\n      <td>404695</td>\n      <td>06:00</td>\n      <td>12:27</td>\n      <td>IZTACALCO</td>\n    </tr>\n    <tr>\n      <th>4</th>\n      <td>8324438.0</td>\n      <td>ROBO DE MOTOCICLETA SIN VIOLENCIA</td>\n      <td>3</td>\n      <td>Masculino</td>\n      <td>39.0</td>\n      <td>5</td>\n      <td>Adultos jóvenes</td>\n      <td>FISICA</td>\n      <td>5</td>\n      <td>VICTIMA</td>\n      <td>Enero</td>\n      <td>03/01/2019</td>\n      <td>1</td>\n      <td>992</td>\n      <td>1835486</td>\n      <td>20:00</td>\n      <td>12:35</td>\n      <td>IZTAPALAPA</td>\n    </tr>\n  </tbody>\n</table>\n</div>"
     },
     "execution_count": 19,
     "metadata": {},
     "output_type": "execute_result"
    }
   ],
   "source": [
    "from mapeo_crimen import get_crime_score\n",
    "\n",
    "data_set.insert(loc=2, column='riesgo_delito', value=data_set['Delito'].apply(get_crime_score))\n",
    "data_set = data_set.drop('Categoria', axis=1)\n",
    "data_set.head()"
   ],
   "metadata": {
    "collapsed": false
   }
  },
  {
   "cell_type": "code",
   "execution_count": 20,
   "outputs": [],
   "source": [
    "data_set.to_csv('data/data_preparation.csv', index=False)"
   ],
   "metadata": {
    "collapsed": false
   }
  },
  {
   "cell_type": "code",
   "execution_count": null,
   "outputs": [],
   "source": [],
   "metadata": {
    "collapsed": false
   }
  }
 ],
 "metadata": {
  "kernelspec": {
   "display_name": "Python 3",
   "language": "python",
   "name": "python3"
  },
  "language_info": {
   "codemirror_mode": {
    "name": "ipython",
    "version": 2
   },
   "file_extension": ".py",
   "mimetype": "text/x-python",
   "name": "python",
   "nbconvert_exporter": "python",
   "pygments_lexer": "ipython2",
   "version": "2.7.6"
  }
 },
 "nbformat": 4,
 "nbformat_minor": 0
}
